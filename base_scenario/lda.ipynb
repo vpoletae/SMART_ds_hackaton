{
 "cells": [
  {
   "cell_type": "code",
   "execution_count": 1,
   "metadata": {},
   "outputs": [],
   "source": [
    "import pandas as pd\n",
    "import numpy as np\n",
    "import os"
   ]
  },
  {
   "cell_type": "code",
   "execution_count": 2,
   "metadata": {},
   "outputs": [],
   "source": [
    "from datetime import datetime\n",
    "from collections import defaultdict"
   ]
  },
  {
   "cell_type": "code",
   "execution_count": 3,
   "metadata": {},
   "outputs": [],
   "source": [
    "from sklearn.feature_extraction.text import CountVectorizer"
   ]
  },
  {
   "cell_type": "code",
   "execution_count": 4,
   "metadata": {},
   "outputs": [],
   "source": [
    "from sklearn.decomposition import LatentDirichletAllocation"
   ]
  },
  {
   "cell_type": "code",
   "execution_count": 5,
   "metadata": {},
   "outputs": [],
   "source": [
    "# joint_df = pd.read_csv('./joint_clean_data/joint.csv', index_col=0)"
   ]
  },
  {
   "cell_type": "code",
   "execution_count": 6,
   "metadata": {},
   "outputs": [],
   "source": [
    "# goal_domain = joint_df[['goal_domain']]"
   ]
  },
  {
   "cell_type": "code",
   "execution_count": 7,
   "metadata": {},
   "outputs": [],
   "source": [
    "# goal_domain.to_csv('goal_domains.csv')"
   ]
  },
  {
   "cell_type": "code",
   "execution_count": 8,
   "metadata": {},
   "outputs": [],
   "source": [
    "goal_domain = pd.read_csv('goal_domains.csv', index_col=0)"
   ]
  },
  {
   "cell_type": "code",
   "execution_count": 9,
   "metadata": {},
   "outputs": [],
   "source": [
    "goal_domain.dropna(inplace=True)"
   ]
  },
  {
   "cell_type": "code",
   "execution_count": 10,
   "metadata": {},
   "outputs": [
    {
     "data": {
      "text/html": [
       "<div>\n",
       "<style scoped>\n",
       "    .dataframe tbody tr th:only-of-type {\n",
       "        vertical-align: middle;\n",
       "    }\n",
       "\n",
       "    .dataframe tbody tr th {\n",
       "        vertical-align: top;\n",
       "    }\n",
       "\n",
       "    .dataframe thead th {\n",
       "        text-align: right;\n",
       "    }\n",
       "</style>\n",
       "<table border=\"1\" class=\"dataframe\">\n",
       "  <thead>\n",
       "    <tr style=\"text-align: right;\">\n",
       "      <th></th>\n",
       "      <th>goal_domain</th>\n",
       "    </tr>\n",
       "  </thead>\n",
       "  <tbody>\n",
       "    <tr>\n",
       "      <th>0</th>\n",
       "      <td>Творчество и создание нового (Изобразительное ...</td>\n",
       "    </tr>\n",
       "    <tr>\n",
       "      <th>1</th>\n",
       "      <td>Универсальные компетенции, гибкие навыки (soft...</td>\n",
       "    </tr>\n",
       "    <tr>\n",
       "      <th>2</th>\n",
       "      <td>Иностранные языки, гуманитарные знания и навык...</td>\n",
       "    </tr>\n",
       "    <tr>\n",
       "      <th>3</th>\n",
       "      <td>Прикладные знания и навыки, ручной труд (инфор...</td>\n",
       "    </tr>\n",
       "    <tr>\n",
       "      <th>4</th>\n",
       "      <td>Универсальные компетенции, гибкие навыки (soft...</td>\n",
       "    </tr>\n",
       "  </tbody>\n",
       "</table>\n",
       "</div>"
      ],
      "text/plain": [
       "                                         goal_domain\n",
       "0  Творчество и создание нового (Изобразительное ...\n",
       "1  Универсальные компетенции, гибкие навыки (soft...\n",
       "2  Иностранные языки, гуманитарные знания и навык...\n",
       "3  Прикладные знания и навыки, ручной труд (инфор...\n",
       "4  Универсальные компетенции, гибкие навыки (soft..."
      ]
     },
     "execution_count": 10,
     "metadata": {},
     "output_type": "execute_result"
    }
   ],
   "source": [
    "goal_domain.head()"
   ]
  },
  {
   "cell_type": "code",
   "execution_count": 11,
   "metadata": {},
   "outputs": [],
   "source": [
    "cv = CountVectorizer(max_df=0.5)\n",
    "dtm = cv.fit_transform(goal_domain['goal_domain'])"
   ]
  },
  {
   "cell_type": "code",
   "execution_count": 12,
   "metadata": {},
   "outputs": [],
   "source": [
    "LDA = LatentDirichletAllocation(n_components=11,\n",
    "                               batch_size=256,\n",
    "                               learning_decay=0.2) #playaround # 11 because we have 11 labels"
   ]
  },
  {
   "cell_type": "code",
   "execution_count": 13,
   "metadata": {},
   "outputs": [
    {
     "data": {
      "text/plain": [
       "LatentDirichletAllocation(batch_size=256, learning_decay=0.2, n_components=11)"
      ]
     },
     "execution_count": 13,
     "metadata": {},
     "output_type": "execute_result"
    }
   ],
   "source": [
    "LDA.fit(dtm)"
   ]
  },
  {
   "cell_type": "code",
   "execution_count": 14,
   "metadata": {},
   "outputs": [
    {
     "name": "stdout",
     "output_type": "stream",
     "text": [
      "THE TOP 15 WORDS FOR TOPIC #0\n",
      "['продажи', 'маркетинг', 'деньги', 'стартапы', 'проекты', 'рабочих', 'менеджмент', 'процессов', 'организация', 'нормативное', 'регулирование', 'работа', 'финансы', 'бизнес', 'личные']\n",
      "\n",
      "\n",
      "THE TOP 15 WORDS FOR TOPIC #1\n",
      "['профилактика', 'здоровья', 'улучшение', 'внешний', 'вид', 'правильное', 'веса', 'питание', 'контроль', 'привычки', 'полезные', 'самочувствие', 'спорт', 'внешность', 'зож']\n",
      "\n",
      "\n",
      "THE TOP 15 WORDS FOR TOPIC #2\n",
      "['общения', 'командной', 'работы', 'самоорганизация', 'тайм', 'планирование', 'менеджмент', 'осознанность', 'мышления', 'развитие', 'гибкие', 'универсальные', 'soft', 'skills', 'компетенции']\n",
      "\n",
      "\n",
      "THE TOP 15 WORDS FOR TOPIC #3\n",
      "['садоводство', 'хозяйству', 'дому', 'транспортного', 'средства', 'вождение', 'работа', 'по', 'строительство', 'ручного', 'труда', 'ручной', 'труд', 'прикладные', 'знания']\n",
      "\n",
      "\n",
      "THE TOP 15 WORDS FOR TOPIC #4\n",
      "['экономика', 'информационные', 'технологии', 'жизни', 'новых', 'деньги', 'нормативное', 'регулирование', 'бизнес', 'работа', 'личные', 'финансы', 'место', 'новое', 'работы']\n",
      "\n",
      "\n",
      "THE TOP 15 WORDS FOR TOPIC #5\n",
      "['как', 'работе', 'ит', 'знаний', 'личностный', 'личности', 'на', 'рост', 'услуг', 'образования', 'культура', 'сфере', 'наука', 'сфера', 'образование']\n",
      "\n",
      "\n",
      "THE TOP 15 WORDS FOR TOPIC #6\n",
      "['данных', 'физическая', 'информационная', 'безопасность', 'вычисления', 'прочие', 'цифровые', 'данными', 'работа', 'компьютерных', 'освоение', 'программ', 'программирование', 'it', 'математика']\n",
      "\n",
      "\n",
      "THE TOP 15 WORDS FOR TOPIC #7\n",
      "['проектирование', 'дизайн', 'музыка', 'пение', 'литературное', 'сочинительство', 'ручное', 'рукоделие', 'изобразительное', 'декор', 'изобретательство', 'искусство', 'нового', 'творчество', 'создание']\n",
      "\n",
      "\n",
      "THE TOP 15 WORDS FOR TOPIC #8\n",
      "['проектами', 'администрирование', 'это', 'проектная', 'для', 'воспитание', 'дошкольное', 'всем', 'ко', 'технологии', 'деятельности', 'развитие', 'на', 'деятельность', 'управление']\n",
      "\n",
      "\n",
      "THE TOP 15 WORDS FOR TOPIC #9\n",
      "['методик', 'освоение', 'навыков', 'история', 'музыка', 'книг', 'чтение', 'профессиональная', 'не', 'психология', 'литература', 'знания', 'гуманитарные', 'иностранные', 'языки']\n",
      "\n",
      "\n",
      "THE TOP 15 WORDS FOR TOPIC #10\n",
      "['психология', 'туризм', 'технические', 'юриспруденция', 'все', 'экономика', 'астрономия', 'медицина', 'земле', 'экология', 'физика', 'химия', 'биология', 'естественные', 'науки']\n",
      "\n",
      "\n"
     ]
    }
   ],
   "source": [
    "for index,topic in enumerate(LDA.components_):\n",
    "    print(f'THE TOP 15 WORDS FOR TOPIC #{index}')\n",
    "    print([cv.get_feature_names()[i] for i in topic.argsort()[-15:]]) #adjust\n",
    "    print('\\n')"
   ]
  },
  {
   "cell_type": "code",
   "execution_count": 540,
   "metadata": {},
   "outputs": [],
   "source": [
    "topics_tesaurus = {\n",
    "    'label_attractor_knowledge':['знан','зако','прав', 'нау', 'образов', 'биолог','философ','социолог','изуч','литерат','язык','учеб','экономика','экология','кулинар','энергети','электро','обуч','безопасн','хими','стоматол','педиат','вет','логопед','строител','ремонт','культур','учёб','гомеопат'],\n",
    "    'label_attractor_hard_skill':['математи', 'программирова','ии','ит','it','дизайн','графи','создан','юрис','медицин', 'психо','педагоги', 'предпринимател','воспита','разработ', 'по', 'прикладн','инженер','hard','информац','иннов', 'ритор','автомех','флори','фарма','косметол','логист','цифр','машин','металл','механ','гео','экос','агро','меха','дефект','свар','хлебопеч','шахмат','освоен'], \n",
    "    'label_attractor_soft_skill':['soft', 'саморазвит', 'дисциплин', 'общен','дипломат','коммуни','soft','commun','врем','мышл'],\n",
    "    'label_attractor_tool':['техн','1с','cdo','edtech','corporate finullce','нти','оборудован'],\n",
    "    'label_attractor_community':['обществ', 'семья','семьей','люд', 'семью', 'семейн','worldskill', 'wsr', 'социал','стран','домашн','волонт','отношен','ислам','религ','рсо','предложени','фестивал'],\n",
    "    'label_attractor_subjectivity':[ 'благ','личност','личн','мисси', 'эмоц','развле','собствен','независ','ден','💰','само','заработ','успех','себя','материаль'],\n",
    "    'label_attractor_habits':['привыч'],\n",
    "    'label_attractor_career':['карьер', 'работа','сфер','отрасл','бизнес','государст','финанс','жкх','управл', 'маркетинг','руковод', 'здравоохран', 'дело', 'проф', 'менедж','врач','деятел','производ','админ','парик','услуг','сервис','работ','журналис','организац','хозяйс','hr','консал','продвижен','нтр','труд','экспанс'],\n",
    "    'label_attractor_fixing':['вуз','колледж','гму'],\n",
    "    'label_attractor_art':['худож', 'искусств', 'фото', 'творч','мечт','жизн', 'духов','хобби','мир','просвещ','путешеств','эстет','решени'],\n",
    "    'label_attractor_health':['здоров', 'спорт', 'зож', 'тури','питан','внешн','вес','полезн','крас'],\n",
    "    'label_attractor_undefined':['нет','все','всё', 'не','секрет','ок','-','*','1','угодн','никак', '.','любой','любая','чромомл','общее','тема']\n",
    "\n",
    "}"
   ]
  },
  {
   "cell_type": "code",
   "execution_count": 541,
   "metadata": {},
   "outputs": [],
   "source": [
    "def add_cluster(x):\n",
    "    group = np.nan\n",
    "    stop = 0\n",
    "    for key, values in topics_tesaurus.items():\n",
    "        for val in values:\n",
    "            if val in x:\n",
    "                group = key\n",
    "                stop = 1\n",
    "                break\n",
    "        if stop == 1:\n",
    "            break\n",
    "    if stop == 0:\n",
    "        return group\n",
    "    return group"
   ]
  },
  {
   "cell_type": "code",
   "execution_count": 542,
   "metadata": {},
   "outputs": [],
   "source": [
    "goal_domain['goal_domain'] = goal_domain['goal_domain'].apply(lambda x: x.lower())"
   ]
  },
  {
   "cell_type": "code",
   "execution_count": 543,
   "metadata": {},
   "outputs": [],
   "source": [
    "goal_domain['topic'] = goal_domain['goal_domain'].apply(lambda x: add_cluster(x))"
   ]
  },
  {
   "cell_type": "code",
   "execution_count": 544,
   "metadata": {},
   "outputs": [
    {
     "data": {
      "text/html": [
       "<div>\n",
       "<style scoped>\n",
       "    .dataframe tbody tr th:only-of-type {\n",
       "        vertical-align: middle;\n",
       "    }\n",
       "\n",
       "    .dataframe tbody tr th {\n",
       "        vertical-align: top;\n",
       "    }\n",
       "\n",
       "    .dataframe thead th {\n",
       "        text-align: right;\n",
       "    }\n",
       "</style>\n",
       "<table border=\"1\" class=\"dataframe\">\n",
       "  <thead>\n",
       "    <tr style=\"text-align: right;\">\n",
       "      <th></th>\n",
       "      <th>goal_domain</th>\n",
       "      <th>topic</th>\n",
       "    </tr>\n",
       "  </thead>\n",
       "  <tbody>\n",
       "    <tr>\n",
       "      <th>17998</th>\n",
       "      <td>спорт, зож, внешность и самочувствие (зож, пол...</td>\n",
       "      <td>label_attractor_knowledge</td>\n",
       "    </tr>\n",
       "    <tr>\n",
       "      <th>17999</th>\n",
       "      <td>личные финансы, работа, бизнес и нормативное р...</td>\n",
       "      <td>label_attractor_knowledge</td>\n",
       "    </tr>\n",
       "    <tr>\n",
       "      <th>18000</th>\n",
       "      <td>математика и it (программирование и освоение к...</td>\n",
       "      <td>label_attractor_hard_skill</td>\n",
       "    </tr>\n",
       "    <tr>\n",
       "      <th>18001</th>\n",
       "      <td>предпринимательство</td>\n",
       "      <td>label_attractor_hard_skill</td>\n",
       "    </tr>\n",
       "    <tr>\n",
       "      <th>18002</th>\n",
       "      <td>педагогика</td>\n",
       "      <td>label_attractor_hard_skill</td>\n",
       "    </tr>\n",
       "    <tr>\n",
       "      <th>18003</th>\n",
       "      <td>универсальные компетенции, гибкие навыки (soft...</td>\n",
       "      <td>label_attractor_knowledge</td>\n",
       "    </tr>\n",
       "    <tr>\n",
       "      <th>18004</th>\n",
       "      <td>иностранные языки, гуманитарные знания и навык...</td>\n",
       "      <td>label_attractor_knowledge</td>\n",
       "    </tr>\n",
       "    <tr>\n",
       "      <th>18005</th>\n",
       "      <td>математика и it (программирование и освоение к...</td>\n",
       "      <td>label_attractor_hard_skill</td>\n",
       "    </tr>\n",
       "    <tr>\n",
       "      <th>18006</th>\n",
       "      <td>творчество и создание нового (проект)</td>\n",
       "      <td>label_attractor_hard_skill</td>\n",
       "    </tr>\n",
       "    <tr>\n",
       "      <th>18007</th>\n",
       "      <td>воспитательная работа</td>\n",
       "      <td>label_attractor_hard_skill</td>\n",
       "    </tr>\n",
       "    <tr>\n",
       "      <th>18008</th>\n",
       "      <td>творчество и создание нового (изобразительное ...</td>\n",
       "      <td>label_attractor_hard_skill</td>\n",
       "    </tr>\n",
       "    <tr>\n",
       "      <th>18009</th>\n",
       "      <td>творчество и создание нового (творчество в жиз...</td>\n",
       "      <td>label_attractor_hard_skill</td>\n",
       "    </tr>\n",
       "    <tr>\n",
       "      <th>18010</th>\n",
       "      <td>прикладные знания и навыки, ручной труд (строи...</td>\n",
       "      <td>label_attractor_knowledge</td>\n",
       "    </tr>\n",
       "    <tr>\n",
       "      <th>18011</th>\n",
       "      <td>прикладные знания и навыки, ручной труд (вожде...</td>\n",
       "      <td>label_attractor_knowledge</td>\n",
       "    </tr>\n",
       "    <tr>\n",
       "      <th>18012</th>\n",
       "      <td>worldskills</td>\n",
       "      <td>label_attractor_community</td>\n",
       "    </tr>\n",
       "    <tr>\n",
       "      <th>18013</th>\n",
       "      <td>прикладные знания и навыки, ручной труд (медиц...</td>\n",
       "      <td>label_attractor_knowledge</td>\n",
       "    </tr>\n",
       "    <tr>\n",
       "      <th>18014</th>\n",
       "      <td>математика и it (программирование и освоение к...</td>\n",
       "      <td>label_attractor_hard_skill</td>\n",
       "    </tr>\n",
       "    <tr>\n",
       "      <th>18016</th>\n",
       "      <td>спорт, зож, внешность и самочувствие (спорт, т...</td>\n",
       "      <td>label_attractor_knowledge</td>\n",
       "    </tr>\n",
       "    <tr>\n",
       "      <th>18018</th>\n",
       "      <td>прикладные знания и навыки, ручной труд (навык...</td>\n",
       "      <td>label_attractor_knowledge</td>\n",
       "    </tr>\n",
       "    <tr>\n",
       "      <th>18019</th>\n",
       "      <td>естественные науки (химия, экология)</td>\n",
       "      <td>label_attractor_knowledge</td>\n",
       "    </tr>\n",
       "  </tbody>\n",
       "</table>\n",
       "</div>"
      ],
      "text/plain": [
       "                                             goal_domain  \\\n",
       "17998  спорт, зож, внешность и самочувствие (зож, пол...   \n",
       "17999  личные финансы, работа, бизнес и нормативное р...   \n",
       "18000  математика и it (программирование и освоение к...   \n",
       "18001                               предпринимательство    \n",
       "18002                                        педагогика    \n",
       "18003  универсальные компетенции, гибкие навыки (soft...   \n",
       "18004  иностранные языки, гуманитарные знания и навык...   \n",
       "18005  математика и it (программирование и освоение к...   \n",
       "18006              творчество и создание нового (проект)   \n",
       "18007                             воспитательная работа    \n",
       "18008  творчество и создание нового (изобразительное ...   \n",
       "18009  творчество и создание нового (творчество в жиз...   \n",
       "18010  прикладные знания и навыки, ручной труд (строи...   \n",
       "18011  прикладные знания и навыки, ручной труд (вожде...   \n",
       "18012                                       worldskills    \n",
       "18013  прикладные знания и навыки, ручной труд (медиц...   \n",
       "18014  математика и it (программирование и освоение к...   \n",
       "18016  спорт, зож, внешность и самочувствие (спорт, т...   \n",
       "18018  прикладные знания и навыки, ручной труд (навык...   \n",
       "18019               естественные науки (химия, экология)   \n",
       "\n",
       "                            topic  \n",
       "17998   label_attractor_knowledge  \n",
       "17999   label_attractor_knowledge  \n",
       "18000  label_attractor_hard_skill  \n",
       "18001  label_attractor_hard_skill  \n",
       "18002  label_attractor_hard_skill  \n",
       "18003   label_attractor_knowledge  \n",
       "18004   label_attractor_knowledge  \n",
       "18005  label_attractor_hard_skill  \n",
       "18006  label_attractor_hard_skill  \n",
       "18007  label_attractor_hard_skill  \n",
       "18008  label_attractor_hard_skill  \n",
       "18009  label_attractor_hard_skill  \n",
       "18010   label_attractor_knowledge  \n",
       "18011   label_attractor_knowledge  \n",
       "18012   label_attractor_community  \n",
       "18013   label_attractor_knowledge  \n",
       "18014  label_attractor_hard_skill  \n",
       "18016   label_attractor_knowledge  \n",
       "18018   label_attractor_knowledge  \n",
       "18019   label_attractor_knowledge  "
      ]
     },
     "execution_count": 544,
     "metadata": {},
     "output_type": "execute_result"
    }
   ],
   "source": [
    "goal_domain.tail(20) #playaround head-tail, number"
   ]
  },
  {
   "cell_type": "code",
   "execution_count": 545,
   "metadata": {},
   "outputs": [
    {
     "data": {
      "text/plain": [
       "(9, 2)"
      ]
     },
     "execution_count": 545,
     "metadata": {},
     "output_type": "execute_result"
    }
   ],
   "source": [
    "goal_domain[goal_domain['topic'].isna() == True].shape"
   ]
  },
  {
   "cell_type": "code",
   "execution_count": 546,
   "metadata": {},
   "outputs": [
    {
     "data": {
      "text/html": [
       "<div>\n",
       "<style scoped>\n",
       "    .dataframe tbody tr th:only-of-type {\n",
       "        vertical-align: middle;\n",
       "    }\n",
       "\n",
       "    .dataframe tbody tr th {\n",
       "        vertical-align: top;\n",
       "    }\n",
       "\n",
       "    .dataframe thead th {\n",
       "        text-align: right;\n",
       "    }\n",
       "</style>\n",
       "<table border=\"1\" class=\"dataframe\">\n",
       "  <thead>\n",
       "    <tr style=\"text-align: right;\">\n",
       "      <th></th>\n",
       "      <th>goal_domain</th>\n",
       "      <th>topic</th>\n",
       "    </tr>\n",
       "  </thead>\n",
       "  <tbody>\n",
       "    <tr>\n",
       "      <th>3041</th>\n",
       "      <td>интелект</td>\n",
       "      <td>NaN</td>\n",
       "    </tr>\n",
       "    <tr>\n",
       "      <th>3678</th>\n",
       "      <td>внутренние качества человека</td>\n",
       "      <td>NaN</td>\n",
       "    </tr>\n",
       "    <tr>\n",
       "      <th>4684</th>\n",
       "      <td>инжиниринг</td>\n",
       "      <td>NaN</td>\n",
       "    </tr>\n",
       "    <tr>\n",
       "      <th>5960</th>\n",
       "      <td>начальные классы</td>\n",
       "      <td>NaN</td>\n",
       "    </tr>\n",
       "    <tr>\n",
       "      <th>8456</th>\n",
       "      <td>эксплуатация беспилотных авиационных систем</td>\n",
       "      <td>NaN</td>\n",
       "    </tr>\n",
       "    <tr>\n",
       "      <th>9804</th>\n",
       "      <td>стамотология</td>\n",
       "      <td>NaN</td>\n",
       "    </tr>\n",
       "    <tr>\n",
       "      <th>11493</th>\n",
       "      <td>а</td>\n",
       "      <td>NaN</td>\n",
       "    </tr>\n",
       "    <tr>\n",
       "      <th>15022</th>\n",
       "      <td>мндицина</td>\n",
       "      <td>NaN</td>\n",
       "    </tr>\n",
       "    <tr>\n",
       "      <th>17608</th>\n",
       "      <td>к своему будущему</td>\n",
       "      <td>NaN</td>\n",
       "    </tr>\n",
       "  </tbody>\n",
       "</table>\n",
       "</div>"
      ],
      "text/plain": [
       "                                         goal_domain topic\n",
       "3041                                       интелект    NaN\n",
       "3678                   внутренние качества человека    NaN\n",
       "4684                                     инжиниринг    NaN\n",
       "5960                               начальные классы    NaN\n",
       "8456   эксплуатация беспилотных авиационных систем     NaN\n",
       "9804                                   стамотология    NaN\n",
       "11493                                             а    NaN\n",
       "15022                                      мндицина    NaN\n",
       "17608                             к своему будущему    NaN"
      ]
     },
     "execution_count": 546,
     "metadata": {},
     "output_type": "execute_result"
    }
   ],
   "source": [
    "goal_domain[goal_domain['topic'].isna() == True].head(50)"
   ]
  },
  {
   "cell_type": "code",
   "execution_count": 547,
   "metadata": {},
   "outputs": [],
   "source": [
    "import pickle"
   ]
  },
  {
   "cell_type": "code",
   "execution_count": 548,
   "metadata": {},
   "outputs": [],
   "source": [
    "with open('topics_tesaurus.pickle', 'wb') as f:\n",
    "    pickle.dump(topics_tesaurus, f)"
   ]
  },
  {
   "cell_type": "code",
   "execution_count": null,
   "metadata": {},
   "outputs": [],
   "source": []
  }
 ],
 "metadata": {
  "kernelspec": {
   "display_name": "Python 3",
   "language": "python",
   "name": "python3"
  },
  "language_info": {
   "codemirror_mode": {
    "name": "ipython",
    "version": 3
   },
   "file_extension": ".py",
   "mimetype": "text/x-python",
   "name": "python",
   "nbconvert_exporter": "python",
   "pygments_lexer": "ipython3",
   "version": "3.9.0"
  }
 },
 "nbformat": 4,
 "nbformat_minor": 4
}
