{
 "cells": [
  {
   "cell_type": "code",
   "execution_count": 1,
   "metadata": {},
   "outputs": [],
   "source": [
    "import pandas as pd\n",
    "import os"
   ]
  },
  {
   "cell_type": "code",
   "execution_count": 2,
   "metadata": {},
   "outputs": [],
   "source": [
    "import pickle"
   ]
  },
  {
   "cell_type": "code",
   "execution_count": 3,
   "metadata": {},
   "outputs": [],
   "source": [
    "topics_df = pd.read_csv('../joint_clean_data/topics.csv', index_col=0)"
   ]
  },
  {
   "cell_type": "code",
   "execution_count": 4,
   "metadata": {},
   "outputs": [
    {
     "data": {
      "text/html": [
       "<div>\n",
       "<style scoped>\n",
       "    .dataframe tbody tr th:only-of-type {\n",
       "        vertical-align: middle;\n",
       "    }\n",
       "\n",
       "    .dataframe tbody tr th {\n",
       "        vertical-align: top;\n",
       "    }\n",
       "\n",
       "    .dataframe thead th {\n",
       "        text-align: right;\n",
       "    }\n",
       "</style>\n",
       "<table border=\"1\" class=\"dataframe\">\n",
       "  <thead>\n",
       "    <tr style=\"text-align: right;\">\n",
       "      <th></th>\n",
       "      <th>goal_id</th>\n",
       "      <th>goal_domain_original</th>\n",
       "      <th>goal_name_type_original</th>\n",
       "      <th>goal_domain_LoW</th>\n",
       "      <th>goal_name_type_LoW</th>\n",
       "      <th>goal_domain_no_noise</th>\n",
       "      <th>goal_name_type_no_noise</th>\n",
       "      <th>goal_domain_mean_pos</th>\n",
       "      <th>goal_name_type_mean_pos</th>\n",
       "      <th>remove</th>\n",
       "      <th>...</th>\n",
       "      <th>label_attractor_hard_skill</th>\n",
       "      <th>label_attractor_soft_skill</th>\n",
       "      <th>label_attractor_tool</th>\n",
       "      <th>label_attractor_community</th>\n",
       "      <th>label_attractor_subjectivity</th>\n",
       "      <th>label_attractor_habits</th>\n",
       "      <th>label_attractor_career</th>\n",
       "      <th>label_attractor_fixing</th>\n",
       "      <th>label_attractor_art</th>\n",
       "      <th>label_attractor_health</th>\n",
       "    </tr>\n",
       "  </thead>\n",
       "  <tbody>\n",
       "    <tr>\n",
       "      <th>0</th>\n",
       "      <td>19</td>\n",
       "      <td>творчество и создание нового изобразительное и...</td>\n",
       "      <td>не отстать от поезда современности получить зн...</td>\n",
       "      <td>['творчество', 'и', 'создание', 'нового', 'изо...</td>\n",
       "      <td>['не', 'отстать', 'от', 'поезда', 'современнос...</td>\n",
       "      <td>творчество создание новое изобразительный иску...</td>\n",
       "      <td>отстать поезд современность получить знание но...</td>\n",
       "      <td>творчество создание новое изобразительный иску...</td>\n",
       "      <td>отстать поезд современность получить знание но...</td>\n",
       "      <td>0</td>\n",
       "      <td>...</td>\n",
       "      <td>1</td>\n",
       "      <td>1</td>\n",
       "      <td>0</td>\n",
       "      <td>1</td>\n",
       "      <td>0</td>\n",
       "      <td>1</td>\n",
       "      <td>1</td>\n",
       "      <td>1</td>\n",
       "      <td>0</td>\n",
       "      <td>NaN</td>\n",
       "    </tr>\n",
       "    <tr>\n",
       "      <th>1</th>\n",
       "      <td>20</td>\n",
       "      <td>универсальные компетенции  гибкие навыки soft ...</td>\n",
       "      <td>самореализация получить знания в новой области...</td>\n",
       "      <td>['универсальные', 'компетенции', '', 'гибкие',...</td>\n",
       "      <td>['самореализация', 'получить', 'знания', 'в', ...</td>\n",
       "      <td>универсальный компетенция  гибкий навык soft s...</td>\n",
       "      <td>самореализация получить знание новый область  ...</td>\n",
       "      <td>универсальный компетенция гибкий навык навык о...</td>\n",
       "      <td>самореализация получить знание новый область п...</td>\n",
       "      <td>0</td>\n",
       "      <td>...</td>\n",
       "      <td>1</td>\n",
       "      <td>0</td>\n",
       "      <td>1</td>\n",
       "      <td>0</td>\n",
       "      <td>1</td>\n",
       "      <td>0</td>\n",
       "      <td>1</td>\n",
       "      <td>0</td>\n",
       "      <td>1</td>\n",
       "      <td>NaN</td>\n",
       "    </tr>\n",
       "    <tr>\n",
       "      <th>2</th>\n",
       "      <td>21</td>\n",
       "      <td>иностранные языки  гуманитарные знания и навык...</td>\n",
       "      <td>улучшенный образ жизни включиться в новый прое...</td>\n",
       "      <td>['иностранные', 'языки', '', 'гуманитарные', '...</td>\n",
       "      <td>['улучшенный', 'образ', 'жизни', 'включиться',...</td>\n",
       "      <td>иностранный язык  гуманитарный знание навык ин...</td>\n",
       "      <td>улучшить образ жизнь включиться новый проект д...</td>\n",
       "      <td>иностранный язык гуманитарный знание навык ино...</td>\n",
       "      <td>образ жизнь включиться новый проект деятельность</td>\n",
       "      <td>0</td>\n",
       "      <td>...</td>\n",
       "      <td>1</td>\n",
       "      <td>1</td>\n",
       "      <td>0</td>\n",
       "      <td>0</td>\n",
       "      <td>0</td>\n",
       "      <td>0</td>\n",
       "      <td>0</td>\n",
       "      <td>1</td>\n",
       "      <td>0</td>\n",
       "      <td>NaN</td>\n",
       "    </tr>\n",
       "    <tr>\n",
       "      <th>3</th>\n",
       "      <td>22</td>\n",
       "      <td>прикладные знания и навыки  ручной труд информ...</td>\n",
       "      <td>обновление устаревшей информации развить имеющ...</td>\n",
       "      <td>['прикладные', 'знания', 'и', 'навыки', '', 'р...</td>\n",
       "      <td>['обновление', 'устаревшей', 'информации', 'ра...</td>\n",
       "      <td>прикладной знание навык  ручной труд информаци...</td>\n",
       "      <td>обновление устаревший информация развить иметь...</td>\n",
       "      <td>прикладной знание навык ручной труд информация...</td>\n",
       "      <td>обновление устаревший информация развить знани...</td>\n",
       "      <td>0</td>\n",
       "      <td>...</td>\n",
       "      <td>1</td>\n",
       "      <td>0</td>\n",
       "      <td>0</td>\n",
       "      <td>0</td>\n",
       "      <td>1</td>\n",
       "      <td>1</td>\n",
       "      <td>1</td>\n",
       "      <td>1</td>\n",
       "      <td>1</td>\n",
       "      <td>NaN</td>\n",
       "    </tr>\n",
       "    <tr>\n",
       "      <th>4</th>\n",
       "      <td>23</td>\n",
       "      <td>универсальные компетенции  гибкие навыки soft ...</td>\n",
       "      <td>повышение результативности труда получить знан...</td>\n",
       "      <td>['универсальные', 'компетенции', '', 'гибкие',...</td>\n",
       "      <td>['повышение', 'результативности', 'труда', 'по...</td>\n",
       "      <td>универсальный компетенция  гибкий навык soft s...</td>\n",
       "      <td>повышение результативность труд получить знани...</td>\n",
       "      <td>универсальный компетенция гибкий навык планиро...</td>\n",
       "      <td>повышение результативность труд получить знани...</td>\n",
       "      <td>0</td>\n",
       "      <td>...</td>\n",
       "      <td>1</td>\n",
       "      <td>0</td>\n",
       "      <td>0</td>\n",
       "      <td>0</td>\n",
       "      <td>0</td>\n",
       "      <td>0</td>\n",
       "      <td>0</td>\n",
       "      <td>0</td>\n",
       "      <td>1</td>\n",
       "      <td>NaN</td>\n",
       "    </tr>\n",
       "  </tbody>\n",
       "</table>\n",
       "<p>5 rows × 36 columns</p>\n",
       "</div>"
      ],
      "text/plain": [
       "   goal_id                               goal_domain_original  \\\n",
       "0       19  творчество и создание нового изобразительное и...   \n",
       "1       20  универсальные компетенции  гибкие навыки soft ...   \n",
       "2       21  иностранные языки  гуманитарные знания и навык...   \n",
       "3       22  прикладные знания и навыки  ручной труд информ...   \n",
       "4       23  универсальные компетенции  гибкие навыки soft ...   \n",
       "\n",
       "                             goal_name_type_original  \\\n",
       "0  не отстать от поезда современности получить зн...   \n",
       "1  самореализация получить знания в новой области...   \n",
       "2  улучшенный образ жизни включиться в новый прое...   \n",
       "3  обновление устаревшей информации развить имеющ...   \n",
       "4  повышение результативности труда получить знан...   \n",
       "\n",
       "                                     goal_domain_LoW  \\\n",
       "0  ['творчество', 'и', 'создание', 'нового', 'изо...   \n",
       "1  ['универсальные', 'компетенции', '', 'гибкие',...   \n",
       "2  ['иностранные', 'языки', '', 'гуманитарные', '...   \n",
       "3  ['прикладные', 'знания', 'и', 'навыки', '', 'р...   \n",
       "4  ['универсальные', 'компетенции', '', 'гибкие',...   \n",
       "\n",
       "                                  goal_name_type_LoW  \\\n",
       "0  ['не', 'отстать', 'от', 'поезда', 'современнос...   \n",
       "1  ['самореализация', 'получить', 'знания', 'в', ...   \n",
       "2  ['улучшенный', 'образ', 'жизни', 'включиться',...   \n",
       "3  ['обновление', 'устаревшей', 'информации', 'ра...   \n",
       "4  ['повышение', 'результативности', 'труда', 'по...   \n",
       "\n",
       "                                goal_domain_no_noise  \\\n",
       "0  творчество создание новое изобразительный иску...   \n",
       "1  универсальный компетенция  гибкий навык soft s...   \n",
       "2  иностранный язык  гуманитарный знание навык ин...   \n",
       "3  прикладной знание навык  ручной труд информаци...   \n",
       "4  универсальный компетенция  гибкий навык soft s...   \n",
       "\n",
       "                             goal_name_type_no_noise  \\\n",
       "0  отстать поезд современность получить знание но...   \n",
       "1  самореализация получить знание новый область  ...   \n",
       "2  улучшить образ жизнь включиться новый проект д...   \n",
       "3  обновление устаревший информация развить иметь...   \n",
       "4  повышение результативность труд получить знани...   \n",
       "\n",
       "                                goal_domain_mean_pos  \\\n",
       "0  творчество создание новое изобразительный иску...   \n",
       "1  универсальный компетенция гибкий навык навык о...   \n",
       "2  иностранный язык гуманитарный знание навык ино...   \n",
       "3  прикладной знание навык ручной труд информация...   \n",
       "4  универсальный компетенция гибкий навык планиро...   \n",
       "\n",
       "                             goal_name_type_mean_pos  remove  ...  \\\n",
       "0  отстать поезд современность получить знание но...       0  ...   \n",
       "1  самореализация получить знание новый область п...       0  ...   \n",
       "2   образ жизнь включиться новый проект деятельность       0  ...   \n",
       "3  обновление устаревший информация развить знани...       0  ...   \n",
       "4  повышение результативность труд получить знани...       0  ...   \n",
       "\n",
       "   label_attractor_hard_skill  label_attractor_soft_skill  \\\n",
       "0                           1                           1   \n",
       "1                           1                           0   \n",
       "2                           1                           1   \n",
       "3                           1                           0   \n",
       "4                           1                           0   \n",
       "\n",
       "   label_attractor_tool  label_attractor_community  \\\n",
       "0                     0                          1   \n",
       "1                     1                          0   \n",
       "2                     0                          0   \n",
       "3                     0                          0   \n",
       "4                     0                          0   \n",
       "\n",
       "   label_attractor_subjectivity  label_attractor_habits  \\\n",
       "0                             0                       1   \n",
       "1                             1                       0   \n",
       "2                             0                       0   \n",
       "3                             1                       1   \n",
       "4                             0                       0   \n",
       "\n",
       "   label_attractor_career  label_attractor_fixing  label_attractor_art  \\\n",
       "0                       1                       1                    0   \n",
       "1                       1                       0                    1   \n",
       "2                       0                       1                    0   \n",
       "3                       1                       1                    1   \n",
       "4                       0                       0                    1   \n",
       "\n",
       "   label_attractor_health  \n",
       "0                     NaN  \n",
       "1                     NaN  \n",
       "2                     NaN  \n",
       "3                     NaN  \n",
       "4                     NaN  \n",
       "\n",
       "[5 rows x 36 columns]"
      ]
     },
     "execution_count": 4,
     "metadata": {},
     "output_type": "execute_result"
    }
   ],
   "source": [
    "topics_df.head()"
   ]
  },
  {
   "cell_type": "code",
   "execution_count": 5,
   "metadata": {},
   "outputs": [
    {
     "data": {
      "text/plain": [
       "Index(['goal_id', 'goal_domain_original', 'goal_name_type_original',\n",
       "       'goal_domain_LoW', 'goal_name_type_LoW', 'goal_domain_no_noise',\n",
       "       'goal_name_type_no_noise', 'goal_domain_mean_pos',\n",
       "       'goal_name_type_mean_pos', 'remove', 'are_first_steps_known',\n",
       "       'is_time_certain', 'is_certainly_imagined', 'are_obstackles_expected',\n",
       "       'topic_words', 'goal_words', 'topic_letters', 'goal_letters',\n",
       "       'topic_aver_word_len', 'goal_aver_word_len', 'goal_verbs_counter',\n",
       "       'goal_nouns_counter', 'goal_numr_counter', 'goal_adj_counter',\n",
       "       'goal_digit_counter', 'label_attractor_knowledge',\n",
       "       'label_attractor_hard_skill', 'label_attractor_soft_skill',\n",
       "       'label_attractor_tool', 'label_attractor_community',\n",
       "       'label_attractor_subjectivity', 'label_attractor_habits',\n",
       "       'label_attractor_career', 'label_attractor_fixing',\n",
       "       'label_attractor_art', 'label_attractor_health'],\n",
       "      dtype='object')"
      ]
     },
     "execution_count": 5,
     "metadata": {},
     "output_type": "execute_result"
    }
   ],
   "source": [
    "topics_df.columns"
   ]
  },
  {
   "cell_type": "code",
   "execution_count": 6,
   "metadata": {},
   "outputs": [],
   "source": [
    "topics = topics_df.copy()"
   ]
  },
  {
   "cell_type": "code",
   "execution_count": 7,
   "metadata": {},
   "outputs": [],
   "source": [
    "topics.drop(columns=['goal_id', 'goal_domain_original', 'goal_domain_LoW', 'goal_name_type_LoW',\n",
    "                   'goal_domain_no_noise', 'goal_domain_mean_pos'], inplace=True)"
   ]
  },
  {
   "cell_type": "code",
   "execution_count": 8,
   "metadata": {},
   "outputs": [],
   "source": [
    "topics = topics[topics['remove'] == 0]"
   ]
  },
  {
   "cell_type": "code",
   "execution_count": 9,
   "metadata": {},
   "outputs": [],
   "source": [
    "topics.drop(columns=['remove'], inplace=True)"
   ]
  },
  {
   "cell_type": "code",
   "execution_count": 10,
   "metadata": {},
   "outputs": [
    {
     "data": {
      "text/html": [
       "<div>\n",
       "<style scoped>\n",
       "    .dataframe tbody tr th:only-of-type {\n",
       "        vertical-align: middle;\n",
       "    }\n",
       "\n",
       "    .dataframe tbody tr th {\n",
       "        vertical-align: top;\n",
       "    }\n",
       "\n",
       "    .dataframe thead th {\n",
       "        text-align: right;\n",
       "    }\n",
       "</style>\n",
       "<table border=\"1\" class=\"dataframe\">\n",
       "  <thead>\n",
       "    <tr style=\"text-align: right;\">\n",
       "      <th></th>\n",
       "      <th>goal_name_type_original</th>\n",
       "      <th>goal_name_type_no_noise</th>\n",
       "      <th>goal_name_type_mean_pos</th>\n",
       "      <th>are_first_steps_known</th>\n",
       "      <th>is_time_certain</th>\n",
       "      <th>is_certainly_imagined</th>\n",
       "      <th>are_obstackles_expected</th>\n",
       "      <th>topic_words</th>\n",
       "      <th>goal_words</th>\n",
       "      <th>topic_letters</th>\n",
       "      <th>...</th>\n",
       "      <th>label_attractor_hard_skill</th>\n",
       "      <th>label_attractor_soft_skill</th>\n",
       "      <th>label_attractor_tool</th>\n",
       "      <th>label_attractor_community</th>\n",
       "      <th>label_attractor_subjectivity</th>\n",
       "      <th>label_attractor_habits</th>\n",
       "      <th>label_attractor_career</th>\n",
       "      <th>label_attractor_fixing</th>\n",
       "      <th>label_attractor_art</th>\n",
       "      <th>label_attractor_health</th>\n",
       "    </tr>\n",
       "  </thead>\n",
       "  <tbody>\n",
       "    <tr>\n",
       "      <th>0</th>\n",
       "      <td>не отстать от поезда современности получить зн...</td>\n",
       "      <td>отстать поезд современность получить знание но...</td>\n",
       "      <td>отстать поезд современность получить знание но...</td>\n",
       "      <td>0</td>\n",
       "      <td>0</td>\n",
       "      <td>1</td>\n",
       "      <td>0</td>\n",
       "      <td>19</td>\n",
       "      <td>32</td>\n",
       "      <td>121</td>\n",
       "      <td>...</td>\n",
       "      <td>1</td>\n",
       "      <td>1</td>\n",
       "      <td>0</td>\n",
       "      <td>1</td>\n",
       "      <td>0</td>\n",
       "      <td>1</td>\n",
       "      <td>1</td>\n",
       "      <td>1</td>\n",
       "      <td>0</td>\n",
       "      <td>NaN</td>\n",
       "    </tr>\n",
       "    <tr>\n",
       "      <th>1</th>\n",
       "      <td>самореализация получить знания в новой области...</td>\n",
       "      <td>самореализация получить знание новый область  ...</td>\n",
       "      <td>самореализация получить знание новый область п...</td>\n",
       "      <td>0</td>\n",
       "      <td>0</td>\n",
       "      <td>1</td>\n",
       "      <td>0</td>\n",
       "      <td>79</td>\n",
       "      <td>24</td>\n",
       "      <td>435</td>\n",
       "      <td>...</td>\n",
       "      <td>1</td>\n",
       "      <td>0</td>\n",
       "      <td>1</td>\n",
       "      <td>0</td>\n",
       "      <td>1</td>\n",
       "      <td>0</td>\n",
       "      <td>1</td>\n",
       "      <td>0</td>\n",
       "      <td>1</td>\n",
       "      <td>NaN</td>\n",
       "    </tr>\n",
       "    <tr>\n",
       "      <th>2</th>\n",
       "      <td>улучшенный образ жизни включиться в новый прое...</td>\n",
       "      <td>улучшить образ жизнь включиться новый проект д...</td>\n",
       "      <td>образ жизнь включиться новый проект деятельность</td>\n",
       "      <td>1</td>\n",
       "      <td>0</td>\n",
       "      <td>1</td>\n",
       "      <td>0</td>\n",
       "      <td>25</td>\n",
       "      <td>8</td>\n",
       "      <td>171</td>\n",
       "      <td>...</td>\n",
       "      <td>1</td>\n",
       "      <td>1</td>\n",
       "      <td>0</td>\n",
       "      <td>0</td>\n",
       "      <td>0</td>\n",
       "      <td>0</td>\n",
       "      <td>0</td>\n",
       "      <td>1</td>\n",
       "      <td>0</td>\n",
       "      <td>NaN</td>\n",
       "    </tr>\n",
       "    <tr>\n",
       "      <th>3</th>\n",
       "      <td>обновление устаревшей информации развить имеющ...</td>\n",
       "      <td>обновление устаревший информация развить иметь...</td>\n",
       "      <td>обновление устаревший информация развить знани...</td>\n",
       "      <td>1</td>\n",
       "      <td>0</td>\n",
       "      <td>1</td>\n",
       "      <td>0</td>\n",
       "      <td>19</td>\n",
       "      <td>8</td>\n",
       "      <td>106</td>\n",
       "      <td>...</td>\n",
       "      <td>1</td>\n",
       "      <td>0</td>\n",
       "      <td>0</td>\n",
       "      <td>0</td>\n",
       "      <td>1</td>\n",
       "      <td>1</td>\n",
       "      <td>1</td>\n",
       "      <td>1</td>\n",
       "      <td>1</td>\n",
       "      <td>NaN</td>\n",
       "    </tr>\n",
       "    <tr>\n",
       "      <th>4</th>\n",
       "      <td>повышение результативности труда получить знан...</td>\n",
       "      <td>повышение результативность труд получить знани...</td>\n",
       "      <td>повышение результативность труд получить знани...</td>\n",
       "      <td>1</td>\n",
       "      <td>0</td>\n",
       "      <td>1</td>\n",
       "      <td>0</td>\n",
       "      <td>20</td>\n",
       "      <td>26</td>\n",
       "      <td>134</td>\n",
       "      <td>...</td>\n",
       "      <td>1</td>\n",
       "      <td>0</td>\n",
       "      <td>0</td>\n",
       "      <td>0</td>\n",
       "      <td>0</td>\n",
       "      <td>0</td>\n",
       "      <td>0</td>\n",
       "      <td>0</td>\n",
       "      <td>1</td>\n",
       "      <td>NaN</td>\n",
       "    </tr>\n",
       "  </tbody>\n",
       "</table>\n",
       "<p>5 rows × 29 columns</p>\n",
       "</div>"
      ],
      "text/plain": [
       "                             goal_name_type_original  \\\n",
       "0  не отстать от поезда современности получить зн...   \n",
       "1  самореализация получить знания в новой области...   \n",
       "2  улучшенный образ жизни включиться в новый прое...   \n",
       "3  обновление устаревшей информации развить имеющ...   \n",
       "4  повышение результативности труда получить знан...   \n",
       "\n",
       "                             goal_name_type_no_noise  \\\n",
       "0  отстать поезд современность получить знание но...   \n",
       "1  самореализация получить знание новый область  ...   \n",
       "2  улучшить образ жизнь включиться новый проект д...   \n",
       "3  обновление устаревший информация развить иметь...   \n",
       "4  повышение результативность труд получить знани...   \n",
       "\n",
       "                             goal_name_type_mean_pos  are_first_steps_known  \\\n",
       "0  отстать поезд современность получить знание но...                      0   \n",
       "1  самореализация получить знание новый область п...                      0   \n",
       "2   образ жизнь включиться новый проект деятельность                      1   \n",
       "3  обновление устаревший информация развить знани...                      1   \n",
       "4  повышение результативность труд получить знани...                      1   \n",
       "\n",
       "   is_time_certain  is_certainly_imagined  are_obstackles_expected  \\\n",
       "0                0                      1                        0   \n",
       "1                0                      1                        0   \n",
       "2                0                      1                        0   \n",
       "3                0                      1                        0   \n",
       "4                0                      1                        0   \n",
       "\n",
       "   topic_words  goal_words  topic_letters  ...  label_attractor_hard_skill  \\\n",
       "0           19          32            121  ...                           1   \n",
       "1           79          24            435  ...                           1   \n",
       "2           25           8            171  ...                           1   \n",
       "3           19           8            106  ...                           1   \n",
       "4           20          26            134  ...                           1   \n",
       "\n",
       "   label_attractor_soft_skill  label_attractor_tool  \\\n",
       "0                           1                     0   \n",
       "1                           0                     1   \n",
       "2                           1                     0   \n",
       "3                           0                     0   \n",
       "4                           0                     0   \n",
       "\n",
       "   label_attractor_community  label_attractor_subjectivity  \\\n",
       "0                          1                             0   \n",
       "1                          0                             1   \n",
       "2                          0                             0   \n",
       "3                          0                             1   \n",
       "4                          0                             0   \n",
       "\n",
       "   label_attractor_habits  label_attractor_career  label_attractor_fixing  \\\n",
       "0                       1                       1                       1   \n",
       "1                       0                       1                       0   \n",
       "2                       0                       0                       1   \n",
       "3                       1                       1                       1   \n",
       "4                       0                       0                       0   \n",
       "\n",
       "   label_attractor_art  label_attractor_health  \n",
       "0                    0                     NaN  \n",
       "1                    1                     NaN  \n",
       "2                    0                     NaN  \n",
       "3                    1                     NaN  \n",
       "4                    1                     NaN  \n",
       "\n",
       "[5 rows x 29 columns]"
      ]
     },
     "execution_count": 10,
     "metadata": {},
     "output_type": "execute_result"
    }
   ],
   "source": [
    "topics.head()"
   ]
  },
  {
   "cell_type": "code",
   "execution_count": 11,
   "metadata": {},
   "outputs": [],
   "source": [
    "topics_text_vectors = topics[['goal_name_type_original', 'goal_name_type_no_noise', 'goal_name_type_mean_pos',\n",
    "                           'label_attractor_health']]\n",
    "topics_features = topics.drop(columns=['goal_name_type_original', 'goal_name_type_no_noise', 'goal_name_type_mean_pos'])"
   ]
  },
  {
   "cell_type": "code",
   "execution_count": 12,
   "metadata": {},
   "outputs": [
    {
     "data": {
      "text/html": [
       "<div>\n",
       "<style scoped>\n",
       "    .dataframe tbody tr th:only-of-type {\n",
       "        vertical-align: middle;\n",
       "    }\n",
       "\n",
       "    .dataframe tbody tr th {\n",
       "        vertical-align: top;\n",
       "    }\n",
       "\n",
       "    .dataframe thead th {\n",
       "        text-align: right;\n",
       "    }\n",
       "</style>\n",
       "<table border=\"1\" class=\"dataframe\">\n",
       "  <thead>\n",
       "    <tr style=\"text-align: right;\">\n",
       "      <th></th>\n",
       "      <th>are_first_steps_known</th>\n",
       "      <th>is_time_certain</th>\n",
       "      <th>is_certainly_imagined</th>\n",
       "      <th>are_obstackles_expected</th>\n",
       "      <th>topic_words</th>\n",
       "      <th>goal_words</th>\n",
       "      <th>topic_letters</th>\n",
       "      <th>goal_letters</th>\n",
       "      <th>topic_aver_word_len</th>\n",
       "      <th>goal_aver_word_len</th>\n",
       "      <th>...</th>\n",
       "      <th>label_attractor_hard_skill</th>\n",
       "      <th>label_attractor_soft_skill</th>\n",
       "      <th>label_attractor_tool</th>\n",
       "      <th>label_attractor_community</th>\n",
       "      <th>label_attractor_subjectivity</th>\n",
       "      <th>label_attractor_habits</th>\n",
       "      <th>label_attractor_career</th>\n",
       "      <th>label_attractor_fixing</th>\n",
       "      <th>label_attractor_art</th>\n",
       "      <th>label_attractor_health</th>\n",
       "    </tr>\n",
       "  </thead>\n",
       "  <tbody>\n",
       "    <tr>\n",
       "      <th>0</th>\n",
       "      <td>0</td>\n",
       "      <td>0</td>\n",
       "      <td>1</td>\n",
       "      <td>0</td>\n",
       "      <td>19</td>\n",
       "      <td>32</td>\n",
       "      <td>121</td>\n",
       "      <td>180</td>\n",
       "      <td>6.37</td>\n",
       "      <td>5.62</td>\n",
       "      <td>...</td>\n",
       "      <td>1</td>\n",
       "      <td>1</td>\n",
       "      <td>0</td>\n",
       "      <td>1</td>\n",
       "      <td>0</td>\n",
       "      <td>1</td>\n",
       "      <td>1</td>\n",
       "      <td>1</td>\n",
       "      <td>0</td>\n",
       "      <td>NaN</td>\n",
       "    </tr>\n",
       "    <tr>\n",
       "      <th>1</th>\n",
       "      <td>0</td>\n",
       "      <td>0</td>\n",
       "      <td>1</td>\n",
       "      <td>0</td>\n",
       "      <td>79</td>\n",
       "      <td>24</td>\n",
       "      <td>435</td>\n",
       "      <td>142</td>\n",
       "      <td>5.51</td>\n",
       "      <td>5.92</td>\n",
       "      <td>...</td>\n",
       "      <td>1</td>\n",
       "      <td>0</td>\n",
       "      <td>1</td>\n",
       "      <td>0</td>\n",
       "      <td>1</td>\n",
       "      <td>0</td>\n",
       "      <td>1</td>\n",
       "      <td>0</td>\n",
       "      <td>1</td>\n",
       "      <td>NaN</td>\n",
       "    </tr>\n",
       "    <tr>\n",
       "      <th>2</th>\n",
       "      <td>1</td>\n",
       "      <td>0</td>\n",
       "      <td>1</td>\n",
       "      <td>0</td>\n",
       "      <td>25</td>\n",
       "      <td>8</td>\n",
       "      <td>171</td>\n",
       "      <td>54</td>\n",
       "      <td>6.84</td>\n",
       "      <td>6.75</td>\n",
       "      <td>...</td>\n",
       "      <td>1</td>\n",
       "      <td>1</td>\n",
       "      <td>0</td>\n",
       "      <td>0</td>\n",
       "      <td>0</td>\n",
       "      <td>0</td>\n",
       "      <td>0</td>\n",
       "      <td>1</td>\n",
       "      <td>0</td>\n",
       "      <td>NaN</td>\n",
       "    </tr>\n",
       "    <tr>\n",
       "      <th>3</th>\n",
       "      <td>1</td>\n",
       "      <td>0</td>\n",
       "      <td>1</td>\n",
       "      <td>0</td>\n",
       "      <td>19</td>\n",
       "      <td>8</td>\n",
       "      <td>106</td>\n",
       "      <td>59</td>\n",
       "      <td>5.58</td>\n",
       "      <td>7.38</td>\n",
       "      <td>...</td>\n",
       "      <td>1</td>\n",
       "      <td>0</td>\n",
       "      <td>0</td>\n",
       "      <td>0</td>\n",
       "      <td>1</td>\n",
       "      <td>1</td>\n",
       "      <td>1</td>\n",
       "      <td>1</td>\n",
       "      <td>1</td>\n",
       "      <td>NaN</td>\n",
       "    </tr>\n",
       "    <tr>\n",
       "      <th>4</th>\n",
       "      <td>1</td>\n",
       "      <td>0</td>\n",
       "      <td>1</td>\n",
       "      <td>0</td>\n",
       "      <td>20</td>\n",
       "      <td>26</td>\n",
       "      <td>134</td>\n",
       "      <td>148</td>\n",
       "      <td>6.70</td>\n",
       "      <td>5.69</td>\n",
       "      <td>...</td>\n",
       "      <td>1</td>\n",
       "      <td>0</td>\n",
       "      <td>0</td>\n",
       "      <td>0</td>\n",
       "      <td>0</td>\n",
       "      <td>0</td>\n",
       "      <td>0</td>\n",
       "      <td>0</td>\n",
       "      <td>1</td>\n",
       "      <td>NaN</td>\n",
       "    </tr>\n",
       "  </tbody>\n",
       "</table>\n",
       "<p>5 rows × 26 columns</p>\n",
       "</div>"
      ],
      "text/plain": [
       "   are_first_steps_known  is_time_certain  is_certainly_imagined  \\\n",
       "0                      0                0                      1   \n",
       "1                      0                0                      1   \n",
       "2                      1                0                      1   \n",
       "3                      1                0                      1   \n",
       "4                      1                0                      1   \n",
       "\n",
       "   are_obstackles_expected  topic_words  goal_words  topic_letters  \\\n",
       "0                        0           19          32            121   \n",
       "1                        0           79          24            435   \n",
       "2                        0           25           8            171   \n",
       "3                        0           19           8            106   \n",
       "4                        0           20          26            134   \n",
       "\n",
       "   goal_letters  topic_aver_word_len  goal_aver_word_len  ...  \\\n",
       "0           180                 6.37                5.62  ...   \n",
       "1           142                 5.51                5.92  ...   \n",
       "2            54                 6.84                6.75  ...   \n",
       "3            59                 5.58                7.38  ...   \n",
       "4           148                 6.70                5.69  ...   \n",
       "\n",
       "   label_attractor_hard_skill  label_attractor_soft_skill  \\\n",
       "0                           1                           1   \n",
       "1                           1                           0   \n",
       "2                           1                           1   \n",
       "3                           1                           0   \n",
       "4                           1                           0   \n",
       "\n",
       "   label_attractor_tool  label_attractor_community  \\\n",
       "0                     0                          1   \n",
       "1                     1                          0   \n",
       "2                     0                          0   \n",
       "3                     0                          0   \n",
       "4                     0                          0   \n",
       "\n",
       "   label_attractor_subjectivity  label_attractor_habits  \\\n",
       "0                             0                       1   \n",
       "1                             1                       0   \n",
       "2                             0                       0   \n",
       "3                             1                       1   \n",
       "4                             0                       0   \n",
       "\n",
       "   label_attractor_career  label_attractor_fixing  label_attractor_art  \\\n",
       "0                       1                       1                    0   \n",
       "1                       1                       0                    1   \n",
       "2                       0                       1                    0   \n",
       "3                       1                       1                    1   \n",
       "4                       0                       0                    1   \n",
       "\n",
       "   label_attractor_health  \n",
       "0                     NaN  \n",
       "1                     NaN  \n",
       "2                     NaN  \n",
       "3                     NaN  \n",
       "4                     NaN  \n",
       "\n",
       "[5 rows x 26 columns]"
      ]
     },
     "execution_count": 12,
     "metadata": {},
     "output_type": "execute_result"
    }
   ],
   "source": [
    "topics_features.head()"
   ]
  },
  {
   "cell_type": "code",
   "execution_count": 13,
   "metadata": {},
   "outputs": [
    {
     "data": {
      "text/html": [
       "<div>\n",
       "<style scoped>\n",
       "    .dataframe tbody tr th:only-of-type {\n",
       "        vertical-align: middle;\n",
       "    }\n",
       "\n",
       "    .dataframe tbody tr th {\n",
       "        vertical-align: top;\n",
       "    }\n",
       "\n",
       "    .dataframe thead th {\n",
       "        text-align: right;\n",
       "    }\n",
       "</style>\n",
       "<table border=\"1\" class=\"dataframe\">\n",
       "  <thead>\n",
       "    <tr style=\"text-align: right;\">\n",
       "      <th></th>\n",
       "      <th>goal_name_type_original</th>\n",
       "      <th>goal_name_type_no_noise</th>\n",
       "      <th>goal_name_type_mean_pos</th>\n",
       "      <th>label_attractor_health</th>\n",
       "    </tr>\n",
       "  </thead>\n",
       "  <tbody>\n",
       "    <tr>\n",
       "      <th>0</th>\n",
       "      <td>не отстать от поезда современности получить зн...</td>\n",
       "      <td>отстать поезд современность получить знание но...</td>\n",
       "      <td>отстать поезд современность получить знание но...</td>\n",
       "      <td>NaN</td>\n",
       "    </tr>\n",
       "    <tr>\n",
       "      <th>1</th>\n",
       "      <td>самореализация получить знания в новой области...</td>\n",
       "      <td>самореализация получить знание новый область  ...</td>\n",
       "      <td>самореализация получить знание новый область п...</td>\n",
       "      <td>NaN</td>\n",
       "    </tr>\n",
       "    <tr>\n",
       "      <th>2</th>\n",
       "      <td>улучшенный образ жизни включиться в новый прое...</td>\n",
       "      <td>улучшить образ жизнь включиться новый проект д...</td>\n",
       "      <td>образ жизнь включиться новый проект деятельность</td>\n",
       "      <td>NaN</td>\n",
       "    </tr>\n",
       "    <tr>\n",
       "      <th>3</th>\n",
       "      <td>обновление устаревшей информации развить имеющ...</td>\n",
       "      <td>обновление устаревший информация развить иметь...</td>\n",
       "      <td>обновление устаревший информация развить знани...</td>\n",
       "      <td>NaN</td>\n",
       "    </tr>\n",
       "    <tr>\n",
       "      <th>4</th>\n",
       "      <td>повышение результативности труда получить знан...</td>\n",
       "      <td>повышение результативность труд получить знани...</td>\n",
       "      <td>повышение результативность труд получить знани...</td>\n",
       "      <td>NaN</td>\n",
       "    </tr>\n",
       "  </tbody>\n",
       "</table>\n",
       "</div>"
      ],
      "text/plain": [
       "                             goal_name_type_original  \\\n",
       "0  не отстать от поезда современности получить зн...   \n",
       "1  самореализация получить знания в новой области...   \n",
       "2  улучшенный образ жизни включиться в новый прое...   \n",
       "3  обновление устаревшей информации развить имеющ...   \n",
       "4  повышение результативности труда получить знан...   \n",
       "\n",
       "                             goal_name_type_no_noise  \\\n",
       "0  отстать поезд современность получить знание но...   \n",
       "1  самореализация получить знание новый область  ...   \n",
       "2  улучшить образ жизнь включиться новый проект д...   \n",
       "3  обновление устаревший информация развить иметь...   \n",
       "4  повышение результативность труд получить знани...   \n",
       "\n",
       "                             goal_name_type_mean_pos  label_attractor_health  \n",
       "0  отстать поезд современность получить знание но...                     NaN  \n",
       "1  самореализация получить знание новый область п...                     NaN  \n",
       "2   образ жизнь включиться новый проект деятельность                     NaN  \n",
       "3  обновление устаревший информация развить знани...                     NaN  \n",
       "4  повышение результативность труд получить знани...                     NaN  "
      ]
     },
     "execution_count": 13,
     "metadata": {},
     "output_type": "execute_result"
    }
   ],
   "source": [
    "topics_text_vectors.head()"
   ]
  },
  {
   "cell_type": "code",
   "execution_count": 14,
   "metadata": {},
   "outputs": [],
   "source": [
    "from sklearn.model_selection import train_test_split"
   ]
  },
  {
   "cell_type": "markdown",
   "metadata": {},
   "source": [
    "### label_attractor_health"
   ]
  },
  {
   "cell_type": "markdown",
   "metadata": {},
   "source": [
    "#### Vectors approach"
   ]
  },
  {
   "cell_type": "code",
   "execution_count": 15,
   "metadata": {},
   "outputs": [
    {
     "name": "stderr",
     "output_type": "stream",
     "text": [
      "c:\\users\\vpoletae\\appdata\\local\\continuum\\anaconda3\\envs\\mytfenv\\lib\\site-packages\\ipykernel_launcher.py:1: SettingWithCopyWarning: \n",
      "A value is trying to be set on a copy of a slice from a DataFrame\n",
      "\n",
      "See the caveats in the documentation: http://pandas.pydata.org/pandas-docs/stable/user_guide/indexing.html#returning-a-view-versus-a-copy\n",
      "  \"\"\"Entry point for launching an IPython kernel.\n"
     ]
    }
   ],
   "source": [
    "topics_text_vectors.dropna(inplace=True)"
   ]
  },
  {
   "cell_type": "code",
   "execution_count": 16,
   "metadata": {},
   "outputs": [
    {
     "data": {
      "text/plain": [
       "Index(['goal_name_type_original', 'goal_name_type_no_noise',\n",
       "       'goal_name_type_mean_pos', 'label_attractor_health'],\n",
       "      dtype='object')"
      ]
     },
     "execution_count": 16,
     "metadata": {},
     "output_type": "execute_result"
    }
   ],
   "source": [
    "topics_text_vectors.columns"
   ]
  },
  {
   "cell_type": "code",
   "execution_count": 17,
   "metadata": {},
   "outputs": [],
   "source": [
    "from sklearn.feature_extraction.text import CountVectorizer, TfidfVectorizer"
   ]
  },
  {
   "cell_type": "code",
   "execution_count": 18,
   "metadata": {},
   "outputs": [],
   "source": [
    "text = topics_text_vectors['goal_name_type_mean_pos']\n",
    "y = topics_text_vectors['label_attractor_health']"
   ]
  },
  {
   "cell_type": "code",
   "execution_count": 19,
   "metadata": {},
   "outputs": [
    {
     "data": {
      "text/plain": [
       "9        стать проф фотограф приобрести новое навык вкл...\n",
       "10       удержаться остриё технология получить знание н...\n",
       "11       высокий образование получить официальный образ...\n",
       "12       приобретение знание получить знание новый обла...\n",
       "17       получить образование получить знание новый обл...\n",
       "                               ...                        \n",
       "18013    приобретение новый знание навык успешный обуче...\n",
       "18014    быть нужный работодатель приобрести новое навы...\n",
       "18016    сохранить здоровье изменить привычка получить ...\n",
       "18018    зарабатывать деньга получить знание новый обла...\n",
       "18019    получение навык приобрести новое навык развить...\n",
       "Name: goal_name_type_mean_pos, Length: 17093, dtype: object"
      ]
     },
     "execution_count": 19,
     "metadata": {},
     "output_type": "execute_result"
    }
   ],
   "source": [
    "text"
   ]
  },
  {
   "cell_type": "code",
   "execution_count": 20,
   "metadata": {},
   "outputs": [],
   "source": [
    "# tfidf = TfidfVectorizer()\n",
    "# X = tfidf.fit_transform(text)"
   ]
  },
  {
   "cell_type": "code",
   "execution_count": 24,
   "metadata": {},
   "outputs": [],
   "source": [
    "with open('../models/tfidf.pkl', 'rb') as f:\n",
    "    tfidf = pickle.load(f)"
   ]
  },
  {
   "cell_type": "code",
   "execution_count": 25,
   "metadata": {},
   "outputs": [],
   "source": [
    "X = tfidf.transform(text)"
   ]
  },
  {
   "cell_type": "code",
   "execution_count": 26,
   "metadata": {},
   "outputs": [
    {
     "data": {
      "text/plain": [
       "(17093, 4932)"
      ]
     },
     "execution_count": 26,
     "metadata": {},
     "output_type": "execute_result"
    }
   ],
   "source": [
    "X.shape"
   ]
  },
  {
   "cell_type": "code",
   "execution_count": 27,
   "metadata": {},
   "outputs": [],
   "source": [
    "X_train, X_test, y_train, y_test = train_test_split(X, y, test_size=0.2, random_state=0, stratify=y)"
   ]
  },
  {
   "cell_type": "code",
   "execution_count": 28,
   "metadata": {},
   "outputs": [
    {
     "data": {
      "text/plain": [
       "<13674x4932 sparse matrix of type '<class 'numpy.float64'>'\n",
       "\twith 168420 stored elements in Compressed Sparse Row format>"
      ]
     },
     "execution_count": 28,
     "metadata": {},
     "output_type": "execute_result"
    }
   ],
   "source": [
    "X_train"
   ]
  },
  {
   "cell_type": "code",
   "execution_count": 29,
   "metadata": {},
   "outputs": [],
   "source": [
    "from xgboost import XGBClassifier"
   ]
  },
  {
   "cell_type": "code",
   "execution_count": 30,
   "metadata": {},
   "outputs": [],
   "source": [
    "health_v_xgb = XGBClassifier()"
   ]
  },
  {
   "cell_type": "code",
   "execution_count": 31,
   "metadata": {},
   "outputs": [
    {
     "data": {
      "text/plain": [
       "XGBClassifier(base_score=0.5, booster='gbtree', colsample_bylevel=1,\n",
       "              colsample_bynode=1, colsample_bytree=1, gamma=0, gpu_id=-1,\n",
       "              importance_type='gain', interaction_constraints='',\n",
       "              learning_rate=0.300000012, max_delta_step=0, max_depth=6,\n",
       "              min_child_weight=1, missing=nan, monotone_constraints='()',\n",
       "              n_estimators=100, n_jobs=0, num_parallel_tree=1,\n",
       "              objective='binary:logistic', random_state=0, reg_alpha=0,\n",
       "              reg_lambda=1, scale_pos_weight=1, subsample=1,\n",
       "              tree_method='exact', validate_parameters=1, verbosity=None)"
      ]
     },
     "execution_count": 31,
     "metadata": {},
     "output_type": "execute_result"
    }
   ],
   "source": [
    "health_v_xgb.fit(X_train, y_train)"
   ]
  },
  {
   "cell_type": "code",
   "execution_count": 32,
   "metadata": {},
   "outputs": [],
   "source": [
    "y_pred = health_v_xgb.predict(X_test)"
   ]
  },
  {
   "cell_type": "code",
   "execution_count": 33,
   "metadata": {},
   "outputs": [],
   "source": [
    "from sklearn.metrics import classification_report, accuracy_score"
   ]
  },
  {
   "cell_type": "code",
   "execution_count": 34,
   "metadata": {},
   "outputs": [
    {
     "name": "stdout",
     "output_type": "stream",
     "text": [
      "              precision    recall  f1-score   support\n",
      "\n",
      "         0.0       0.95      1.00      0.98      3261\n",
      "         1.0       0.00      0.00      0.00       158\n",
      "\n",
      "    accuracy                           0.95      3419\n",
      "   macro avg       0.48      0.50      0.49      3419\n",
      "weighted avg       0.91      0.95      0.93      3419\n",
      "\n"
     ]
    }
   ],
   "source": [
    "print(classification_report(y_test, y_pred))"
   ]
  },
  {
   "cell_type": "code",
   "execution_count": 35,
   "metadata": {},
   "outputs": [
    {
     "data": {
      "text/plain": [
       "0.9534951740274934"
      ]
     },
     "execution_count": 35,
     "metadata": {},
     "output_type": "execute_result"
    }
   ],
   "source": [
    "accuracy_score(y_test, y_pred)"
   ]
  },
  {
   "cell_type": "code",
   "execution_count": 36,
   "metadata": {},
   "outputs": [],
   "source": [
    "with open('../models/topic_health_vect_xgb.pkl', 'wb') as f:\n",
    "    pickle.dump(health_v_xgb, f)"
   ]
  },
  {
   "cell_type": "markdown",
   "metadata": {},
   "source": [
    "#### Neural net approach"
   ]
  },
  {
   "cell_type": "code",
   "execution_count": 33,
   "metadata": {},
   "outputs": [],
   "source": [
    "from tensorflow.keras.preprocessing.text import Tokenizer\n",
    "from tensorflow.keras.preprocessing.sequence import pad_sequences\n",
    "from tensorflow.keras.models import Sequential\n",
    "from tensorflow.keras.layers import Dense,Flatten,Embedding,Dropout\n",
    "from tensorflow.keras.layers import Conv1D, MaxPooling1D, GlobalMaxPooling1D "
   ]
  },
  {
   "cell_type": "code",
   "execution_count": 34,
   "metadata": {},
   "outputs": [],
   "source": [
    "text = topics_text_vectors['goal_name_type_mean_pos']\n",
    "y = topics_text_vectors['label_attractor_health']"
   ]
  },
  {
   "cell_type": "code",
   "execution_count": 35,
   "metadata": {},
   "outputs": [],
   "source": [
    "token = Tokenizer()\n",
    "token.fit_on_texts(text)"
   ]
  },
  {
   "cell_type": "code",
   "execution_count": 36,
   "metadata": {},
   "outputs": [
    {
     "data": {
      "text/plain": [
       "4946"
      ]
     },
     "execution_count": 36,
     "metadata": {},
     "output_type": "execute_result"
    }
   ],
   "source": [
    "vocab_size = len(token.word_index) + 1\n",
    "vocab_size"
   ]
  },
  {
   "cell_type": "code",
   "execution_count": 37,
   "metadata": {},
   "outputs": [],
   "source": [
    "encoded_text = token.texts_to_sequences(text)"
   ]
  },
  {
   "cell_type": "code",
   "execution_count": 38,
   "metadata": {},
   "outputs": [
    {
     "data": {
      "text/plain": [
       "142"
      ]
     },
     "execution_count": 38,
     "metadata": {},
     "output_type": "execute_result"
    }
   ],
   "source": [
    "max_len = int()\n",
    "for i in encoded_text:\n",
    "    len_ = len(i)\n",
    "    if len_ > max_len:\n",
    "        max_len = len_\n",
    "        \n",
    "max_len"
   ]
  },
  {
   "cell_type": "code",
   "execution_count": 39,
   "metadata": {},
   "outputs": [],
   "source": [
    "max_length = 142\n",
    "X = pad_sequences(encoded_text, maxlen=max_length, padding='post')"
   ]
  },
  {
   "cell_type": "code",
   "execution_count": 40,
   "metadata": {},
   "outputs": [
    {
     "name": "stdout",
     "output_type": "stream",
     "text": [
      "[[  27  646 1859 ...    0    0    0]\n",
      " [2505 1860   36 ...    0    0    0]\n",
      " [  48   15    5 ...    0    0    0]\n",
      " ...\n",
      " [ 477  202   18 ...    0    0    0]\n",
      " [ 275  125    5 ...    0    0    0]\n",
      " [  29    2    8 ...    0    0    0]]\n"
     ]
    }
   ],
   "source": [
    "print(X)"
   ]
  },
  {
   "cell_type": "code",
   "execution_count": 41,
   "metadata": {},
   "outputs": [
    {
     "data": {
      "text/plain": [
       "(17093, 142)"
      ]
     },
     "execution_count": 41,
     "metadata": {},
     "output_type": "execute_result"
    }
   ],
   "source": [
    "X.shape"
   ]
  },
  {
   "cell_type": "code",
   "execution_count": 42,
   "metadata": {},
   "outputs": [],
   "source": [
    "X_train, X_test, y_train, y_test = train_test_split(X, y, test_size=0.2, random_state=0, stratify=y)"
   ]
  },
  {
   "cell_type": "code",
   "execution_count": 43,
   "metadata": {},
   "outputs": [],
   "source": [
    "vec_size = 100\n",
    "\n",
    "model = Sequential()\n",
    "model.add(Embedding(vocab_size, vec_size, input_length=max_length))\n",
    "\n",
    "model.add(Conv1D(32, 2, activation='relu'))\n",
    "model.add(MaxPooling1D(2))\n",
    "model.add(Dropout(0.5))\n",
    "\n",
    "model.add(Dense(32, activation='relu'))\n",
    "model.add(Dropout(0.5))\n",
    "\n",
    "model.add(Dense(16, activation='relu'))\n",
    "\n",
    "model.add(GlobalMaxPooling1D())\n",
    "\n",
    "model.add(Dense(1, activation='sigmoid'))"
   ]
  },
  {
   "cell_type": "code",
   "execution_count": 44,
   "metadata": {},
   "outputs": [
    {
     "name": "stdout",
     "output_type": "stream",
     "text": [
      "Model: \"sequential\"\n",
      "_________________________________________________________________\n",
      "Layer (type)                 Output Shape              Param #   \n",
      "=================================================================\n",
      "embedding (Embedding)        (None, 142, 100)          494600    \n",
      "_________________________________________________________________\n",
      "conv1d (Conv1D)              (None, 141, 32)           6432      \n",
      "_________________________________________________________________\n",
      "max_pooling1d (MaxPooling1D) (None, 70, 32)            0         \n",
      "_________________________________________________________________\n",
      "dropout (Dropout)            (None, 70, 32)            0         \n",
      "_________________________________________________________________\n",
      "dense (Dense)                (None, 70, 32)            1056      \n",
      "_________________________________________________________________\n",
      "dropout_1 (Dropout)          (None, 70, 32)            0         \n",
      "_________________________________________________________________\n",
      "dense_1 (Dense)              (None, 70, 16)            528       \n",
      "_________________________________________________________________\n",
      "global_max_pooling1d (Global (None, 16)                0         \n",
      "_________________________________________________________________\n",
      "dense_2 (Dense)              (None, 1)                 17        \n",
      "=================================================================\n",
      "Total params: 502,633\n",
      "Trainable params: 502,633\n",
      "Non-trainable params: 0\n",
      "_________________________________________________________________\n"
     ]
    }
   ],
   "source": [
    "model.summary()"
   ]
  },
  {
   "cell_type": "code",
   "execution_count": 45,
   "metadata": {},
   "outputs": [
    {
     "name": "stdout",
     "output_type": "stream",
     "text": [
      "Wall time: 49.9 ms\n"
     ]
    }
   ],
   "source": [
    "%%time\n",
    "model.compile(optimizer='adam', loss='binary_crossentropy', metrics=['accuracy'])"
   ]
  },
  {
   "cell_type": "code",
   "execution_count": 46,
   "metadata": {},
   "outputs": [],
   "source": [
    "import numpy as np"
   ]
  },
  {
   "cell_type": "code",
   "execution_count": 47,
   "metadata": {},
   "outputs": [],
   "source": [
    "X_train = np.asarray(X_train)\n",
    "y_train = np.asarray(y_train)\n",
    "X_test= np.asarray(X_test)\n",
    "y_test = np.asarray(y_test)"
   ]
  },
  {
   "cell_type": "code",
   "execution_count": 48,
   "metadata": {},
   "outputs": [],
   "source": [
    "from tensorflow.keras.callbacks import EarlyStopping"
   ]
  },
  {
   "cell_type": "code",
   "execution_count": 49,
   "metadata": {},
   "outputs": [],
   "source": [
    "early_stop = EarlyStopping(monitor='val_loss', mode='min', verbose=1, patience=25)"
   ]
  },
  {
   "cell_type": "code",
   "execution_count": 50,
   "metadata": {
    "scrolled": true
   },
   "outputs": [
    {
     "name": "stdout",
     "output_type": "stream",
     "text": [
      "Train on 13674 samples, validate on 3419 samples\n",
      "Epoch 1/600\n",
      "13674/13674 [==============================] - 7s 529us/sample - loss: 0.2072 - accuracy: 0.9510 - val_loss: 0.3399 - val_accuracy: 0.9538\n",
      "Epoch 2/600\n",
      "13674/13674 [==============================] - 6s 447us/sample - loss: 0.1908 - accuracy: 0.9537 - val_loss: 0.2995 - val_accuracy: 0.9538\n",
      "Epoch 3/600\n",
      "13674/13674 [==============================] - 6s 445us/sample - loss: 0.1905 - accuracy: 0.9537 - val_loss: 0.2951 - val_accuracy: 0.9538\n",
      "Epoch 4/600\n",
      "13674/13674 [==============================] - 6s 448us/sample - loss: 0.1896 - accuracy: 0.9537 - val_loss: 0.3063 - val_accuracy: 0.9538\n",
      "Epoch 5/600\n",
      "13674/13674 [==============================] - 6s 452us/sample - loss: 0.1898 - accuracy: 0.9537 - val_loss: 0.3098 - val_accuracy: 0.9538\n",
      "Epoch 6/600\n",
      "13674/13674 [==============================] - 6s 448us/sample - loss: 0.1906 - accuracy: 0.9537 - val_loss: 0.2892 - val_accuracy: 0.9538\n",
      "Epoch 7/600\n",
      "13674/13674 [==============================] - 6s 455us/sample - loss: 0.1893 - accuracy: 0.9537 - val_loss: 0.2959 - val_accuracy: 0.9538\n",
      "Epoch 8/600\n",
      "13674/13674 [==============================] - 6s 456us/sample - loss: 0.1897 - accuracy: 0.9537 - val_loss: 0.3055 - val_accuracy: 0.9538\n",
      "Epoch 9/600\n",
      "13674/13674 [==============================] - 6s 448us/sample - loss: 0.1898 - accuracy: 0.9537 - val_loss: 0.3077 - val_accuracy: 0.9538\n",
      "Epoch 10/600\n",
      "13674/13674 [==============================] - 6s 458us/sample - loss: 0.1883 - accuracy: 0.9537 - val_loss: 0.2842 - val_accuracy: 0.9538\n",
      "Epoch 11/600\n",
      "13674/13674 [==============================] - 6s 453us/sample - loss: 0.1887 - accuracy: 0.9537 - val_loss: 0.2909 - val_accuracy: 0.9538\n",
      "Epoch 12/600\n",
      "13674/13674 [==============================] - 6s 455us/sample - loss: 0.1869 - accuracy: 0.9537 - val_loss: 0.2656 - val_accuracy: 0.9538\n",
      "Epoch 13/600\n",
      "13674/13674 [==============================] - 6s 457us/sample - loss: 0.1858 - accuracy: 0.9537 - val_loss: 0.2811 - val_accuracy: 0.9538\n",
      "Epoch 14/600\n",
      "13674/13674 [==============================] - 6s 456us/sample - loss: 0.1847 - accuracy: 0.9537 - val_loss: 0.2765 - val_accuracy: 0.9538\n",
      "Epoch 15/600\n",
      "13674/13674 [==============================] - 6s 463us/sample - loss: 0.1815 - accuracy: 0.9537 - val_loss: 0.2680 - val_accuracy: 0.9538\n",
      "Epoch 16/600\n",
      "13674/13674 [==============================] - 6s 461us/sample - loss: 0.1804 - accuracy: 0.9537 - val_loss: 0.2633 - val_accuracy: 0.9538\n",
      "Epoch 17/600\n",
      "13674/13674 [==============================] - 6s 464us/sample - loss: 0.1774 - accuracy: 0.9537 - val_loss: 0.2614 - val_accuracy: 0.9538\n",
      "Epoch 18/600\n",
      "13674/13674 [==============================] - 6s 459us/sample - loss: 0.1736 - accuracy: 0.9537 - val_loss: 0.2662 - val_accuracy: 0.9538\n",
      "Epoch 19/600\n",
      "13674/13674 [==============================] - 6s 468us/sample - loss: 0.1699 - accuracy: 0.9537 - val_loss: 0.2601 - val_accuracy: 0.9538\n",
      "Epoch 20/600\n",
      "13674/13674 [==============================] - 7s 507us/sample - loss: 0.1667 - accuracy: 0.9534 - val_loss: 0.2626 - val_accuracy: 0.9538\n",
      "Epoch 21/600\n",
      "13674/13674 [==============================] - 7s 490us/sample - loss: 0.1616 - accuracy: 0.9537 - val_loss: 0.2664 - val_accuracy: 0.9532\n",
      "Epoch 22/600\n",
      "13674/13674 [==============================] - 7s 500us/sample - loss: 0.1551 - accuracy: 0.9539 - val_loss: 0.2812 - val_accuracy: 0.9532\n",
      "Epoch 23/600\n",
      "13674/13674 [==============================] - 7s 493us/sample - loss: 0.1492 - accuracy: 0.9550 - val_loss: 0.2868 - val_accuracy: 0.9517\n",
      "Epoch 24/600\n",
      "13674/13674 [==============================] - 7s 493us/sample - loss: 0.1440 - accuracy: 0.9578 - val_loss: 0.3060 - val_accuracy: 0.9485\n",
      "Epoch 25/600\n",
      "13674/13674 [==============================] - 6s 451us/sample - loss: 0.1369 - accuracy: 0.9585 - val_loss: 0.3137 - val_accuracy: 0.9485\n",
      "Epoch 26/600\n",
      "13674/13674 [==============================] - 6s 463us/sample - loss: 0.1346 - accuracy: 0.9588 - val_loss: 0.3270 - val_accuracy: 0.9512\n",
      "Epoch 27/600\n",
      "13674/13674 [==============================] - 6s 434us/sample - loss: 0.1298 - accuracy: 0.9611 - val_loss: 0.3650 - val_accuracy: 0.9436\n",
      "Epoch 28/600\n",
      "13674/13674 [==============================] - 6s 447us/sample - loss: 0.1234 - accuracy: 0.9637 - val_loss: 0.3712 - val_accuracy: 0.9465\n",
      "Epoch 29/600\n",
      "13674/13674 [==============================] - 6s 472us/sample - loss: 0.1240 - accuracy: 0.9633 - val_loss: 0.3852 - val_accuracy: 0.9471\n",
      "Epoch 30/600\n",
      "13674/13674 [==============================] - 6s 462us/sample - loss: 0.1209 - accuracy: 0.9627 - val_loss: 0.4130 - val_accuracy: 0.9453\n",
      "Epoch 31/600\n",
      "13674/13674 [==============================] - 6s 469us/sample - loss: 0.1175 - accuracy: 0.9656 - val_loss: 0.4440 - val_accuracy: 0.9476\n",
      "Epoch 32/600\n",
      "13674/13674 [==============================] - 7s 488us/sample - loss: 0.1158 - accuracy: 0.9650 - val_loss: 0.4419 - val_accuracy: 0.9447\n",
      "Epoch 33/600\n",
      "13674/13674 [==============================] - 7s 488us/sample - loss: 0.1146 - accuracy: 0.9653 - val_loss: 0.4698 - val_accuracy: 0.9476\n",
      "Epoch 34/600\n",
      "13674/13674 [==============================] - 6s 471us/sample - loss: 0.1149 - accuracy: 0.9664 - val_loss: 0.4690 - val_accuracy: 0.9471\n",
      "Epoch 35/600\n",
      "13674/13674 [==============================] - 6s 471us/sample - loss: 0.1131 - accuracy: 0.9664 - val_loss: 0.4623 - val_accuracy: 0.9450\n",
      "Epoch 36/600\n",
      "13674/13674 [==============================] - 7s 489us/sample - loss: 0.1109 - accuracy: 0.9668 - val_loss: 0.4513 - val_accuracy: 0.9380\n",
      "Epoch 37/600\n",
      "13674/13674 [==============================] - 7s 515us/sample - loss: 0.1082 - accuracy: 0.9675 - val_loss: 0.4622 - val_accuracy: 0.9479\n",
      "Epoch 38/600\n",
      "13674/13674 [==============================] - 9s 684us/sample - loss: 0.1068 - accuracy: 0.9678 - val_loss: 0.5199 - val_accuracy: 0.9392\n",
      "Epoch 39/600\n",
      "13674/13674 [==============================] - 10s 721us/sample - loss: 0.1079 - accuracy: 0.9674 - val_loss: 0.5076 - val_accuracy: 0.9506\n",
      "Epoch 40/600\n",
      "13674/13674 [==============================] - 6s 446us/sample - loss: 0.1050 - accuracy: 0.9681 - val_loss: 0.5140 - val_accuracy: 0.9503\n",
      "Epoch 41/600\n",
      "13674/13674 [==============================] - 6s 435us/sample - loss: 0.1027 - accuracy: 0.9698 - val_loss: 0.5321 - val_accuracy: 0.9453\n",
      "Epoch 42/600\n",
      "13674/13674 [==============================] - 6s 425us/sample - loss: 0.1035 - accuracy: 0.9691 - val_loss: 0.5431 - val_accuracy: 0.9453\n",
      "Epoch 43/600\n",
      "13674/13674 [==============================] - 6s 426us/sample - loss: 0.1020 - accuracy: 0.9700 - val_loss: 0.5059 - val_accuracy: 0.9418\n",
      "Epoch 44/600\n",
      "13674/13674 [==============================] - 6s 424us/sample - loss: 0.1019 - accuracy: 0.9679 - val_loss: 0.4940 - val_accuracy: 0.9436\n",
      "Epoch 00044: early stopping\n"
     ]
    },
    {
     "data": {
      "text/plain": [
       "<tensorflow.python.keras.callbacks.History at 0x1c2a7daa408>"
      ]
     },
     "execution_count": 50,
     "metadata": {},
     "output_type": "execute_result"
    }
   ],
   "source": [
    "model.fit(X_train, y_train, epochs=600, validation_data=(X_test, y_test), callbacks=[early_stop])"
   ]
  },
  {
   "cell_type": "code",
   "execution_count": 51,
   "metadata": {},
   "outputs": [],
   "source": [
    "losses = pd.DataFrame(model.history.history)"
   ]
  },
  {
   "cell_type": "code",
   "execution_count": 52,
   "metadata": {},
   "outputs": [
    {
     "data": {
      "text/plain": [
       "<matplotlib.axes._subplots.AxesSubplot at 0x1c2a864e8c8>"
      ]
     },
     "execution_count": 52,
     "metadata": {},
     "output_type": "execute_result"
    },
    {
     "data": {
      "image/png": "[encoded data removed]",
      "text/plain": [
       "<Figure size 432x288 with 1 Axes>"
      ]
     },
     "metadata": {
      "needs_background": "light"
     },
     "output_type": "display_data"
    }
   ],
   "source": [
    "losses[['accuracy','val_accuracy']].plot()"
   ]
  },
  {
   "cell_type": "code",
   "execution_count": 53,
   "metadata": {},
   "outputs": [
    {
     "data": {
      "text/plain": [
       "<matplotlib.axes._subplots.AxesSubplot at 0x1c2aa15d8c8>"
      ]
     },
     "execution_count": 53,
     "metadata": {},
     "output_type": "execute_result"
    },
    {
     "data": {
      "image/png": "[encoded data removed]",
      "text/plain": [
       "<Figure size 432x288 with 1 Axes>"
      ]
     },
     "metadata": {
      "needs_background": "light"
     },
     "output_type": "display_data"
    }
   ],
   "source": [
    "losses[['loss','val_loss']].plot()"
   ]
  },
  {
   "cell_type": "code",
   "execution_count": 54,
   "metadata": {},
   "outputs": [
    {
     "name": "stdout",
     "output_type": "stream",
     "text": [
      "['loss', 'accuracy']\n",
      "[0.4940152741046843, 0.94355077]\n"
     ]
    }
   ],
   "source": [
    "print(model.metrics_names)\n",
    "print(model.evaluate(X_test,y_test,verbose=0))"
   ]
  },
  {
   "cell_type": "code",
   "execution_count": 55,
   "metadata": {},
   "outputs": [],
   "source": [
    "y_pred = model.predict_classes(X_test)"
   ]
  },
  {
   "cell_type": "code",
   "execution_count": 56,
   "metadata": {},
   "outputs": [
    {
     "name": "stdout",
     "output_type": "stream",
     "text": [
      "              precision    recall  f1-score   support\n",
      "\n",
      "         0.0       0.95      0.99      0.97      3261\n",
      "         1.0       0.05      0.01      0.02       158\n",
      "\n",
      "    accuracy                           0.94      3419\n",
      "   macro avg       0.50      0.50      0.50      3419\n",
      "weighted avg       0.91      0.94      0.93      3419\n",
      "\n"
     ]
    }
   ],
   "source": [
    "print(classification_report(y_test, y_pred))"
   ]
  },
  {
   "cell_type": "code",
   "execution_count": 57,
   "metadata": {},
   "outputs": [
    {
     "data": {
      "text/plain": [
       "0.9435507458321146"
      ]
     },
     "execution_count": 57,
     "metadata": {},
     "output_type": "execute_result"
    }
   ],
   "source": [
    "accuracy_score(y_test, y_pred)"
   ]
  },
  {
   "cell_type": "code",
   "execution_count": 58,
   "metadata": {},
   "outputs": [],
   "source": [
    "model.save(\"../models/topic_health_vect_nn.h5\")"
   ]
  },
  {
   "cell_type": "code",
   "execution_count": null,
   "metadata": {},
   "outputs": [],
   "source": []
  }
 ],
 "metadata": {
  "kernelspec": {
   "display_name": "Python 3",
   "language": "python",
   "name": "python3"
  },
  "language_info": {
   "codemirror_mode": {
    "name": "ipython",
    "version": 3
   },
   "file_extension": ".py",
   "mimetype": "text/x-python",
   "name": "python",
   "nbconvert_exporter": "python",
   "pygments_lexer": "ipython3",
   "version": "3.7.9"
  }
 },
 "nbformat": 4,
 "nbformat_minor": 4
}
