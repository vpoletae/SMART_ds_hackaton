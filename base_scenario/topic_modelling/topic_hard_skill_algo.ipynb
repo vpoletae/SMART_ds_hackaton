{
 "cells": [
  {
   "cell_type": "code",
   "execution_count": 1,
   "metadata": {},
   "outputs": [],
   "source": [
    "import pandas as pd\n",
    "import os"
   ]
  },
  {
   "cell_type": "code",
   "execution_count": 2,
   "metadata": {},
   "outputs": [],
   "source": [
    "import pickle"
   ]
  },
  {
   "cell_type": "code",
   "execution_count": 3,
   "metadata": {},
   "outputs": [],
   "source": [
    "topics_df = pd.read_csv('../joint_clean_data/topics.csv', index_col=0)"
   ]
  },
  {
   "cell_type": "code",
   "execution_count": 4,
   "metadata": {},
   "outputs": [
    {
     "data": {
      "text/html": [
       "<div>\n",
       "<style scoped>\n",
       "    .dataframe tbody tr th:only-of-type {\n",
       "        vertical-align: middle;\n",
       "    }\n",
       "\n",
       "    .dataframe tbody tr th {\n",
       "        vertical-align: top;\n",
       "    }\n",
       "\n",
       "    .dataframe thead th {\n",
       "        text-align: right;\n",
       "    }\n",
       "</style>\n",
       "<table border=\"1\" class=\"dataframe\">\n",
       "  <thead>\n",
       "    <tr style=\"text-align: right;\">\n",
       "      <th></th>\n",
       "      <th>goal_id</th>\n",
       "      <th>goal_domain_original</th>\n",
       "      <th>goal_name_type_original</th>\n",
       "      <th>goal_domain_LoW</th>\n",
       "      <th>goal_name_type_LoW</th>\n",
       "      <th>goal_domain_no_noise</th>\n",
       "      <th>goal_name_type_no_noise</th>\n",
       "      <th>goal_domain_mean_pos</th>\n",
       "      <th>goal_name_type_mean_pos</th>\n",
       "      <th>remove</th>\n",
       "      <th>...</th>\n",
       "      <th>label_attractor_hard_skill</th>\n",
       "      <th>label_attractor_soft_skill</th>\n",
       "      <th>label_attractor_tool</th>\n",
       "      <th>label_attractor_community</th>\n",
       "      <th>label_attractor_subjectivity</th>\n",
       "      <th>label_attractor_habits</th>\n",
       "      <th>label_attractor_career</th>\n",
       "      <th>label_attractor_fixing</th>\n",
       "      <th>label_attractor_art</th>\n",
       "      <th>label_attractor_health</th>\n",
       "    </tr>\n",
       "  </thead>\n",
       "  <tbody>\n",
       "    <tr>\n",
       "      <th>0</th>\n",
       "      <td>19</td>\n",
       "      <td>творчество и создание нового изобразительное и...</td>\n",
       "      <td>не отстать от поезда современности получить зн...</td>\n",
       "      <td>['творчество', 'и', 'создание', 'нового', 'изо...</td>\n",
       "      <td>['не', 'отстать', 'от', 'поезда', 'современнос...</td>\n",
       "      <td>творчество создание новое изобразительный иску...</td>\n",
       "      <td>отстать поезд современность получить знание но...</td>\n",
       "      <td>творчество создание новое изобразительный иску...</td>\n",
       "      <td>отстать поезд современность получить знание но...</td>\n",
       "      <td>0</td>\n",
       "      <td>...</td>\n",
       "      <td>1</td>\n",
       "      <td>1</td>\n",
       "      <td>0</td>\n",
       "      <td>1</td>\n",
       "      <td>0</td>\n",
       "      <td>1</td>\n",
       "      <td>1</td>\n",
       "      <td>1</td>\n",
       "      <td>0</td>\n",
       "      <td>NaN</td>\n",
       "    </tr>\n",
       "    <tr>\n",
       "      <th>1</th>\n",
       "      <td>20</td>\n",
       "      <td>универсальные компетенции  гибкие навыки soft ...</td>\n",
       "      <td>самореализация получить знания в новой области...</td>\n",
       "      <td>['универсальные', 'компетенции', '', 'гибкие',...</td>\n",
       "      <td>['самореализация', 'получить', 'знания', 'в', ...</td>\n",
       "      <td>универсальный компетенция  гибкий навык soft s...</td>\n",
       "      <td>самореализация получить знание новый область  ...</td>\n",
       "      <td>универсальный компетенция гибкий навык навык о...</td>\n",
       "      <td>самореализация получить знание новый область п...</td>\n",
       "      <td>0</td>\n",
       "      <td>...</td>\n",
       "      <td>1</td>\n",
       "      <td>0</td>\n",
       "      <td>1</td>\n",
       "      <td>0</td>\n",
       "      <td>1</td>\n",
       "      <td>0</td>\n",
       "      <td>1</td>\n",
       "      <td>0</td>\n",
       "      <td>1</td>\n",
       "      <td>NaN</td>\n",
       "    </tr>\n",
       "    <tr>\n",
       "      <th>2</th>\n",
       "      <td>21</td>\n",
       "      <td>иностранные языки  гуманитарные знания и навык...</td>\n",
       "      <td>улучшенный образ жизни включиться в новый прое...</td>\n",
       "      <td>['иностранные', 'языки', '', 'гуманитарные', '...</td>\n",
       "      <td>['улучшенный', 'образ', 'жизни', 'включиться',...</td>\n",
       "      <td>иностранный язык  гуманитарный знание навык ин...</td>\n",
       "      <td>улучшить образ жизнь включиться новый проект д...</td>\n",
       "      <td>иностранный язык гуманитарный знание навык ино...</td>\n",
       "      <td>образ жизнь включиться новый проект деятельность</td>\n",
       "      <td>0</td>\n",
       "      <td>...</td>\n",
       "      <td>1</td>\n",
       "      <td>1</td>\n",
       "      <td>0</td>\n",
       "      <td>0</td>\n",
       "      <td>0</td>\n",
       "      <td>0</td>\n",
       "      <td>0</td>\n",
       "      <td>1</td>\n",
       "      <td>0</td>\n",
       "      <td>NaN</td>\n",
       "    </tr>\n",
       "    <tr>\n",
       "      <th>3</th>\n",
       "      <td>22</td>\n",
       "      <td>прикладные знания и навыки  ручной труд информ...</td>\n",
       "      <td>обновление устаревшей информации развить имеющ...</td>\n",
       "      <td>['прикладные', 'знания', 'и', 'навыки', '', 'р...</td>\n",
       "      <td>['обновление', 'устаревшей', 'информации', 'ра...</td>\n",
       "      <td>прикладной знание навык  ручной труд информаци...</td>\n",
       "      <td>обновление устаревший информация развить иметь...</td>\n",
       "      <td>прикладной знание навык ручной труд информация...</td>\n",
       "      <td>обновление устаревший информация развить знани...</td>\n",
       "      <td>0</td>\n",
       "      <td>...</td>\n",
       "      <td>1</td>\n",
       "      <td>0</td>\n",
       "      <td>0</td>\n",
       "      <td>0</td>\n",
       "      <td>1</td>\n",
       "      <td>1</td>\n",
       "      <td>1</td>\n",
       "      <td>1</td>\n",
       "      <td>1</td>\n",
       "      <td>NaN</td>\n",
       "    </tr>\n",
       "    <tr>\n",
       "      <th>4</th>\n",
       "      <td>23</td>\n",
       "      <td>универсальные компетенции  гибкие навыки soft ...</td>\n",
       "      <td>повышение результативности труда получить знан...</td>\n",
       "      <td>['универсальные', 'компетенции', '', 'гибкие',...</td>\n",
       "      <td>['повышение', 'результативности', 'труда', 'по...</td>\n",
       "      <td>универсальный компетенция  гибкий навык soft s...</td>\n",
       "      <td>повышение результативность труд получить знани...</td>\n",
       "      <td>универсальный компетенция гибкий навык планиро...</td>\n",
       "      <td>повышение результативность труд получить знани...</td>\n",
       "      <td>0</td>\n",
       "      <td>...</td>\n",
       "      <td>1</td>\n",
       "      <td>0</td>\n",
       "      <td>0</td>\n",
       "      <td>0</td>\n",
       "      <td>0</td>\n",
       "      <td>0</td>\n",
       "      <td>0</td>\n",
       "      <td>0</td>\n",
       "      <td>1</td>\n",
       "      <td>NaN</td>\n",
       "    </tr>\n",
       "  </tbody>\n",
       "</table>\n",
       "<p>5 rows × 36 columns</p>\n",
       "</div>"
      ],
      "text/plain": [
       "   goal_id                               goal_domain_original  \\\n",
       "0       19  творчество и создание нового изобразительное и...   \n",
       "1       20  универсальные компетенции  гибкие навыки soft ...   \n",
       "2       21  иностранные языки  гуманитарные знания и навык...   \n",
       "3       22  прикладные знания и навыки  ручной труд информ...   \n",
       "4       23  универсальные компетенции  гибкие навыки soft ...   \n",
       "\n",
       "                             goal_name_type_original  \\\n",
       "0  не отстать от поезда современности получить зн...   \n",
       "1  самореализация получить знания в новой области...   \n",
       "2  улучшенный образ жизни включиться в новый прое...   \n",
       "3  обновление устаревшей информации развить имеющ...   \n",
       "4  повышение результативности труда получить знан...   \n",
       "\n",
       "                                     goal_domain_LoW  \\\n",
       "0  ['творчество', 'и', 'создание', 'нового', 'изо...   \n",
       "1  ['универсальные', 'компетенции', '', 'гибкие',...   \n",
       "2  ['иностранные', 'языки', '', 'гуманитарные', '...   \n",
       "3  ['прикладные', 'знания', 'и', 'навыки', '', 'р...   \n",
       "4  ['универсальные', 'компетенции', '', 'гибкие',...   \n",
       "\n",
       "                                  goal_name_type_LoW  \\\n",
       "0  ['не', 'отстать', 'от', 'поезда', 'современнос...   \n",
       "1  ['самореализация', 'получить', 'знания', 'в', ...   \n",
       "2  ['улучшенный', 'образ', 'жизни', 'включиться',...   \n",
       "3  ['обновление', 'устаревшей', 'информации', 'ра...   \n",
       "4  ['повышение', 'результативности', 'труда', 'по...   \n",
       "\n",
       "                                goal_domain_no_noise  \\\n",
       "0  творчество создание новое изобразительный иску...   \n",
       "1  универсальный компетенция  гибкий навык soft s...   \n",
       "2  иностранный язык  гуманитарный знание навык ин...   \n",
       "3  прикладной знание навык  ручной труд информаци...   \n",
       "4  универсальный компетенция  гибкий навык soft s...   \n",
       "\n",
       "                             goal_name_type_no_noise  \\\n",
       "0  отстать поезд современность получить знание но...   \n",
       "1  самореализация получить знание новый область  ...   \n",
       "2  улучшить образ жизнь включиться новый проект д...   \n",
       "3  обновление устаревший информация развить иметь...   \n",
       "4  повышение результативность труд получить знани...   \n",
       "\n",
       "                                goal_domain_mean_pos  \\\n",
       "0  творчество создание новое изобразительный иску...   \n",
       "1  универсальный компетенция гибкий навык навык о...   \n",
       "2  иностранный язык гуманитарный знание навык ино...   \n",
       "3  прикладной знание навык ручной труд информация...   \n",
       "4  универсальный компетенция гибкий навык планиро...   \n",
       "\n",
       "                             goal_name_type_mean_pos  remove  ...  \\\n",
       "0  отстать поезд современность получить знание но...       0  ...   \n",
       "1  самореализация получить знание новый область п...       0  ...   \n",
       "2   образ жизнь включиться новый проект деятельность       0  ...   \n",
       "3  обновление устаревший информация развить знани...       0  ...   \n",
       "4  повышение результативность труд получить знани...       0  ...   \n",
       "\n",
       "   label_attractor_hard_skill  label_attractor_soft_skill  \\\n",
       "0                           1                           1   \n",
       "1                           1                           0   \n",
       "2                           1                           1   \n",
       "3                           1                           0   \n",
       "4                           1                           0   \n",
       "\n",
       "   label_attractor_tool  label_attractor_community  \\\n",
       "0                     0                          1   \n",
       "1                     1                          0   \n",
       "2                     0                          0   \n",
       "3                     0                          0   \n",
       "4                     0                          0   \n",
       "\n",
       "   label_attractor_subjectivity  label_attractor_habits  \\\n",
       "0                             0                       1   \n",
       "1                             1                       0   \n",
       "2                             0                       0   \n",
       "3                             1                       1   \n",
       "4                             0                       0   \n",
       "\n",
       "   label_attractor_career  label_attractor_fixing  label_attractor_art  \\\n",
       "0                       1                       1                    0   \n",
       "1                       1                       0                    1   \n",
       "2                       0                       1                    0   \n",
       "3                       1                       1                    1   \n",
       "4                       0                       0                    1   \n",
       "\n",
       "   label_attractor_health  \n",
       "0                     NaN  \n",
       "1                     NaN  \n",
       "2                     NaN  \n",
       "3                     NaN  \n",
       "4                     NaN  \n",
       "\n",
       "[5 rows x 36 columns]"
      ]
     },
     "execution_count": 4,
     "metadata": {},
     "output_type": "execute_result"
    }
   ],
   "source": [
    "topics_df.head()"
   ]
  },
  {
   "cell_type": "code",
   "execution_count": 5,
   "metadata": {},
   "outputs": [
    {
     "data": {
      "text/plain": [
       "Index(['goal_id', 'goal_domain_original', 'goal_name_type_original',\n",
       "       'goal_domain_LoW', 'goal_name_type_LoW', 'goal_domain_no_noise',\n",
       "       'goal_name_type_no_noise', 'goal_domain_mean_pos',\n",
       "       'goal_name_type_mean_pos', 'remove', 'are_first_steps_known',\n",
       "       'is_time_certain', 'is_certainly_imagined', 'are_obstackles_expected',\n",
       "       'topic_words', 'goal_words', 'topic_letters', 'goal_letters',\n",
       "       'topic_aver_word_len', 'goal_aver_word_len', 'goal_verbs_counter',\n",
       "       'goal_nouns_counter', 'goal_numr_counter', 'goal_adj_counter',\n",
       "       'goal_digit_counter', 'label_attractor_knowledge',\n",
       "       'label_attractor_hard_skill', 'label_attractor_soft_skill',\n",
       "       'label_attractor_tool', 'label_attractor_community',\n",
       "       'label_attractor_subjectivity', 'label_attractor_habits',\n",
       "       'label_attractor_career', 'label_attractor_fixing',\n",
       "       'label_attractor_art', 'label_attractor_health'],\n",
       "      dtype='object')"
      ]
     },
     "execution_count": 5,
     "metadata": {},
     "output_type": "execute_result"
    }
   ],
   "source": [
    "topics_df.columns"
   ]
  },
  {
   "cell_type": "code",
   "execution_count": 6,
   "metadata": {},
   "outputs": [],
   "source": [
    "topics = topics_df.copy()"
   ]
  },
  {
   "cell_type": "code",
   "execution_count": 7,
   "metadata": {},
   "outputs": [],
   "source": [
    "topics.drop(columns=['goal_id', 'goal_domain_original', 'goal_domain_LoW', 'goal_name_type_LoW',\n",
    "                   'goal_domain_no_noise', 'goal_domain_mean_pos'], inplace=True)"
   ]
  },
  {
   "cell_type": "code",
   "execution_count": 8,
   "metadata": {},
   "outputs": [],
   "source": [
    "topics = topics[topics['remove'] == 0]"
   ]
  },
  {
   "cell_type": "code",
   "execution_count": 9,
   "metadata": {},
   "outputs": [],
   "source": [
    "topics.drop(columns=['remove'], inplace=True)"
   ]
  },
  {
   "cell_type": "code",
   "execution_count": 10,
   "metadata": {},
   "outputs": [
    {
     "data": {
      "text/html": [
       "<div>\n",
       "<style scoped>\n",
       "    .dataframe tbody tr th:only-of-type {\n",
       "        vertical-align: middle;\n",
       "    }\n",
       "\n",
       "    .dataframe tbody tr th {\n",
       "        vertical-align: top;\n",
       "    }\n",
       "\n",
       "    .dataframe thead th {\n",
       "        text-align: right;\n",
       "    }\n",
       "</style>\n",
       "<table border=\"1\" class=\"dataframe\">\n",
       "  <thead>\n",
       "    <tr style=\"text-align: right;\">\n",
       "      <th></th>\n",
       "      <th>goal_name_type_original</th>\n",
       "      <th>goal_name_type_no_noise</th>\n",
       "      <th>goal_name_type_mean_pos</th>\n",
       "      <th>are_first_steps_known</th>\n",
       "      <th>is_time_certain</th>\n",
       "      <th>is_certainly_imagined</th>\n",
       "      <th>are_obstackles_expected</th>\n",
       "      <th>topic_words</th>\n",
       "      <th>goal_words</th>\n",
       "      <th>topic_letters</th>\n",
       "      <th>...</th>\n",
       "      <th>label_attractor_hard_skill</th>\n",
       "      <th>label_attractor_soft_skill</th>\n",
       "      <th>label_attractor_tool</th>\n",
       "      <th>label_attractor_community</th>\n",
       "      <th>label_attractor_subjectivity</th>\n",
       "      <th>label_attractor_habits</th>\n",
       "      <th>label_attractor_career</th>\n",
       "      <th>label_attractor_fixing</th>\n",
       "      <th>label_attractor_art</th>\n",
       "      <th>label_attractor_health</th>\n",
       "    </tr>\n",
       "  </thead>\n",
       "  <tbody>\n",
       "    <tr>\n",
       "      <th>0</th>\n",
       "      <td>не отстать от поезда современности получить зн...</td>\n",
       "      <td>отстать поезд современность получить знание но...</td>\n",
       "      <td>отстать поезд современность получить знание но...</td>\n",
       "      <td>0</td>\n",
       "      <td>0</td>\n",
       "      <td>1</td>\n",
       "      <td>0</td>\n",
       "      <td>19</td>\n",
       "      <td>32</td>\n",
       "      <td>121</td>\n",
       "      <td>...</td>\n",
       "      <td>1</td>\n",
       "      <td>1</td>\n",
       "      <td>0</td>\n",
       "      <td>1</td>\n",
       "      <td>0</td>\n",
       "      <td>1</td>\n",
       "      <td>1</td>\n",
       "      <td>1</td>\n",
       "      <td>0</td>\n",
       "      <td>NaN</td>\n",
       "    </tr>\n",
       "    <tr>\n",
       "      <th>1</th>\n",
       "      <td>самореализация получить знания в новой области...</td>\n",
       "      <td>самореализация получить знание новый область  ...</td>\n",
       "      <td>самореализация получить знание новый область п...</td>\n",
       "      <td>0</td>\n",
       "      <td>0</td>\n",
       "      <td>1</td>\n",
       "      <td>0</td>\n",
       "      <td>79</td>\n",
       "      <td>24</td>\n",
       "      <td>435</td>\n",
       "      <td>...</td>\n",
       "      <td>1</td>\n",
       "      <td>0</td>\n",
       "      <td>1</td>\n",
       "      <td>0</td>\n",
       "      <td>1</td>\n",
       "      <td>0</td>\n",
       "      <td>1</td>\n",
       "      <td>0</td>\n",
       "      <td>1</td>\n",
       "      <td>NaN</td>\n",
       "    </tr>\n",
       "    <tr>\n",
       "      <th>2</th>\n",
       "      <td>улучшенный образ жизни включиться в новый прое...</td>\n",
       "      <td>улучшить образ жизнь включиться новый проект д...</td>\n",
       "      <td>образ жизнь включиться новый проект деятельность</td>\n",
       "      <td>1</td>\n",
       "      <td>0</td>\n",
       "      <td>1</td>\n",
       "      <td>0</td>\n",
       "      <td>25</td>\n",
       "      <td>8</td>\n",
       "      <td>171</td>\n",
       "      <td>...</td>\n",
       "      <td>1</td>\n",
       "      <td>1</td>\n",
       "      <td>0</td>\n",
       "      <td>0</td>\n",
       "      <td>0</td>\n",
       "      <td>0</td>\n",
       "      <td>0</td>\n",
       "      <td>1</td>\n",
       "      <td>0</td>\n",
       "      <td>NaN</td>\n",
       "    </tr>\n",
       "    <tr>\n",
       "      <th>3</th>\n",
       "      <td>обновление устаревшей информации развить имеющ...</td>\n",
       "      <td>обновление устаревший информация развить иметь...</td>\n",
       "      <td>обновление устаревший информация развить знани...</td>\n",
       "      <td>1</td>\n",
       "      <td>0</td>\n",
       "      <td>1</td>\n",
       "      <td>0</td>\n",
       "      <td>19</td>\n",
       "      <td>8</td>\n",
       "      <td>106</td>\n",
       "      <td>...</td>\n",
       "      <td>1</td>\n",
       "      <td>0</td>\n",
       "      <td>0</td>\n",
       "      <td>0</td>\n",
       "      <td>1</td>\n",
       "      <td>1</td>\n",
       "      <td>1</td>\n",
       "      <td>1</td>\n",
       "      <td>1</td>\n",
       "      <td>NaN</td>\n",
       "    </tr>\n",
       "    <tr>\n",
       "      <th>4</th>\n",
       "      <td>повышение результативности труда получить знан...</td>\n",
       "      <td>повышение результативность труд получить знани...</td>\n",
       "      <td>повышение результативность труд получить знани...</td>\n",
       "      <td>1</td>\n",
       "      <td>0</td>\n",
       "      <td>1</td>\n",
       "      <td>0</td>\n",
       "      <td>20</td>\n",
       "      <td>26</td>\n",
       "      <td>134</td>\n",
       "      <td>...</td>\n",
       "      <td>1</td>\n",
       "      <td>0</td>\n",
       "      <td>0</td>\n",
       "      <td>0</td>\n",
       "      <td>0</td>\n",
       "      <td>0</td>\n",
       "      <td>0</td>\n",
       "      <td>0</td>\n",
       "      <td>1</td>\n",
       "      <td>NaN</td>\n",
       "    </tr>\n",
       "  </tbody>\n",
       "</table>\n",
       "<p>5 rows × 29 columns</p>\n",
       "</div>"
      ],
      "text/plain": [
       "                             goal_name_type_original  \\\n",
       "0  не отстать от поезда современности получить зн...   \n",
       "1  самореализация получить знания в новой области...   \n",
       "2  улучшенный образ жизни включиться в новый прое...   \n",
       "3  обновление устаревшей информации развить имеющ...   \n",
       "4  повышение результативности труда получить знан...   \n",
       "\n",
       "                             goal_name_type_no_noise  \\\n",
       "0  отстать поезд современность получить знание но...   \n",
       "1  самореализация получить знание новый область  ...   \n",
       "2  улучшить образ жизнь включиться новый проект д...   \n",
       "3  обновление устаревший информация развить иметь...   \n",
       "4  повышение результативность труд получить знани...   \n",
       "\n",
       "                             goal_name_type_mean_pos  are_first_steps_known  \\\n",
       "0  отстать поезд современность получить знание но...                      0   \n",
       "1  самореализация получить знание новый область п...                      0   \n",
       "2   образ жизнь включиться новый проект деятельность                      1   \n",
       "3  обновление устаревший информация развить знани...                      1   \n",
       "4  повышение результативность труд получить знани...                      1   \n",
       "\n",
       "   is_time_certain  is_certainly_imagined  are_obstackles_expected  \\\n",
       "0                0                      1                        0   \n",
       "1                0                      1                        0   \n",
       "2                0                      1                        0   \n",
       "3                0                      1                        0   \n",
       "4                0                      1                        0   \n",
       "\n",
       "   topic_words  goal_words  topic_letters  ...  label_attractor_hard_skill  \\\n",
       "0           19          32            121  ...                           1   \n",
       "1           79          24            435  ...                           1   \n",
       "2           25           8            171  ...                           1   \n",
       "3           19           8            106  ...                           1   \n",
       "4           20          26            134  ...                           1   \n",
       "\n",
       "   label_attractor_soft_skill  label_attractor_tool  \\\n",
       "0                           1                     0   \n",
       "1                           0                     1   \n",
       "2                           1                     0   \n",
       "3                           0                     0   \n",
       "4                           0                     0   \n",
       "\n",
       "   label_attractor_community  label_attractor_subjectivity  \\\n",
       "0                          1                             0   \n",
       "1                          0                             1   \n",
       "2                          0                             0   \n",
       "3                          0                             1   \n",
       "4                          0                             0   \n",
       "\n",
       "   label_attractor_habits  label_attractor_career  label_attractor_fixing  \\\n",
       "0                       1                       1                       1   \n",
       "1                       0                       1                       0   \n",
       "2                       0                       0                       1   \n",
       "3                       1                       1                       1   \n",
       "4                       0                       0                       0   \n",
       "\n",
       "   label_attractor_art  label_attractor_health  \n",
       "0                    0                     NaN  \n",
       "1                    1                     NaN  \n",
       "2                    0                     NaN  \n",
       "3                    1                     NaN  \n",
       "4                    1                     NaN  \n",
       "\n",
       "[5 rows x 29 columns]"
      ]
     },
     "execution_count": 10,
     "metadata": {},
     "output_type": "execute_result"
    }
   ],
   "source": [
    "topics.head()"
   ]
  },
  {
   "cell_type": "code",
   "execution_count": 11,
   "metadata": {},
   "outputs": [],
   "source": [
    "topics_text_vectors = topics[['goal_name_type_original', 'goal_name_type_no_noise', 'goal_name_type_mean_pos',\n",
    "                           'label_attractor_hard_skill']]\n",
    "topics_features = topics.drop(columns=['goal_name_type_original', 'goal_name_type_no_noise', 'goal_name_type_mean_pos'])"
   ]
  },
  {
   "cell_type": "code",
   "execution_count": 12,
   "metadata": {},
   "outputs": [
    {
     "data": {
      "text/html": [
       "<div>\n",
       "<style scoped>\n",
       "    .dataframe tbody tr th:only-of-type {\n",
       "        vertical-align: middle;\n",
       "    }\n",
       "\n",
       "    .dataframe tbody tr th {\n",
       "        vertical-align: top;\n",
       "    }\n",
       "\n",
       "    .dataframe thead th {\n",
       "        text-align: right;\n",
       "    }\n",
       "</style>\n",
       "<table border=\"1\" class=\"dataframe\">\n",
       "  <thead>\n",
       "    <tr style=\"text-align: right;\">\n",
       "      <th></th>\n",
       "      <th>are_first_steps_known</th>\n",
       "      <th>is_time_certain</th>\n",
       "      <th>is_certainly_imagined</th>\n",
       "      <th>are_obstackles_expected</th>\n",
       "      <th>topic_words</th>\n",
       "      <th>goal_words</th>\n",
       "      <th>topic_letters</th>\n",
       "      <th>goal_letters</th>\n",
       "      <th>topic_aver_word_len</th>\n",
       "      <th>goal_aver_word_len</th>\n",
       "      <th>...</th>\n",
       "      <th>label_attractor_hard_skill</th>\n",
       "      <th>label_attractor_soft_skill</th>\n",
       "      <th>label_attractor_tool</th>\n",
       "      <th>label_attractor_community</th>\n",
       "      <th>label_attractor_subjectivity</th>\n",
       "      <th>label_attractor_habits</th>\n",
       "      <th>label_attractor_career</th>\n",
       "      <th>label_attractor_fixing</th>\n",
       "      <th>label_attractor_art</th>\n",
       "      <th>label_attractor_health</th>\n",
       "    </tr>\n",
       "  </thead>\n",
       "  <tbody>\n",
       "    <tr>\n",
       "      <th>0</th>\n",
       "      <td>0</td>\n",
       "      <td>0</td>\n",
       "      <td>1</td>\n",
       "      <td>0</td>\n",
       "      <td>19</td>\n",
       "      <td>32</td>\n",
       "      <td>121</td>\n",
       "      <td>180</td>\n",
       "      <td>6.37</td>\n",
       "      <td>5.62</td>\n",
       "      <td>...</td>\n",
       "      <td>1</td>\n",
       "      <td>1</td>\n",
       "      <td>0</td>\n",
       "      <td>1</td>\n",
       "      <td>0</td>\n",
       "      <td>1</td>\n",
       "      <td>1</td>\n",
       "      <td>1</td>\n",
       "      <td>0</td>\n",
       "      <td>NaN</td>\n",
       "    </tr>\n",
       "    <tr>\n",
       "      <th>1</th>\n",
       "      <td>0</td>\n",
       "      <td>0</td>\n",
       "      <td>1</td>\n",
       "      <td>0</td>\n",
       "      <td>79</td>\n",
       "      <td>24</td>\n",
       "      <td>435</td>\n",
       "      <td>142</td>\n",
       "      <td>5.51</td>\n",
       "      <td>5.92</td>\n",
       "      <td>...</td>\n",
       "      <td>1</td>\n",
       "      <td>0</td>\n",
       "      <td>1</td>\n",
       "      <td>0</td>\n",
       "      <td>1</td>\n",
       "      <td>0</td>\n",
       "      <td>1</td>\n",
       "      <td>0</td>\n",
       "      <td>1</td>\n",
       "      <td>NaN</td>\n",
       "    </tr>\n",
       "    <tr>\n",
       "      <th>2</th>\n",
       "      <td>1</td>\n",
       "      <td>0</td>\n",
       "      <td>1</td>\n",
       "      <td>0</td>\n",
       "      <td>25</td>\n",
       "      <td>8</td>\n",
       "      <td>171</td>\n",
       "      <td>54</td>\n",
       "      <td>6.84</td>\n",
       "      <td>6.75</td>\n",
       "      <td>...</td>\n",
       "      <td>1</td>\n",
       "      <td>1</td>\n",
       "      <td>0</td>\n",
       "      <td>0</td>\n",
       "      <td>0</td>\n",
       "      <td>0</td>\n",
       "      <td>0</td>\n",
       "      <td>1</td>\n",
       "      <td>0</td>\n",
       "      <td>NaN</td>\n",
       "    </tr>\n",
       "    <tr>\n",
       "      <th>3</th>\n",
       "      <td>1</td>\n",
       "      <td>0</td>\n",
       "      <td>1</td>\n",
       "      <td>0</td>\n",
       "      <td>19</td>\n",
       "      <td>8</td>\n",
       "      <td>106</td>\n",
       "      <td>59</td>\n",
       "      <td>5.58</td>\n",
       "      <td>7.38</td>\n",
       "      <td>...</td>\n",
       "      <td>1</td>\n",
       "      <td>0</td>\n",
       "      <td>0</td>\n",
       "      <td>0</td>\n",
       "      <td>1</td>\n",
       "      <td>1</td>\n",
       "      <td>1</td>\n",
       "      <td>1</td>\n",
       "      <td>1</td>\n",
       "      <td>NaN</td>\n",
       "    </tr>\n",
       "    <tr>\n",
       "      <th>4</th>\n",
       "      <td>1</td>\n",
       "      <td>0</td>\n",
       "      <td>1</td>\n",
       "      <td>0</td>\n",
       "      <td>20</td>\n",
       "      <td>26</td>\n",
       "      <td>134</td>\n",
       "      <td>148</td>\n",
       "      <td>6.70</td>\n",
       "      <td>5.69</td>\n",
       "      <td>...</td>\n",
       "      <td>1</td>\n",
       "      <td>0</td>\n",
       "      <td>0</td>\n",
       "      <td>0</td>\n",
       "      <td>0</td>\n",
       "      <td>0</td>\n",
       "      <td>0</td>\n",
       "      <td>0</td>\n",
       "      <td>1</td>\n",
       "      <td>NaN</td>\n",
       "    </tr>\n",
       "  </tbody>\n",
       "</table>\n",
       "<p>5 rows × 26 columns</p>\n",
       "</div>"
      ],
      "text/plain": [
       "   are_first_steps_known  is_time_certain  is_certainly_imagined  \\\n",
       "0                      0                0                      1   \n",
       "1                      0                0                      1   \n",
       "2                      1                0                      1   \n",
       "3                      1                0                      1   \n",
       "4                      1                0                      1   \n",
       "\n",
       "   are_obstackles_expected  topic_words  goal_words  topic_letters  \\\n",
       "0                        0           19          32            121   \n",
       "1                        0           79          24            435   \n",
       "2                        0           25           8            171   \n",
       "3                        0           19           8            106   \n",
       "4                        0           20          26            134   \n",
       "\n",
       "   goal_letters  topic_aver_word_len  goal_aver_word_len  ...  \\\n",
       "0           180                 6.37                5.62  ...   \n",
       "1           142                 5.51                5.92  ...   \n",
       "2            54                 6.84                6.75  ...   \n",
       "3            59                 5.58                7.38  ...   \n",
       "4           148                 6.70                5.69  ...   \n",
       "\n",
       "   label_attractor_hard_skill  label_attractor_soft_skill  \\\n",
       "0                           1                           1   \n",
       "1                           1                           0   \n",
       "2                           1                           1   \n",
       "3                           1                           0   \n",
       "4                           1                           0   \n",
       "\n",
       "   label_attractor_tool  label_attractor_community  \\\n",
       "0                     0                          1   \n",
       "1                     1                          0   \n",
       "2                     0                          0   \n",
       "3                     0                          0   \n",
       "4                     0                          0   \n",
       "\n",
       "   label_attractor_subjectivity  label_attractor_habits  \\\n",
       "0                             0                       1   \n",
       "1                             1                       0   \n",
       "2                             0                       0   \n",
       "3                             1                       1   \n",
       "4                             0                       0   \n",
       "\n",
       "   label_attractor_career  label_attractor_fixing  label_attractor_art  \\\n",
       "0                       1                       1                    0   \n",
       "1                       1                       0                    1   \n",
       "2                       0                       1                    0   \n",
       "3                       1                       1                    1   \n",
       "4                       0                       0                    1   \n",
       "\n",
       "   label_attractor_health  \n",
       "0                     NaN  \n",
       "1                     NaN  \n",
       "2                     NaN  \n",
       "3                     NaN  \n",
       "4                     NaN  \n",
       "\n",
       "[5 rows x 26 columns]"
      ]
     },
     "execution_count": 12,
     "metadata": {},
     "output_type": "execute_result"
    }
   ],
   "source": [
    "topics_features.head()"
   ]
  },
  {
   "cell_type": "code",
   "execution_count": 13,
   "metadata": {},
   "outputs": [
    {
     "data": {
      "text/html": [
       "<div>\n",
       "<style scoped>\n",
       "    .dataframe tbody tr th:only-of-type {\n",
       "        vertical-align: middle;\n",
       "    }\n",
       "\n",
       "    .dataframe tbody tr th {\n",
       "        vertical-align: top;\n",
       "    }\n",
       "\n",
       "    .dataframe thead th {\n",
       "        text-align: right;\n",
       "    }\n",
       "</style>\n",
       "<table border=\"1\" class=\"dataframe\">\n",
       "  <thead>\n",
       "    <tr style=\"text-align: right;\">\n",
       "      <th></th>\n",
       "      <th>goal_name_type_original</th>\n",
       "      <th>goal_name_type_no_noise</th>\n",
       "      <th>goal_name_type_mean_pos</th>\n",
       "      <th>label_attractor_hard_skill</th>\n",
       "    </tr>\n",
       "  </thead>\n",
       "  <tbody>\n",
       "    <tr>\n",
       "      <th>0</th>\n",
       "      <td>не отстать от поезда современности получить зн...</td>\n",
       "      <td>отстать поезд современность получить знание но...</td>\n",
       "      <td>отстать поезд современность получить знание но...</td>\n",
       "      <td>1</td>\n",
       "    </tr>\n",
       "    <tr>\n",
       "      <th>1</th>\n",
       "      <td>самореализация получить знания в новой области...</td>\n",
       "      <td>самореализация получить знание новый область  ...</td>\n",
       "      <td>самореализация получить знание новый область п...</td>\n",
       "      <td>1</td>\n",
       "    </tr>\n",
       "    <tr>\n",
       "      <th>2</th>\n",
       "      <td>улучшенный образ жизни включиться в новый прое...</td>\n",
       "      <td>улучшить образ жизнь включиться новый проект д...</td>\n",
       "      <td>образ жизнь включиться новый проект деятельность</td>\n",
       "      <td>1</td>\n",
       "    </tr>\n",
       "    <tr>\n",
       "      <th>3</th>\n",
       "      <td>обновление устаревшей информации развить имеющ...</td>\n",
       "      <td>обновление устаревший информация развить иметь...</td>\n",
       "      <td>обновление устаревший информация развить знани...</td>\n",
       "      <td>1</td>\n",
       "    </tr>\n",
       "    <tr>\n",
       "      <th>4</th>\n",
       "      <td>повышение результативности труда получить знан...</td>\n",
       "      <td>повышение результативность труд получить знани...</td>\n",
       "      <td>повышение результативность труд получить знани...</td>\n",
       "      <td>1</td>\n",
       "    </tr>\n",
       "  </tbody>\n",
       "</table>\n",
       "</div>"
      ],
      "text/plain": [
       "                             goal_name_type_original  \\\n",
       "0  не отстать от поезда современности получить зн...   \n",
       "1  самореализация получить знания в новой области...   \n",
       "2  улучшенный образ жизни включиться в новый прое...   \n",
       "3  обновление устаревшей информации развить имеющ...   \n",
       "4  повышение результативности труда получить знан...   \n",
       "\n",
       "                             goal_name_type_no_noise  \\\n",
       "0  отстать поезд современность получить знание но...   \n",
       "1  самореализация получить знание новый область  ...   \n",
       "2  улучшить образ жизнь включиться новый проект д...   \n",
       "3  обновление устаревший информация развить иметь...   \n",
       "4  повышение результативность труд получить знани...   \n",
       "\n",
       "                             goal_name_type_mean_pos  \\\n",
       "0  отстать поезд современность получить знание но...   \n",
       "1  самореализация получить знание новый область п...   \n",
       "2   образ жизнь включиться новый проект деятельность   \n",
       "3  обновление устаревший информация развить знани...   \n",
       "4  повышение результативность труд получить знани...   \n",
       "\n",
       "   label_attractor_hard_skill  \n",
       "0                           1  \n",
       "1                           1  \n",
       "2                           1  \n",
       "3                           1  \n",
       "4                           1  "
      ]
     },
     "execution_count": 13,
     "metadata": {},
     "output_type": "execute_result"
    }
   ],
   "source": [
    "topics_text_vectors.head()"
   ]
  },
  {
   "cell_type": "code",
   "execution_count": 14,
   "metadata": {},
   "outputs": [],
   "source": [
    "from sklearn.model_selection import train_test_split"
   ]
  },
  {
   "cell_type": "markdown",
   "metadata": {},
   "source": [
    "### label_attractor_hard_skill"
   ]
  },
  {
   "cell_type": "markdown",
   "metadata": {},
   "source": [
    "#### Vectors approach"
   ]
  },
  {
   "cell_type": "code",
   "execution_count": 15,
   "metadata": {},
   "outputs": [
    {
     "name": "stderr",
     "output_type": "stream",
     "text": [
      "c:\\users\\vpoletae\\appdata\\local\\continuum\\anaconda3\\envs\\mytfenv\\lib\\site-packages\\ipykernel_launcher.py:1: SettingWithCopyWarning: \n",
      "A value is trying to be set on a copy of a slice from a DataFrame\n",
      "\n",
      "See the caveats in the documentation: http://pandas.pydata.org/pandas-docs/stable/user_guide/indexing.html#returning-a-view-versus-a-copy\n",
      "  \"\"\"Entry point for launching an IPython kernel.\n"
     ]
    }
   ],
   "source": [
    "topics_text_vectors.dropna(inplace=True)"
   ]
  },
  {
   "cell_type": "code",
   "execution_count": 16,
   "metadata": {},
   "outputs": [
    {
     "data": {
      "text/plain": [
       "Index(['goal_name_type_original', 'goal_name_type_no_noise',\n",
       "       'goal_name_type_mean_pos', 'label_attractor_hard_skill'],\n",
       "      dtype='object')"
      ]
     },
     "execution_count": 16,
     "metadata": {},
     "output_type": "execute_result"
    }
   ],
   "source": [
    "topics_text_vectors.columns"
   ]
  },
  {
   "cell_type": "code",
   "execution_count": 17,
   "metadata": {},
   "outputs": [],
   "source": [
    "from sklearn.feature_extraction.text import CountVectorizer, TfidfVectorizer"
   ]
  },
  {
   "cell_type": "code",
   "execution_count": 18,
   "metadata": {},
   "outputs": [],
   "source": [
    "text = topics_text_vectors['goal_name_type_mean_pos']\n",
    "y = topics_text_vectors['label_attractor_hard_skill']"
   ]
  },
  {
   "cell_type": "code",
   "execution_count": 19,
   "metadata": {},
   "outputs": [
    {
     "data": {
      "text/plain": [
       "0        отстать поезд современность получить знание но...\n",
       "1        самореализация получить знание новый область п...\n",
       "2         образ жизнь включиться новый проект деятельность\n",
       "3        обновление устаревший информация развить знани...\n",
       "4        повышение результативность труд получить знани...\n",
       "                               ...                        \n",
       "18013    приобретение новый знание навык успешный обуче...\n",
       "18014    быть нужный работодатель приобрести новое навы...\n",
       "18016    сохранить здоровье изменить привычка получить ...\n",
       "18018    зарабатывать деньга получить знание новый обла...\n",
       "18019    получение навык приобрести новое навык развить...\n",
       "Name: goal_name_type_mean_pos, Length: 17106, dtype: object"
      ]
     },
     "execution_count": 19,
     "metadata": {},
     "output_type": "execute_result"
    }
   ],
   "source": [
    "text"
   ]
  },
  {
   "cell_type": "code",
   "execution_count": 20,
   "metadata": {},
   "outputs": [],
   "source": [
    "tfidf = TfidfVectorizer()\n",
    "X = tfidf.fit_transform(text)"
   ]
  },
  {
   "cell_type": "code",
   "execution_count": 21,
   "metadata": {},
   "outputs": [
    {
     "data": {
      "text/plain": [
       "(17106, 4932)"
      ]
     },
     "execution_count": 21,
     "metadata": {},
     "output_type": "execute_result"
    }
   ],
   "source": [
    "X.shape"
   ]
  },
  {
   "cell_type": "code",
   "execution_count": 22,
   "metadata": {},
   "outputs": [],
   "source": [
    "X_train, X_test, y_train, y_test = train_test_split(X, y, test_size=0.2, random_state=0, stratify=y)"
   ]
  },
  {
   "cell_type": "code",
   "execution_count": 23,
   "metadata": {},
   "outputs": [
    {
     "data": {
      "text/plain": [
       "<13684x4932 sparse matrix of type '<class 'numpy.float64'>'\n",
       "\twith 168370 stored elements in Compressed Sparse Row format>"
      ]
     },
     "execution_count": 23,
     "metadata": {},
     "output_type": "execute_result"
    }
   ],
   "source": [
    "X_train"
   ]
  },
  {
   "cell_type": "code",
   "execution_count": 24,
   "metadata": {},
   "outputs": [],
   "source": [
    "from xgboost import XGBClassifier"
   ]
  },
  {
   "cell_type": "code",
   "execution_count": 26,
   "metadata": {},
   "outputs": [],
   "source": [
    "hard_skill_v_xgb = XGBClassifier()"
   ]
  },
  {
   "cell_type": "code",
   "execution_count": 27,
   "metadata": {},
   "outputs": [
    {
     "data": {
      "text/plain": [
       "XGBClassifier(base_score=0.5, booster='gbtree', colsample_bylevel=1,\n",
       "              colsample_bynode=1, colsample_bytree=1, gamma=0, gpu_id=-1,\n",
       "              importance_type='gain', interaction_constraints='',\n",
       "              learning_rate=0.300000012, max_delta_step=0, max_depth=6,\n",
       "              min_child_weight=1, missing=nan, monotone_constraints='()',\n",
       "              n_estimators=100, n_jobs=0, num_parallel_tree=1,\n",
       "              objective='binary:logistic', random_state=0, reg_alpha=0,\n",
       "              reg_lambda=1, scale_pos_weight=1, subsample=1,\n",
       "              tree_method='exact', validate_parameters=1, verbosity=None)"
      ]
     },
     "execution_count": 27,
     "metadata": {},
     "output_type": "execute_result"
    }
   ],
   "source": [
    "hard_skill_v_xgb.fit(X_train, y_train)"
   ]
  },
  {
   "cell_type": "code",
   "execution_count": 28,
   "metadata": {},
   "outputs": [],
   "source": [
    "y_pred = hard_skill_v_xgb.predict(X_test)"
   ]
  },
  {
   "cell_type": "code",
   "execution_count": 29,
   "metadata": {},
   "outputs": [],
   "source": [
    "from sklearn.metrics import classification_report, accuracy_score"
   ]
  },
  {
   "cell_type": "code",
   "execution_count": 30,
   "metadata": {},
   "outputs": [
    {
     "name": "stdout",
     "output_type": "stream",
     "text": [
      "              precision    recall  f1-score   support\n",
      "\n",
      "           0       0.18      0.01      0.02       634\n",
      "           1       0.81      0.99      0.89      2788\n",
      "\n",
      "    accuracy                           0.81      3422\n",
      "   macro avg       0.50      0.50      0.46      3422\n",
      "weighted avg       0.70      0.81      0.73      3422\n",
      "\n"
     ]
    }
   ],
   "source": [
    "print(classification_report(y_test, y_pred))"
   ]
  },
  {
   "cell_type": "code",
   "execution_count": 31,
   "metadata": {},
   "outputs": [
    {
     "data": {
      "text/plain": [
       "0.8082992402104032"
      ]
     },
     "execution_count": 31,
     "metadata": {},
     "output_type": "execute_result"
    }
   ],
   "source": [
    "accuracy_score(y_test, y_pred)"
   ]
  },
  {
   "cell_type": "code",
   "execution_count": 32,
   "metadata": {},
   "outputs": [],
   "source": [
    "with open('../models/topic_hard_skill_vect_xgb.pkl', 'wb') as f:\n",
    "    pickle.dump(hard_skill_v_xgb, f)"
   ]
  },
  {
   "cell_type": "markdown",
   "metadata": {},
   "source": [
    "#### Neural net approach"
   ]
  },
  {
   "cell_type": "code",
   "execution_count": 33,
   "metadata": {},
   "outputs": [],
   "source": [
    "from tensorflow.keras.preprocessing.text import Tokenizer\n",
    "from tensorflow.keras.preprocessing.sequence import pad_sequences\n",
    "from tensorflow.keras.models import Sequential\n",
    "from tensorflow.keras.layers import Dense,Flatten,Embedding,Dropout\n",
    "from tensorflow.keras.layers import Conv1D, MaxPooling1D, GlobalMaxPooling1D "
   ]
  },
  {
   "cell_type": "code",
   "execution_count": 35,
   "metadata": {},
   "outputs": [],
   "source": [
    "text = topics_text_vectors['goal_name_type_mean_pos']\n",
    "y = topics_text_vectors['label_attractor_hard_skill']"
   ]
  },
  {
   "cell_type": "code",
   "execution_count": 36,
   "metadata": {},
   "outputs": [],
   "source": [
    "token = Tokenizer()\n",
    "token.fit_on_texts(text)"
   ]
  },
  {
   "cell_type": "code",
   "execution_count": 37,
   "metadata": {},
   "outputs": [
    {
     "data": {
      "text/plain": [
       "4948"
      ]
     },
     "execution_count": 37,
     "metadata": {},
     "output_type": "execute_result"
    }
   ],
   "source": [
    "vocab_size = len(token.word_index) + 1\n",
    "vocab_size"
   ]
  },
  {
   "cell_type": "code",
   "execution_count": 38,
   "metadata": {},
   "outputs": [],
   "source": [
    "encoded_text = token.texts_to_sequences(text)"
   ]
  },
  {
   "cell_type": "code",
   "execution_count": 39,
   "metadata": {},
   "outputs": [
    {
     "data": {
      "text/plain": [
       "142"
      ]
     },
     "execution_count": 39,
     "metadata": {},
     "output_type": "execute_result"
    }
   ],
   "source": [
    "max_len = int()\n",
    "for i in encoded_text:\n",
    "    len_ = len(i)\n",
    "    if len_ > max_len:\n",
    "        max_len = len_\n",
    "        \n",
    "max_len"
   ]
  },
  {
   "cell_type": "code",
   "execution_count": 40,
   "metadata": {},
   "outputs": [],
   "source": [
    "max_length = 142\n",
    "X = pad_sequences(encoded_text, maxlen=max_length, padding='post')"
   ]
  },
  {
   "cell_type": "code",
   "execution_count": 41,
   "metadata": {},
   "outputs": [
    {
     "name": "stdout",
     "output_type": "stream",
     "text": [
      "[[ 533 1860  943 ...    0    0    0]\n",
      " [  94    5    1 ...    0    0    0]\n",
      " [ 326   36    6 ...    0    0    0]\n",
      " ...\n",
      " [ 477  202   18 ...    0    0    0]\n",
      " [ 275  125    5 ...    0    0    0]\n",
      " [  29    2    8 ...    0    0    0]]\n"
     ]
    }
   ],
   "source": [
    "print(X)"
   ]
  },
  {
   "cell_type": "code",
   "execution_count": 42,
   "metadata": {},
   "outputs": [
    {
     "data": {
      "text/plain": [
       "(17106, 142)"
      ]
     },
     "execution_count": 42,
     "metadata": {},
     "output_type": "execute_result"
    }
   ],
   "source": [
    "X.shape"
   ]
  },
  {
   "cell_type": "code",
   "execution_count": 43,
   "metadata": {},
   "outputs": [],
   "source": [
    "X_train, X_test, y_train, y_test = train_test_split(X, y, test_size=0.2, random_state=0, stratify=y)"
   ]
  },
  {
   "cell_type": "code",
   "execution_count": 44,
   "metadata": {},
   "outputs": [],
   "source": [
    "vec_size = 100\n",
    "\n",
    "model = Sequential()\n",
    "model.add(Embedding(vocab_size, vec_size, input_length=max_length))\n",
    "\n",
    "model.add(Conv1D(32, 2, activation='relu'))\n",
    "model.add(MaxPooling1D(2))\n",
    "model.add(Dropout(0.5))\n",
    "\n",
    "model.add(Dense(32, activation='relu'))\n",
    "model.add(Dropout(0.5))\n",
    "\n",
    "model.add(Dense(16, activation='relu'))\n",
    "\n",
    "model.add(GlobalMaxPooling1D())\n",
    "\n",
    "model.add(Dense(1, activation='sigmoid'))"
   ]
  },
  {
   "cell_type": "code",
   "execution_count": 45,
   "metadata": {},
   "outputs": [
    {
     "name": "stdout",
     "output_type": "stream",
     "text": [
      "Model: \"sequential\"\n",
      "_________________________________________________________________\n",
      "Layer (type)                 Output Shape              Param #   \n",
      "=================================================================\n",
      "embedding (Embedding)        (None, 142, 100)          494800    \n",
      "_________________________________________________________________\n",
      "conv1d (Conv1D)              (None, 141, 32)           6432      \n",
      "_________________________________________________________________\n",
      "max_pooling1d (MaxPooling1D) (None, 70, 32)            0         \n",
      "_________________________________________________________________\n",
      "dropout (Dropout)            (None, 70, 32)            0         \n",
      "_________________________________________________________________\n",
      "dense (Dense)                (None, 70, 32)            1056      \n",
      "_________________________________________________________________\n",
      "dropout_1 (Dropout)          (None, 70, 32)            0         \n",
      "_________________________________________________________________\n",
      "dense_1 (Dense)              (None, 70, 16)            528       \n",
      "_________________________________________________________________\n",
      "global_max_pooling1d (Global (None, 16)                0         \n",
      "_________________________________________________________________\n",
      "dense_2 (Dense)              (None, 1)                 17        \n",
      "=================================================================\n",
      "Total params: 502,833\n",
      "Trainable params: 502,833\n",
      "Non-trainable params: 0\n",
      "_________________________________________________________________\n"
     ]
    }
   ],
   "source": [
    "model.summary()"
   ]
  },
  {
   "cell_type": "code",
   "execution_count": 46,
   "metadata": {},
   "outputs": [
    {
     "name": "stdout",
     "output_type": "stream",
     "text": [
      "Wall time: 31.9 ms\n"
     ]
    }
   ],
   "source": [
    "%%time\n",
    "model.compile(optimizer='adam', loss='binary_crossentropy', metrics=['accuracy'])"
   ]
  },
  {
   "cell_type": "code",
   "execution_count": 47,
   "metadata": {},
   "outputs": [],
   "source": [
    "import numpy as np"
   ]
  },
  {
   "cell_type": "code",
   "execution_count": 48,
   "metadata": {},
   "outputs": [],
   "source": [
    "X_train = np.asarray(X_train)\n",
    "y_train = np.asarray(y_train)\n",
    "X_test= np.asarray(X_test)\n",
    "y_test = np.asarray(y_test)"
   ]
  },
  {
   "cell_type": "code",
   "execution_count": 49,
   "metadata": {},
   "outputs": [],
   "source": [
    "from tensorflow.keras.callbacks import EarlyStopping"
   ]
  },
  {
   "cell_type": "code",
   "execution_count": 50,
   "metadata": {},
   "outputs": [],
   "source": [
    "early_stop = EarlyStopping(monitor='val_loss', mode='min', verbose=1, patience=25)"
   ]
  },
  {
   "cell_type": "code",
   "execution_count": 51,
   "metadata": {
    "scrolled": true
   },
   "outputs": [
    {
     "name": "stdout",
     "output_type": "stream",
     "text": [
      "Train on 13684 samples, validate on 3422 samples\n",
      "Epoch 1/600\n",
      "13684/13684 [==============================] - 8s 603us/sample - loss: 0.4883 - accuracy: 0.8121 - val_loss: 0.5494 - val_accuracy: 0.8147\n",
      "Epoch 2/600\n",
      "13684/13684 [==============================] - 8s 555us/sample - loss: 0.4813 - accuracy: 0.8146 - val_loss: 0.5599 - val_accuracy: 0.8147\n",
      "Epoch 3/600\n",
      "13684/13684 [==============================] - 8s 567us/sample - loss: 0.4817 - accuracy: 0.8146 - val_loss: 0.5371 - val_accuracy: 0.8147\n",
      "Epoch 4/600\n",
      "13684/13684 [==============================] - 7s 516us/sample - loss: 0.4818 - accuracy: 0.8146 - val_loss: 0.5477 - val_accuracy: 0.8147\n",
      "Epoch 5/600\n",
      "13684/13684 [==============================] - 7s 534us/sample - loss: 0.4811 - accuracy: 0.8146 - val_loss: 0.5424 - val_accuracy: 0.8147\n",
      "Epoch 6/600\n",
      "13684/13684 [==============================] - 7s 523us/sample - loss: 0.4810 - accuracy: 0.8146 - val_loss: 0.5441 - val_accuracy: 0.8147\n",
      "Epoch 7/600\n",
      "13684/13684 [==============================] - 7s 509us/sample - loss: 0.4807 - accuracy: 0.8146 - val_loss: 0.5471 - val_accuracy: 0.8147\n",
      "Epoch 8/600\n",
      "13684/13684 [==============================] - 7s 546us/sample - loss: 0.4806 - accuracy: 0.8146 - val_loss: 0.5271 - val_accuracy: 0.8147\n",
      "Epoch 9/600\n",
      "13684/13684 [==============================] - 7s 478us/sample - loss: 0.4802 - accuracy: 0.8146 - val_loss: 0.5282 - val_accuracy: 0.8147\n",
      "Epoch 10/600\n",
      "13684/13684 [==============================] - 8s 581us/sample - loss: 0.4799 - accuracy: 0.8146 - val_loss: 0.5399 - val_accuracy: 0.8147\n",
      "Epoch 11/600\n",
      "13684/13684 [==============================] - 8s 581us/sample - loss: 0.4796 - accuracy: 0.8146 - val_loss: 0.5254 - val_accuracy: 0.8147\n",
      "Epoch 12/600\n",
      "13684/13684 [==============================] - 7s 540us/sample - loss: 0.4773 - accuracy: 0.8145 - val_loss: 0.5298 - val_accuracy: 0.8147\n",
      "Epoch 13/600\n",
      "13684/13684 [==============================] - 8s 585us/sample - loss: 0.4725 - accuracy: 0.8149 - val_loss: 0.5303 - val_accuracy: 0.8130\n",
      "Epoch 14/600\n",
      "13684/13684 [==============================] - 7s 529us/sample - loss: 0.4647 - accuracy: 0.8150 - val_loss: 0.5173 - val_accuracy: 0.8089\n",
      "Epoch 15/600\n",
      "13684/13684 [==============================] - 7s 526us/sample - loss: 0.4517 - accuracy: 0.8191 - val_loss: 0.5328 - val_accuracy: 0.7940\n",
      "Epoch 16/600\n",
      "13684/13684 [==============================] - 7s 536us/sample - loss: 0.4313 - accuracy: 0.8275 - val_loss: 0.5502 - val_accuracy: 0.7843\n",
      "Epoch 17/600\n",
      "13684/13684 [==============================] - 7s 530us/sample - loss: 0.4172 - accuracy: 0.8365 - val_loss: 0.5589 - val_accuracy: 0.7881\n",
      "Epoch 18/600\n",
      "13684/13684 [==============================] - 7s 529us/sample - loss: 0.3998 - accuracy: 0.8435 - val_loss: 0.5665 - val_accuracy: 0.7884\n",
      "Epoch 19/600\n",
      "13684/13684 [==============================] - 7s 533us/sample - loss: 0.3863 - accuracy: 0.8473 - val_loss: 0.6097 - val_accuracy: 0.7726\n",
      "Epoch 20/600\n",
      "13684/13684 [==============================] - 8s 556us/sample - loss: 0.3713 - accuracy: 0.8525 - val_loss: 0.6632 - val_accuracy: 0.7718\n",
      "Epoch 21/600\n",
      "13684/13684 [==============================] - 8s 557us/sample - loss: 0.3590 - accuracy: 0.8555 - val_loss: 0.6707 - val_accuracy: 0.7764\n",
      "Epoch 22/600\n",
      "13684/13684 [==============================] - 8s 605us/sample - loss: 0.3553 - accuracy: 0.8584 - val_loss: 0.6849 - val_accuracy: 0.7773\n",
      "Epoch 23/600\n",
      "13684/13684 [==============================] - 9s 638us/sample - loss: 0.3408 - accuracy: 0.8616 - val_loss: 0.7480 - val_accuracy: 0.7794\n",
      "Epoch 24/600\n",
      "13684/13684 [==============================] - 8s 588us/sample - loss: 0.3374 - accuracy: 0.8639 - val_loss: 0.7839 - val_accuracy: 0.7721\n",
      "Epoch 25/600\n",
      "13684/13684 [==============================] - 8s 566us/sample - loss: 0.3312 - accuracy: 0.8667 - val_loss: 0.7867 - val_accuracy: 0.7750\n",
      "Epoch 26/600\n",
      "13684/13684 [==============================] - 8s 557us/sample - loss: 0.3251 - accuracy: 0.8682 - val_loss: 0.8368 - val_accuracy: 0.7820\n",
      "Epoch 27/600\n",
      "13684/13684 [==============================] - 8s 574us/sample - loss: 0.3206 - accuracy: 0.8693 - val_loss: 0.9155 - val_accuracy: 0.7759\n",
      "Epoch 28/600\n",
      "13684/13684 [==============================] - 8s 562us/sample - loss: 0.3153 - accuracy: 0.8725 - val_loss: 0.9198 - val_accuracy: 0.7788\n",
      "Epoch 29/600\n",
      "13684/13684 [==============================] - 7s 522us/sample - loss: 0.3102 - accuracy: 0.8745 - val_loss: 0.9344 - val_accuracy: 0.7832\n",
      "Epoch 30/600\n",
      "13684/13684 [==============================] - 7s 528us/sample - loss: 0.3043 - accuracy: 0.8766 - val_loss: 0.9633 - val_accuracy: 0.7829\n",
      "Epoch 31/600\n",
      "13684/13684 [==============================] - 7s 533us/sample - loss: 0.3086 - accuracy: 0.8752 - val_loss: 1.0037 - val_accuracy: 0.7808\n",
      "Epoch 32/600\n",
      "13684/13684 [==============================] - 8s 557us/sample - loss: 0.3005 - accuracy: 0.8780 - val_loss: 1.0804 - val_accuracy: 0.7794\n",
      "Epoch 33/600\n",
      "13684/13684 [==============================] - 7s 529us/sample - loss: 0.2991 - accuracy: 0.8783 - val_loss: 1.1170 - val_accuracy: 0.7838\n",
      "Epoch 34/600\n",
      "13684/13684 [==============================] - 7s 540us/sample - loss: 0.2894 - accuracy: 0.8818 - val_loss: 1.2049 - val_accuracy: 0.7686\n",
      "Epoch 35/600\n",
      "13684/13684 [==============================] - 7s 542us/sample - loss: 0.2883 - accuracy: 0.8822 - val_loss: 1.2374 - val_accuracy: 0.7776\n",
      "Epoch 36/600\n",
      "13684/13684 [==============================] - 7s 534us/sample - loss: 0.2907 - accuracy: 0.8809 - val_loss: 1.0929 - val_accuracy: 0.7762\n",
      "Epoch 37/600\n",
      "13684/13684 [==============================] - 7s 534us/sample - loss: 0.2886 - accuracy: 0.8839 - val_loss: 1.1658 - val_accuracy: 0.7808\n",
      "Epoch 38/600\n",
      "13684/13684 [==============================] - 8s 562us/sample - loss: 0.2858 - accuracy: 0.8840 - val_loss: 1.2300 - val_accuracy: 0.7712\n",
      "Epoch 39/600\n",
      "13684/13684 [==============================] - 8s 586us/sample - loss: 0.2821 - accuracy: 0.8842 - val_loss: 1.2313 - val_accuracy: 0.7744\n",
      "Epoch 00039: early stopping\n"
     ]
    },
    {
     "data": {
      "text/plain": [
       "<tensorflow.python.keras.callbacks.History at 0x16141844448>"
      ]
     },
     "execution_count": 51,
     "metadata": {},
     "output_type": "execute_result"
    }
   ],
   "source": [
    "model.fit(X_train, y_train, epochs=600, validation_data=(X_test, y_test), callbacks=[early_stop])"
   ]
  },
  {
   "cell_type": "code",
   "execution_count": 52,
   "metadata": {},
   "outputs": [],
   "source": [
    "losses = pd.DataFrame(model.history.history)"
   ]
  },
  {
   "cell_type": "code",
   "execution_count": 53,
   "metadata": {},
   "outputs": [
    {
     "data": {
      "text/plain": [
       "<matplotlib.axes._subplots.AxesSubplot at 0x16141eba588>"
      ]
     },
     "execution_count": 53,
     "metadata": {},
     "output_type": "execute_result"
    },
    {
     "data": {
      "image/png": "[encoded data removed]",
      "text/plain": [
       "<Figure size 432x288 with 1 Axes>"
      ]
     },
     "metadata": {
      "needs_background": "light"
     },
     "output_type": "display_data"
    }
   ],
   "source": [
    "losses[['accuracy','val_accuracy']].plot()"
   ]
  },
  {
   "cell_type": "code",
   "execution_count": 54,
   "metadata": {},
   "outputs": [
    {
     "data": {
      "text/plain": [
       "<matplotlib.axes._subplots.AxesSubplot at 0x161439a7908>"
      ]
     },
     "execution_count": 54,
     "metadata": {},
     "output_type": "execute_result"
    },
    {
     "data": {
      "image/png": "[encoded data removed]",
      "text/plain": [
       "<Figure size 432x288 with 1 Axes>"
      ]
     },
     "metadata": {
      "needs_background": "light"
     },
     "output_type": "display_data"
    }
   ],
   "source": [
    "losses[['loss','val_loss']].plot()"
   ]
  },
  {
   "cell_type": "code",
   "execution_count": 55,
   "metadata": {},
   "outputs": [
    {
     "name": "stdout",
     "output_type": "stream",
     "text": [
      "['loss', 'accuracy']\n",
      "[1.2312866619356468, 0.77440095]\n"
     ]
    }
   ],
   "source": [
    "print(model.metrics_names)\n",
    "print(model.evaluate(X_test,y_test,verbose=0))"
   ]
  },
  {
   "cell_type": "code",
   "execution_count": 56,
   "metadata": {},
   "outputs": [],
   "source": [
    "y_pred = model.predict_classes(X_test)"
   ]
  },
  {
   "cell_type": "code",
   "execution_count": 57,
   "metadata": {},
   "outputs": [
    {
     "name": "stdout",
     "output_type": "stream",
     "text": [
      "              precision    recall  f1-score   support\n",
      "\n",
      "           0       0.18      0.06      0.09       634\n",
      "           1       0.81      0.94      0.87      2788\n",
      "\n",
      "    accuracy                           0.77      3422\n",
      "   macro avg       0.50      0.50      0.48      3422\n",
      "weighted avg       0.70      0.77      0.73      3422\n",
      "\n"
     ]
    }
   ],
   "source": [
    "print(classification_report(y_test, y_pred))"
   ]
  },
  {
   "cell_type": "code",
   "execution_count": 58,
   "metadata": {},
   "outputs": [
    {
     "data": {
      "text/plain": [
       "0.7744009351256576"
      ]
     },
     "execution_count": 58,
     "metadata": {},
     "output_type": "execute_result"
    }
   ],
   "source": [
    "accuracy_score(y_test, y_pred)"
   ]
  },
  {
   "cell_type": "code",
   "execution_count": 59,
   "metadata": {},
   "outputs": [],
   "source": [
    "model.save(\"../models/topic_hard_skill_vect_nn.h5\")"
   ]
  },
  {
   "cell_type": "code",
   "execution_count": null,
   "metadata": {},
   "outputs": [],
   "source": []
  }
 ],
 "metadata": {
  "kernelspec": {
   "display_name": "Python 3",
   "language": "python",
   "name": "python3"
  },
  "language_info": {
   "codemirror_mode": {
    "name": "ipython",
    "version": 3
   },
   "file_extension": ".py",
   "mimetype": "text/x-python",
   "name": "python",
   "nbconvert_exporter": "python",
   "pygments_lexer": "ipython3",
   "version": "3.7.9"
  }
 },
 "nbformat": 4,
 "nbformat_minor": 4
}
