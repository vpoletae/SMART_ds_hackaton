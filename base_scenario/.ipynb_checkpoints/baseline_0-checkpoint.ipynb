{
 "cells": [
  {
   "cell_type": "markdown",
   "metadata": {
    "id": "ZnZp7Aeb1BCv"
   },
   "source": [
    "# Подготовка среды"
   ]
  },
  {
   "cell_type": "code",
   "execution_count": 66,
   "metadata": {
    "colab": {
     "base_uri": "https://localhost:8080/"
    },
    "id": "BY6paN_5zPy-",
    "outputId": "270edc41-5a5a-4447-dff8-6996ca2ce984"
   },
   "outputs": [
    {
     "name": "stdout",
     "output_type": "stream",
     "text": [
      "Drive already mounted at /content/drive; to attempt to forcibly remount, call drive.mount(\"/content/drive\", force_remount=True).\n"
     ]
    }
   ],
   "source": [
    "from google.colab import drive\n",
    "drive.mount('/content/drive')"
   ]
  },
  {
   "cell_type": "code",
   "execution_count": 67,
   "metadata": {
    "id": "VAL7UQxozkp5"
   },
   "outputs": [],
   "source": [
    "import os\n",
    "try:\n",
    "  os.chdir(\"./drive/My Drive/DS_чемпионат\")\n",
    "except: pass"
   ]
  },
  {
   "cell_type": "code",
   "execution_count": 68,
   "metadata": {
    "id": "jVyr3hxXzrvH"
   },
   "outputs": [],
   "source": [
    "try:\n",
    "    import catboost\n",
    "except:\n",
    "    !pip install catboost"
   ]
  },
  {
   "cell_type": "markdown",
   "metadata": {
    "id": "5CWdJsr70Gka"
   },
   "source": [
    "# Описание переменных"
   ]
  },
  {
   "cell_type": "markdown",
   "metadata": {
    "id": "wrnsThN10864"
   },
   "source": [
    "## Цели\n",
    "\n",
    "goal_id - идентификатор цели\n",
    "\n",
    "goal_name - формулировка цели\n",
    "\n",
    "goal_result - \"Есть ли у Вас образ результата по этой цели?\"\n",
    "\n",
    "goal_form_id - идентификатор цели 2\n",
    "\n",
    "goal_form_num - номер цели в анкете\n",
    "\n",
    "goal_type - \"К какому типу запроса относится Ваша цель?\"\n",
    "\n",
    "goal_first_step - \"Каким может быть первый шаг для достижения данной цели? С чего бы Вы начали?\"\n",
    "\n",
    "goal_domain - \"К какой тематической области относится Ваша цель? (К какой конкретной сфере относится эта цель?)\"\n",
    "\n",
    "goal_obstacle - \"Какие Вы видите преграды для достижения этой цели? Что может помешать?\"\n",
    "\n",
    "goal_time - \"Сколько времени, как Вам кажется, может занять достижение Вами данной цели?\"\n",
    "\n",
    "goal_sex - пол\n",
    "\n",
    "goal_age - возраст \n",
    "\n",
    "goal_city - город\n",
    "\n",
    "goal_education - образование\n",
    "\n",
    "goal_activity - основное занятие\n",
    "\n",
    "goal_job - сфера профессиональной занятости"
   ]
  },
  {
   "cell_type": "markdown",
   "metadata": {
    "id": "6DiFTljl0sbD"
   },
   "source": [
    "## Метки\n",
    "\n",
    "label_id - идентификатор разметки в базе\n",
    "\n",
    "label_form_id - идентификатор цели 2 / техническая\n",
    "\n",
    "label_user_id - идентификатор размечающего\n",
    "\n",
    "label_goal_id - идентификатор цели\n",
    "\n",
    "label_num - техническая\n",
    "\n",
    "label_specific - специфичность (0 = нет, 1 = да)\n",
    "\n",
    "label_attainable - достижимость (0 = нет, 1 = да)\n",
    "\n",
    "label_time_bound - ограниченность во времени (0 = нет, 1 = да)\n",
    "\n",
    "label_education - относится к самообразованию и саморазвитию (0 = нет, 1 = да)\n",
    "\n",
    "label_unambiguity - немножественность в формулировке (0 = нет, 1 = да)\n",
    "\n",
    "label_attractor_knowledge - Знание (0 = нет, 1 = да)\n",
    "\n",
    "label_attractor_hard_skill - Умение/навык hard (0 = нет, 1 = да)\n",
    "\n",
    "label_attractor_soft_skill - Умение/навык soft (0 = нет, 1 = да)\n",
    "\n",
    "label_attractor_tool - Инструменты (0 = нет, 1 = да)\n",
    "\n",
    "label_attractor_community - Сообщество (0 = нет, 1 = да)\n",
    "\n",
    "label_attractor_subjectivity - Agency, субъектность (0 = нет, 1 = да)\n",
    "\n",
    "label_attractor_habits - Привычки (0 = нет, 1 = да)\n",
    "\n",
    "label_attractor_career - Карьера (0 = нет, 1 = да)\n",
    "\n",
    "label_attractor_fixing - Нормативное закрепление (0 = нет, 1 = да)\n",
    "\n",
    "label_attractor_art - Творчество и созидание (0 = нет, 1 = да)\n",
    "\n",
    "label_attractor_health - Здоровье и спорт (0 = нет, 1 = да)\n",
    "\n",
    "label_abstraction_level - уровень абстракции\n",
    "\n",
    "label_questions - \"Какие уточняющие вопросы Вы бы задали по этой цели?\" (выбор из списка)\n",
    "\n",
    "label_custom_question - \"Какие уточняющие вопросы Вы бы задали по этой цели? / ДРУГОЕ\" (ввод вопроса)\n",
    "\n",
    "label_with_context - наличие информации по человеку (goal_sex, goal_age, goal_city, goal_education, goal_activity, goal_job) при разметке цели коучем"
   ]
  },
  {
   "cell_type": "markdown",
   "metadata": {
    "id": "Ggrc_o5802tN"
   },
   "source": [
    "# Начало работы"
   ]
  },
  {
   "cell_type": "markdown",
   "metadata": {
    "id": "KNyb8lDq2Mtm"
   },
   "source": [
    "# Описание решения\n",
    "\n",
    "Что ожидается\n",
    "Решение представляет собой обучаемый алгоритм, способный:\n",
    "\n",
    "выявлять “шум” в формулировках (случайные слова, слишком короткие слова,\n",
    "тестовые прохождения и т.п.);\n",
    "\n",
    "определять, насколько заявленная человеком цель соответствует имеющимся\n",
    "критериям SMART;\n",
    "\n",
    "определять, относится ли заявленная человеком цель к образованию или карьере;\n",
    "\n",
    "определять, насколько заявленная человеком цель является абстрактной;\n",
    "\n",
    "определять, к какой тематической области относится заявленная человеком цель.\n",
    "Также предоставляются оценки надёжности предлагаемого алгоритма (precision, recall, f-\n",
    "мера…)."
   ]
  },
  {
   "cell_type": "code",
   "execution_count": 69,
   "metadata": {
    "id": "RXrEGial0RO9"
   },
   "outputs": [],
   "source": [
    "#  импорт нужный библиотек\n",
    "import pandas as pd\n",
    "import matplotlib.pyplot as plt\n",
    "import seaborn as sns\n",
    "import numpy as np\n",
    "import warnings\n",
    "warnings.simplefilter(\"ignore\")"
   ]
  },
  {
   "cell_type": "code",
   "execution_count": 70,
   "metadata": {
    "colab": {
     "base_uri": "https://localhost:8080/"
    },
    "id": "n6gA4D2d1Y4s",
    "outputId": "c9108ef8-c0a1-4827-e84b-4faafd10b58d"
   },
   "outputs": [
    {
     "data": {
      "text/plain": [
       "['Размеченные цели_задача по целям.csv',\n",
       " 'Массив целей_задача по целям.csv',\n",
       " 'catboost_info',\n",
       " '0.ipynb',\n",
       " 'some.ipynb']"
      ]
     },
     "execution_count": 70,
     "metadata": {
      "tags": []
     },
     "output_type": "execute_result"
    }
   ],
   "source": [
    "os.listdir() #  все файлы в дериктории"
   ]
  },
  {
   "cell_type": "code",
   "execution_count": 71,
   "metadata": {
    "id": "fftCpcXC1Ui2"
   },
   "outputs": [],
   "source": [
    "#  разделим данные по типу\n",
    "#  удалим \"label_questions\" и \"label_custom_question\", так как в них нет нужды\n",
    "df = pd.read_csv(\"Размеченные цели_задача по целям.csv\", sep=\";\").drop_duplicates()\n",
    "df = df.drop([\"label_questions\", \"label_custom_question\"], axis=1).dropna().reset_index(drop=True) #  они нам не нужны\n",
    "data_categorical = df.select_dtypes(include=['object'])\n",
    "data_numeric = df.select_dtypes(exclude=['object'])"
   ]
  },
  {
   "cell_type": "code",
   "execution_count": 72,
   "metadata": {
    "colab": {
     "base_uri": "https://localhost:8080/",
     "height": 292
    },
    "id": "7V2muNGDTK6O",
    "outputId": "cfa56307-ad6f-42d4-8717-558cf2e779dd"
   },
   "outputs": [
    {
     "data": {
      "text/html": [
       "<div>\n",
       "<style scoped>\n",
       "    .dataframe tbody tr th:only-of-type {\n",
       "        vertical-align: middle;\n",
       "    }\n",
       "\n",
       "    .dataframe tbody tr th {\n",
       "        vertical-align: top;\n",
       "    }\n",
       "\n",
       "    .dataframe thead th {\n",
       "        text-align: right;\n",
       "    }\n",
       "</style>\n",
       "<table border=\"1\" class=\"dataframe\">\n",
       "  <thead>\n",
       "    <tr style=\"text-align: right;\">\n",
       "      <th></th>\n",
       "      <th>label_id</th>\n",
       "      <th>label_form_id</th>\n",
       "      <th>label_user_id</th>\n",
       "      <th>label_goal_id</th>\n",
       "      <th>label_num</th>\n",
       "      <th>label_specific</th>\n",
       "      <th>label_attainable</th>\n",
       "      <th>label_time_bound</th>\n",
       "      <th>label_education</th>\n",
       "      <th>label_unambiguity</th>\n",
       "      <th>label_attractor_knowledge</th>\n",
       "      <th>label_attractor_hard_skill</th>\n",
       "      <th>label_attractor_soft_skill</th>\n",
       "      <th>label_attractor_tool</th>\n",
       "      <th>label_attractor_community</th>\n",
       "      <th>label_attractor_subjectivity</th>\n",
       "      <th>label_attractor_habits</th>\n",
       "      <th>label_attractor_career</th>\n",
       "      <th>label_attractor_fixing</th>\n",
       "      <th>label_attractor_art</th>\n",
       "      <th>label_attractor_health</th>\n",
       "      <th>label_abstraction_level</th>\n",
       "      <th>label_with_context</th>\n",
       "    </tr>\n",
       "  </thead>\n",
       "  <tbody>\n",
       "    <tr>\n",
       "      <th>18002</th>\n",
       "      <td>18034</td>\n",
       "      <td>1777</td>\n",
       "      <td>12</td>\n",
       "      <td>1777</td>\n",
       "      <td>1</td>\n",
       "      <td>1</td>\n",
       "      <td>1</td>\n",
       "      <td>0</td>\n",
       "      <td>1</td>\n",
       "      <td>1</td>\n",
       "      <td>Да</td>\n",
       "      <td>Нет</td>\n",
       "      <td>Нет</td>\n",
       "      <td>Нет</td>\n",
       "      <td>Нет</td>\n",
       "      <td>Нет</td>\n",
       "      <td>Нет</td>\n",
       "      <td>Нет</td>\n",
       "      <td>Да</td>\n",
       "      <td>Нет</td>\n",
       "      <td>Нет</td>\n",
       "      <td>Конкретная</td>\n",
       "      <td>0</td>\n",
       "    </tr>\n",
       "    <tr>\n",
       "      <th>18003</th>\n",
       "      <td>18035</td>\n",
       "      <td>1778</td>\n",
       "      <td>12</td>\n",
       "      <td>1778</td>\n",
       "      <td>1</td>\n",
       "      <td>1</td>\n",
       "      <td>1</td>\n",
       "      <td>0</td>\n",
       "      <td>1</td>\n",
       "      <td>1</td>\n",
       "      <td>Да</td>\n",
       "      <td>Нет</td>\n",
       "      <td>Нет</td>\n",
       "      <td>Нет</td>\n",
       "      <td>Нет</td>\n",
       "      <td>Нет</td>\n",
       "      <td>Нет</td>\n",
       "      <td>Да</td>\n",
       "      <td>Да</td>\n",
       "      <td>Нет</td>\n",
       "      <td>Нет</td>\n",
       "      <td>В предметной области</td>\n",
       "      <td>0</td>\n",
       "    </tr>\n",
       "    <tr>\n",
       "      <th>18004</th>\n",
       "      <td>18036</td>\n",
       "      <td>4701</td>\n",
       "      <td>7</td>\n",
       "      <td>4701</td>\n",
       "      <td>1</td>\n",
       "      <td>1</td>\n",
       "      <td>1</td>\n",
       "      <td>1</td>\n",
       "      <td>1</td>\n",
       "      <td>1</td>\n",
       "      <td>Не следует из формулировки, но можно предположить</td>\n",
       "      <td>Да</td>\n",
       "      <td>Да</td>\n",
       "      <td>Нет</td>\n",
       "      <td>Нет</td>\n",
       "      <td>Нет</td>\n",
       "      <td>Нет</td>\n",
       "      <td>Нет</td>\n",
       "      <td>Не следует из формулировки, но можно предположить</td>\n",
       "      <td>Нет</td>\n",
       "      <td>Нет</td>\n",
       "      <td>Конкретная</td>\n",
       "      <td>1</td>\n",
       "    </tr>\n",
       "    <tr>\n",
       "      <th>18005</th>\n",
       "      <td>18037</td>\n",
       "      <td>4728</td>\n",
       "      <td>7</td>\n",
       "      <td>4728</td>\n",
       "      <td>1</td>\n",
       "      <td>0</td>\n",
       "      <td>0</td>\n",
       "      <td>0</td>\n",
       "      <td>1</td>\n",
       "      <td>1</td>\n",
       "      <td>Нет</td>\n",
       "      <td>Не следует из формулировки, но можно предположить</td>\n",
       "      <td>Нет</td>\n",
       "      <td>Нет</td>\n",
       "      <td>Нет</td>\n",
       "      <td>Нет</td>\n",
       "      <td>Нет</td>\n",
       "      <td>Да</td>\n",
       "      <td>Нет</td>\n",
       "      <td>Нет</td>\n",
       "      <td>Нет</td>\n",
       "      <td>Абстрактная</td>\n",
       "      <td>1</td>\n",
       "    </tr>\n",
       "    <tr>\n",
       "      <th>18006</th>\n",
       "      <td>18038</td>\n",
       "      <td>5260</td>\n",
       "      <td>7</td>\n",
       "      <td>5260</td>\n",
       "      <td>1</td>\n",
       "      <td>0</td>\n",
       "      <td>0</td>\n",
       "      <td>0</td>\n",
       "      <td>1</td>\n",
       "      <td>1</td>\n",
       "      <td>Нет</td>\n",
       "      <td>Нет</td>\n",
       "      <td>Не следует из формулировки, но можно предположить</td>\n",
       "      <td>Нет</td>\n",
       "      <td>Нет</td>\n",
       "      <td>Не следует из формулировки, но можно предположить</td>\n",
       "      <td>Не следует из формулировки, но можно предположить</td>\n",
       "      <td>Нет</td>\n",
       "      <td>Нет</td>\n",
       "      <td>Нет</td>\n",
       "      <td>Нет</td>\n",
       "      <td>Абстрактная</td>\n",
       "      <td>1</td>\n",
       "    </tr>\n",
       "  </tbody>\n",
       "</table>\n",
       "</div>"
      ],
      "text/plain": [
       "       label_id  label_form_id  ...  label_abstraction_level  label_with_context\n",
       "18002     18034           1777  ...               Конкретная                   0\n",
       "18003     18035           1778  ...     В предметной области                   0\n",
       "18004     18036           4701  ...               Конкретная                   1\n",
       "18005     18037           4728  ...              Абстрактная                   1\n",
       "18006     18038           5260  ...              Абстрактная                   1\n",
       "\n",
       "[5 rows x 23 columns]"
      ]
     },
     "execution_count": 72,
     "metadata": {
      "tags": []
     },
     "output_type": "execute_result"
    }
   ],
   "source": [
    "df.tail()"
   ]
  },
  {
   "cell_type": "code",
   "execution_count": 73,
   "metadata": {
    "id": "hTIFuXqTCiD7"
   },
   "outputs": [],
   "source": [
    "#  приведем строки к общему виду\n",
    "for column in data_categorical.columns:\n",
    "    data_categorical[column] = data_categorical[column].apply(lambda x: x.lower().strip() \\\n",
    "                                                              .replace(\"\\n\", \" \").replace(\"\\t\", \" \") \\\n",
    "                                                              if type(x) != float else x)"
   ]
  },
  {
   "cell_type": "code",
   "execution_count": 74,
   "metadata": {
    "colab": {
     "base_uri": "https://localhost:8080/"
    },
    "id": "DCNu8ogpFHB3",
    "outputId": "1c9e5b2a-3cfa-4b87-e172-f89e4209009e"
   },
   "outputs": [
    {
     "name": "stdout",
     "output_type": "stream",
     "text": [
      "Всего записей без дубликатов: 18007\n",
      "Всего числовых колонок: 11\n",
      "Всего номинативных колонок: 12\n",
      "Всего строк без пропусков: 18007\n"
     ]
    }
   ],
   "source": [
    "print(f\"\"\"Всего записей без дубликатов: {len(df)}\n",
    "Всего числовых колонок: {len(data_numeric.columns)}\n",
    "Всего номинативных колонок: {len(data_categorical.columns)}\n",
    "Всего строк без пропусков: {len(df.dropna())}\"\"\")"
   ]
  },
  {
   "cell_type": "code",
   "execution_count": 75,
   "metadata": {
    "colab": {
     "base_uri": "https://localhost:8080/"
    },
    "id": "M7JdVVGWMR0W",
    "outputId": "cde1d589-1f89-4db8-920d-a6b60b1f4353"
   },
   "outputs": [
    {
     "data": {
      "text/plain": [
       "label_attractor_knowledge       0\n",
       "label_attractor_hard_skill      0\n",
       "label_attractor_soft_skill      0\n",
       "label_attractor_tool            0\n",
       "label_attractor_community       0\n",
       "label_attractor_subjectivity    0\n",
       "label_attractor_habits          0\n",
       "label_attractor_career          0\n",
       "label_attractor_fixing          0\n",
       "label_attractor_art             0\n",
       "label_attractor_health          0\n",
       "label_abstraction_level         0\n",
       "dtype: int64"
      ]
     },
     "execution_count": 75,
     "metadata": {
      "tags": []
     },
     "output_type": "execute_result"
    }
   ],
   "source": [
    "#  кол-во пропусков для кажой колонки\n",
    "data_categorical.isna().sum()"
   ]
  },
  {
   "cell_type": "code",
   "execution_count": 76,
   "metadata": {
    "colab": {
     "base_uri": "https://localhost:8080/"
    },
    "id": "DfFyujcsMT_B",
    "outputId": "847c5762-b323-4755-f328-ae1d2f249fec"
   },
   "outputs": [
    {
     "data": {
      "text/plain": [
       "label_attractor_knowledge       3\n",
       "label_attractor_hard_skill      3\n",
       "label_attractor_soft_skill      3\n",
       "label_attractor_tool            3\n",
       "label_attractor_community       3\n",
       "label_attractor_subjectivity    3\n",
       "label_attractor_habits          3\n",
       "label_attractor_career          3\n",
       "label_attractor_fixing          3\n",
       "label_attractor_art             3\n",
       "label_attractor_health          3\n",
       "label_abstraction_level         3\n",
       "dtype: int64"
      ]
     },
     "execution_count": 76,
     "metadata": {
      "tags": []
     },
     "output_type": "execute_result"
    }
   ],
   "source": [
    "#  кол-во уникальных значений для каждой колонки\n",
    "data_categorical.nunique()"
   ]
  },
  {
   "cell_type": "code",
   "execution_count": 77,
   "metadata": {
    "colab": {
     "base_uri": "https://localhost:8080/",
     "height": 292
    },
    "id": "471lLljhnsoI",
    "outputId": "5b76673a-384f-4f35-a54d-19208cd0421a"
   },
   "outputs": [
    {
     "data": {
      "text/html": [
       "<div>\n",
       "<style scoped>\n",
       "    .dataframe tbody tr th:only-of-type {\n",
       "        vertical-align: middle;\n",
       "    }\n",
       "\n",
       "    .dataframe tbody tr th {\n",
       "        vertical-align: top;\n",
       "    }\n",
       "\n",
       "    .dataframe thead th {\n",
       "        text-align: right;\n",
       "    }\n",
       "</style>\n",
       "<table border=\"1\" class=\"dataframe\">\n",
       "  <thead>\n",
       "    <tr style=\"text-align: right;\">\n",
       "      <th></th>\n",
       "      <th>label_attractor_knowledge</th>\n",
       "      <th>label_attractor_hard_skill</th>\n",
       "      <th>label_attractor_soft_skill</th>\n",
       "      <th>label_attractor_tool</th>\n",
       "      <th>label_attractor_community</th>\n",
       "      <th>label_attractor_subjectivity</th>\n",
       "      <th>label_attractor_habits</th>\n",
       "      <th>label_attractor_career</th>\n",
       "      <th>label_attractor_fixing</th>\n",
       "      <th>label_attractor_art</th>\n",
       "      <th>label_attractor_health</th>\n",
       "      <th>label_abstraction_level</th>\n",
       "    </tr>\n",
       "  </thead>\n",
       "  <tbody>\n",
       "    <tr>\n",
       "      <th>18002</th>\n",
       "      <td>да</td>\n",
       "      <td>нет</td>\n",
       "      <td>нет</td>\n",
       "      <td>нет</td>\n",
       "      <td>нет</td>\n",
       "      <td>нет</td>\n",
       "      <td>нет</td>\n",
       "      <td>нет</td>\n",
       "      <td>да</td>\n",
       "      <td>нет</td>\n",
       "      <td>нет</td>\n",
       "      <td>конкретная</td>\n",
       "    </tr>\n",
       "    <tr>\n",
       "      <th>18003</th>\n",
       "      <td>да</td>\n",
       "      <td>нет</td>\n",
       "      <td>нет</td>\n",
       "      <td>нет</td>\n",
       "      <td>нет</td>\n",
       "      <td>нет</td>\n",
       "      <td>нет</td>\n",
       "      <td>да</td>\n",
       "      <td>да</td>\n",
       "      <td>нет</td>\n",
       "      <td>нет</td>\n",
       "      <td>в предметной области</td>\n",
       "    </tr>\n",
       "    <tr>\n",
       "      <th>18004</th>\n",
       "      <td>не следует из формулировки, но можно предположить</td>\n",
       "      <td>да</td>\n",
       "      <td>да</td>\n",
       "      <td>нет</td>\n",
       "      <td>нет</td>\n",
       "      <td>нет</td>\n",
       "      <td>нет</td>\n",
       "      <td>нет</td>\n",
       "      <td>не следует из формулировки, но можно предположить</td>\n",
       "      <td>нет</td>\n",
       "      <td>нет</td>\n",
       "      <td>конкретная</td>\n",
       "    </tr>\n",
       "    <tr>\n",
       "      <th>18005</th>\n",
       "      <td>нет</td>\n",
       "      <td>не следует из формулировки, но можно предположить</td>\n",
       "      <td>нет</td>\n",
       "      <td>нет</td>\n",
       "      <td>нет</td>\n",
       "      <td>нет</td>\n",
       "      <td>нет</td>\n",
       "      <td>да</td>\n",
       "      <td>нет</td>\n",
       "      <td>нет</td>\n",
       "      <td>нет</td>\n",
       "      <td>абстрактная</td>\n",
       "    </tr>\n",
       "    <tr>\n",
       "      <th>18006</th>\n",
       "      <td>нет</td>\n",
       "      <td>нет</td>\n",
       "      <td>не следует из формулировки, но можно предположить</td>\n",
       "      <td>нет</td>\n",
       "      <td>нет</td>\n",
       "      <td>не следует из формулировки, но можно предположить</td>\n",
       "      <td>не следует из формулировки, но можно предположить</td>\n",
       "      <td>нет</td>\n",
       "      <td>нет</td>\n",
       "      <td>нет</td>\n",
       "      <td>нет</td>\n",
       "      <td>абстрактная</td>\n",
       "    </tr>\n",
       "  </tbody>\n",
       "</table>\n",
       "</div>"
      ],
      "text/plain": [
       "                               label_attractor_knowledge  ... label_abstraction_level\n",
       "18002                                                 да  ...              конкретная\n",
       "18003                                                 да  ...    в предметной области\n",
       "18004  не следует из формулировки, но можно предположить  ...              конкретная\n",
       "18005                                                нет  ...             абстрактная\n",
       "18006                                                нет  ...             абстрактная\n",
       "\n",
       "[5 rows x 12 columns]"
      ]
     },
     "execution_count": 77,
     "metadata": {
      "tags": []
     },
     "output_type": "execute_result"
    }
   ],
   "source": [
    "data_categorical.tail()"
   ]
  },
  {
   "cell_type": "code",
   "execution_count": 78,
   "metadata": {
    "colab": {
     "base_uri": "https://localhost:8080/"
    },
    "id": "kXKx8oqsCS4M",
    "outputId": "c7fea0cb-b78a-48c9-a873-f1e58c43af0a"
   },
   "outputs": [
    {
     "name": "stdout",
     "output_type": "stream",
     "text": [
      "['да', 'не следует из формулировки, но можно предположить', 'нет']\n",
      "['абстрактная', 'в предметной области', 'конкретная']\n"
     ]
    }
   ],
   "source": [
    "#  подготовим значения для кодирования\n",
    "#  для удобства заменим пропуски\n",
    "label_attractor_health_unique = sorted(data_categorical[\"label_attractor_health\"].unique())\n",
    "label_abstraction_level_unique = sorted(data_categorical[\"label_abstraction_level\"].unique())\n",
    "print(label_attractor_health_unique)\n",
    "print(label_abstraction_level_unique)"
   ]
  },
  {
   "cell_type": "code",
   "execution_count": 79,
   "metadata": {
    "id": "zvCBgd0QEYHN"
   },
   "outputs": [],
   "source": [
    "#  закодируем все колонки(почти)\n",
    "from sklearn.preprocessing import LabelEncoder\n",
    "le = LabelEncoder().fit(label_attractor_health_unique)\n",
    "\n",
    "#  в них есть пропуски, поэтому резберем отдельно\n",
    "labels_to_drop = [\"label_abstraction_level\"]\n",
    "\n",
    "#  уберем нестандартные колонки\n",
    "#  приступим к кодированию\n",
    "for column in data_categorical.drop(labels_to_drop, axis=1).columns:\n",
    "    data_categorical[column] = le.transform(data_categorical[column])\n",
    "\n",
    "#  закодируем оставшиеся\n",
    "le = LabelEncoder().fit(label_abstraction_level_unique)\n",
    "data_categorical[\"label_abstraction_level\"] = le.transform(data_categorical[\"label_abstraction_level\"])"
   ]
  },
  {
   "cell_type": "code",
   "execution_count": 80,
   "metadata": {
    "colab": {
     "base_uri": "https://localhost:8080/",
     "height": 211
    },
    "id": "kvRodV3zrNSV",
    "outputId": "ae522a51-b1ab-460f-92df-dfdcd09de84f"
   },
   "outputs": [
    {
     "data": {
      "text/html": [
       "<div>\n",
       "<style scoped>\n",
       "    .dataframe tbody tr th:only-of-type {\n",
       "        vertical-align: middle;\n",
       "    }\n",
       "\n",
       "    .dataframe tbody tr th {\n",
       "        vertical-align: top;\n",
       "    }\n",
       "\n",
       "    .dataframe thead th {\n",
       "        text-align: right;\n",
       "    }\n",
       "</style>\n",
       "<table border=\"1\" class=\"dataframe\">\n",
       "  <thead>\n",
       "    <tr style=\"text-align: right;\">\n",
       "      <th></th>\n",
       "      <th>label_id</th>\n",
       "      <th>label_form_id</th>\n",
       "      <th>label_user_id</th>\n",
       "      <th>label_goal_id</th>\n",
       "      <th>label_num</th>\n",
       "      <th>label_specific</th>\n",
       "      <th>label_attainable</th>\n",
       "      <th>label_time_bound</th>\n",
       "      <th>label_education</th>\n",
       "      <th>label_unambiguity</th>\n",
       "      <th>label_with_context</th>\n",
       "      <th>label_attractor_knowledge</th>\n",
       "      <th>label_attractor_hard_skill</th>\n",
       "      <th>label_attractor_soft_skill</th>\n",
       "      <th>label_attractor_tool</th>\n",
       "      <th>label_attractor_community</th>\n",
       "      <th>label_attractor_subjectivity</th>\n",
       "      <th>label_attractor_habits</th>\n",
       "      <th>label_attractor_career</th>\n",
       "      <th>label_attractor_fixing</th>\n",
       "      <th>label_attractor_art</th>\n",
       "      <th>label_attractor_health</th>\n",
       "      <th>label_abstraction_level</th>\n",
       "    </tr>\n",
       "  </thead>\n",
       "  <tbody>\n",
       "    <tr>\n",
       "      <th>0</th>\n",
       "      <td>46</td>\n",
       "      <td>3005</td>\n",
       "      <td>3</td>\n",
       "      <td>3005</td>\n",
       "      <td>1</td>\n",
       "      <td>1</td>\n",
       "      <td>1</td>\n",
       "      <td>0</td>\n",
       "      <td>0</td>\n",
       "      <td>1</td>\n",
       "      <td>0</td>\n",
       "      <td>2</td>\n",
       "      <td>2</td>\n",
       "      <td>2</td>\n",
       "      <td>2</td>\n",
       "      <td>2</td>\n",
       "      <td>0</td>\n",
       "      <td>2</td>\n",
       "      <td>2</td>\n",
       "      <td>1</td>\n",
       "      <td>2</td>\n",
       "      <td>2</td>\n",
       "      <td>2</td>\n",
       "    </tr>\n",
       "    <tr>\n",
       "      <th>1</th>\n",
       "      <td>47</td>\n",
       "      <td>3006</td>\n",
       "      <td>3</td>\n",
       "      <td>3006</td>\n",
       "      <td>1</td>\n",
       "      <td>1</td>\n",
       "      <td>1</td>\n",
       "      <td>0</td>\n",
       "      <td>1</td>\n",
       "      <td>1</td>\n",
       "      <td>0</td>\n",
       "      <td>0</td>\n",
       "      <td>0</td>\n",
       "      <td>1</td>\n",
       "      <td>1</td>\n",
       "      <td>1</td>\n",
       "      <td>2</td>\n",
       "      <td>2</td>\n",
       "      <td>0</td>\n",
       "      <td>0</td>\n",
       "      <td>2</td>\n",
       "      <td>2</td>\n",
       "      <td>2</td>\n",
       "    </tr>\n",
       "    <tr>\n",
       "      <th>2</th>\n",
       "      <td>65</td>\n",
       "      <td>3013</td>\n",
       "      <td>2</td>\n",
       "      <td>3013</td>\n",
       "      <td>1</td>\n",
       "      <td>0</td>\n",
       "      <td>0</td>\n",
       "      <td>0</td>\n",
       "      <td>1</td>\n",
       "      <td>1</td>\n",
       "      <td>1</td>\n",
       "      <td>0</td>\n",
       "      <td>0</td>\n",
       "      <td>2</td>\n",
       "      <td>2</td>\n",
       "      <td>2</td>\n",
       "      <td>2</td>\n",
       "      <td>2</td>\n",
       "      <td>2</td>\n",
       "      <td>2</td>\n",
       "      <td>2</td>\n",
       "      <td>2</td>\n",
       "      <td>0</td>\n",
       "    </tr>\n",
       "    <tr>\n",
       "      <th>3</th>\n",
       "      <td>2114</td>\n",
       "      <td>46</td>\n",
       "      <td>11</td>\n",
       "      <td>46</td>\n",
       "      <td>1</td>\n",
       "      <td>1</td>\n",
       "      <td>1</td>\n",
       "      <td>1</td>\n",
       "      <td>1</td>\n",
       "      <td>1</td>\n",
       "      <td>1</td>\n",
       "      <td>0</td>\n",
       "      <td>0</td>\n",
       "      <td>0</td>\n",
       "      <td>2</td>\n",
       "      <td>2</td>\n",
       "      <td>2</td>\n",
       "      <td>2</td>\n",
       "      <td>2</td>\n",
       "      <td>2</td>\n",
       "      <td>0</td>\n",
       "      <td>2</td>\n",
       "      <td>2</td>\n",
       "    </tr>\n",
       "    <tr>\n",
       "      <th>4</th>\n",
       "      <td>33</td>\n",
       "      <td>1</td>\n",
       "      <td>9</td>\n",
       "      <td>1</td>\n",
       "      <td>1</td>\n",
       "      <td>1</td>\n",
       "      <td>1</td>\n",
       "      <td>1</td>\n",
       "      <td>1</td>\n",
       "      <td>1</td>\n",
       "      <td>1</td>\n",
       "      <td>1</td>\n",
       "      <td>2</td>\n",
       "      <td>0</td>\n",
       "      <td>2</td>\n",
       "      <td>2</td>\n",
       "      <td>2</td>\n",
       "      <td>2</td>\n",
       "      <td>2</td>\n",
       "      <td>2</td>\n",
       "      <td>2</td>\n",
       "      <td>2</td>\n",
       "      <td>2</td>\n",
       "    </tr>\n",
       "  </tbody>\n",
       "</table>\n",
       "</div>"
      ],
      "text/plain": [
       "   label_id  label_form_id  ...  label_attractor_health  label_abstraction_level\n",
       "0        46           3005  ...                       2                        2\n",
       "1        47           3006  ...                       2                        2\n",
       "2        65           3013  ...                       2                        0\n",
       "3      2114             46  ...                       2                        2\n",
       "4        33              1  ...                       2                        2\n",
       "\n",
       "[5 rows x 23 columns]"
      ]
     },
     "execution_count": 80,
     "metadata": {
      "tags": []
     },
     "output_type": "execute_result"
    }
   ],
   "source": [
    "#  соединим категориальные и числовые признаки\n",
    "data_categorical[\"label_id\"] = data_numeric[\"label_id\"]\n",
    "df = data_numeric.merge(data_categorical, on=\"label_id\", how=\"left\")\n",
    "df.head()"
   ]
  },
  {
   "cell_type": "code",
   "execution_count": 81,
   "metadata": {
    "id": "AICjPmK3H41M"
   },
   "outputs": [],
   "source": [
    "#  объеденим размеченные с остальными\n",
    "#  удалим id-шники\n",
    "temp = pd.read_csv(\"Массив целей_задача по целям.csv\", sep=\";\").drop([\"goal_form_id\", \"goal_form_num\"], axis=1).rename({\"goal_id\":\"label_goal_id\"}, axis=1)\n",
    "temp = temp[temp.columns[:-2]] #  pandas читает лишние столбцы\n",
    "df_merged = df.merge(temp, on=\"label_goal_id\", how=\"left\").drop(['label_id', 'label_form_id', 'label_user_id', 'label_goal_id', 'label_num'], axis=1)"
   ]
  },
  {
   "cell_type": "code",
   "execution_count": 82,
   "metadata": {
    "id": "yu0FcpJqKqdv"
   },
   "outputs": [],
   "source": [
    "#  приведем в общий вид\n",
    "for column in temp.columns:\n",
    "    temp[column] = temp[column].apply(lambda x: x.lower().strip() \\\n",
    "                                                              .replace(\"\\n\", \" \").replace(\"\\t\", \" \") \\\n",
    "                                                              .replace(\"город\", \"\")\n",
    "                                                              if type(x) not in [int, float] else x)"
   ]
  },
  {
   "cell_type": "code",
   "execution_count": 83,
   "metadata": {
    "colab": {
     "base_uri": "https://localhost:8080/"
    },
    "id": "Ja-Q_vwm1nuR",
    "outputId": "9833d7a7-907a-4607-fff2-0fbd9562800c"
   },
   "outputs": [
    {
     "data": {
      "text/plain": [
       "label_specific                     0\n",
       "label_attainable                   0\n",
       "label_time_bound                   0\n",
       "label_education                    0\n",
       "label_unambiguity                  0\n",
       "label_with_context                 0\n",
       "label_attractor_knowledge          0\n",
       "label_attractor_hard_skill         0\n",
       "label_attractor_soft_skill         0\n",
       "label_attractor_tool               0\n",
       "label_attractor_community          0\n",
       "label_attractor_subjectivity       0\n",
       "label_attractor_habits             0\n",
       "label_attractor_career             0\n",
       "label_attractor_fixing             0\n",
       "label_attractor_art                0\n",
       "label_attractor_health             0\n",
       "label_abstraction_level            0\n",
       "goal_name                          0\n",
       "goal_result                        0\n",
       "goal_type                        476\n",
       "goal_first_step                    0\n",
       "goal_domain                      476\n",
       "goal_obstacle                   1157\n",
       "goal_time                       1136\n",
       "goal_sex                        1886\n",
       "goal_age                        1784\n",
       "goal_city                       1850\n",
       "goal_education                     0\n",
       "goal_activity                   1826\n",
       "goal_job                        2045\n",
       "dtype: int64"
      ]
     },
     "execution_count": 83,
     "metadata": {
      "tags": []
     },
     "output_type": "execute_result"
    }
   ],
   "source": [
    "#  кол-во пропусков для кажой колонки\n",
    "df_merged.isna().sum()"
   ]
  },
  {
   "cell_type": "code",
   "execution_count": 84,
   "metadata": {
    "colab": {
     "base_uri": "https://localhost:8080/"
    },
    "id": "Vy_C43giuAWu",
    "outputId": "59850207-ce05-40ac-a382-01fada37d207"
   },
   "outputs": [
    {
     "data": {
      "text/plain": [
       "label_specific                     2\n",
       "label_attainable                   2\n",
       "label_time_bound                   2\n",
       "label_education                    2\n",
       "label_unambiguity                  2\n",
       "label_with_context                 2\n",
       "label_attractor_knowledge          3\n",
       "label_attractor_hard_skill         3\n",
       "label_attractor_soft_skill         3\n",
       "label_attractor_tool               3\n",
       "label_attractor_community          3\n",
       "label_attractor_subjectivity       3\n",
       "label_attractor_habits             3\n",
       "label_attractor_career             3\n",
       "label_attractor_fixing             3\n",
       "label_attractor_art                3\n",
       "label_attractor_health             3\n",
       "label_abstraction_level            3\n",
       "goal_name                       4599\n",
       "goal_result                        4\n",
       "goal_type                        430\n",
       "goal_first_step                 3739\n",
       "goal_domain                     3202\n",
       "goal_obstacle                   1694\n",
       "goal_time                        852\n",
       "goal_sex                           4\n",
       "goal_age                         114\n",
       "goal_city                       1262\n",
       "goal_education                   221\n",
       "goal_activity                    217\n",
       "goal_job                         537\n",
       "dtype: int64"
      ]
     },
     "execution_count": 84,
     "metadata": {
      "tags": []
     },
     "output_type": "execute_result"
    }
   ],
   "source": [
    "#  кол-во уникальных значений для каждой колонки#  кол-во пропусков для кажой колонки\n",
    "df_merged.nunique()"
   ]
  },
  {
   "cell_type": "code",
   "execution_count": 85,
   "metadata": {
    "colab": {
     "base_uri": "https://localhost:8080/",
     "height": 332
    },
    "id": "LgyRDN6Os9vt",
    "outputId": "d95526b2-ff07-4f31-ad9f-0abe39148d62"
   },
   "outputs": [
    {
     "data": {
      "text/html": [
       "<div>\n",
       "<style scoped>\n",
       "    .dataframe tbody tr th:only-of-type {\n",
       "        vertical-align: middle;\n",
       "    }\n",
       "\n",
       "    .dataframe tbody tr th {\n",
       "        vertical-align: top;\n",
       "    }\n",
       "\n",
       "    .dataframe thead th {\n",
       "        text-align: right;\n",
       "    }\n",
       "</style>\n",
       "<table border=\"1\" class=\"dataframe\">\n",
       "  <thead>\n",
       "    <tr style=\"text-align: right;\">\n",
       "      <th></th>\n",
       "      <th>label_specific</th>\n",
       "      <th>label_attainable</th>\n",
       "      <th>label_time_bound</th>\n",
       "      <th>label_education</th>\n",
       "      <th>label_unambiguity</th>\n",
       "      <th>label_with_context</th>\n",
       "      <th>label_attractor_knowledge</th>\n",
       "      <th>label_attractor_hard_skill</th>\n",
       "      <th>label_attractor_soft_skill</th>\n",
       "      <th>label_attractor_tool</th>\n",
       "      <th>label_attractor_community</th>\n",
       "      <th>label_attractor_subjectivity</th>\n",
       "      <th>label_attractor_habits</th>\n",
       "      <th>label_attractor_career</th>\n",
       "      <th>label_attractor_fixing</th>\n",
       "      <th>label_attractor_art</th>\n",
       "      <th>label_attractor_health</th>\n",
       "      <th>label_abstraction_level</th>\n",
       "      <th>goal_name</th>\n",
       "      <th>goal_result</th>\n",
       "      <th>goal_type</th>\n",
       "      <th>goal_first_step</th>\n",
       "      <th>goal_domain</th>\n",
       "      <th>goal_obstacle</th>\n",
       "      <th>goal_time</th>\n",
       "      <th>goal_sex</th>\n",
       "      <th>goal_age</th>\n",
       "      <th>goal_city</th>\n",
       "      <th>goal_education</th>\n",
       "      <th>goal_activity</th>\n",
       "      <th>goal_job</th>\n",
       "    </tr>\n",
       "  </thead>\n",
       "  <tbody>\n",
       "    <tr>\n",
       "      <th>0</th>\n",
       "      <td>1</td>\n",
       "      <td>1</td>\n",
       "      <td>0</td>\n",
       "      <td>0</td>\n",
       "      <td>1</td>\n",
       "      <td>0</td>\n",
       "      <td>2</td>\n",
       "      <td>2</td>\n",
       "      <td>2</td>\n",
       "      <td>2</td>\n",
       "      <td>2</td>\n",
       "      <td>0</td>\n",
       "      <td>2</td>\n",
       "      <td>2</td>\n",
       "      <td>1</td>\n",
       "      <td>2</td>\n",
       "      <td>2</td>\n",
       "      <td>2</td>\n",
       "      <td>Закончить этот тест</td>\n",
       "      <td>Да, четко</td>\n",
       "      <td>Получить официальное образование (с дипломом)</td>\n",
       "      <td>Буду кликать быстрее, пропускать некоторые воп...</td>\n",
       "      <td>Творчество и создание нового (Изобразительное ...</td>\n",
       "      <td>Не вижу преград</td>\n",
       "      <td>еще пару минут</td>\n",
       "      <td>Мужчина</td>\n",
       "      <td>20</td>\n",
       "      <td>Нальчик</td>\n",
       "      <td>Неполное/неоконченное высшее образование</td>\n",
       "      <td>Учусь в вузе (очная форма обучения)</td>\n",
       "      <td>Медицина, здравоохранение</td>\n",
       "    </tr>\n",
       "    <tr>\n",
       "      <th>1</th>\n",
       "      <td>1</td>\n",
       "      <td>1</td>\n",
       "      <td>0</td>\n",
       "      <td>1</td>\n",
       "      <td>1</td>\n",
       "      <td>0</td>\n",
       "      <td>0</td>\n",
       "      <td>0</td>\n",
       "      <td>1</td>\n",
       "      <td>1</td>\n",
       "      <td>1</td>\n",
       "      <td>2</td>\n",
       "      <td>2</td>\n",
       "      <td>0</td>\n",
       "      <td>0</td>\n",
       "      <td>2</td>\n",
       "      <td>2</td>\n",
       "      <td>2</td>\n",
       "      <td>Закончить медицинский вуз</td>\n",
       "      <td>Да, четко</td>\n",
       "      <td>Получить знания в новой области, Приобрести но...</td>\n",
       "      <td>освоение новых дисциплин,а также навыков</td>\n",
       "      <td>медицина, качественное и добросовестное выполн...</td>\n",
       "      <td>Не вижу преград</td>\n",
       "      <td>1,5 года</td>\n",
       "      <td>Мужчина</td>\n",
       "      <td>23</td>\n",
       "      <td>Нальчик</td>\n",
       "      <td>Среднее общее образование</td>\n",
       "      <td>Учусь в вузе (очная форма обучения)</td>\n",
       "      <td>Медицина, здравоохранение</td>\n",
       "    </tr>\n",
       "    <tr>\n",
       "      <th>2</th>\n",
       "      <td>0</td>\n",
       "      <td>0</td>\n",
       "      <td>0</td>\n",
       "      <td>1</td>\n",
       "      <td>1</td>\n",
       "      <td>1</td>\n",
       "      <td>0</td>\n",
       "      <td>0</td>\n",
       "      <td>2</td>\n",
       "      <td>2</td>\n",
       "      <td>2</td>\n",
       "      <td>2</td>\n",
       "      <td>2</td>\n",
       "      <td>2</td>\n",
       "      <td>2</td>\n",
       "      <td>2</td>\n",
       "      <td>2</td>\n",
       "      <td>0</td>\n",
       "      <td>знания</td>\n",
       "      <td>Да, нечетко</td>\n",
       "      <td>Получить знания в новой области</td>\n",
       "      <td>Не знаю, с чего начать</td>\n",
       "      <td>Иностранные языки, гуманитарные знания и навык...</td>\n",
       "      <td>Не вижу преград</td>\n",
       "      <td>Нет жестких сроков</td>\n",
       "      <td>Женщина</td>\n",
       "      <td>32</td>\n",
       "      <td>Казань</td>\n",
       "      <td>Высшее образование</td>\n",
       "      <td>Работаю в организации, предприятии</td>\n",
       "      <td>Медицина, здравоохранение</td>\n",
       "    </tr>\n",
       "  </tbody>\n",
       "</table>\n",
       "</div>"
      ],
      "text/plain": [
       "   label_specific  ...                   goal_job\n",
       "0               1  ...  Медицина, здравоохранение\n",
       "1               1  ...  Медицина, здравоохранение\n",
       "2               0  ...  Медицина, здравоохранение\n",
       "\n",
       "[3 rows x 31 columns]"
      ]
     },
     "execution_count": 85,
     "metadata": {
      "tags": []
     },
     "output_type": "execute_result"
    }
   ],
   "source": [
    "df_merged.head(3)"
   ]
  },
  {
   "cell_type": "code",
   "execution_count": 86,
   "metadata": {
    "id": "aOhPHxx_2KNK"
   },
   "outputs": [],
   "source": [
    "#  разделим данные на x и y\n",
    "df_merged = df_merged.fillna(\"шум\") #  .dropna().reset_index(drop=True)\n",
    "target = df_merged.filter(regex=\"^label_\\w*\")\n",
    "data = df_merged.filter(regex=\"^goal_\\w*\")"
   ]
  },
  {
   "cell_type": "code",
   "execution_count": 87,
   "metadata": {
    "colab": {
     "base_uri": "https://localhost:8080/",
     "height": 153
    },
    "id": "iLt2J5NY5-g8",
    "outputId": "ddb19146-ddc9-4a4c-8401-76d56251ae5a"
   },
   "outputs": [
    {
     "data": {
      "text/html": [
       "<div>\n",
       "<style scoped>\n",
       "    .dataframe tbody tr th:only-of-type {\n",
       "        vertical-align: middle;\n",
       "    }\n",
       "\n",
       "    .dataframe tbody tr th {\n",
       "        vertical-align: top;\n",
       "    }\n",
       "\n",
       "    .dataframe thead th {\n",
       "        text-align: right;\n",
       "    }\n",
       "</style>\n",
       "<table border=\"1\" class=\"dataframe\">\n",
       "  <thead>\n",
       "    <tr style=\"text-align: right;\">\n",
       "      <th></th>\n",
       "      <th>label_specific</th>\n",
       "      <th>label_attainable</th>\n",
       "      <th>label_time_bound</th>\n",
       "      <th>label_education</th>\n",
       "      <th>label_unambiguity</th>\n",
       "      <th>label_with_context</th>\n",
       "      <th>label_attractor_knowledge</th>\n",
       "      <th>label_attractor_hard_skill</th>\n",
       "      <th>label_attractor_soft_skill</th>\n",
       "      <th>label_attractor_tool</th>\n",
       "      <th>label_attractor_community</th>\n",
       "      <th>label_attractor_subjectivity</th>\n",
       "      <th>label_attractor_habits</th>\n",
       "      <th>label_attractor_career</th>\n",
       "      <th>label_attractor_fixing</th>\n",
       "      <th>label_attractor_art</th>\n",
       "      <th>label_attractor_health</th>\n",
       "      <th>label_abstraction_level</th>\n",
       "    </tr>\n",
       "  </thead>\n",
       "  <tbody>\n",
       "    <tr>\n",
       "      <th>0</th>\n",
       "      <td>1</td>\n",
       "      <td>1</td>\n",
       "      <td>0</td>\n",
       "      <td>0</td>\n",
       "      <td>1</td>\n",
       "      <td>0</td>\n",
       "      <td>2</td>\n",
       "      <td>2</td>\n",
       "      <td>2</td>\n",
       "      <td>2</td>\n",
       "      <td>2</td>\n",
       "      <td>0</td>\n",
       "      <td>2</td>\n",
       "      <td>2</td>\n",
       "      <td>1</td>\n",
       "      <td>2</td>\n",
       "      <td>2</td>\n",
       "      <td>2</td>\n",
       "    </tr>\n",
       "    <tr>\n",
       "      <th>1</th>\n",
       "      <td>1</td>\n",
       "      <td>1</td>\n",
       "      <td>0</td>\n",
       "      <td>1</td>\n",
       "      <td>1</td>\n",
       "      <td>0</td>\n",
       "      <td>0</td>\n",
       "      <td>0</td>\n",
       "      <td>1</td>\n",
       "      <td>1</td>\n",
       "      <td>1</td>\n",
       "      <td>2</td>\n",
       "      <td>2</td>\n",
       "      <td>0</td>\n",
       "      <td>0</td>\n",
       "      <td>2</td>\n",
       "      <td>2</td>\n",
       "      <td>2</td>\n",
       "    </tr>\n",
       "    <tr>\n",
       "      <th>2</th>\n",
       "      <td>0</td>\n",
       "      <td>0</td>\n",
       "      <td>0</td>\n",
       "      <td>1</td>\n",
       "      <td>1</td>\n",
       "      <td>1</td>\n",
       "      <td>0</td>\n",
       "      <td>0</td>\n",
       "      <td>2</td>\n",
       "      <td>2</td>\n",
       "      <td>2</td>\n",
       "      <td>2</td>\n",
       "      <td>2</td>\n",
       "      <td>2</td>\n",
       "      <td>2</td>\n",
       "      <td>2</td>\n",
       "      <td>2</td>\n",
       "      <td>0</td>\n",
       "    </tr>\n",
       "  </tbody>\n",
       "</table>\n",
       "</div>"
      ],
      "text/plain": [
       "   label_specific  ...  label_abstraction_level\n",
       "0               1  ...                        2\n",
       "1               1  ...                        2\n",
       "2               0  ...                        0\n",
       "\n",
       "[3 rows x 18 columns]"
      ]
     },
     "execution_count": 87,
     "metadata": {
      "tags": []
     },
     "output_type": "execute_result"
    }
   ],
   "source": [
    "target.head(3)"
   ]
  },
  {
   "cell_type": "code",
   "execution_count": 88,
   "metadata": {
    "colab": {
     "base_uri": "https://localhost:8080/",
     "height": 263
    },
    "id": "uG5Ajigf3O3a",
    "outputId": "50612426-23c4-4456-efc1-4d3a1d21059b"
   },
   "outputs": [
    {
     "data": {
      "text/html": [
       "<div>\n",
       "<style scoped>\n",
       "    .dataframe tbody tr th:only-of-type {\n",
       "        vertical-align: middle;\n",
       "    }\n",
       "\n",
       "    .dataframe tbody tr th {\n",
       "        vertical-align: top;\n",
       "    }\n",
       "\n",
       "    .dataframe thead th {\n",
       "        text-align: right;\n",
       "    }\n",
       "</style>\n",
       "<table border=\"1\" class=\"dataframe\">\n",
       "  <thead>\n",
       "    <tr style=\"text-align: right;\">\n",
       "      <th></th>\n",
       "      <th>goal_name</th>\n",
       "      <th>goal_result</th>\n",
       "      <th>goal_type</th>\n",
       "      <th>goal_first_step</th>\n",
       "      <th>goal_domain</th>\n",
       "      <th>goal_obstacle</th>\n",
       "      <th>goal_time</th>\n",
       "      <th>goal_sex</th>\n",
       "      <th>goal_age</th>\n",
       "      <th>goal_city</th>\n",
       "      <th>goal_education</th>\n",
       "      <th>goal_activity</th>\n",
       "      <th>goal_job</th>\n",
       "    </tr>\n",
       "  </thead>\n",
       "  <tbody>\n",
       "    <tr>\n",
       "      <th>0</th>\n",
       "      <td>Закончить этот тест</td>\n",
       "      <td>Да, четко</td>\n",
       "      <td>Получить официальное образование (с дипломом)</td>\n",
       "      <td>Буду кликать быстрее, пропускать некоторые воп...</td>\n",
       "      <td>Творчество и создание нового (Изобразительное ...</td>\n",
       "      <td>Не вижу преград</td>\n",
       "      <td>еще пару минут</td>\n",
       "      <td>Мужчина</td>\n",
       "      <td>20</td>\n",
       "      <td>Нальчик</td>\n",
       "      <td>Неполное/неоконченное высшее образование</td>\n",
       "      <td>Учусь в вузе (очная форма обучения)</td>\n",
       "      <td>Медицина, здравоохранение</td>\n",
       "    </tr>\n",
       "    <tr>\n",
       "      <th>1</th>\n",
       "      <td>Закончить медицинский вуз</td>\n",
       "      <td>Да, четко</td>\n",
       "      <td>Получить знания в новой области, Приобрести но...</td>\n",
       "      <td>освоение новых дисциплин,а также навыков</td>\n",
       "      <td>медицина, качественное и добросовестное выполн...</td>\n",
       "      <td>Не вижу преград</td>\n",
       "      <td>1,5 года</td>\n",
       "      <td>Мужчина</td>\n",
       "      <td>23</td>\n",
       "      <td>Нальчик</td>\n",
       "      <td>Среднее общее образование</td>\n",
       "      <td>Учусь в вузе (очная форма обучения)</td>\n",
       "      <td>Медицина, здравоохранение</td>\n",
       "    </tr>\n",
       "    <tr>\n",
       "      <th>2</th>\n",
       "      <td>знания</td>\n",
       "      <td>Да, нечетко</td>\n",
       "      <td>Получить знания в новой области</td>\n",
       "      <td>Не знаю, с чего начать</td>\n",
       "      <td>Иностранные языки, гуманитарные знания и навык...</td>\n",
       "      <td>Не вижу преград</td>\n",
       "      <td>Нет жестких сроков</td>\n",
       "      <td>Женщина</td>\n",
       "      <td>32</td>\n",
       "      <td>Казань</td>\n",
       "      <td>Высшее образование</td>\n",
       "      <td>Работаю в организации, предприятии</td>\n",
       "      <td>Медицина, здравоохранение</td>\n",
       "    </tr>\n",
       "  </tbody>\n",
       "</table>\n",
       "</div>"
      ],
      "text/plain": [
       "                   goal_name  ...                   goal_job\n",
       "0        Закончить этот тест  ...  Медицина, здравоохранение\n",
       "1  Закончить медицинский вуз  ...  Медицина, здравоохранение\n",
       "2                     знания  ...  Медицина, здравоохранение\n",
       "\n",
       "[3 rows x 13 columns]"
      ]
     },
     "execution_count": 88,
     "metadata": {
      "tags": []
     },
     "output_type": "execute_result"
    }
   ],
   "source": [
    "data.head(3)"
   ]
  },
  {
   "cell_type": "code",
   "execution_count": 89,
   "metadata": {
    "colab": {
     "base_uri": "https://localhost:8080/"
    },
    "id": "sRqDw3HTg36G",
    "outputId": "537ce79d-d426-4728-edc3-91922b80b3c6"
   },
   "outputs": [
    {
     "name": "stdout",
     "output_type": "stream",
     "text": [
      "\n"
     ]
    }
   ],
   "source": [
    "\"\"\"from sklearn.linear_model import LogisticRegression # можно заменить на любимый классификатор\n",
    "from sklearn.feature_extraction.text import CountVectorizer\n",
    "from nltk.tokenize import word_tokenize\n",
    "from sklearn.metrics import classification_report, f1_score, roc_auc_score\n",
    "from sklearn.feature_extraction.text import TfidfVectorizer\n",
    "import nltk\n",
    "nltk.download('punkt')\"\"\"\n",
    "print()"
   ]
  },
  {
   "cell_type": "code",
   "execution_count": 90,
   "metadata": {
    "colab": {
     "base_uri": "https://localhost:8080/"
    },
    "id": "N4HF5yVB4mhI",
    "outputId": "a07da921-7833-40f0-dfb5-c98171e90f1d"
   },
   "outputs": [
    {
     "name": "stdout",
     "output_type": "stream",
     "text": [
      "\n"
     ]
    }
   ],
   "source": [
    "\"\"\"vec = TfidfVectorizer(ngram_range=(1, 1), tokenizer=word_tokenize)\n",
    "bow = vec.fit_transform(X_train)\n",
    "clf = LogisticRegression(random_state=42)\n",
    "clf.fit(bow, y_train)\n",
    "classification_report(clf.predict(vec.transform(X_test)), y_test)\"\"\"\n",
    "print()"
   ]
  },
  {
   "cell_type": "code",
   "execution_count": 91,
   "metadata": {
    "id": "BLEOgGQzRqGu"
   },
   "outputs": [],
   "source": [
    "from sklearn.model_selection import train_test_split\n",
    "X = data.drop([\"goal_age\"], axis=1)\n",
    "y = target[\"label_attractor_knowledge\"]\n",
    "X_train, X_test, y_train, y_test = train_test_split(X, y, test_size=0.25, random_state=42)"
   ]
  },
  {
   "cell_type": "code",
   "execution_count": 92,
   "metadata": {
    "id": "V46RRFNI1AhN"
   },
   "outputs": [],
   "source": [
    "from catboost import Pool, CatBoostClassifier\n",
    "cat_features=[]\n",
    "text_features=list(X)\n",
    "\n",
    "learn_pool = Pool(\n",
    "        X_train, \n",
    "        y_train,\n",
    "        cat_features=cat_features,\n",
    "        text_features=text_features,\n",
    "        feature_names=list(X_train)\n",
    ")\n",
    "test_pool = Pool(\n",
    "    X_test, \n",
    "    y_test, \n",
    "    cat_features=cat_features,\n",
    "    text_features=text_features,\n",
    "    feature_names=list(X_test)\n",
    ")"
   ]
  },
  {
   "cell_type": "code",
   "execution_count": 93,
   "metadata": {
    "colab": {
     "base_uri": "https://localhost:8080/"
    },
    "id": "xrPThkf32J4r",
    "outputId": "dbfd9de2-3084-4ae8-f2dc-70bc7fc863f5"
   },
   "outputs": [
    {
     "name": "stdout",
     "output_type": "stream",
     "text": [
      "Learning rate set to 0.37412\n",
      "0:\tlearn: 0.9808879\ttest: 0.9829578\tbest: 0.9829578 (0)\ttotal: 218ms\tremaining: 21.6s\n",
      "1:\tlearn: 0.9202967\ttest: 0.9243598\tbest: 0.9243598 (1)\ttotal: 373ms\tremaining: 18.3s\n",
      "2:\tlearn: 0.8877671\ttest: 0.8950610\tbest: 0.8950610 (2)\ttotal: 521ms\tremaining: 16.9s\n",
      "3:\tlearn: 0.8632100\ttest: 0.8753606\tbest: 0.8753606 (3)\ttotal: 640ms\tremaining: 15.4s\n",
      "4:\tlearn: 0.8467840\ttest: 0.8663014\tbest: 0.8663014 (4)\ttotal: 770ms\tremaining: 14.6s\n",
      "5:\tlearn: 0.8327729\ttest: 0.8610160\tbest: 0.8610160 (5)\ttotal: 910ms\tremaining: 14.3s\n",
      "6:\tlearn: 0.8195427\ttest: 0.8587856\tbest: 0.8587856 (6)\ttotal: 1.06s\tremaining: 14.1s\n",
      "7:\tlearn: 0.8120186\ttest: 0.8546642\tbest: 0.8546642 (7)\ttotal: 1.17s\tremaining: 13.4s\n",
      "8:\tlearn: 0.7978370\ttest: 0.8526869\tbest: 0.8526869 (8)\ttotal: 1.36s\tremaining: 13.8s\n",
      "9:\tlearn: 0.7953043\ttest: 0.8518673\tbest: 0.8518673 (9)\ttotal: 1.43s\tremaining: 12.9s\n",
      "10:\tlearn: 0.7927624\ttest: 0.8512862\tbest: 0.8512862 (10)\ttotal: 1.51s\tremaining: 12.3s\n",
      "11:\tlearn: 0.7886288\ttest: 0.8512686\tbest: 0.8512686 (11)\ttotal: 1.61s\tremaining: 11.8s\n",
      "12:\tlearn: 0.7845493\ttest: 0.8504820\tbest: 0.8504820 (12)\ttotal: 1.71s\tremaining: 11.4s\n",
      "13:\tlearn: 0.7788577\ttest: 0.8493868\tbest: 0.8493868 (13)\ttotal: 1.81s\tremaining: 11.1s\n",
      "14:\tlearn: 0.7776143\ttest: 0.8492748\tbest: 0.8492748 (14)\ttotal: 1.87s\tremaining: 10.6s\n",
      "15:\tlearn: 0.7771013\ttest: 0.8494964\tbest: 0.8492748 (14)\ttotal: 1.94s\tremaining: 10.2s\n",
      "16:\tlearn: 0.7757946\ttest: 0.8482995\tbest: 0.8482995 (16)\ttotal: 2.01s\tremaining: 9.81s\n",
      "17:\tlearn: 0.7669335\ttest: 0.8485458\tbest: 0.8482995 (16)\ttotal: 2.17s\tremaining: 9.88s\n",
      "18:\tlearn: 0.7657764\ttest: 0.8482093\tbest: 0.8482093 (18)\ttotal: 2.24s\tremaining: 9.57s\n",
      "19:\tlearn: 0.7601868\ttest: 0.8489427\tbest: 0.8482093 (18)\ttotal: 2.35s\tremaining: 9.42s\n",
      "20:\tlearn: 0.7585851\ttest: 0.8484397\tbest: 0.8482093 (18)\ttotal: 2.44s\tremaining: 9.17s\n",
      "21:\tlearn: 0.7558312\ttest: 0.8483924\tbest: 0.8482093 (18)\ttotal: 2.51s\tremaining: 8.9s\n",
      "22:\tlearn: 0.7543975\ttest: 0.8488085\tbest: 0.8482093 (18)\ttotal: 2.58s\tremaining: 8.65s\n",
      "23:\tlearn: 0.7502009\ttest: 0.8486050\tbest: 0.8482093 (18)\ttotal: 2.7s\tremaining: 8.54s\n",
      "24:\tlearn: 0.7478984\ttest: 0.8493149\tbest: 0.8482093 (18)\ttotal: 2.78s\tremaining: 8.34s\n",
      "25:\tlearn: 0.7460151\ttest: 0.8495191\tbest: 0.8482093 (18)\ttotal: 2.85s\tremaining: 8.12s\n",
      "26:\tlearn: 0.7408704\ttest: 0.8509922\tbest: 0.8482093 (18)\ttotal: 2.95s\tremaining: 7.98s\n",
      "27:\tlearn: 0.7390607\ttest: 0.8510604\tbest: 0.8482093 (18)\ttotal: 3.02s\tremaining: 7.77s\n",
      "28:\tlearn: 0.7346804\ttest: 0.8514387\tbest: 0.8482093 (18)\ttotal: 3.12s\tremaining: 7.63s\n",
      "29:\tlearn: 0.7338953\ttest: 0.8513859\tbest: 0.8482093 (18)\ttotal: 3.2s\tremaining: 7.46s\n",
      "30:\tlearn: 0.7290300\ttest: 0.8527315\tbest: 0.8482093 (18)\ttotal: 3.33s\tremaining: 7.42s\n",
      "31:\tlearn: 0.7257413\ttest: 0.8537534\tbest: 0.8482093 (18)\ttotal: 3.42s\tremaining: 7.28s\n",
      "32:\tlearn: 0.7210089\ttest: 0.8539775\tbest: 0.8482093 (18)\ttotal: 3.55s\tremaining: 7.2s\n",
      "33:\tlearn: 0.7202075\ttest: 0.8538977\tbest: 0.8482093 (18)\ttotal: 3.61s\tremaining: 7.01s\n",
      "34:\tlearn: 0.7160098\ttest: 0.8543728\tbest: 0.8482093 (18)\ttotal: 3.72s\tremaining: 6.91s\n",
      "35:\tlearn: 0.7127238\ttest: 0.8546585\tbest: 0.8482093 (18)\ttotal: 3.81s\tremaining: 6.77s\n",
      "36:\tlearn: 0.7122711\ttest: 0.8548019\tbest: 0.8482093 (18)\ttotal: 3.87s\tremaining: 6.59s\n",
      "37:\tlearn: 0.7116127\ttest: 0.8544848\tbest: 0.8482093 (18)\ttotal: 3.94s\tremaining: 6.42s\n",
      "38:\tlearn: 0.7098444\ttest: 0.8545368\tbest: 0.8482093 (18)\ttotal: 4.01s\tremaining: 6.28s\n",
      "39:\tlearn: 0.7086039\ttest: 0.8549920\tbest: 0.8482093 (18)\ttotal: 4.08s\tremaining: 6.12s\n",
      "40:\tlearn: 0.7064700\ttest: 0.8548325\tbest: 0.8482093 (18)\ttotal: 4.16s\tremaining: 5.99s\n",
      "41:\tlearn: 0.7061109\ttest: 0.8546900\tbest: 0.8482093 (18)\ttotal: 4.23s\tremaining: 5.84s\n",
      "42:\tlearn: 0.7053439\ttest: 0.8548051\tbest: 0.8482093 (18)\ttotal: 4.29s\tremaining: 5.69s\n",
      "43:\tlearn: 0.7035444\ttest: 0.8555908\tbest: 0.8482093 (18)\ttotal: 4.38s\tremaining: 5.57s\n",
      "44:\tlearn: 0.7032115\ttest: 0.8555133\tbest: 0.8482093 (18)\ttotal: 4.44s\tremaining: 5.42s\n",
      "45:\tlearn: 0.6977435\ttest: 0.8561172\tbest: 0.8482093 (18)\ttotal: 4.56s\tremaining: 5.35s\n",
      "46:\tlearn: 0.6975200\ttest: 0.8562823\tbest: 0.8482093 (18)\ttotal: 4.63s\tremaining: 5.22s\n",
      "47:\tlearn: 0.6961186\ttest: 0.8574828\tbest: 0.8482093 (18)\ttotal: 4.7s\tremaining: 5.09s\n",
      "48:\tlearn: 0.6951755\ttest: 0.8577607\tbest: 0.8482093 (18)\ttotal: 4.77s\tremaining: 4.96s\n",
      "49:\tlearn: 0.6947532\ttest: 0.8580517\tbest: 0.8482093 (18)\ttotal: 4.83s\tremaining: 4.83s\n",
      "50:\tlearn: 0.6932185\ttest: 0.8578268\tbest: 0.8482093 (18)\ttotal: 4.91s\tremaining: 4.71s\n",
      "51:\tlearn: 0.6923383\ttest: 0.8586095\tbest: 0.8482093 (18)\ttotal: 4.98s\tremaining: 4.59s\n",
      "52:\tlearn: 0.6902915\ttest: 0.8586200\tbest: 0.8482093 (18)\ttotal: 5.05s\tremaining: 4.48s\n",
      "53:\tlearn: 0.6893243\ttest: 0.8591696\tbest: 0.8482093 (18)\ttotal: 5.12s\tremaining: 4.36s\n",
      "54:\tlearn: 0.6883228\ttest: 0.8592419\tbest: 0.8482093 (18)\ttotal: 5.2s\tremaining: 4.25s\n",
      "55:\tlearn: 0.6868898\ttest: 0.8593965\tbest: 0.8482093 (18)\ttotal: 5.27s\tremaining: 4.14s\n",
      "56:\tlearn: 0.6859632\ttest: 0.8597259\tbest: 0.8482093 (18)\ttotal: 5.35s\tremaining: 4.04s\n",
      "57:\tlearn: 0.6833390\ttest: 0.8599914\tbest: 0.8482093 (18)\ttotal: 5.45s\tremaining: 3.94s\n",
      "58:\tlearn: 0.6827102\ttest: 0.8598243\tbest: 0.8482093 (18)\ttotal: 5.51s\tremaining: 3.83s\n",
      "59:\tlearn: 0.6813141\ttest: 0.8597357\tbest: 0.8482093 (18)\ttotal: 5.59s\tremaining: 3.72s\n",
      "60:\tlearn: 0.6803499\ttest: 0.8596918\tbest: 0.8482093 (18)\ttotal: 5.66s\tremaining: 3.62s\n",
      "61:\tlearn: 0.6785299\ttest: 0.8599918\tbest: 0.8482093 (18)\ttotal: 5.74s\tremaining: 3.52s\n",
      "62:\tlearn: 0.6772843\ttest: 0.8606396\tbest: 0.8482093 (18)\ttotal: 5.81s\tremaining: 3.41s\n",
      "63:\tlearn: 0.6770395\ttest: 0.8606749\tbest: 0.8482093 (18)\ttotal: 5.87s\tremaining: 3.3s\n",
      "64:\tlearn: 0.6754109\ttest: 0.8607760\tbest: 0.8482093 (18)\ttotal: 5.96s\tremaining: 3.21s\n",
      "65:\tlearn: 0.6729441\ttest: 0.8615829\tbest: 0.8482093 (18)\ttotal: 6.05s\tremaining: 3.12s\n",
      "66:\tlearn: 0.6718130\ttest: 0.8615976\tbest: 0.8482093 (18)\ttotal: 6.12s\tremaining: 3.02s\n",
      "67:\tlearn: 0.6686693\ttest: 0.8623040\tbest: 0.8482093 (18)\ttotal: 6.22s\tremaining: 2.93s\n",
      "68:\tlearn: 0.6672590\ttest: 0.8626915\tbest: 0.8482093 (18)\ttotal: 6.3s\tremaining: 2.83s\n",
      "69:\tlearn: 0.6655564\ttest: 0.8631019\tbest: 0.8482093 (18)\ttotal: 6.39s\tremaining: 2.74s\n",
      "70:\tlearn: 0.6645275\ttest: 0.8635875\tbest: 0.8482093 (18)\ttotal: 6.47s\tremaining: 2.64s\n",
      "71:\tlearn: 0.6628084\ttest: 0.8636751\tbest: 0.8482093 (18)\ttotal: 6.55s\tremaining: 2.55s\n",
      "72:\tlearn: 0.6610450\ttest: 0.8641415\tbest: 0.8482093 (18)\ttotal: 6.64s\tremaining: 2.45s\n",
      "73:\tlearn: 0.6606289\ttest: 0.8640709\tbest: 0.8482093 (18)\ttotal: 6.71s\tremaining: 2.36s\n",
      "74:\tlearn: 0.6597444\ttest: 0.8640739\tbest: 0.8482093 (18)\ttotal: 6.78s\tremaining: 2.26s\n",
      "75:\tlearn: 0.6590077\ttest: 0.8638900\tbest: 0.8482093 (18)\ttotal: 6.84s\tremaining: 2.16s\n",
      "76:\tlearn: 0.6582796\ttest: 0.8641767\tbest: 0.8482093 (18)\ttotal: 6.92s\tremaining: 2.07s\n",
      "77:\tlearn: 0.6578894\ttest: 0.8642472\tbest: 0.8482093 (18)\ttotal: 6.99s\tremaining: 1.97s\n",
      "78:\tlearn: 0.6548886\ttest: 0.8655768\tbest: 0.8482093 (18)\ttotal: 7.08s\tremaining: 1.88s\n",
      "79:\tlearn: 0.6526418\ttest: 0.8662282\tbest: 0.8482093 (18)\ttotal: 7.17s\tremaining: 1.79s\n",
      "80:\tlearn: 0.6488785\ttest: 0.8665555\tbest: 0.8482093 (18)\ttotal: 7.28s\tremaining: 1.71s\n",
      "81:\tlearn: 0.6473447\ttest: 0.8670884\tbest: 0.8482093 (18)\ttotal: 7.37s\tremaining: 1.62s\n",
      "82:\tlearn: 0.6454002\ttest: 0.8672898\tbest: 0.8482093 (18)\ttotal: 7.46s\tremaining: 1.53s\n",
      "83:\tlearn: 0.6420364\ttest: 0.8682864\tbest: 0.8482093 (18)\ttotal: 7.58s\tremaining: 1.44s\n",
      "84:\tlearn: 0.6413410\ttest: 0.8684209\tbest: 0.8482093 (18)\ttotal: 7.64s\tremaining: 1.35s\n",
      "85:\tlearn: 0.6399940\ttest: 0.8688672\tbest: 0.8482093 (18)\ttotal: 7.73s\tremaining: 1.26s\n",
      "86:\tlearn: 0.6382215\ttest: 0.8699604\tbest: 0.8482093 (18)\ttotal: 7.8s\tremaining: 1.17s\n",
      "87:\tlearn: 0.6362199\ttest: 0.8700878\tbest: 0.8482093 (18)\ttotal: 7.9s\tremaining: 1.08s\n",
      "88:\tlearn: 0.6358266\ttest: 0.8703713\tbest: 0.8482093 (18)\ttotal: 7.97s\tremaining: 985ms\n",
      "89:\tlearn: 0.6331214\ttest: 0.8704039\tbest: 0.8482093 (18)\ttotal: 8.07s\tremaining: 897ms\n",
      "90:\tlearn: 0.6328201\ttest: 0.8702716\tbest: 0.8482093 (18)\ttotal: 8.14s\tremaining: 805ms\n",
      "91:\tlearn: 0.6317275\ttest: 0.8703735\tbest: 0.8482093 (18)\ttotal: 8.22s\tremaining: 715ms\n",
      "92:\tlearn: 0.6290490\ttest: 0.8713029\tbest: 0.8482093 (18)\ttotal: 8.31s\tremaining: 626ms\n",
      "93:\tlearn: 0.6256786\ttest: 0.8722707\tbest: 0.8482093 (18)\ttotal: 8.42s\tremaining: 538ms\n",
      "94:\tlearn: 0.6231197\ttest: 0.8732203\tbest: 0.8482093 (18)\ttotal: 8.52s\tremaining: 449ms\n",
      "95:\tlearn: 0.6227028\ttest: 0.8735386\tbest: 0.8482093 (18)\ttotal: 8.59s\tremaining: 358ms\n",
      "96:\tlearn: 0.6218746\ttest: 0.8733589\tbest: 0.8482093 (18)\ttotal: 8.66s\tremaining: 268ms\n",
      "97:\tlearn: 0.6203467\ttest: 0.8734905\tbest: 0.8482093 (18)\ttotal: 8.75s\tremaining: 179ms\n",
      "98:\tlearn: 0.6177079\ttest: 0.8752203\tbest: 0.8482093 (18)\ttotal: 8.85s\tremaining: 89.4ms\n",
      "99:\tlearn: 0.6162514\ttest: 0.8756050\tbest: 0.8482093 (18)\ttotal: 8.93s\tremaining: 0us\n",
      "bestTest = 0.8482093353\n",
      "bestIteration = 18\n",
      "Shrink model to first 19 iterations.\n"
     ]
    },
    {
     "data": {
      "text/plain": [
       "<catboost.core.CatBoostClassifier at 0x7fc667e5d390>"
      ]
     },
     "execution_count": 93,
     "metadata": {
      "tags": []
     },
     "output_type": "execute_result"
    }
   ],
   "source": [
    "clf = CatBoostClassifier(iterations=100,\n",
    "                        random_state=42,\n",
    "                        verbose=True,\n",
    "                        task_type=\"GPU\",\n",
    "                        use_best_model=True,\n",
    "                        max_depth=10)\n",
    "\n",
    "clf.fit(learn_pool, eval_set=test_pool)"
   ]
  },
  {
   "cell_type": "code",
   "execution_count": null,
   "metadata": {
    "id": "rVpKa-GnCNnc"
   },
   "outputs": [],
   "source": [
    "#  старая версия, но пусть будет\n",
    "\"\"\"from catboost import Pool, CatBoostClassifier\n",
    "from sklearn.model_selection import train_test_split\n",
    "from sklearn.metrics import f1_score\n",
    "\n",
    "X_train, X_test, y_train, y_test = train_test_split(data.drop([\"goal_age\"], axis=1), target, test_size=0.25, random_state=42)\n",
    "\n",
    "cat_features=[]\n",
    "text_features=list(data.drop([\"goal_age\"], axis=1))\n",
    "\n",
    "final_df = pd.DataFrame()\n",
    "scores = {}\n",
    "all_metrics = {}\n",
    "\n",
    "clf = CatBoostClassifier(iterations=250,\n",
    "                        random_state=42,\n",
    "                        verbose=False,\n",
    "                        task_type=\"GPU\",\n",
    "                        use_best_model=True,\n",
    "                        max_depth=10)\n",
    "\n",
    "for i, column in enumerate(list(target)):\n",
    "    learn_pool = Pool(\n",
    "        X_train, \n",
    "        y_train[column],\n",
    "        cat_features=cat_features,\n",
    "        text_features=text_features,\n",
    "        feature_names=list(X_train)\n",
    "    )\n",
    "    test_pool = Pool(\n",
    "        X_test,\n",
    "        y_test[column], \n",
    "        cat_features=cat_features,\n",
    "        text_features=text_features,\n",
    "        feature_names=list(X_test)\n",
    "    )\n",
    "    clf.fit(learn_pool, eval_set=test_pool)\n",
    "    prediction = clf.predict(test_pool)\n",
    "    all_metrics[column] = classification_report(prediction, y_test[column], output_dict=True)\n",
    "\n",
    "    if len(y_train[column].unique()) > 2:\n",
    "        scores[column] = f1_score(prediction, y_test[column], average=\"micro\")\n",
    "    else:\n",
    "        scores[column] = f1_score(prediction, y_test[column])\n",
    "    \n",
    "    final_df[column] = prediction\n",
    "    print(\"Iter: {} Column: {:<28} Score: {:.2f}\".format(i, column, scores[column]))\"\"\"\n",
    "print()"
   ]
  },
  {
   "cell_type": "code",
   "execution_count": 95,
   "metadata": {
    "colab": {
     "base_uri": "https://localhost:8080/"
    },
    "id": "Wo2jvGZbQiXH",
    "outputId": "fa41cde6-f84f-42e3-e74c-76b8ba180202"
   },
   "outputs": [
    {
     "name": "stdout",
     "output_type": "stream",
     "text": [
      "Iter:  0 Column: label_specific               Score: 0.72\n",
      "Iter:  1 Column: label_attainable             Score: 0.76\n",
      "Iter:  2 Column: label_time_bound             Score: 0.69\n",
      "Iter:  3 Column: label_education              Score: 0.88\n",
      "Iter:  4 Column: label_unambiguity            Score: 0.95\n",
      "Iter:  5 Column: label_with_context           Score: 0.83\n",
      "Iter:  6 Column: label_attractor_knowledge    Score: 0.56\n",
      "Iter:  7 Column: label_attractor_hard_skill   Score: 0.56\n",
      "Iter:  8 Column: label_attractor_soft_skill   Score: 0.53\n",
      "Iter:  9 Column: label_attractor_tool         Score: 0.92\n",
      "Iter: 10 Column: label_attractor_community    Score: 0.80\n",
      "Iter: 11 Column: label_attractor_subjectivity Score: 0.72\n",
      "Iter: 12 Column: label_attractor_habits       Score: 0.89\n",
      "Iter: 13 Column: label_attractor_career       Score: 0.76\n",
      "Iter: 14 Column: label_attractor_fixing       Score: 0.82\n",
      "Iter: 15 Column: label_attractor_art          Score: 0.91\n",
      "Iter: 16 Column: label_attractor_health       Score: 0.96\n",
      "Iter: 17 Column: label_abstraction_level      Score: 0.73\n"
     ]
    }
   ],
   "source": [
    "from catboost import Pool, CatBoostClassifier\n",
    "from sklearn.model_selection import train_test_split\n",
    "from sklearn.metrics import f1_score, accuracy_score, classification_report\n",
    "\n",
    "#  goal_age содержит нерелевантные значения, поэтому дропаем\n",
    "X_train, X_test, y_train, y_test = train_test_split(data.drop([\"goal_age\"], axis=1), target, test_size=0.25, random_state=42)\n",
    "\n",
    "cat_features = []\n",
    "text_features = list(data.drop([\"goal_age\"], axis=1))\n",
    "\n",
    "final_df = pd.DataFrame()\n",
    "scores = {}\n",
    "all_metrics = {}\n",
    "acc_scores = {}\n",
    "\n",
    "clf = CatBoostClassifier(iterations=100,\n",
    "                        random_state=42,\n",
    "                        verbose=False,\n",
    "                        task_type=\"GPU\",\n",
    "                        use_best_model=True,\n",
    "                        max_depth=10)\n",
    "\n",
    "for i, column in enumerate(list(target)):\n",
    "    #  данные для тренировки\n",
    "    learn_pool = Pool(\n",
    "        X_train, \n",
    "        y_train[column],\n",
    "        cat_features=cat_features,\n",
    "        text_features=text_features,\n",
    "        feature_names=list(X_train)\n",
    "    )\n",
    "    #  данные для теста\n",
    "    test_pool = Pool(\n",
    "        X_test,\n",
    "        y_test[column], \n",
    "        cat_features=cat_features,\n",
    "        text_features=text_features,\n",
    "        feature_names=list(X_test)\n",
    "    )\n",
    "\n",
    "    clf.fit(learn_pool, eval_set=test_pool)\n",
    "    prediction = clf.predict(test_pool)\n",
    "    all_metrics[column] = classification_report(prediction.copy(), y_test[column], output_dict=True)\n",
    "    acc_scores[column] = accuracy_score(prediction.copy(), y_test[column])\n",
    "\n",
    "    if len(y_train[column].unique()) > 2:\n",
    "        scores[column] = f1_score(prediction.copy(), y_test[column], average=\"micro\")\n",
    "    else:\n",
    "        scores[column] = f1_score(prediction.copy(), y_test[column])\n",
    "    \n",
    "    final_df[column] = prediction.copy()\n",
    "    #  выводим f1 score\n",
    "    print(\"Iter: {:>2} Column: {:<28} Score: {:.2f}\".format(i, column, scores[column]))"
   ]
  },
  {
   "cell_type": "code",
   "execution_count": 96,
   "metadata": {
    "colab": {
     "base_uri": "https://localhost:8080/"
    },
    "id": "XxhbO0tQW-eJ",
    "outputId": "580b094e-215b-45d5-b91d-1128d3463ef1"
   },
   "outputs": [
    {
     "name": "stdout",
     "output_type": "stream",
     "text": [
      "F1 mean score: 0.776\n"
     ]
    }
   ],
   "source": [
    "score_mean = np.mean(list(scores.values()))\n",
    "print(\"F1 mean score: {:.3f}\".format(score_mean))"
   ]
  },
  {
   "cell_type": "code",
   "execution_count": 97,
   "metadata": {
    "colab": {
     "base_uri": "https://localhost:8080/"
    },
    "id": "-MMhd4EEUF72",
    "outputId": "fb81d53e-67ca-4b44-9916-8a0e56588e52"
   },
   "outputs": [
    {
     "name": "stdout",
     "output_type": "stream",
     "text": [
      "Accuracy mean score: 0.776\n"
     ]
    }
   ],
   "source": [
    "score_mean = np.mean(list(acc_scores.values()))\n",
    "print(\"Accuracy mean score: {:.3f}\".format(score_mean))"
   ]
  },
  {
   "cell_type": "code",
   "execution_count": 99,
   "metadata": {
    "colab": {
     "base_uri": "https://localhost:8080/"
    },
    "id": "EVGu0OaqWLvh",
    "outputId": "cfb487e1-a30c-48af-8c25-08acfefe9104"
   },
   "outputs": [
    {
     "data": {
      "text/plain": [
       "{'0': {'f1-score': 0.8081100651701666,\n",
       "  'precision': 0.849746192893401,\n",
       "  'recall': 0.7703635526921307,\n",
       "  'support': 2173},\n",
       " '1': {'f1-score': 0.6493827160493828,\n",
       "  'precision': 0.6280597014925373,\n",
       "  'recall': 0.6722044728434505,\n",
       "  'support': 1565},\n",
       " '2': {'f1-score': 0.674892041949414,\n",
       "  'precision': 0.6382730455075846,\n",
       "  'recall': 0.7159685863874345,\n",
       "  'support': 764},\n",
       " 'accuracy': 0.7270102176810307,\n",
       " 'macro avg': {'f1-score': 0.7107949410563211,\n",
       "  'precision': 0.7053596466311743,\n",
       "  'recall': 0.7195122039743387,\n",
       "  'support': 4502},\n",
       " 'weighted avg': {'f1-score': 0.7303253314707704,\n",
       "  'precision': 0.7367953169171425,\n",
       "  'recall': 0.7270102176810307,\n",
       "  'support': 4502}}"
      ]
     },
     "execution_count": 99,
     "metadata": {
      "tags": []
     },
     "output_type": "execute_result"
    }
   ],
   "source": [
    "all_metrics[\"label_abstraction_level\"]"
   ]
  }
 ],
 "metadata": {
  "accelerator": "GPU",
  "colab": {
   "collapsed_sections": [],
   "name": "baseline_0.ipynb",
   "provenance": []
  },
  "kernelspec": {
   "display_name": "Python 3",
   "language": "python",
   "name": "python3"
  },
  "language_info": {
   "codemirror_mode": {
    "name": "ipython",
    "version": 3
   },
   "file_extension": ".py",
   "mimetype": "text/x-python",
   "name": "python",
   "nbconvert_exporter": "python",
   "pygments_lexer": "ipython3",
   "version": "3.7.9"
  }
 },
 "nbformat": 4,
 "nbformat_minor": 1
}
