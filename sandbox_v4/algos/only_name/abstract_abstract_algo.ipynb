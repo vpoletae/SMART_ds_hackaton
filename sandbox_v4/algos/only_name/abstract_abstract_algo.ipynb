{
 "cells": [
  {
   "cell_type": "code",
   "execution_count": 1,
   "metadata": {},
   "outputs": [],
   "source": [
    "import pandas as pd\n",
    "import os"
   ]
  },
  {
   "cell_type": "code",
   "execution_count": 2,
   "metadata": {},
   "outputs": [],
   "source": [
    "abstract_df = pd.read_csv('../../clean_data/only_name_abstract.csv', index_col=0)"
   ]
  },
  {
   "cell_type": "code",
   "execution_count": 3,
   "metadata": {},
   "outputs": [],
   "source": [
    "abstract = abstract_df.copy()"
   ]
  },
  {
   "cell_type": "code",
   "execution_count": 5,
   "metadata": {},
   "outputs": [
    {
     "data": {
      "text/html": [
       "<div>\n",
       "<style scoped>\n",
       "    .dataframe tbody tr th:only-of-type {\n",
       "        vertical-align: middle;\n",
       "    }\n",
       "\n",
       "    .dataframe tbody tr th {\n",
       "        vertical-align: top;\n",
       "    }\n",
       "\n",
       "    .dataframe thead th {\n",
       "        text-align: right;\n",
       "    }\n",
       "</style>\n",
       "<table border=\"1\" class=\"dataframe\">\n",
       "  <thead>\n",
       "    <tr style=\"text-align: right;\">\n",
       "      <th></th>\n",
       "      <th>goal_name</th>\n",
       "      <th>goal_name_key_pos</th>\n",
       "      <th>goal_weight</th>\n",
       "      <th>goal_words</th>\n",
       "      <th>goal_aver_word_len</th>\n",
       "      <th>goal_verbs_counter</th>\n",
       "      <th>goal_nouns_counter</th>\n",
       "      <th>goal_numr_counter</th>\n",
       "      <th>goal_adj_counter</th>\n",
       "      <th>goal_digit_counter</th>\n",
       "      <th>abstract</th>\n",
       "      <th>subject</th>\n",
       "      <th>certain</th>\n",
       "    </tr>\n",
       "  </thead>\n",
       "  <tbody>\n",
       "    <tr>\n",
       "      <td>25</td>\n",
       "      <td>повысить уровень знаний возможности компьютера</td>\n",
       "      <td>повысить уровень знание возможность компьютер</td>\n",
       "      <td>1.2060</td>\n",
       "      <td>5</td>\n",
       "      <td>8.4</td>\n",
       "      <td>1</td>\n",
       "      <td>4</td>\n",
       "      <td>0</td>\n",
       "      <td>0</td>\n",
       "      <td>0</td>\n",
       "      <td>0</td>\n",
       "      <td>0</td>\n",
       "      <td>1</td>\n",
       "    </tr>\n",
       "    <tr>\n",
       "      <td>70</td>\n",
       "      <td>познание инноваций</td>\n",
       "      <td>познание инновация</td>\n",
       "      <td>0.6429</td>\n",
       "      <td>2</td>\n",
       "      <td>8.5</td>\n",
       "      <td>0</td>\n",
       "      <td>2</td>\n",
       "      <td>0</td>\n",
       "      <td>0</td>\n",
       "      <td>0</td>\n",
       "      <td>0</td>\n",
       "      <td>0</td>\n",
       "      <td>1</td>\n",
       "    </tr>\n",
       "    <tr>\n",
       "      <td>124</td>\n",
       "      <td>fdd</td>\n",
       "      <td>NaN</td>\n",
       "      <td>0.0000</td>\n",
       "      <td>1</td>\n",
       "      <td>3.0</td>\n",
       "      <td>0</td>\n",
       "      <td>0</td>\n",
       "      <td>0</td>\n",
       "      <td>0</td>\n",
       "      <td>0</td>\n",
       "      <td>1</td>\n",
       "      <td>0</td>\n",
       "      <td>0</td>\n",
       "    </tr>\n",
       "    <tr>\n",
       "      <td>136</td>\n",
       "      <td>знания</td>\n",
       "      <td>знание</td>\n",
       "      <td>0.0123</td>\n",
       "      <td>1</td>\n",
       "      <td>6.0</td>\n",
       "      <td>0</td>\n",
       "      <td>1</td>\n",
       "      <td>0</td>\n",
       "      <td>0</td>\n",
       "      <td>0</td>\n",
       "      <td>1</td>\n",
       "      <td>0</td>\n",
       "      <td>0</td>\n",
       "    </tr>\n",
       "    <tr>\n",
       "      <td>172</td>\n",
       "      <td>получить больше знаний и умений</td>\n",
       "      <td>получить знание умение</td>\n",
       "      <td>0.0944</td>\n",
       "      <td>5</td>\n",
       "      <td>5.4</td>\n",
       "      <td>1</td>\n",
       "      <td>2</td>\n",
       "      <td>0</td>\n",
       "      <td>0</td>\n",
       "      <td>0</td>\n",
       "      <td>1</td>\n",
       "      <td>0</td>\n",
       "      <td>0</td>\n",
       "    </tr>\n",
       "  </tbody>\n",
       "</table>\n",
       "</div>"
      ],
      "text/plain": [
       "                                          goal_name  \\\n",
       "25   повысить уровень знаний возможности компьютера   \n",
       "70                               познание инноваций   \n",
       "124                                             fdd   \n",
       "136                                          знания   \n",
       "172                 получить больше знаний и умений   \n",
       "\n",
       "                                 goal_name_key_pos  goal_weight  goal_words  \\\n",
       "25   повысить уровень знание возможность компьютер       1.2060           5   \n",
       "70                              познание инновация       0.6429           2   \n",
       "124                                            NaN       0.0000           1   \n",
       "136                                         знание       0.0123           1   \n",
       "172                         получить знание умение       0.0944           5   \n",
       "\n",
       "     goal_aver_word_len  goal_verbs_counter  goal_nouns_counter  \\\n",
       "25                  8.4                   1                   4   \n",
       "70                  8.5                   0                   2   \n",
       "124                 3.0                   0                   0   \n",
       "136                 6.0                   0                   1   \n",
       "172                 5.4                   1                   2   \n",
       "\n",
       "     goal_numr_counter  goal_adj_counter  goal_digit_counter  abstract  \\\n",
       "25                   0                 0                   0         0   \n",
       "70                   0                 0                   0         0   \n",
       "124                  0                 0                   0         1   \n",
       "136                  0                 0                   0         1   \n",
       "172                  0                 0                   0         1   \n",
       "\n",
       "     subject  certain  \n",
       "25         0        1  \n",
       "70         0        1  \n",
       "124        0        0  \n",
       "136        0        0  \n",
       "172        0        0  "
      ]
     },
     "execution_count": 5,
     "metadata": {},
     "output_type": "execute_result"
    }
   ],
   "source": [
    "abstract.head()"
   ]
  },
  {
   "cell_type": "code",
   "execution_count": 6,
   "metadata": {},
   "outputs": [],
   "source": [
    "abstract_text_vectors = abstract[['goal_name_key_pos', 'abstract', 'subject', 'certain']]\n",
    "abstract_features = abstract.drop(columns=['goal_name', 'goal_name_key_pos'])"
   ]
  },
  {
   "cell_type": "code",
   "execution_count": 7,
   "metadata": {},
   "outputs": [],
   "source": [
    "from sklearn.model_selection import train_test_split"
   ]
  },
  {
   "cell_type": "markdown",
   "metadata": {},
   "source": [
    "#### Features approach"
   ]
  },
  {
   "cell_type": "code",
   "execution_count": 8,
   "metadata": {},
   "outputs": [],
   "source": [
    "abstract_features = abstract_features.drop(columns=['subject', 'certain'])"
   ]
  },
  {
   "cell_type": "code",
   "execution_count": 9,
   "metadata": {},
   "outputs": [],
   "source": [
    "X = abstract_features.drop('abstract', axis=1)\n",
    "y = abstract_features['abstract']"
   ]
  },
  {
   "cell_type": "code",
   "execution_count": 10,
   "metadata": {},
   "outputs": [
    {
     "data": {
      "text/plain": [
       "(899, 8)"
      ]
     },
     "execution_count": 10,
     "metadata": {},
     "output_type": "execute_result"
    }
   ],
   "source": [
    "X.shape"
   ]
  },
  {
   "cell_type": "code",
   "execution_count": 11,
   "metadata": {},
   "outputs": [
    {
     "data": {
      "text/plain": [
       "(899,)"
      ]
     },
     "execution_count": 11,
     "metadata": {},
     "output_type": "execute_result"
    }
   ],
   "source": [
    "y.shape"
   ]
  },
  {
   "cell_type": "code",
   "execution_count": 12,
   "metadata": {},
   "outputs": [],
   "source": [
    "X_train, X_test, y_train, y_test = train_test_split(X, y, test_size=0.2, random_state=42)"
   ]
  },
  {
   "cell_type": "code",
   "execution_count": 13,
   "metadata": {},
   "outputs": [
    {
     "data": {
      "text/html": [
       "<div>\n",
       "<style scoped>\n",
       "    .dataframe tbody tr th:only-of-type {\n",
       "        vertical-align: middle;\n",
       "    }\n",
       "\n",
       "    .dataframe tbody tr th {\n",
       "        vertical-align: top;\n",
       "    }\n",
       "\n",
       "    .dataframe thead th {\n",
       "        text-align: right;\n",
       "    }\n",
       "</style>\n",
       "<table border=\"1\" class=\"dataframe\">\n",
       "  <thead>\n",
       "    <tr style=\"text-align: right;\">\n",
       "      <th></th>\n",
       "      <th>goal_weight</th>\n",
       "      <th>goal_words</th>\n",
       "      <th>goal_aver_word_len</th>\n",
       "      <th>goal_verbs_counter</th>\n",
       "      <th>goal_nouns_counter</th>\n",
       "      <th>goal_numr_counter</th>\n",
       "      <th>goal_adj_counter</th>\n",
       "      <th>goal_digit_counter</th>\n",
       "    </tr>\n",
       "  </thead>\n",
       "  <tbody>\n",
       "    <tr>\n",
       "      <td>16946</td>\n",
       "      <td>2.1651</td>\n",
       "      <td>4</td>\n",
       "      <td>6.50</td>\n",
       "      <td>1</td>\n",
       "      <td>2</td>\n",
       "      <td>0</td>\n",
       "      <td>1</td>\n",
       "      <td>0</td>\n",
       "    </tr>\n",
       "    <tr>\n",
       "      <td>13196</td>\n",
       "      <td>0.3646</td>\n",
       "      <td>6</td>\n",
       "      <td>5.67</td>\n",
       "      <td>2</td>\n",
       "      <td>2</td>\n",
       "      <td>0</td>\n",
       "      <td>1</td>\n",
       "      <td>0</td>\n",
       "    </tr>\n",
       "    <tr>\n",
       "      <td>16543</td>\n",
       "      <td>0.6667</td>\n",
       "      <td>2</td>\n",
       "      <td>7.50</td>\n",
       "      <td>1</td>\n",
       "      <td>1</td>\n",
       "      <td>0</td>\n",
       "      <td>0</td>\n",
       "      <td>0</td>\n",
       "    </tr>\n",
       "    <tr>\n",
       "      <td>11362</td>\n",
       "      <td>0.0661</td>\n",
       "      <td>2</td>\n",
       "      <td>10.00</td>\n",
       "      <td>0</td>\n",
       "      <td>1</td>\n",
       "      <td>0</td>\n",
       "      <td>1</td>\n",
       "      <td>0</td>\n",
       "    </tr>\n",
       "    <tr>\n",
       "      <td>4642</td>\n",
       "      <td>1.0059</td>\n",
       "      <td>11</td>\n",
       "      <td>7.18</td>\n",
       "      <td>0</td>\n",
       "      <td>5</td>\n",
       "      <td>0</td>\n",
       "      <td>3</td>\n",
       "      <td>0</td>\n",
       "    </tr>\n",
       "  </tbody>\n",
       "</table>\n",
       "</div>"
      ],
      "text/plain": [
       "       goal_weight  goal_words  goal_aver_word_len  goal_verbs_counter  \\\n",
       "16946       2.1651           4                6.50                   1   \n",
       "13196       0.3646           6                5.67                   2   \n",
       "16543       0.6667           2                7.50                   1   \n",
       "11362       0.0661           2               10.00                   0   \n",
       "4642        1.0059          11                7.18                   0   \n",
       "\n",
       "       goal_nouns_counter  goal_numr_counter  goal_adj_counter  \\\n",
       "16946                   2                  0                 1   \n",
       "13196                   2                  0                 1   \n",
       "16543                   1                  0                 0   \n",
       "11362                   1                  0                 1   \n",
       "4642                    5                  0                 3   \n",
       "\n",
       "       goal_digit_counter  \n",
       "16946                   0  \n",
       "13196                   0  \n",
       "16543                   0  \n",
       "11362                   0  \n",
       "4642                    0  "
      ]
     },
     "execution_count": 13,
     "metadata": {},
     "output_type": "execute_result"
    }
   ],
   "source": [
    "X_train.head()"
   ]
  },
  {
   "cell_type": "code",
   "execution_count": 14,
   "metadata": {},
   "outputs": [],
   "source": [
    "from sklearn.preprocessing import MinMaxScaler"
   ]
  },
  {
   "cell_type": "code",
   "execution_count": 15,
   "metadata": {},
   "outputs": [],
   "source": [
    "mms = MinMaxScaler()"
   ]
  },
  {
   "cell_type": "code",
   "execution_count": 16,
   "metadata": {},
   "outputs": [],
   "source": [
    "X_train_scaled = mms.fit_transform(X_train)"
   ]
  },
  {
   "cell_type": "code",
   "execution_count": 17,
   "metadata": {},
   "outputs": [],
   "source": [
    "# X_train_scaled"
   ]
  },
  {
   "cell_type": "code",
   "execution_count": 18,
   "metadata": {},
   "outputs": [],
   "source": [
    "X_test_scaled = mms.fit_transform(X_test)"
   ]
  },
  {
   "cell_type": "code",
   "execution_count": 19,
   "metadata": {},
   "outputs": [],
   "source": [
    "from xgboost import XGBClassifier"
   ]
  },
  {
   "cell_type": "code",
   "execution_count": 20,
   "metadata": {},
   "outputs": [],
   "source": [
    "abstract_abs_xgb = XGBClassifier()"
   ]
  },
  {
   "cell_type": "code",
   "execution_count": 21,
   "metadata": {},
   "outputs": [
    {
     "data": {
      "text/plain": [
       "XGBClassifier(base_score=0.5, booster='gbtree', colsample_bylevel=1,\n",
       "              colsample_bynode=1, colsample_bytree=1, gamma=0, gpu_id=-1,\n",
       "              importance_type='gain', interaction_constraints='',\n",
       "              learning_rate=0.300000012, max_delta_step=0, max_depth=6,\n",
       "              min_child_weight=1, missing=nan, monotone_constraints='()',\n",
       "              n_estimators=100, n_jobs=0, num_parallel_tree=1,\n",
       "              objective='binary:logistic', random_state=0, reg_alpha=0,\n",
       "              reg_lambda=1, scale_pos_weight=1, subsample=1,\n",
       "              tree_method='exact', validate_parameters=1, verbosity=None)"
      ]
     },
     "execution_count": 21,
     "metadata": {},
     "output_type": "execute_result"
    }
   ],
   "source": [
    "abstract_abs_xgb.fit(X_train_scaled, y_train)"
   ]
  },
  {
   "cell_type": "code",
   "execution_count": 22,
   "metadata": {},
   "outputs": [],
   "source": [
    "y_pred = abstract_abs_xgb.predict(X_test_scaled)"
   ]
  },
  {
   "cell_type": "code",
   "execution_count": 24,
   "metadata": {},
   "outputs": [],
   "source": [
    "from sklearn.metrics import classification_report, accuracy_score, f1_score, roc_auc_score"
   ]
  },
  {
   "cell_type": "code",
   "execution_count": 25,
   "metadata": {},
   "outputs": [
    {
     "name": "stdout",
     "output_type": "stream",
     "text": [
      "              precision    recall  f1-score   support\n",
      "\n",
      "           0       0.64      0.54      0.58       108\n",
      "           1       0.44      0.54      0.48        72\n",
      "\n",
      "    accuracy                           0.54       180\n",
      "   macro avg       0.54      0.54      0.53       180\n",
      "weighted avg       0.56      0.54      0.54       180\n",
      "\n"
     ]
    }
   ],
   "source": [
    "print(classification_report(y_test, y_pred))"
   ]
  },
  {
   "cell_type": "code",
   "execution_count": 26,
   "metadata": {},
   "outputs": [
    {
     "data": {
      "text/plain": [
       "0.5388888888888889"
      ]
     },
     "execution_count": 26,
     "metadata": {},
     "output_type": "execute_result"
    }
   ],
   "source": [
    "accuracy_score(y_test, y_pred)"
   ]
  },
  {
   "cell_type": "code",
   "execution_count": 27,
   "metadata": {},
   "outputs": [
    {
     "data": {
      "text/plain": [
       "0.48447204968944096"
      ]
     },
     "execution_count": 27,
     "metadata": {},
     "output_type": "execute_result"
    }
   ],
   "source": [
    "f1_score(y_test, y_pred)"
   ]
  },
  {
   "cell_type": "code",
   "execution_count": 28,
   "metadata": {},
   "outputs": [
    {
     "data": {
      "text/plain": [
       "0.5393518518518517"
      ]
     },
     "execution_count": 28,
     "metadata": {},
     "output_type": "execute_result"
    }
   ],
   "source": [
    "roc_auc_score(y_test, y_pred)"
   ]
  },
  {
   "cell_type": "markdown",
   "metadata": {},
   "source": [
    "#### Vectors approach"
   ]
  },
  {
   "cell_type": "code",
   "execution_count": 29,
   "metadata": {},
   "outputs": [],
   "source": [
    "abstract_vectors = abstract_text_vectors.drop(columns=['subject', 'certain'])"
   ]
  },
  {
   "cell_type": "code",
   "execution_count": 30,
   "metadata": {},
   "outputs": [],
   "source": [
    "abstract_vectors.dropna(inplace=True)"
   ]
  },
  {
   "cell_type": "code",
   "execution_count": 31,
   "metadata": {},
   "outputs": [
    {
     "data": {
      "text/plain": [
       "Index(['goal_name_key_pos', 'abstract'], dtype='object')"
      ]
     },
     "execution_count": 31,
     "metadata": {},
     "output_type": "execute_result"
    }
   ],
   "source": [
    "abstract_vectors.columns"
   ]
  },
  {
   "cell_type": "code",
   "execution_count": 32,
   "metadata": {},
   "outputs": [],
   "source": [
    "from sklearn.feature_extraction.text import CountVectorizer, TfidfVectorizer"
   ]
  },
  {
   "cell_type": "code",
   "execution_count": 33,
   "metadata": {},
   "outputs": [],
   "source": [
    "text = abstract_vectors['goal_name_key_pos']\n",
    "y = abstract_vectors['abstract']"
   ]
  },
  {
   "cell_type": "code",
   "execution_count": 34,
   "metadata": {},
   "outputs": [
    {
     "data": {
      "text/plain": [
       "25           повысить уровень знание возможность компьютер\n",
       "70                                      познание инновация\n",
       "136                                                 знание\n",
       "172                                 получить знание умение\n",
       "291                                изучить английский язык\n",
       "                               ...                        \n",
       "17982                                  отдалиться молодёжь\n",
       "17983                найти интересный работа работать мозг\n",
       "17991                              быть интересный общение\n",
       "18015    получить сертификат эксперт региональный чемпи...\n",
       "18017                                закончить аспирантура\n",
       "Name: goal_name_key_pos, Length: 876, dtype: object"
      ]
     },
     "execution_count": 34,
     "metadata": {},
     "output_type": "execute_result"
    }
   ],
   "source": [
    "text"
   ]
  },
  {
   "cell_type": "code",
   "execution_count": 35,
   "metadata": {},
   "outputs": [],
   "source": [
    "tfidf = TfidfVectorizer()\n",
    "X = tfidf.fit_transform(text)"
   ]
  },
  {
   "cell_type": "code",
   "execution_count": 36,
   "metadata": {},
   "outputs": [
    {
     "data": {
      "text/plain": [
       "(876, 893)"
      ]
     },
     "execution_count": 36,
     "metadata": {},
     "output_type": "execute_result"
    }
   ],
   "source": [
    "X.shape"
   ]
  },
  {
   "cell_type": "code",
   "execution_count": 37,
   "metadata": {},
   "outputs": [],
   "source": [
    "X_train, X_test, y_train, y_test = train_test_split(X, y, test_size=0.2, random_state=0, stratify=y)"
   ]
  },
  {
   "cell_type": "code",
   "execution_count": 38,
   "metadata": {},
   "outputs": [
    {
     "data": {
      "text/plain": [
       "<700x893 sparse matrix of type '<class 'numpy.float64'>'\n",
       "\twith 2201 stored elements in Compressed Sparse Row format>"
      ]
     },
     "execution_count": 38,
     "metadata": {},
     "output_type": "execute_result"
    }
   ],
   "source": [
    "X_train"
   ]
  },
  {
   "cell_type": "code",
   "execution_count": 39,
   "metadata": {},
   "outputs": [],
   "source": [
    "abstract_abs_v_xgb = XGBClassifier()"
   ]
  },
  {
   "cell_type": "code",
   "execution_count": 40,
   "metadata": {},
   "outputs": [
    {
     "data": {
      "text/plain": [
       "XGBClassifier(base_score=0.5, booster='gbtree', colsample_bylevel=1,\n",
       "              colsample_bynode=1, colsample_bytree=1, gamma=0, gpu_id=-1,\n",
       "              importance_type='gain', interaction_constraints='',\n",
       "              learning_rate=0.300000012, max_delta_step=0, max_depth=6,\n",
       "              min_child_weight=1, missing=nan, monotone_constraints='()',\n",
       "              n_estimators=100, n_jobs=0, num_parallel_tree=1,\n",
       "              objective='binary:logistic', random_state=0, reg_alpha=0,\n",
       "              reg_lambda=1, scale_pos_weight=1, subsample=1,\n",
       "              tree_method='exact', validate_parameters=1, verbosity=None)"
      ]
     },
     "execution_count": 40,
     "metadata": {},
     "output_type": "execute_result"
    }
   ],
   "source": [
    "abstract_abs_v_xgb.fit(X_train, y_train)"
   ]
  },
  {
   "cell_type": "code",
   "execution_count": 41,
   "metadata": {},
   "outputs": [],
   "source": [
    "y_pred = abstract_abs_v_xgb.predict(X_test)"
   ]
  },
  {
   "cell_type": "code",
   "execution_count": 42,
   "metadata": {},
   "outputs": [
    {
     "name": "stdout",
     "output_type": "stream",
     "text": [
      "              precision    recall  f1-score   support\n",
      "\n",
      "           0       0.63      0.81      0.71       101\n",
      "           1       0.58      0.35      0.43        75\n",
      "\n",
      "    accuracy                           0.61       176\n",
      "   macro avg       0.60      0.58      0.57       176\n",
      "weighted avg       0.61      0.61      0.59       176\n",
      "\n"
     ]
    }
   ],
   "source": [
    "print(classification_report(y_test, y_pred))"
   ]
  },
  {
   "cell_type": "code",
   "execution_count": 43,
   "metadata": {},
   "outputs": [
    {
     "data": {
      "text/plain": [
       "0.6136363636363636"
      ]
     },
     "execution_count": 43,
     "metadata": {},
     "output_type": "execute_result"
    }
   ],
   "source": [
    "accuracy_score(y_test, y_pred)"
   ]
  },
  {
   "cell_type": "code",
   "execution_count": 44,
   "metadata": {},
   "outputs": [
    {
     "data": {
      "text/plain": [
       "0.4333333333333333"
      ]
     },
     "execution_count": 44,
     "metadata": {},
     "output_type": "execute_result"
    }
   ],
   "source": [
    "f1_score(y_test, y_pred)"
   ]
  },
  {
   "cell_type": "code",
   "execution_count": 45,
   "metadata": {},
   "outputs": [
    {
     "data": {
      "text/plain": [
       "0.5792739273927393"
      ]
     },
     "execution_count": 45,
     "metadata": {},
     "output_type": "execute_result"
    }
   ],
   "source": [
    "roc_auc_score(y_test, y_pred)"
   ]
  },
  {
   "cell_type": "markdown",
   "metadata": {},
   "source": [
    "#### Neural net approach"
   ]
  },
  {
   "cell_type": "code",
   "execution_count": 46,
   "metadata": {},
   "outputs": [],
   "source": [
    "from tensorflow.keras.preprocessing.text import Tokenizer\n",
    "from tensorflow.keras.preprocessing.sequence import pad_sequences\n",
    "from tensorflow.keras.models import Sequential\n",
    "from tensorflow.keras.layers import Dense,Flatten,Embedding,Dropout\n",
    "from tensorflow.keras.layers import Conv1D, MaxPooling1D, GlobalMaxPooling1D "
   ]
  },
  {
   "cell_type": "code",
   "execution_count": 47,
   "metadata": {},
   "outputs": [],
   "source": [
    "text = abstract_vectors['goal_name_key_pos']\n",
    "y = abstract_vectors['abstract']"
   ]
  },
  {
   "cell_type": "code",
   "execution_count": 48,
   "metadata": {},
   "outputs": [],
   "source": [
    "token = Tokenizer()\n",
    "token.fit_on_texts(text)"
   ]
  },
  {
   "cell_type": "code",
   "execution_count": 49,
   "metadata": {},
   "outputs": [
    {
     "data": {
      "text/plain": [
       "900"
      ]
     },
     "execution_count": 49,
     "metadata": {},
     "output_type": "execute_result"
    }
   ],
   "source": [
    "vocab_size = len(token.word_index) + 1\n",
    "vocab_size"
   ]
  },
  {
   "cell_type": "code",
   "execution_count": 50,
   "metadata": {},
   "outputs": [],
   "source": [
    "# print(token.word_index)"
   ]
  },
  {
   "cell_type": "code",
   "execution_count": 51,
   "metadata": {},
   "outputs": [],
   "source": [
    "encoded_text = token.texts_to_sequences(text)"
   ]
  },
  {
   "cell_type": "code",
   "execution_count": 52,
   "metadata": {},
   "outputs": [],
   "source": [
    "# print(encoded_text)"
   ]
  },
  {
   "cell_type": "code",
   "execution_count": 53,
   "metadata": {},
   "outputs": [
    {
     "data": {
      "text/plain": [
       "21"
      ]
     },
     "execution_count": 53,
     "metadata": {},
     "output_type": "execute_result"
    }
   ],
   "source": [
    "max_len = int()\n",
    "for i in encoded_text:\n",
    "    len_ = len(i)\n",
    "    if len_ > max_len:\n",
    "        max_len = len_\n",
    "        \n",
    "max_len"
   ]
  },
  {
   "cell_type": "code",
   "execution_count": 54,
   "metadata": {},
   "outputs": [],
   "source": [
    "max_length = 21\n",
    "X = pad_sequences(encoded_text, maxlen=max_length, padding='post')"
   ]
  },
  {
   "cell_type": "code",
   "execution_count": 55,
   "metadata": {},
   "outputs": [
    {
     "data": {
      "text/plain": [
       "(876, 21)"
      ]
     },
     "execution_count": 55,
     "metadata": {},
     "output_type": "execute_result"
    }
   ],
   "source": [
    "X.shape"
   ]
  },
  {
   "cell_type": "code",
   "execution_count": 56,
   "metadata": {},
   "outputs": [],
   "source": [
    "X_train, X_test, y_train, y_test = train_test_split(X, y, test_size=0.2, random_state=0, stratify=y)"
   ]
  },
  {
   "cell_type": "code",
   "execution_count": 57,
   "metadata": {},
   "outputs": [],
   "source": [
    "vec_size = 100\n",
    "\n",
    "model = Sequential()\n",
    "model.add(Embedding(vocab_size, vec_size, input_length=max_length))\n",
    "\n",
    "model.add(Conv1D(32, 2, activation='relu'))\n",
    "model.add(MaxPooling1D(2))\n",
    "model.add(Dropout(0.5))\n",
    "\n",
    "model.add(Dense(32, activation='relu'))\n",
    "model.add(Dropout(0.5))\n",
    "\n",
    "model.add(Dense(16, activation='relu'))\n",
    "\n",
    "model.add(GlobalMaxPooling1D())\n",
    "\n",
    "model.add(Dense(1, activation='sigmoid'))"
   ]
  },
  {
   "cell_type": "code",
   "execution_count": 58,
   "metadata": {},
   "outputs": [
    {
     "name": "stdout",
     "output_type": "stream",
     "text": [
      "Wall time: 37.9 ms\n"
     ]
    }
   ],
   "source": [
    "%%time\n",
    "model.compile(optimizer='adam', loss='binary_crossentropy', metrics=['accuracy'])"
   ]
  },
  {
   "cell_type": "code",
   "execution_count": 59,
   "metadata": {},
   "outputs": [],
   "source": [
    "import numpy as np"
   ]
  },
  {
   "cell_type": "code",
   "execution_count": 60,
   "metadata": {},
   "outputs": [],
   "source": [
    "X_train = np.asarray(X_train)\n",
    "y_train = np.asarray(y_train)\n",
    "X_test= np.asarray(X_test)\n",
    "y_test = np.asarray(y_test)"
   ]
  },
  {
   "cell_type": "code",
   "execution_count": 61,
   "metadata": {},
   "outputs": [],
   "source": [
    "from tensorflow.keras.callbacks import EarlyStopping"
   ]
  },
  {
   "cell_type": "code",
   "execution_count": 62,
   "metadata": {},
   "outputs": [],
   "source": [
    "early_stop = EarlyStopping(monitor='val_loss', mode='min', verbose=1, patience=25)"
   ]
  },
  {
   "cell_type": "code",
   "execution_count": 63,
   "metadata": {
    "scrolled": true
   },
   "outputs": [
    {
     "name": "stdout",
     "output_type": "stream",
     "text": [
      "Train on 700 samples, validate on 176 samples\n",
      "Epoch 1/600\n",
      "700/700 [==============================] - 1s 2ms/sample - loss: 0.6862 - accuracy: 0.5757 - val_loss: 0.6863 - val_accuracy: 0.5739\n",
      "Epoch 2/600\n",
      "700/700 [==============================] - 0s 202us/sample - loss: 0.6809 - accuracy: 0.5771 - val_loss: 0.6861 - val_accuracy: 0.5739\n",
      "Epoch 3/600\n",
      "700/700 [==============================] - 0s 200us/sample - loss: 0.6813 - accuracy: 0.5771 - val_loss: 0.6867 - val_accuracy: 0.5739\n",
      "Epoch 4/600\n",
      "700/700 [==============================] - 0s 215us/sample - loss: 0.6787 - accuracy: 0.5771 - val_loss: 0.6875 - val_accuracy: 0.5739\n",
      "Epoch 5/600\n",
      "700/700 [==============================] - 0s 202us/sample - loss: 0.6812 - accuracy: 0.5771 - val_loss: 0.6857 - val_accuracy: 0.5739\n",
      "Epoch 6/600\n",
      "700/700 [==============================] - 0s 202us/sample - loss: 0.6808 - accuracy: 0.5771 - val_loss: 0.6867 - val_accuracy: 0.5739\n",
      "Epoch 7/600\n",
      "700/700 [==============================] - 0s 204us/sample - loss: 0.6764 - accuracy: 0.5771 - val_loss: 0.6860 - val_accuracy: 0.5739\n",
      "Epoch 8/600\n",
      "700/700 [==============================] - 0s 205us/sample - loss: 0.6700 - accuracy: 0.5771 - val_loss: 0.6872 - val_accuracy: 0.5739\n",
      "Epoch 9/600\n",
      "700/700 [==============================] - 0s 197us/sample - loss: 0.6583 - accuracy: 0.5771 - val_loss: 0.6920 - val_accuracy: 0.5739\n",
      "Epoch 10/600\n",
      "700/700 [==============================] - 0s 202us/sample - loss: 0.6328 - accuracy: 0.5771 - val_loss: 0.7038 - val_accuracy: 0.5739\n",
      "Epoch 11/600\n",
      "700/700 [==============================] - 0s 197us/sample - loss: 0.6018 - accuracy: 0.5971 - val_loss: 0.7264 - val_accuracy: 0.5398\n",
      "Epoch 12/600\n",
      "700/700 [==============================] - 0s 191us/sample - loss: 0.5445 - accuracy: 0.7100 - val_loss: 0.7968 - val_accuracy: 0.5057\n",
      "Epoch 13/600\n",
      "700/700 [==============================] - 0s 199us/sample - loss: 0.4833 - accuracy: 0.8129 - val_loss: 0.8682 - val_accuracy: 0.5170\n",
      "Epoch 14/600\n",
      "700/700 [==============================] - 0s 195us/sample - loss: 0.4258 - accuracy: 0.8329 - val_loss: 1.0255 - val_accuracy: 0.5341\n",
      "Epoch 15/600\n",
      "700/700 [==============================] - 0s 209us/sample - loss: 0.3657 - accuracy: 0.8257 - val_loss: 1.1189 - val_accuracy: 0.4886\n",
      "Epoch 16/600\n",
      "700/700 [==============================] - 0s 204us/sample - loss: 0.3191 - accuracy: 0.8643 - val_loss: 1.2492 - val_accuracy: 0.5170\n",
      "Epoch 17/600\n",
      "700/700 [==============================] - 0s 208us/sample - loss: 0.3005 - accuracy: 0.8886 - val_loss: 1.3542 - val_accuracy: 0.4886\n",
      "Epoch 18/600\n",
      "700/700 [==============================] - 0s 211us/sample - loss: 0.2728 - accuracy: 0.8729 - val_loss: 1.4521 - val_accuracy: 0.4773\n",
      "Epoch 19/600\n",
      "700/700 [==============================] - 0s 207us/sample - loss: 0.2556 - accuracy: 0.8971 - val_loss: 1.5226 - val_accuracy: 0.4602\n",
      "Epoch 20/600\n",
      "700/700 [==============================] - 0s 212us/sample - loss: 0.2553 - accuracy: 0.8886 - val_loss: 1.5415 - val_accuracy: 0.4659\n",
      "Epoch 21/600\n",
      "700/700 [==============================] - 0s 194us/sample - loss: 0.2384 - accuracy: 0.8914 - val_loss: 1.6502 - val_accuracy: 0.4659\n",
      "Epoch 22/600\n",
      "700/700 [==============================] - 0s 211us/sample - loss: 0.2346 - accuracy: 0.9029 - val_loss: 1.6661 - val_accuracy: 0.4943\n",
      "Epoch 23/600\n",
      "700/700 [==============================] - 0s 204us/sample - loss: 0.2325 - accuracy: 0.8871 - val_loss: 1.8057 - val_accuracy: 0.4773\n",
      "Epoch 24/600\n",
      "700/700 [==============================] - 0s 202us/sample - loss: 0.2268 - accuracy: 0.8886 - val_loss: 1.8181 - val_accuracy: 0.4659\n",
      "Epoch 25/600\n",
      "700/700 [==============================] - 0s 208us/sample - loss: 0.1990 - accuracy: 0.8986 - val_loss: 1.9622 - val_accuracy: 0.4716\n",
      "Epoch 26/600\n",
      "700/700 [==============================] - 0s 212us/sample - loss: 0.2178 - accuracy: 0.8957 - val_loss: 2.0120 - val_accuracy: 0.4716\n",
      "Epoch 27/600\n",
      "700/700 [==============================] - 0s 202us/sample - loss: 0.1889 - accuracy: 0.9114 - val_loss: 2.1288 - val_accuracy: 0.4602\n",
      "Epoch 28/600\n",
      "700/700 [==============================] - 0s 207us/sample - loss: 0.1856 - accuracy: 0.9129 - val_loss: 2.1670 - val_accuracy: 0.4830\n",
      "Epoch 29/600\n",
      "700/700 [==============================] - 0s 218us/sample - loss: 0.1906 - accuracy: 0.8971 - val_loss: 2.2930 - val_accuracy: 0.4659\n",
      "Epoch 30/600\n",
      "700/700 [==============================] - 0s 211us/sample - loss: 0.1891 - accuracy: 0.9114 - val_loss: 2.4145 - val_accuracy: 0.4659\n",
      "Epoch 00030: early stopping\n"
     ]
    },
    {
     "data": {
      "text/plain": [
       "<tensorflow.python.keras.callbacks.History at 0x2919a4cd848>"
      ]
     },
     "execution_count": 63,
     "metadata": {},
     "output_type": "execute_result"
    }
   ],
   "source": [
    "model.fit(X_train, y_train, epochs=600, validation_data=(X_test, y_test), callbacks=[early_stop])"
   ]
  },
  {
   "cell_type": "code",
   "execution_count": 64,
   "metadata": {},
   "outputs": [],
   "source": [
    "losses = pd.DataFrame(model.history.history)"
   ]
  },
  {
   "cell_type": "code",
   "execution_count": 65,
   "metadata": {},
   "outputs": [
    {
     "data": {
      "text/plain": [
       "<matplotlib.axes._subplots.AxesSubplot at 0x2919e666d48>"
      ]
     },
     "execution_count": 65,
     "metadata": {},
     "output_type": "execute_result"
    }
   ],
   "source": [
    "losses[['accuracy','val_accuracy']].plot()"
   ]
  },
  {
   "cell_type": "code",
   "execution_count": 66,
   "metadata": {},
   "outputs": [
    {
     "data": {
      "text/plain": [
       "<matplotlib.axes._subplots.AxesSubplot at 0x2919e8b0a88>"
      ]
     },
     "execution_count": 66,
     "metadata": {},
     "output_type": "execute_result"
    },
    {
     "data": {
      "image/png": "[encoded data removed]",
      "text/plain": [
       "<Figure size 432x288 with 1 Axes>"
      ]
     },
     "metadata": {
      "needs_background": "light"
     },
     "output_type": "display_data"
    }
   ],
   "source": [
    "losses[['loss','val_loss']].plot()"
   ]
  },
  {
   "cell_type": "code",
   "execution_count": 67,
   "metadata": {},
   "outputs": [
    {
     "name": "stdout",
     "output_type": "stream",
     "text": [
      "['loss', 'accuracy']\n",
      "[2.4144920110702515, 0.4659091]\n"
     ]
    }
   ],
   "source": [
    "print(model.metrics_names)\n",
    "print(model.evaluate(X_test,y_test,verbose=0))"
   ]
  },
  {
   "cell_type": "code",
   "execution_count": 68,
   "metadata": {},
   "outputs": [],
   "source": [
    "y_pred = model.predict_classes(X_test)"
   ]
  },
  {
   "cell_type": "code",
   "execution_count": 69,
   "metadata": {},
   "outputs": [
    {
     "name": "stdout",
     "output_type": "stream",
     "text": [
      "              precision    recall  f1-score   support\n",
      "\n",
      "           0       0.54      0.49      0.51       101\n",
      "           1       0.39      0.44      0.41        75\n",
      "\n",
      "    accuracy                           0.47       176\n",
      "   macro avg       0.46      0.46      0.46       176\n",
      "weighted avg       0.47      0.47      0.47       176\n",
      "\n"
     ]
    }
   ],
   "source": [
    "print(classification_report(y_test, y_pred))"
   ]
  },
  {
   "cell_type": "code",
   "execution_count": 70,
   "metadata": {},
   "outputs": [
    {
     "data": {
      "text/plain": [
       "0.4659090909090909"
      ]
     },
     "execution_count": 70,
     "metadata": {},
     "output_type": "execute_result"
    }
   ],
   "source": [
    "accuracy_score(y_test, y_pred)"
   ]
  },
  {
   "cell_type": "code",
   "execution_count": 71,
   "metadata": {},
   "outputs": [
    {
     "data": {
      "text/plain": [
       "0.4125"
      ]
     },
     "execution_count": 71,
     "metadata": {},
     "output_type": "execute_result"
    }
   ],
   "source": [
    "f1_score(y_test, y_pred)"
   ]
  },
  {
   "cell_type": "code",
   "execution_count": 72,
   "metadata": {},
   "outputs": [
    {
     "data": {
      "text/plain": [
       "0.46257425742574254"
      ]
     },
     "execution_count": 72,
     "metadata": {},
     "output_type": "execute_result"
    }
   ],
   "source": [
    "roc_auc_score(y_test, y_pred)"
   ]
  },
  {
   "cell_type": "code",
   "execution_count": null,
   "metadata": {},
   "outputs": [],
   "source": []
  }
 ],
 "metadata": {
  "kernelspec": {
   "display_name": "Python 3",
   "language": "python",
   "name": "python3"
  },
  "language_info": {
   "codemirror_mode": {
    "name": "ipython",
    "version": 3
   },
   "file_extension": ".py",
   "mimetype": "text/x-python",
   "name": "python",
   "nbconvert_exporter": "python",
   "pygments_lexer": "ipython3",
   "version": "3.7.4"
  }
 },
 "nbformat": 4,
 "nbformat_minor": 4
}
