{
 "cells": [
  {
   "cell_type": "code",
   "execution_count": 1,
   "metadata": {},
   "outputs": [],
   "source": [
    "import pandas as pd\n",
    "import os"
   ]
  },
  {
   "cell_type": "code",
   "execution_count": 2,
   "metadata": {},
   "outputs": [],
   "source": [
    "import pickle"
   ]
  },
  {
   "cell_type": "code",
   "execution_count": 3,
   "metadata": {},
   "outputs": [],
   "source": [
    "edu_car_df = pd.read_csv('../../clean_data/only_name_edu_car.csv', index_col=0)"
   ]
  },
  {
   "cell_type": "code",
   "execution_count": 4,
   "metadata": {},
   "outputs": [
    {
     "data": {
      "text/html": [
       "<div>\n",
       "<style scoped>\n",
       "    .dataframe tbody tr th:only-of-type {\n",
       "        vertical-align: middle;\n",
       "    }\n",
       "\n",
       "    .dataframe tbody tr th {\n",
       "        vertical-align: top;\n",
       "    }\n",
       "\n",
       "    .dataframe thead th {\n",
       "        text-align: right;\n",
       "    }\n",
       "</style>\n",
       "<table border=\"1\" class=\"dataframe\">\n",
       "  <thead>\n",
       "    <tr style=\"text-align: right;\">\n",
       "      <th></th>\n",
       "      <th>goal_name</th>\n",
       "      <th>goal_name_key_pos</th>\n",
       "      <th>goal_weight</th>\n",
       "      <th>goal_words</th>\n",
       "      <th>goal_aver_word_len</th>\n",
       "      <th>goal_verbs_counter</th>\n",
       "      <th>goal_nouns_counter</th>\n",
       "      <th>goal_numr_counter</th>\n",
       "      <th>goal_adj_counter</th>\n",
       "      <th>goal_digit_counter</th>\n",
       "      <th>label_education</th>\n",
       "      <th>label_attractor_career</th>\n",
       "    </tr>\n",
       "  </thead>\n",
       "  <tbody>\n",
       "    <tr>\n",
       "      <td>25</td>\n",
       "      <td>повысить уровень знаний возможности компьютера</td>\n",
       "      <td>повысить уровень знание возможность компьютер</td>\n",
       "      <td>1.2060</td>\n",
       "      <td>5</td>\n",
       "      <td>8.4</td>\n",
       "      <td>1</td>\n",
       "      <td>4</td>\n",
       "      <td>0</td>\n",
       "      <td>0</td>\n",
       "      <td>0</td>\n",
       "      <td>0</td>\n",
       "      <td>1</td>\n",
       "    </tr>\n",
       "    <tr>\n",
       "      <td>70</td>\n",
       "      <td>познание инноваций</td>\n",
       "      <td>познание инновация</td>\n",
       "      <td>0.6429</td>\n",
       "      <td>2</td>\n",
       "      <td>8.5</td>\n",
       "      <td>0</td>\n",
       "      <td>2</td>\n",
       "      <td>0</td>\n",
       "      <td>0</td>\n",
       "      <td>0</td>\n",
       "      <td>1</td>\n",
       "      <td>0</td>\n",
       "    </tr>\n",
       "    <tr>\n",
       "      <td>124</td>\n",
       "      <td>fdd</td>\n",
       "      <td>NaN</td>\n",
       "      <td>0.0000</td>\n",
       "      <td>1</td>\n",
       "      <td>3.0</td>\n",
       "      <td>0</td>\n",
       "      <td>0</td>\n",
       "      <td>0</td>\n",
       "      <td>0</td>\n",
       "      <td>0</td>\n",
       "      <td>0</td>\n",
       "      <td>0</td>\n",
       "    </tr>\n",
       "    <tr>\n",
       "      <td>136</td>\n",
       "      <td>знания</td>\n",
       "      <td>знание</td>\n",
       "      <td>0.0123</td>\n",
       "      <td>1</td>\n",
       "      <td>6.0</td>\n",
       "      <td>0</td>\n",
       "      <td>1</td>\n",
       "      <td>0</td>\n",
       "      <td>0</td>\n",
       "      <td>0</td>\n",
       "      <td>1</td>\n",
       "      <td>0</td>\n",
       "    </tr>\n",
       "    <tr>\n",
       "      <td>172</td>\n",
       "      <td>получить больше знаний и умений</td>\n",
       "      <td>получить знание умение</td>\n",
       "      <td>0.0944</td>\n",
       "      <td>5</td>\n",
       "      <td>5.4</td>\n",
       "      <td>1</td>\n",
       "      <td>2</td>\n",
       "      <td>0</td>\n",
       "      <td>0</td>\n",
       "      <td>0</td>\n",
       "      <td>0</td>\n",
       "      <td>0</td>\n",
       "    </tr>\n",
       "  </tbody>\n",
       "</table>\n",
       "</div>"
      ],
      "text/plain": [
       "                                          goal_name  \\\n",
       "25   повысить уровень знаний возможности компьютера   \n",
       "70                               познание инноваций   \n",
       "124                                             fdd   \n",
       "136                                          знания   \n",
       "172                 получить больше знаний и умений   \n",
       "\n",
       "                                 goal_name_key_pos  goal_weight  goal_words  \\\n",
       "25   повысить уровень знание возможность компьютер       1.2060           5   \n",
       "70                              познание инновация       0.6429           2   \n",
       "124                                            NaN       0.0000           1   \n",
       "136                                         знание       0.0123           1   \n",
       "172                         получить знание умение       0.0944           5   \n",
       "\n",
       "     goal_aver_word_len  goal_verbs_counter  goal_nouns_counter  \\\n",
       "25                  8.4                   1                   4   \n",
       "70                  8.5                   0                   2   \n",
       "124                 3.0                   0                   0   \n",
       "136                 6.0                   0                   1   \n",
       "172                 5.4                   1                   2   \n",
       "\n",
       "     goal_numr_counter  goal_adj_counter  goal_digit_counter  label_education  \\\n",
       "25                   0                 0                   0                0   \n",
       "70                   0                 0                   0                1   \n",
       "124                  0                 0                   0                0   \n",
       "136                  0                 0                   0                1   \n",
       "172                  0                 0                   0                0   \n",
       "\n",
       "     label_attractor_career  \n",
       "25                        1  \n",
       "70                        0  \n",
       "124                       0  \n",
       "136                       0  \n",
       "172                       0  "
      ]
     },
     "execution_count": 4,
     "metadata": {},
     "output_type": "execute_result"
    }
   ],
   "source": [
    "edu_car_df.head()"
   ]
  },
  {
   "cell_type": "code",
   "execution_count": 5,
   "metadata": {},
   "outputs": [],
   "source": [
    "edu_car = edu_car_df.copy()"
   ]
  },
  {
   "cell_type": "code",
   "execution_count": 6,
   "metadata": {},
   "outputs": [],
   "source": [
    "edu_car_text_vectors = edu_car[['goal_name_key_pos', 'label_education', 'label_attractor_career']]\n",
    "edu_car_features = edu_car.drop(columns=['goal_name', 'goal_name_key_pos'])"
   ]
  },
  {
   "cell_type": "code",
   "execution_count": 7,
   "metadata": {},
   "outputs": [],
   "source": [
    "from sklearn.model_selection import train_test_split"
   ]
  },
  {
   "cell_type": "markdown",
   "metadata": {},
   "source": [
    "### Career"
   ]
  },
  {
   "cell_type": "markdown",
   "metadata": {},
   "source": [
    "#### Features approach"
   ]
  },
  {
   "cell_type": "code",
   "execution_count": 8,
   "metadata": {},
   "outputs": [],
   "source": [
    "car_features = edu_car_features.drop(columns=['label_education'])"
   ]
  },
  {
   "cell_type": "code",
   "execution_count": 9,
   "metadata": {},
   "outputs": [],
   "source": [
    "X = car_features.drop('label_attractor_career', axis=1)\n",
    "y = car_features['label_attractor_career']"
   ]
  },
  {
   "cell_type": "code",
   "execution_count": 10,
   "metadata": {},
   "outputs": [
    {
     "data": {
      "text/plain": [
       "(899, 8)"
      ]
     },
     "execution_count": 10,
     "metadata": {},
     "output_type": "execute_result"
    }
   ],
   "source": [
    "X.shape"
   ]
  },
  {
   "cell_type": "code",
   "execution_count": 11,
   "metadata": {},
   "outputs": [
    {
     "data": {
      "text/plain": [
       "(899,)"
      ]
     },
     "execution_count": 11,
     "metadata": {},
     "output_type": "execute_result"
    }
   ],
   "source": [
    "y.shape"
   ]
  },
  {
   "cell_type": "code",
   "execution_count": 12,
   "metadata": {},
   "outputs": [],
   "source": [
    "X_train, X_test, y_train, y_test = train_test_split(X, y, test_size=0.2, random_state=42)"
   ]
  },
  {
   "cell_type": "code",
   "execution_count": 13,
   "metadata": {},
   "outputs": [
    {
     "data": {
      "text/html": [
       "<div>\n",
       "<style scoped>\n",
       "    .dataframe tbody tr th:only-of-type {\n",
       "        vertical-align: middle;\n",
       "    }\n",
       "\n",
       "    .dataframe tbody tr th {\n",
       "        vertical-align: top;\n",
       "    }\n",
       "\n",
       "    .dataframe thead th {\n",
       "        text-align: right;\n",
       "    }\n",
       "</style>\n",
       "<table border=\"1\" class=\"dataframe\">\n",
       "  <thead>\n",
       "    <tr style=\"text-align: right;\">\n",
       "      <th></th>\n",
       "      <th>goal_weight</th>\n",
       "      <th>goal_words</th>\n",
       "      <th>goal_aver_word_len</th>\n",
       "      <th>goal_verbs_counter</th>\n",
       "      <th>goal_nouns_counter</th>\n",
       "      <th>goal_numr_counter</th>\n",
       "      <th>goal_adj_counter</th>\n",
       "      <th>goal_digit_counter</th>\n",
       "    </tr>\n",
       "  </thead>\n",
       "  <tbody>\n",
       "    <tr>\n",
       "      <td>16946</td>\n",
       "      <td>2.1651</td>\n",
       "      <td>4</td>\n",
       "      <td>6.50</td>\n",
       "      <td>1</td>\n",
       "      <td>2</td>\n",
       "      <td>0</td>\n",
       "      <td>1</td>\n",
       "      <td>0</td>\n",
       "    </tr>\n",
       "    <tr>\n",
       "      <td>13196</td>\n",
       "      <td>0.3646</td>\n",
       "      <td>6</td>\n",
       "      <td>5.67</td>\n",
       "      <td>2</td>\n",
       "      <td>2</td>\n",
       "      <td>0</td>\n",
       "      <td>1</td>\n",
       "      <td>0</td>\n",
       "    </tr>\n",
       "    <tr>\n",
       "      <td>16543</td>\n",
       "      <td>0.6667</td>\n",
       "      <td>2</td>\n",
       "      <td>7.50</td>\n",
       "      <td>1</td>\n",
       "      <td>1</td>\n",
       "      <td>0</td>\n",
       "      <td>0</td>\n",
       "      <td>0</td>\n",
       "    </tr>\n",
       "    <tr>\n",
       "      <td>11362</td>\n",
       "      <td>0.0661</td>\n",
       "      <td>2</td>\n",
       "      <td>10.00</td>\n",
       "      <td>0</td>\n",
       "      <td>1</td>\n",
       "      <td>0</td>\n",
       "      <td>1</td>\n",
       "      <td>0</td>\n",
       "    </tr>\n",
       "    <tr>\n",
       "      <td>4642</td>\n",
       "      <td>1.0059</td>\n",
       "      <td>11</td>\n",
       "      <td>7.18</td>\n",
       "      <td>0</td>\n",
       "      <td>5</td>\n",
       "      <td>0</td>\n",
       "      <td>3</td>\n",
       "      <td>0</td>\n",
       "    </tr>\n",
       "  </tbody>\n",
       "</table>\n",
       "</div>"
      ],
      "text/plain": [
       "       goal_weight  goal_words  goal_aver_word_len  goal_verbs_counter  \\\n",
       "16946       2.1651           4                6.50                   1   \n",
       "13196       0.3646           6                5.67                   2   \n",
       "16543       0.6667           2                7.50                   1   \n",
       "11362       0.0661           2               10.00                   0   \n",
       "4642        1.0059          11                7.18                   0   \n",
       "\n",
       "       goal_nouns_counter  goal_numr_counter  goal_adj_counter  \\\n",
       "16946                   2                  0                 1   \n",
       "13196                   2                  0                 1   \n",
       "16543                   1                  0                 0   \n",
       "11362                   1                  0                 1   \n",
       "4642                    5                  0                 3   \n",
       "\n",
       "       goal_digit_counter  \n",
       "16946                   0  \n",
       "13196                   0  \n",
       "16543                   0  \n",
       "11362                   0  \n",
       "4642                    0  "
      ]
     },
     "execution_count": 13,
     "metadata": {},
     "output_type": "execute_result"
    }
   ],
   "source": [
    "X_train.head()"
   ]
  },
  {
   "cell_type": "code",
   "execution_count": 14,
   "metadata": {},
   "outputs": [],
   "source": [
    "from sklearn.preprocessing import MinMaxScaler"
   ]
  },
  {
   "cell_type": "code",
   "execution_count": 15,
   "metadata": {},
   "outputs": [],
   "source": [
    "mms = MinMaxScaler()"
   ]
  },
  {
   "cell_type": "code",
   "execution_count": 16,
   "metadata": {},
   "outputs": [],
   "source": [
    "X_train_scaled = mms.fit_transform(X_train)"
   ]
  },
  {
   "cell_type": "code",
   "execution_count": 17,
   "metadata": {},
   "outputs": [],
   "source": [
    "X_test_scaled = mms.fit_transform(X_test)"
   ]
  },
  {
   "cell_type": "code",
   "execution_count": 18,
   "metadata": {},
   "outputs": [],
   "source": [
    "from xgboost import XGBClassifier"
   ]
  },
  {
   "cell_type": "code",
   "execution_count": 19,
   "metadata": {},
   "outputs": [],
   "source": [
    "car_xgb = XGBClassifier()"
   ]
  },
  {
   "cell_type": "code",
   "execution_count": 20,
   "metadata": {},
   "outputs": [
    {
     "data": {
      "text/plain": [
       "XGBClassifier(base_score=0.5, booster='gbtree', colsample_bylevel=1,\n",
       "              colsample_bynode=1, colsample_bytree=1, gamma=0, gpu_id=-1,\n",
       "              importance_type='gain', interaction_constraints='',\n",
       "              learning_rate=0.300000012, max_delta_step=0, max_depth=6,\n",
       "              min_child_weight=1, missing=nan, monotone_constraints='()',\n",
       "              n_estimators=100, n_jobs=0, num_parallel_tree=1,\n",
       "              objective='binary:logistic', random_state=0, reg_alpha=0,\n",
       "              reg_lambda=1, scale_pos_weight=1, subsample=1,\n",
       "              tree_method='exact', validate_parameters=1, verbosity=None)"
      ]
     },
     "execution_count": 20,
     "metadata": {},
     "output_type": "execute_result"
    }
   ],
   "source": [
    "car_xgb.fit(X_train_scaled, y_train)"
   ]
  },
  {
   "cell_type": "code",
   "execution_count": 21,
   "metadata": {},
   "outputs": [],
   "source": [
    "y_pred = car_xgb.predict(X_test_scaled)"
   ]
  },
  {
   "cell_type": "code",
   "execution_count": 22,
   "metadata": {},
   "outputs": [],
   "source": [
    "from sklearn.metrics import classification_report, accuracy_score, f1_score, roc_auc_score"
   ]
  },
  {
   "cell_type": "code",
   "execution_count": 23,
   "metadata": {},
   "outputs": [
    {
     "name": "stdout",
     "output_type": "stream",
     "text": [
      "              precision    recall  f1-score   support\n",
      "\n",
      "           0       0.65      0.77      0.71       114\n",
      "           1       0.42      0.29      0.34        66\n",
      "\n",
      "    accuracy                           0.59       180\n",
      "   macro avg       0.54      0.53      0.52       180\n",
      "weighted avg       0.57      0.59      0.57       180\n",
      "\n"
     ]
    }
   ],
   "source": [
    "print(classification_report(y_test, y_pred))"
   ]
  },
  {
   "cell_type": "code",
   "execution_count": 24,
   "metadata": {},
   "outputs": [
    {
     "data": {
      "text/plain": [
       "0.5944444444444444"
      ]
     },
     "execution_count": 24,
     "metadata": {},
     "output_type": "execute_result"
    }
   ],
   "source": [
    "accuracy_score(y_test, y_pred)"
   ]
  },
  {
   "cell_type": "code",
   "execution_count": 25,
   "metadata": {},
   "outputs": [
    {
     "data": {
      "text/plain": [
       "0.34234234234234234"
      ]
     },
     "execution_count": 25,
     "metadata": {},
     "output_type": "execute_result"
    }
   ],
   "source": [
    "f1_score(y_test, y_pred)"
   ]
  },
  {
   "cell_type": "code",
   "execution_count": 26,
   "metadata": {},
   "outputs": [
    {
     "data": {
      "text/plain": [
       "0.5299043062200957"
      ]
     },
     "execution_count": 26,
     "metadata": {},
     "output_type": "execute_result"
    }
   ],
   "source": [
    "roc_auc_score(y_test, y_pred)"
   ]
  },
  {
   "cell_type": "code",
   "execution_count": 32,
   "metadata": {},
   "outputs": [],
   "source": [
    "with open('models/career_feat_xgb.pkl', 'wb') as f:\n",
    "    pickle.dump(car_xgb, f)"
   ]
  },
  {
   "cell_type": "markdown",
   "metadata": {},
   "source": [
    "#### Vectors approach"
   ]
  },
  {
   "cell_type": "code",
   "execution_count": 27,
   "metadata": {},
   "outputs": [],
   "source": [
    "car_vectors = edu_car_text_vectors.drop(columns=['label_education'])"
   ]
  },
  {
   "cell_type": "code",
   "execution_count": 28,
   "metadata": {},
   "outputs": [],
   "source": [
    "car_vectors.dropna(inplace=True)"
   ]
  },
  {
   "cell_type": "code",
   "execution_count": 29,
   "metadata": {},
   "outputs": [
    {
     "data": {
      "text/plain": [
       "Index(['goal_name_key_pos', 'label_attractor_career'], dtype='object')"
      ]
     },
     "execution_count": 29,
     "metadata": {},
     "output_type": "execute_result"
    }
   ],
   "source": [
    "car_vectors.columns"
   ]
  },
  {
   "cell_type": "code",
   "execution_count": 30,
   "metadata": {},
   "outputs": [],
   "source": [
    "from sklearn.feature_extraction.text import CountVectorizer, TfidfVectorizer"
   ]
  },
  {
   "cell_type": "code",
   "execution_count": 31,
   "metadata": {},
   "outputs": [],
   "source": [
    "text = car_vectors['goal_name_key_pos']\n",
    "y = car_vectors['label_attractor_career']"
   ]
  },
  {
   "cell_type": "code",
   "execution_count": 32,
   "metadata": {},
   "outputs": [
    {
     "data": {
      "text/plain": [
       "25           повысить уровень знание возможность компьютер\n",
       "70                                      познание инновация\n",
       "136                                                 знание\n",
       "172                                 получить знание умение\n",
       "291                                изучить английский язык\n",
       "                               ...                        \n",
       "17982                                  отдалиться молодёжь\n",
       "17983                найти интересный работа работать мозг\n",
       "17991                              быть интересный общение\n",
       "18015    получить сертификат эксперт региональный чемпи...\n",
       "18017                                закончить аспирантура\n",
       "Name: goal_name_key_pos, Length: 876, dtype: object"
      ]
     },
     "execution_count": 32,
     "metadata": {},
     "output_type": "execute_result"
    }
   ],
   "source": [
    "text"
   ]
  },
  {
   "cell_type": "code",
   "execution_count": 33,
   "metadata": {},
   "outputs": [],
   "source": [
    "tfidf = TfidfVectorizer()\n",
    "X = tfidf.fit_transform(text)"
   ]
  },
  {
   "cell_type": "code",
   "execution_count": 34,
   "metadata": {},
   "outputs": [
    {
     "data": {
      "text/plain": [
       "(876, 893)"
      ]
     },
     "execution_count": 34,
     "metadata": {},
     "output_type": "execute_result"
    }
   ],
   "source": [
    "X.shape"
   ]
  },
  {
   "cell_type": "code",
   "execution_count": 35,
   "metadata": {},
   "outputs": [],
   "source": [
    "X_train, X_test, y_train, y_test = train_test_split(X, y, test_size=0.2, random_state=0, stratify=y)"
   ]
  },
  {
   "cell_type": "code",
   "execution_count": 36,
   "metadata": {},
   "outputs": [
    {
     "data": {
      "text/plain": [
       "<700x893 sparse matrix of type '<class 'numpy.float64'>'\n",
       "\twith 2161 stored elements in Compressed Sparse Row format>"
      ]
     },
     "execution_count": 36,
     "metadata": {},
     "output_type": "execute_result"
    }
   ],
   "source": [
    "X_train"
   ]
  },
  {
   "cell_type": "code",
   "execution_count": 37,
   "metadata": {},
   "outputs": [],
   "source": [
    "car_v_xgb = XGBClassifier()"
   ]
  },
  {
   "cell_type": "code",
   "execution_count": 38,
   "metadata": {},
   "outputs": [
    {
     "data": {
      "text/plain": [
       "XGBClassifier(base_score=0.5, booster='gbtree', colsample_bylevel=1,\n",
       "              colsample_bynode=1, colsample_bytree=1, gamma=0, gpu_id=-1,\n",
       "              importance_type='gain', interaction_constraints='',\n",
       "              learning_rate=0.300000012, max_delta_step=0, max_depth=6,\n",
       "              min_child_weight=1, missing=nan, monotone_constraints='()',\n",
       "              n_estimators=100, n_jobs=0, num_parallel_tree=1,\n",
       "              objective='binary:logistic', random_state=0, reg_alpha=0,\n",
       "              reg_lambda=1, scale_pos_weight=1, subsample=1,\n",
       "              tree_method='exact', validate_parameters=1, verbosity=None)"
      ]
     },
     "execution_count": 38,
     "metadata": {},
     "output_type": "execute_result"
    }
   ],
   "source": [
    "car_v_xgb.fit(X_train, y_train)"
   ]
  },
  {
   "cell_type": "code",
   "execution_count": 39,
   "metadata": {},
   "outputs": [],
   "source": [
    "y_pred = car_v_xgb.predict(X_test)"
   ]
  },
  {
   "cell_type": "code",
   "execution_count": 40,
   "metadata": {},
   "outputs": [
    {
     "name": "stdout",
     "output_type": "stream",
     "text": [
      "              precision    recall  f1-score   support\n",
      "\n",
      "           0       0.63      0.80      0.71       110\n",
      "           1       0.41      0.23      0.29        66\n",
      "\n",
      "    accuracy                           0.59       176\n",
      "   macro avg       0.52      0.51      0.50       176\n",
      "weighted avg       0.55      0.59      0.55       176\n",
      "\n"
     ]
    }
   ],
   "source": [
    "print(classification_report(y_test, y_pred))"
   ]
  },
  {
   "cell_type": "code",
   "execution_count": 41,
   "metadata": {},
   "outputs": [
    {
     "data": {
      "text/plain": [
       "0.5852272727272727"
      ]
     },
     "execution_count": 41,
     "metadata": {},
     "output_type": "execute_result"
    }
   ],
   "source": [
    "accuracy_score(y_test, y_pred)"
   ]
  },
  {
   "cell_type": "code",
   "execution_count": 42,
   "metadata": {},
   "outputs": [
    {
     "data": {
      "text/plain": [
       "0.2912621359223301"
      ]
     },
     "execution_count": 42,
     "metadata": {},
     "output_type": "execute_result"
    }
   ],
   "source": [
    "f1_score(y_test, y_pred)"
   ]
  },
  {
   "cell_type": "code",
   "execution_count": 43,
   "metadata": {},
   "outputs": [
    {
     "data": {
      "text/plain": [
       "0.5136363636363637"
      ]
     },
     "execution_count": 43,
     "metadata": {},
     "output_type": "execute_result"
    }
   ],
   "source": [
    "roc_auc_score(y_test, y_pred)"
   ]
  },
  {
   "cell_type": "code",
   "execution_count": 49,
   "metadata": {},
   "outputs": [],
   "source": [
    "with open('models/career_vect_xgb.pkl', 'wb') as f:\n",
    "    pickle.dump(car_v_xgb, f)"
   ]
  },
  {
   "cell_type": "markdown",
   "metadata": {},
   "source": [
    "#### Neural net approach"
   ]
  },
  {
   "cell_type": "code",
   "execution_count": 44,
   "metadata": {},
   "outputs": [],
   "source": [
    "from tensorflow.keras.preprocessing.text import Tokenizer\n",
    "from tensorflow.keras.preprocessing.sequence import pad_sequences\n",
    "from tensorflow.keras.models import Sequential\n",
    "from tensorflow.keras.layers import Dense,Flatten,Embedding,Dropout\n",
    "from tensorflow.keras.layers import Conv1D, MaxPooling1D, GlobalMaxPooling1D "
   ]
  },
  {
   "cell_type": "code",
   "execution_count": 45,
   "metadata": {},
   "outputs": [],
   "source": [
    "text = car_vectors['goal_name_key_pos']\n",
    "y = car_vectors['label_attractor_career']"
   ]
  },
  {
   "cell_type": "code",
   "execution_count": 46,
   "metadata": {},
   "outputs": [],
   "source": [
    "token = Tokenizer()\n",
    "token.fit_on_texts(text)"
   ]
  },
  {
   "cell_type": "code",
   "execution_count": 47,
   "metadata": {},
   "outputs": [
    {
     "data": {
      "text/plain": [
       "900"
      ]
     },
     "execution_count": 47,
     "metadata": {},
     "output_type": "execute_result"
    }
   ],
   "source": [
    "vocab_size = len(token.word_index) + 1\n",
    "vocab_size"
   ]
  },
  {
   "cell_type": "code",
   "execution_count": 48,
   "metadata": {},
   "outputs": [],
   "source": [
    "encoded_text = token.texts_to_sequences(text)"
   ]
  },
  {
   "cell_type": "code",
   "execution_count": 49,
   "metadata": {},
   "outputs": [
    {
     "data": {
      "text/plain": [
       "21"
      ]
     },
     "execution_count": 49,
     "metadata": {},
     "output_type": "execute_result"
    }
   ],
   "source": [
    "max_len = int()\n",
    "for i in encoded_text:\n",
    "    len_ = len(i)\n",
    "    if len_ > max_len:\n",
    "        max_len = len_\n",
    "        \n",
    "max_len"
   ]
  },
  {
   "cell_type": "code",
   "execution_count": 50,
   "metadata": {},
   "outputs": [],
   "source": [
    "max_length = 21\n",
    "X = pad_sequences(encoded_text, maxlen=max_length, padding='post')"
   ]
  },
  {
   "cell_type": "code",
   "execution_count": 51,
   "metadata": {},
   "outputs": [
    {
     "data": {
      "text/plain": [
       "(876, 21)"
      ]
     },
     "execution_count": 51,
     "metadata": {},
     "output_type": "execute_result"
    }
   ],
   "source": [
    "X.shape"
   ]
  },
  {
   "cell_type": "code",
   "execution_count": 52,
   "metadata": {},
   "outputs": [],
   "source": [
    "X_train, X_test, y_train, y_test = train_test_split(X, y, test_size=0.2, random_state=0, stratify=y)"
   ]
  },
  {
   "cell_type": "code",
   "execution_count": 53,
   "metadata": {},
   "outputs": [],
   "source": [
    "vec_size = 100\n",
    "\n",
    "model = Sequential()\n",
    "model.add(Embedding(vocab_size, vec_size, input_length=max_length))\n",
    "\n",
    "model.add(Conv1D(32, 2, activation='relu'))\n",
    "model.add(MaxPooling1D(2))\n",
    "model.add(Dropout(0.5))\n",
    "\n",
    "model.add(Dense(32, activation='relu'))\n",
    "model.add(Dropout(0.5))\n",
    "\n",
    "model.add(Dense(16, activation='relu'))\n",
    "\n",
    "model.add(GlobalMaxPooling1D())\n",
    "\n",
    "model.add(Dense(1, activation='sigmoid'))"
   ]
  },
  {
   "cell_type": "code",
   "execution_count": 54,
   "metadata": {},
   "outputs": [
    {
     "name": "stdout",
     "output_type": "stream",
     "text": [
      "Wall time: 34.9 ms\n"
     ]
    }
   ],
   "source": [
    "%%time\n",
    "model.compile(optimizer='adam', loss='binary_crossentropy', metrics=['accuracy'])"
   ]
  },
  {
   "cell_type": "code",
   "execution_count": 55,
   "metadata": {},
   "outputs": [],
   "source": [
    "import numpy as np"
   ]
  },
  {
   "cell_type": "code",
   "execution_count": 56,
   "metadata": {},
   "outputs": [],
   "source": [
    "X_train = np.asarray(X_train)\n",
    "y_train = np.asarray(y_train)\n",
    "X_test= np.asarray(X_test)\n",
    "y_test = np.asarray(y_test)"
   ]
  },
  {
   "cell_type": "code",
   "execution_count": 57,
   "metadata": {},
   "outputs": [],
   "source": [
    "from tensorflow.keras.callbacks import EarlyStopping"
   ]
  },
  {
   "cell_type": "code",
   "execution_count": 58,
   "metadata": {},
   "outputs": [],
   "source": [
    "early_stop = EarlyStopping(monitor='val_loss', mode='min', verbose=1, patience=25)"
   ]
  },
  {
   "cell_type": "code",
   "execution_count": 59,
   "metadata": {
    "scrolled": true
   },
   "outputs": [
    {
     "name": "stdout",
     "output_type": "stream",
     "text": [
      "Train on 700 samples, validate on 176 samples\n",
      "Epoch 1/600\n",
      "700/700 [==============================] - 1s 2ms/sample - loss: 0.6758 - accuracy: 0.6186 - val_loss: 0.6701 - val_accuracy: 0.6250\n",
      "Epoch 2/600\n",
      "700/700 [==============================] - 0s 209us/sample - loss: 0.6643 - accuracy: 0.6243 - val_loss: 0.6677 - val_accuracy: 0.6250\n",
      "Epoch 3/600\n",
      "700/700 [==============================] - 0s 207us/sample - loss: 0.6673 - accuracy: 0.6243 - val_loss: 0.6709 - val_accuracy: 0.6250\n",
      "Epoch 4/600\n",
      "700/700 [==============================] - 0s 204us/sample - loss: 0.6611 - accuracy: 0.6243 - val_loss: 0.6692 - val_accuracy: 0.6250\n",
      "Epoch 5/600\n",
      "700/700 [==============================] - 0s 202us/sample - loss: 0.6659 - accuracy: 0.6243 - val_loss: 0.6717 - val_accuracy: 0.6250\n",
      "Epoch 6/600\n",
      "700/700 [==============================] - 0s 208us/sample - loss: 0.6630 - accuracy: 0.6243 - val_loss: 0.6696 - val_accuracy: 0.6250\n",
      "Epoch 7/600\n",
      "700/700 [==============================] - 0s 204us/sample - loss: 0.6590 - accuracy: 0.6243 - val_loss: 0.6722 - val_accuracy: 0.6250\n",
      "Epoch 8/600\n",
      "700/700 [==============================] - 0s 199us/sample - loss: 0.6554 - accuracy: 0.6300 - val_loss: 0.6754 - val_accuracy: 0.6136\n",
      "Epoch 9/600\n",
      "700/700 [==============================] - 0s 199us/sample - loss: 0.6476 - accuracy: 0.6314 - val_loss: 0.6796 - val_accuracy: 0.5682\n",
      "Epoch 10/600\n",
      "700/700 [==============================] - 0s 201us/sample - loss: 0.6449 - accuracy: 0.6357 - val_loss: 0.6806 - val_accuracy: 0.5739\n",
      "Epoch 11/600\n",
      "700/700 [==============================] - 0s 199us/sample - loss: 0.6246 - accuracy: 0.6729 - val_loss: 0.6897 - val_accuracy: 0.5398\n",
      "Epoch 12/600\n",
      "700/700 [==============================] - 0s 201us/sample - loss: 0.5977 - accuracy: 0.7043 - val_loss: 0.6867 - val_accuracy: 0.5682\n",
      "Epoch 13/600\n",
      "700/700 [==============================] - 0s 207us/sample - loss: 0.5549 - accuracy: 0.7414 - val_loss: 0.7213 - val_accuracy: 0.5795\n",
      "Epoch 14/600\n",
      "700/700 [==============================] - 0s 209us/sample - loss: 0.5297 - accuracy: 0.7700 - val_loss: 0.7497 - val_accuracy: 0.5682\n",
      "Epoch 15/600\n",
      "700/700 [==============================] - 0s 214us/sample - loss: 0.4570 - accuracy: 0.8043 - val_loss: 0.7801 - val_accuracy: 0.5795\n",
      "Epoch 16/600\n",
      "700/700 [==============================] - 0s 208us/sample - loss: 0.4022 - accuracy: 0.8271 - val_loss: 0.8365 - val_accuracy: 0.5568\n",
      "Epoch 17/600\n",
      "700/700 [==============================] - 0s 211us/sample - loss: 0.3606 - accuracy: 0.8500 - val_loss: 0.9039 - val_accuracy: 0.5739\n",
      "Epoch 18/600\n",
      "700/700 [==============================] - 0s 204us/sample - loss: 0.3229 - accuracy: 0.8686 - val_loss: 1.0033 - val_accuracy: 0.5909\n",
      "Epoch 19/600\n",
      "700/700 [==============================] - 0s 224us/sample - loss: 0.3032 - accuracy: 0.8886 - val_loss: 1.0925 - val_accuracy: 0.5739\n",
      "Epoch 20/600\n",
      "700/700 [==============================] - 0s 215us/sample - loss: 0.2788 - accuracy: 0.8729 - val_loss: 1.1520 - val_accuracy: 0.5682\n",
      "Epoch 21/600\n",
      "700/700 [==============================] - 0s 208us/sample - loss: 0.2466 - accuracy: 0.8929 - val_loss: 1.1968 - val_accuracy: 0.5852\n",
      "Epoch 22/600\n",
      "700/700 [==============================] - 0s 204us/sample - loss: 0.2407 - accuracy: 0.9057 - val_loss: 1.2503 - val_accuracy: 0.5625\n",
      "Epoch 23/600\n",
      "700/700 [==============================] - 0s 204us/sample - loss: 0.2338 - accuracy: 0.9057 - val_loss: 1.3032 - val_accuracy: 0.5739\n",
      "Epoch 24/600\n",
      "700/700 [==============================] - 0s 218us/sample - loss: 0.2092 - accuracy: 0.9129 - val_loss: 1.3948 - val_accuracy: 0.5568\n",
      "Epoch 25/600\n",
      "700/700 [==============================] - 0s 211us/sample - loss: 0.2254 - accuracy: 0.9100 - val_loss: 1.4572 - val_accuracy: 0.5568\n",
      "Epoch 26/600\n",
      "700/700 [==============================] - 0s 211us/sample - loss: 0.2054 - accuracy: 0.9100 - val_loss: 1.4628 - val_accuracy: 0.5739\n",
      "Epoch 27/600\n",
      "700/700 [==============================] - 0s 208us/sample - loss: 0.1849 - accuracy: 0.9200 - val_loss: 1.5528 - val_accuracy: 0.5795\n",
      "Epoch 00027: early stopping\n"
     ]
    },
    {
     "data": {
      "text/plain": [
       "<tensorflow.python.keras.callbacks.History at 0x1cb1ec81448>"
      ]
     },
     "execution_count": 59,
     "metadata": {},
     "output_type": "execute_result"
    }
   ],
   "source": [
    "model.fit(X_train, y_train, epochs=600, validation_data=(X_test, y_test), callbacks=[early_stop])"
   ]
  },
  {
   "cell_type": "code",
   "execution_count": 60,
   "metadata": {},
   "outputs": [],
   "source": [
    "losses = pd.DataFrame(model.history.history)"
   ]
  },
  {
   "cell_type": "code",
   "execution_count": 61,
   "metadata": {},
   "outputs": [
    {
     "data": {
      "text/plain": [
       "<matplotlib.axes._subplots.AxesSubplot at 0x1cb22afcdc8>"
      ]
     },
     "execution_count": 61,
     "metadata": {},
     "output_type": "execute_result"
    }
   ],
   "source": [
    "losses[['accuracy','val_accuracy']].plot()"
   ]
  },
  {
   "cell_type": "code",
   "execution_count": 62,
   "metadata": {},
   "outputs": [
    {
     "data": {
      "text/plain": [
       "<matplotlib.axes._subplots.AxesSubplot at 0x1cb22e07988>"
      ]
     },
     "execution_count": 62,
     "metadata": {},
     "output_type": "execute_result"
    },
    {
     "data": {
      "image/png": "[encoded data removed]",
      "text/plain": [
       "<Figure size 432x288 with 1 Axes>"
      ]
     },
     "metadata": {
      "needs_background": "light"
     },
     "output_type": "display_data"
    }
   ],
   "source": [
    "losses[['loss','val_loss']].plot()"
   ]
  },
  {
   "cell_type": "code",
   "execution_count": 63,
   "metadata": {},
   "outputs": [
    {
     "name": "stdout",
     "output_type": "stream",
     "text": [
      "['loss', 'accuracy']\n",
      "[1.5527713082053445, 0.57954544]\n"
     ]
    }
   ],
   "source": [
    "print(model.metrics_names)\n",
    "print(model.evaluate(X_test,y_test,verbose=0))"
   ]
  },
  {
   "cell_type": "code",
   "execution_count": 64,
   "metadata": {},
   "outputs": [],
   "source": [
    "y_pred = model.predict_classes(X_test)"
   ]
  },
  {
   "cell_type": "code",
   "execution_count": 65,
   "metadata": {},
   "outputs": [
    {
     "name": "stdout",
     "output_type": "stream",
     "text": [
      "              precision    recall  f1-score   support\n",
      "\n",
      "           0       0.66      0.68      0.67       110\n",
      "           1       0.44      0.41      0.42        66\n",
      "\n",
      "    accuracy                           0.58       176\n",
      "   macro avg       0.55      0.55      0.55       176\n",
      "weighted avg       0.57      0.58      0.58       176\n",
      "\n"
     ]
    }
   ],
   "source": [
    "print(classification_report(y_test, y_pred))"
   ]
  },
  {
   "cell_type": "code",
   "execution_count": 66,
   "metadata": {},
   "outputs": [
    {
     "data": {
      "text/plain": [
       "0.5795454545454546"
      ]
     },
     "execution_count": 66,
     "metadata": {},
     "output_type": "execute_result"
    }
   ],
   "source": [
    "accuracy_score(y_test, y_pred)"
   ]
  },
  {
   "cell_type": "code",
   "execution_count": 67,
   "metadata": {},
   "outputs": [
    {
     "data": {
      "text/plain": [
       "0.421875"
      ]
     },
     "execution_count": 67,
     "metadata": {},
     "output_type": "execute_result"
    }
   ],
   "source": [
    "f1_score(y_test, y_pred)"
   ]
  },
  {
   "cell_type": "code",
   "execution_count": 68,
   "metadata": {},
   "outputs": [
    {
     "data": {
      "text/plain": [
       "0.5454545454545455"
      ]
     },
     "execution_count": 68,
     "metadata": {},
     "output_type": "execute_result"
    }
   ],
   "source": [
    "roc_auc_score(y_test, y_pred)"
   ]
  },
  {
   "cell_type": "code",
   "execution_count": 75,
   "metadata": {},
   "outputs": [],
   "source": [
    "model.save(\"models/career_vect_nn.h5\")"
   ]
  },
  {
   "cell_type": "code",
   "execution_count": null,
   "metadata": {},
   "outputs": [],
   "source": []
  }
 ],
 "metadata": {
  "kernelspec": {
   "display_name": "Python 3",
   "language": "python",
   "name": "python3"
  },
  "language_info": {
   "codemirror_mode": {
    "name": "ipython",
    "version": 3
   },
   "file_extension": ".py",
   "mimetype": "text/x-python",
   "name": "python",
   "nbconvert_exporter": "python",
   "pygments_lexer": "ipython3",
   "version": "3.7.4"
  }
 },
 "nbformat": 4,
 "nbformat_minor": 4
}
