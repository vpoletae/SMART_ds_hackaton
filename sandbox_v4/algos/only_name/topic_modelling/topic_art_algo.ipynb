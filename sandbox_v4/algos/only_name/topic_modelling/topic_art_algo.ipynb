{
 "cells": [
  {
   "cell_type": "code",
   "execution_count": 2,
   "metadata": {},
   "outputs": [],
   "source": [
    "import pandas as pd\n",
    "import os"
   ]
  },
  {
   "cell_type": "code",
   "execution_count": 3,
   "metadata": {},
   "outputs": [],
   "source": [
    "import pickle"
   ]
  },
  {
   "cell_type": "code",
   "execution_count": 7,
   "metadata": {},
   "outputs": [],
   "source": [
    "topics_df = pd.read_csv('../../../clean_data/only_name_topics.csv', index_col=0)"
   ]
  },
  {
   "cell_type": "code",
   "execution_count": 8,
   "metadata": {},
   "outputs": [
    {
     "data": {
      "text/html": [
       "<div>\n",
       "<style scoped>\n",
       "    .dataframe tbody tr th:only-of-type {\n",
       "        vertical-align: middle;\n",
       "    }\n",
       "\n",
       "    .dataframe tbody tr th {\n",
       "        vertical-align: top;\n",
       "    }\n",
       "\n",
       "    .dataframe thead th {\n",
       "        text-align: right;\n",
       "    }\n",
       "</style>\n",
       "<table border=\"1\" class=\"dataframe\">\n",
       "  <thead>\n",
       "    <tr style=\"text-align: right;\">\n",
       "      <th></th>\n",
       "      <th>goal_name</th>\n",
       "      <th>goal_name_key_pos</th>\n",
       "      <th>goal_weight</th>\n",
       "      <th>goal_words</th>\n",
       "      <th>goal_aver_word_len</th>\n",
       "      <th>goal_verbs_counter</th>\n",
       "      <th>goal_nouns_counter</th>\n",
       "      <th>goal_numr_counter</th>\n",
       "      <th>goal_adj_counter</th>\n",
       "      <th>goal_digit_counter</th>\n",
       "      <th>...</th>\n",
       "      <th>label_attractor_hard_skill</th>\n",
       "      <th>label_attractor_soft_skill</th>\n",
       "      <th>label_attractor_tool</th>\n",
       "      <th>label_attractor_community</th>\n",
       "      <th>label_attractor_subjectivity</th>\n",
       "      <th>label_attractor_habits</th>\n",
       "      <th>label_attractor_career</th>\n",
       "      <th>label_attractor_fixing</th>\n",
       "      <th>label_attractor_art</th>\n",
       "      <th>label_attractor_health</th>\n",
       "    </tr>\n",
       "  </thead>\n",
       "  <tbody>\n",
       "    <tr>\n",
       "      <td>25</td>\n",
       "      <td>повысить уровень знаний возможности компьютера</td>\n",
       "      <td>повысить уровень знание возможность компьютер</td>\n",
       "      <td>1.2060</td>\n",
       "      <td>5</td>\n",
       "      <td>8.4</td>\n",
       "      <td>1</td>\n",
       "      <td>4</td>\n",
       "      <td>0</td>\n",
       "      <td>0</td>\n",
       "      <td>0</td>\n",
       "      <td>...</td>\n",
       "      <td>0</td>\n",
       "      <td>0</td>\n",
       "      <td>0</td>\n",
       "      <td>0</td>\n",
       "      <td>0</td>\n",
       "      <td>0</td>\n",
       "      <td>1</td>\n",
       "      <td>1</td>\n",
       "      <td>0</td>\n",
       "      <td>0.0</td>\n",
       "    </tr>\n",
       "    <tr>\n",
       "      <td>70</td>\n",
       "      <td>познание инноваций</td>\n",
       "      <td>познание инновация</td>\n",
       "      <td>0.6429</td>\n",
       "      <td>2</td>\n",
       "      <td>8.5</td>\n",
       "      <td>0</td>\n",
       "      <td>2</td>\n",
       "      <td>0</td>\n",
       "      <td>0</td>\n",
       "      <td>0</td>\n",
       "      <td>...</td>\n",
       "      <td>1</td>\n",
       "      <td>1</td>\n",
       "      <td>0</td>\n",
       "      <td>0</td>\n",
       "      <td>0</td>\n",
       "      <td>0</td>\n",
       "      <td>0</td>\n",
       "      <td>1</td>\n",
       "      <td>0</td>\n",
       "      <td>0.0</td>\n",
       "    </tr>\n",
       "    <tr>\n",
       "      <td>124</td>\n",
       "      <td>fdd</td>\n",
       "      <td>NaN</td>\n",
       "      <td>0.0000</td>\n",
       "      <td>1</td>\n",
       "      <td>3.0</td>\n",
       "      <td>0</td>\n",
       "      <td>0</td>\n",
       "      <td>0</td>\n",
       "      <td>0</td>\n",
       "      <td>0</td>\n",
       "      <td>...</td>\n",
       "      <td>1</td>\n",
       "      <td>1</td>\n",
       "      <td>0</td>\n",
       "      <td>0</td>\n",
       "      <td>1</td>\n",
       "      <td>0</td>\n",
       "      <td>0</td>\n",
       "      <td>1</td>\n",
       "      <td>0</td>\n",
       "      <td>0.0</td>\n",
       "    </tr>\n",
       "    <tr>\n",
       "      <td>136</td>\n",
       "      <td>знания</td>\n",
       "      <td>знание</td>\n",
       "      <td>0.0123</td>\n",
       "      <td>1</td>\n",
       "      <td>6.0</td>\n",
       "      <td>0</td>\n",
       "      <td>1</td>\n",
       "      <td>0</td>\n",
       "      <td>0</td>\n",
       "      <td>0</td>\n",
       "      <td>...</td>\n",
       "      <td>1</td>\n",
       "      <td>1</td>\n",
       "      <td>0</td>\n",
       "      <td>0</td>\n",
       "      <td>0</td>\n",
       "      <td>0</td>\n",
       "      <td>0</td>\n",
       "      <td>0</td>\n",
       "      <td>0</td>\n",
       "      <td>0.0</td>\n",
       "    </tr>\n",
       "    <tr>\n",
       "      <td>172</td>\n",
       "      <td>получить больше знаний и умений</td>\n",
       "      <td>получить знание умение</td>\n",
       "      <td>0.0944</td>\n",
       "      <td>5</td>\n",
       "      <td>5.4</td>\n",
       "      <td>1</td>\n",
       "      <td>2</td>\n",
       "      <td>0</td>\n",
       "      <td>0</td>\n",
       "      <td>0</td>\n",
       "      <td>...</td>\n",
       "      <td>1</td>\n",
       "      <td>1</td>\n",
       "      <td>0</td>\n",
       "      <td>0</td>\n",
       "      <td>0</td>\n",
       "      <td>0</td>\n",
       "      <td>0</td>\n",
       "      <td>0</td>\n",
       "      <td>0</td>\n",
       "      <td>0.0</td>\n",
       "    </tr>\n",
       "  </tbody>\n",
       "</table>\n",
       "<p>5 rows × 21 columns</p>\n",
       "</div>"
      ],
      "text/plain": [
       "                                          goal_name  \\\n",
       "25   повысить уровень знаний возможности компьютера   \n",
       "70                               познание инноваций   \n",
       "124                                             fdd   \n",
       "136                                          знания   \n",
       "172                 получить больше знаний и умений   \n",
       "\n",
       "                                 goal_name_key_pos  goal_weight  goal_words  \\\n",
       "25   повысить уровень знание возможность компьютер       1.2060           5   \n",
       "70                              познание инновация       0.6429           2   \n",
       "124                                            NaN       0.0000           1   \n",
       "136                                         знание       0.0123           1   \n",
       "172                         получить знание умение       0.0944           5   \n",
       "\n",
       "     goal_aver_word_len  goal_verbs_counter  goal_nouns_counter  \\\n",
       "25                  8.4                   1                   4   \n",
       "70                  8.5                   0                   2   \n",
       "124                 3.0                   0                   0   \n",
       "136                 6.0                   0                   1   \n",
       "172                 5.4                   1                   2   \n",
       "\n",
       "     goal_numr_counter  goal_adj_counter  goal_digit_counter  ...  \\\n",
       "25                   0                 0                   0  ...   \n",
       "70                   0                 0                   0  ...   \n",
       "124                  0                 0                   0  ...   \n",
       "136                  0                 0                   0  ...   \n",
       "172                  0                 0                   0  ...   \n",
       "\n",
       "     label_attractor_hard_skill  label_attractor_soft_skill  \\\n",
       "25                            0                           0   \n",
       "70                            1                           1   \n",
       "124                           1                           1   \n",
       "136                           1                           1   \n",
       "172                           1                           1   \n",
       "\n",
       "     label_attractor_tool  label_attractor_community  \\\n",
       "25                      0                          0   \n",
       "70                      0                          0   \n",
       "124                     0                          0   \n",
       "136                     0                          0   \n",
       "172                     0                          0   \n",
       "\n",
       "     label_attractor_subjectivity  label_attractor_habits  \\\n",
       "25                              0                       0   \n",
       "70                              0                       0   \n",
       "124                             1                       0   \n",
       "136                             0                       0   \n",
       "172                             0                       0   \n",
       "\n",
       "     label_attractor_career  label_attractor_fixing  label_attractor_art  \\\n",
       "25                        1                       1                    0   \n",
       "70                        0                       1                    0   \n",
       "124                       0                       1                    0   \n",
       "136                       0                       0                    0   \n",
       "172                       0                       0                    0   \n",
       "\n",
       "     label_attractor_health  \n",
       "25                      0.0  \n",
       "70                      0.0  \n",
       "124                     0.0  \n",
       "136                     0.0  \n",
       "172                     0.0  \n",
       "\n",
       "[5 rows x 21 columns]"
      ]
     },
     "execution_count": 8,
     "metadata": {},
     "output_type": "execute_result"
    }
   ],
   "source": [
    "topics_df.head()"
   ]
  },
  {
   "cell_type": "code",
   "execution_count": 9,
   "metadata": {},
   "outputs": [
    {
     "data": {
      "text/plain": [
       "Index(['goal_name', 'goal_name_key_pos', 'goal_weight', 'goal_words',\n",
       "       'goal_aver_word_len', 'goal_verbs_counter', 'goal_nouns_counter',\n",
       "       'goal_numr_counter', 'goal_adj_counter', 'goal_digit_counter',\n",
       "       'label_attractor_knowledge', 'label_attractor_hard_skill',\n",
       "       'label_attractor_soft_skill', 'label_attractor_tool',\n",
       "       'label_attractor_community', 'label_attractor_subjectivity',\n",
       "       'label_attractor_habits', 'label_attractor_career',\n",
       "       'label_attractor_fixing', 'label_attractor_art',\n",
       "       'label_attractor_health'],\n",
       "      dtype='object')"
      ]
     },
     "execution_count": 9,
     "metadata": {},
     "output_type": "execute_result"
    }
   ],
   "source": [
    "topics_df.columns"
   ]
  },
  {
   "cell_type": "code",
   "execution_count": 10,
   "metadata": {},
   "outputs": [],
   "source": [
    "topics = topics_df.copy()"
   ]
  },
  {
   "cell_type": "code",
   "execution_count": 11,
   "metadata": {},
   "outputs": [],
   "source": [
    "topics_text_vectors = topics[['goal_name_key_pos', 'label_attractor_art']]"
   ]
  },
  {
   "cell_type": "code",
   "execution_count": 12,
   "metadata": {},
   "outputs": [],
   "source": [
    "from sklearn.model_selection import train_test_split"
   ]
  },
  {
   "cell_type": "markdown",
   "metadata": {},
   "source": [
    "### label_attractor_art"
   ]
  },
  {
   "cell_type": "markdown",
   "metadata": {},
   "source": [
    "#### Vectors approach"
   ]
  },
  {
   "cell_type": "code",
   "execution_count": 13,
   "metadata": {},
   "outputs": [
    {
     "name": "stderr",
     "output_type": "stream",
     "text": [
      "C:\\Users\\vpoletae\\AppData\\Local\\Continuum\\anaconda3\\lib\\site-packages\\ipykernel_launcher.py:1: SettingWithCopyWarning: \n",
      "A value is trying to be set on a copy of a slice from a DataFrame\n",
      "\n",
      "See the caveats in the documentation: http://pandas.pydata.org/pandas-docs/stable/user_guide/indexing.html#returning-a-view-versus-a-copy\n",
      "  \"\"\"Entry point for launching an IPython kernel.\n"
     ]
    }
   ],
   "source": [
    "topics_text_vectors.dropna(inplace=True)"
   ]
  },
  {
   "cell_type": "code",
   "execution_count": 14,
   "metadata": {},
   "outputs": [
    {
     "data": {
      "text/plain": [
       "Index(['goal_name_key_pos', 'label_attractor_art'], dtype='object')"
      ]
     },
     "execution_count": 14,
     "metadata": {},
     "output_type": "execute_result"
    }
   ],
   "source": [
    "topics_text_vectors.columns"
   ]
  },
  {
   "cell_type": "code",
   "execution_count": 15,
   "metadata": {},
   "outputs": [],
   "source": [
    "from sklearn.feature_extraction.text import CountVectorizer, TfidfVectorizer"
   ]
  },
  {
   "cell_type": "code",
   "execution_count": 16,
   "metadata": {},
   "outputs": [],
   "source": [
    "text = topics_text_vectors['goal_name_key_pos']\n",
    "y = topics_text_vectors['label_attractor_art']"
   ]
  },
  {
   "cell_type": "code",
   "execution_count": 17,
   "metadata": {},
   "outputs": [
    {
     "data": {
      "text/plain": [
       "25           повысить уровень знание возможность компьютер\n",
       "70                                      познание инновация\n",
       "136                                                 знание\n",
       "172                                 получить знание умение\n",
       "291                                изучить английский язык\n",
       "                               ...                        \n",
       "17982                                  отдалиться молодёжь\n",
       "17983                найти интересный работа работать мозг\n",
       "17991                              быть интересный общение\n",
       "18015    получить сертификат эксперт региональный чемпи...\n",
       "18017                                закончить аспирантура\n",
       "Name: goal_name_key_pos, Length: 876, dtype: object"
      ]
     },
     "execution_count": 17,
     "metadata": {},
     "output_type": "execute_result"
    }
   ],
   "source": [
    "text"
   ]
  },
  {
   "cell_type": "code",
   "execution_count": 18,
   "metadata": {},
   "outputs": [],
   "source": [
    "tfidf = TfidfVectorizer()\n",
    "X = tfidf.fit_transform(text)"
   ]
  },
  {
   "cell_type": "code",
   "execution_count": 19,
   "metadata": {},
   "outputs": [
    {
     "data": {
      "text/plain": [
       "(876, 893)"
      ]
     },
     "execution_count": 19,
     "metadata": {},
     "output_type": "execute_result"
    }
   ],
   "source": [
    "X.shape"
   ]
  },
  {
   "cell_type": "code",
   "execution_count": 20,
   "metadata": {},
   "outputs": [],
   "source": [
    "X_train, X_test, y_train, y_test = train_test_split(X, y, test_size=0.2, random_state=0, stratify=y)"
   ]
  },
  {
   "cell_type": "code",
   "execution_count": 21,
   "metadata": {},
   "outputs": [
    {
     "data": {
      "text/plain": [
       "<700x893 sparse matrix of type '<class 'numpy.float64'>'\n",
       "\twith 2191 stored elements in Compressed Sparse Row format>"
      ]
     },
     "execution_count": 21,
     "metadata": {},
     "output_type": "execute_result"
    }
   ],
   "source": [
    "X_train"
   ]
  },
  {
   "cell_type": "code",
   "execution_count": 22,
   "metadata": {},
   "outputs": [],
   "source": [
    "from xgboost import XGBClassifier"
   ]
  },
  {
   "cell_type": "code",
   "execution_count": 23,
   "metadata": {},
   "outputs": [],
   "source": [
    "art_v_xgb = XGBClassifier()"
   ]
  },
  {
   "cell_type": "code",
   "execution_count": 24,
   "metadata": {},
   "outputs": [
    {
     "data": {
      "text/plain": [
       "XGBClassifier(base_score=0.5, booster='gbtree', colsample_bylevel=1,\n",
       "              colsample_bynode=1, colsample_bytree=1, gamma=0, gpu_id=-1,\n",
       "              importance_type='gain', interaction_constraints='',\n",
       "              learning_rate=0.300000012, max_delta_step=0, max_depth=6,\n",
       "              min_child_weight=1, missing=nan, monotone_constraints='()',\n",
       "              n_estimators=100, n_jobs=0, num_parallel_tree=1,\n",
       "              objective='binary:logistic', random_state=0, reg_alpha=0,\n",
       "              reg_lambda=1, scale_pos_weight=1, subsample=1,\n",
       "              tree_method='exact', validate_parameters=1, verbosity=None)"
      ]
     },
     "execution_count": 24,
     "metadata": {},
     "output_type": "execute_result"
    }
   ],
   "source": [
    "art_v_xgb.fit(X_train, y_train)"
   ]
  },
  {
   "cell_type": "code",
   "execution_count": 25,
   "metadata": {},
   "outputs": [],
   "source": [
    "y_pred = art_v_xgb.predict(X_test)"
   ]
  },
  {
   "cell_type": "code",
   "execution_count": 27,
   "metadata": {},
   "outputs": [],
   "source": [
    "from sklearn.metrics import classification_report, accuracy_score, f1_score, roc_auc_score"
   ]
  },
  {
   "cell_type": "code",
   "execution_count": 28,
   "metadata": {},
   "outputs": [
    {
     "name": "stdout",
     "output_type": "stream",
     "text": [
      "              precision    recall  f1-score   support\n",
      "\n",
      "           0       0.89      0.97      0.93       157\n",
      "           1       0.00      0.00      0.00        19\n",
      "\n",
      "    accuracy                           0.86       176\n",
      "   macro avg       0.44      0.48      0.46       176\n",
      "weighted avg       0.79      0.86      0.83       176\n",
      "\n"
     ]
    }
   ],
   "source": [
    "print(classification_report(y_test, y_pred))"
   ]
  },
  {
   "cell_type": "code",
   "execution_count": 29,
   "metadata": {},
   "outputs": [
    {
     "data": {
      "text/plain": [
       "0.8636363636363636"
      ]
     },
     "execution_count": 29,
     "metadata": {},
     "output_type": "execute_result"
    }
   ],
   "source": [
    "accuracy_score(y_test, y_pred)"
   ]
  },
  {
   "cell_type": "code",
   "execution_count": 30,
   "metadata": {},
   "outputs": [
    {
     "data": {
      "text/plain": [
       "0.0"
      ]
     },
     "execution_count": 30,
     "metadata": {},
     "output_type": "execute_result"
    }
   ],
   "source": [
    "f1_score(y_test, y_pred)"
   ]
  },
  {
   "cell_type": "code",
   "execution_count": 31,
   "metadata": {},
   "outputs": [
    {
     "data": {
      "text/plain": [
       "0.4840764331210191"
      ]
     },
     "execution_count": 31,
     "metadata": {},
     "output_type": "execute_result"
    }
   ],
   "source": [
    "roc_auc_score(y_test, y_pred)"
   ]
  },
  {
   "cell_type": "code",
   "execution_count": 31,
   "metadata": {},
   "outputs": [],
   "source": [
    "with open('../models/topic_art_vect_xgb.pkl', 'wb') as f:\n",
    "    pickle.dump(art_v_xgb, f)"
   ]
  },
  {
   "cell_type": "markdown",
   "metadata": {},
   "source": [
    "#### Neural net approach"
   ]
  },
  {
   "cell_type": "code",
   "execution_count": 32,
   "metadata": {},
   "outputs": [],
   "source": [
    "from tensorflow.keras.preprocessing.text import Tokenizer\n",
    "from tensorflow.keras.preprocessing.sequence import pad_sequences\n",
    "from tensorflow.keras.models import Sequential\n",
    "from tensorflow.keras.layers import Dense,Flatten,Embedding,Dropout\n",
    "from tensorflow.keras.layers import Conv1D, MaxPooling1D, GlobalMaxPooling1D "
   ]
  },
  {
   "cell_type": "code",
   "execution_count": 33,
   "metadata": {},
   "outputs": [],
   "source": [
    "text = topics_text_vectors['goal_name_key_pos']\n",
    "y = topics_text_vectors['label_attractor_art']"
   ]
  },
  {
   "cell_type": "code",
   "execution_count": 34,
   "metadata": {},
   "outputs": [],
   "source": [
    "token = Tokenizer()\n",
    "token.fit_on_texts(text)"
   ]
  },
  {
   "cell_type": "code",
   "execution_count": 35,
   "metadata": {},
   "outputs": [
    {
     "data": {
      "text/plain": [
       "900"
      ]
     },
     "execution_count": 35,
     "metadata": {},
     "output_type": "execute_result"
    }
   ],
   "source": [
    "vocab_size = len(token.word_index) + 1\n",
    "vocab_size"
   ]
  },
  {
   "cell_type": "code",
   "execution_count": 36,
   "metadata": {},
   "outputs": [],
   "source": [
    "encoded_text = token.texts_to_sequences(text)"
   ]
  },
  {
   "cell_type": "code",
   "execution_count": 37,
   "metadata": {},
   "outputs": [
    {
     "data": {
      "text/plain": [
       "21"
      ]
     },
     "execution_count": 37,
     "metadata": {},
     "output_type": "execute_result"
    }
   ],
   "source": [
    "max_len = int()\n",
    "for i in encoded_text:\n",
    "    len_ = len(i)\n",
    "    if len_ > max_len:\n",
    "        max_len = len_\n",
    "        \n",
    "max_len"
   ]
  },
  {
   "cell_type": "code",
   "execution_count": 38,
   "metadata": {},
   "outputs": [],
   "source": [
    "max_length = 21\n",
    "X = pad_sequences(encoded_text, maxlen=max_length, padding='post')"
   ]
  },
  {
   "cell_type": "code",
   "execution_count": 39,
   "metadata": {},
   "outputs": [
    {
     "data": {
      "text/plain": [
       "(876, 21)"
      ]
     },
     "execution_count": 39,
     "metadata": {},
     "output_type": "execute_result"
    }
   ],
   "source": [
    "X.shape"
   ]
  },
  {
   "cell_type": "code",
   "execution_count": 40,
   "metadata": {},
   "outputs": [],
   "source": [
    "X_train, X_test, y_train, y_test = train_test_split(X, y, test_size=0.2, random_state=0, stratify=y)"
   ]
  },
  {
   "cell_type": "code",
   "execution_count": 41,
   "metadata": {},
   "outputs": [],
   "source": [
    "vec_size = 100\n",
    "\n",
    "model = Sequential()\n",
    "model.add(Embedding(vocab_size, vec_size, input_length=max_length))\n",
    "\n",
    "model.add(Conv1D(32, 2, activation='relu'))\n",
    "model.add(MaxPooling1D(2))\n",
    "model.add(Dropout(0.5))\n",
    "\n",
    "model.add(Dense(32, activation='relu'))\n",
    "model.add(Dropout(0.5))\n",
    "\n",
    "model.add(Dense(16, activation='relu'))\n",
    "\n",
    "model.add(GlobalMaxPooling1D())\n",
    "\n",
    "model.add(Dense(1, activation='sigmoid'))"
   ]
  },
  {
   "cell_type": "code",
   "execution_count": 42,
   "metadata": {},
   "outputs": [
    {
     "name": "stdout",
     "output_type": "stream",
     "text": [
      "Wall time: 43.9 ms\n"
     ]
    }
   ],
   "source": [
    "%%time\n",
    "model.compile(optimizer='adam', loss='binary_crossentropy', metrics=['accuracy'])"
   ]
  },
  {
   "cell_type": "code",
   "execution_count": 43,
   "metadata": {},
   "outputs": [],
   "source": [
    "import numpy as np"
   ]
  },
  {
   "cell_type": "code",
   "execution_count": 44,
   "metadata": {},
   "outputs": [],
   "source": [
    "X_train = np.asarray(X_train)\n",
    "y_train = np.asarray(y_train)\n",
    "X_test= np.asarray(X_test)\n",
    "y_test = np.asarray(y_test)"
   ]
  },
  {
   "cell_type": "code",
   "execution_count": 45,
   "metadata": {},
   "outputs": [],
   "source": [
    "from tensorflow.keras.callbacks import EarlyStopping"
   ]
  },
  {
   "cell_type": "code",
   "execution_count": 46,
   "metadata": {},
   "outputs": [],
   "source": [
    "early_stop = EarlyStopping(monitor='val_loss', mode='min', verbose=1, patience=25)"
   ]
  },
  {
   "cell_type": "code",
   "execution_count": 47,
   "metadata": {
    "scrolled": true
   },
   "outputs": [
    {
     "name": "stdout",
     "output_type": "stream",
     "text": [
      "Train on 700 samples, validate on 176 samples\n",
      "Epoch 1/600\n",
      "700/700 [==============================] - 1s 2ms/sample - loss: 0.5466 - accuracy: 0.8314 - val_loss: 0.4439 - val_accuracy: 0.8920\n",
      "Epoch 2/600\n",
      "700/700 [==============================] - 0s 198us/sample - loss: 0.3605 - accuracy: 0.8900 - val_loss: 0.3650 - val_accuracy: 0.8920\n",
      "Epoch 3/600\n",
      "700/700 [==============================] - 0s 201us/sample - loss: 0.3686 - accuracy: 0.8900 - val_loss: 0.3935 - val_accuracy: 0.8920\n",
      "Epoch 4/600\n",
      "700/700 [==============================] - 0s 195us/sample - loss: 0.3565 - accuracy: 0.8900 - val_loss: 0.3813 - val_accuracy: 0.8920\n",
      "Epoch 5/600\n",
      "700/700 [==============================] - 0s 197us/sample - loss: 0.3591 - accuracy: 0.8900 - val_loss: 0.3924 - val_accuracy: 0.8920\n",
      "Epoch 6/600\n",
      "700/700 [==============================] - 0s 202us/sample - loss: 0.3546 - accuracy: 0.8900 - val_loss: 0.3814 - val_accuracy: 0.8920\n",
      "Epoch 7/600\n",
      "700/700 [==============================] - 0s 197us/sample - loss: 0.3590 - accuracy: 0.8900 - val_loss: 0.3907 - val_accuracy: 0.8920\n",
      "Epoch 8/600\n",
      "700/700 [==============================] - 0s 201us/sample - loss: 0.3616 - accuracy: 0.8900 - val_loss: 0.3936 - val_accuracy: 0.8920\n",
      "Epoch 9/600\n",
      "700/700 [==============================] - 0s 191us/sample - loss: 0.3442 - accuracy: 0.8900 - val_loss: 0.3853 - val_accuracy: 0.8920\n",
      "Epoch 10/600\n",
      "700/700 [==============================] - 0s 198us/sample - loss: 0.3577 - accuracy: 0.8900 - val_loss: 0.3883 - val_accuracy: 0.8920\n",
      "Epoch 11/600\n",
      "700/700 [==============================] - 0s 181us/sample - loss: 0.3453 - accuracy: 0.8900 - val_loss: 0.3946 - val_accuracy: 0.8920\n",
      "Epoch 12/600\n",
      "700/700 [==============================] - 0s 189us/sample - loss: 0.3573 - accuracy: 0.8900 - val_loss: 0.3939 - val_accuracy: 0.8920\n",
      "Epoch 13/600\n",
      "700/700 [==============================] - 0s 182us/sample - loss: 0.3594 - accuracy: 0.8900 - val_loss: 0.3901 - val_accuracy: 0.8920\n",
      "Epoch 14/600\n",
      "700/700 [==============================] - 0s 198us/sample - loss: 0.3490 - accuracy: 0.8900 - val_loss: 0.4013 - val_accuracy: 0.8920\n",
      "Epoch 15/600\n",
      "700/700 [==============================] - 0s 181us/sample - loss: 0.3472 - accuracy: 0.8900 - val_loss: 0.3884 - val_accuracy: 0.8920\n",
      "Epoch 16/600\n",
      "700/700 [==============================] - 0s 188us/sample - loss: 0.3553 - accuracy: 0.8900 - val_loss: 0.3939 - val_accuracy: 0.8920\n",
      "Epoch 17/600\n",
      "700/700 [==============================] - 0s 197us/sample - loss: 0.3449 - accuracy: 0.8900 - val_loss: 0.3826 - val_accuracy: 0.8920\n",
      "Epoch 18/600\n",
      "700/700 [==============================] - 0s 189us/sample - loss: 0.3367 - accuracy: 0.8900 - val_loss: 0.3852 - val_accuracy: 0.8920\n",
      "Epoch 19/600\n",
      "700/700 [==============================] - 0s 192us/sample - loss: 0.3465 - accuracy: 0.8900 - val_loss: 0.3827 - val_accuracy: 0.8920\n",
      "Epoch 20/600\n",
      "700/700 [==============================] - 0s 192us/sample - loss: 0.3331 - accuracy: 0.8900 - val_loss: 0.3783 - val_accuracy: 0.8920\n",
      "Epoch 21/600\n",
      "700/700 [==============================] - 0s 198us/sample - loss: 0.3365 - accuracy: 0.8914 - val_loss: 0.3915 - val_accuracy: 0.8920\n",
      "Epoch 22/600\n",
      "700/700 [==============================] - 0s 202us/sample - loss: 0.3264 - accuracy: 0.8943 - val_loss: 0.3786 - val_accuracy: 0.8920\n",
      "Epoch 23/600\n",
      "700/700 [==============================] - 0s 202us/sample - loss: 0.2949 - accuracy: 0.9000 - val_loss: 0.3895 - val_accuracy: 0.8920\n",
      "Epoch 24/600\n",
      "700/700 [==============================] - 0s 199us/sample - loss: 0.2718 - accuracy: 0.9086 - val_loss: 0.4111 - val_accuracy: 0.8750\n",
      "Epoch 25/600\n",
      "700/700 [==============================] - 0s 197us/sample - loss: 0.2471 - accuracy: 0.9086 - val_loss: 0.4327 - val_accuracy: 0.8693\n",
      "Epoch 26/600\n",
      "700/700 [==============================] - 0s 201us/sample - loss: 0.2355 - accuracy: 0.9229 - val_loss: 0.4410 - val_accuracy: 0.8750\n",
      "Epoch 27/600\n",
      "700/700 [==============================] - 0s 201us/sample - loss: 0.1951 - accuracy: 0.9300 - val_loss: 0.4715 - val_accuracy: 0.8693\n",
      "Epoch 00027: early stopping\n"
     ]
    },
    {
     "data": {
      "text/plain": [
       "<tensorflow.python.keras.callbacks.History at 0x21a0762e2c8>"
      ]
     },
     "execution_count": 47,
     "metadata": {},
     "output_type": "execute_result"
    }
   ],
   "source": [
    "model.fit(X_train, y_train, epochs=600, validation_data=(X_test, y_test), callbacks=[early_stop])"
   ]
  },
  {
   "cell_type": "code",
   "execution_count": 48,
   "metadata": {},
   "outputs": [],
   "source": [
    "losses = pd.DataFrame(model.history.history)"
   ]
  },
  {
   "cell_type": "code",
   "execution_count": 49,
   "metadata": {},
   "outputs": [
    {
     "data": {
      "text/plain": [
       "<matplotlib.axes._subplots.AxesSubplot at 0x21a0b4ac448>"
      ]
     },
     "execution_count": 49,
     "metadata": {},
     "output_type": "execute_result"
    }
   ],
   "source": [
    "losses[['accuracy','val_accuracy']].plot()"
   ]
  },
  {
   "cell_type": "code",
   "execution_count": 50,
   "metadata": {},
   "outputs": [
    {
     "data": {
      "text/plain": [
       "<matplotlib.axes._subplots.AxesSubplot at 0x21a0ba0c508>"
      ]
     },
     "execution_count": 50,
     "metadata": {},
     "output_type": "execute_result"
    },
    {
     "data": {
      "image/png": "[encoded data removed]",
      "text/plain": [
       "<Figure size 432x288 with 1 Axes>"
      ]
     },
     "metadata": {
      "needs_background": "light"
     },
     "output_type": "display_data"
    }
   ],
   "source": [
    "losses[['loss','val_loss']].plot()"
   ]
  },
  {
   "cell_type": "code",
   "execution_count": 51,
   "metadata": {},
   "outputs": [
    {
     "name": "stdout",
     "output_type": "stream",
     "text": [
      "['loss', 'accuracy']\n",
      "[0.47151999040083453, 0.8693182]\n"
     ]
    }
   ],
   "source": [
    "print(model.metrics_names)\n",
    "print(model.evaluate(X_test,y_test,verbose=0))"
   ]
  },
  {
   "cell_type": "code",
   "execution_count": 52,
   "metadata": {},
   "outputs": [],
   "source": [
    "y_pred = model.predict_classes(X_test)"
   ]
  },
  {
   "cell_type": "code",
   "execution_count": 53,
   "metadata": {},
   "outputs": [
    {
     "name": "stdout",
     "output_type": "stream",
     "text": [
      "              precision    recall  f1-score   support\n",
      "\n",
      "           0       0.89      0.97      0.93       157\n",
      "           1       0.00      0.00      0.00        19\n",
      "\n",
      "    accuracy                           0.87       176\n",
      "   macro avg       0.44      0.49      0.47       176\n",
      "weighted avg       0.79      0.87      0.83       176\n",
      "\n"
     ]
    }
   ],
   "source": [
    "print(classification_report(y_test, y_pred))"
   ]
  },
  {
   "cell_type": "code",
   "execution_count": 54,
   "metadata": {},
   "outputs": [
    {
     "data": {
      "text/plain": [
       "0.8693181818181818"
      ]
     },
     "execution_count": 54,
     "metadata": {},
     "output_type": "execute_result"
    }
   ],
   "source": [
    "accuracy_score(y_test, y_pred)"
   ]
  },
  {
   "cell_type": "code",
   "execution_count": 55,
   "metadata": {},
   "outputs": [
    {
     "data": {
      "text/plain": [
       "0.0"
      ]
     },
     "execution_count": 55,
     "metadata": {},
     "output_type": "execute_result"
    }
   ],
   "source": [
    "f1_score(y_test, y_pred)"
   ]
  },
  {
   "cell_type": "code",
   "execution_count": 56,
   "metadata": {},
   "outputs": [
    {
     "data": {
      "text/plain": [
       "0.4872611464968153"
      ]
     },
     "execution_count": 56,
     "metadata": {},
     "output_type": "execute_result"
    }
   ],
   "source": [
    "roc_auc_score(y_test, y_pred)"
   ]
  },
  {
   "cell_type": "code",
   "execution_count": 57,
   "metadata": {},
   "outputs": [],
   "source": [
    "model.save(\"../models/topic_art_vect_nn.h5\")"
   ]
  },
  {
   "cell_type": "code",
   "execution_count": null,
   "metadata": {},
   "outputs": [],
   "source": []
  }
 ],
 "metadata": {
  "kernelspec": {
   "display_name": "Python 3",
   "language": "python",
   "name": "python3"
  },
  "language_info": {
   "codemirror_mode": {
    "name": "ipython",
    "version": 3
   },
   "file_extension": ".py",
   "mimetype": "text/x-python",
   "name": "python",
   "nbconvert_exporter": "python",
   "pygments_lexer": "ipython3",
   "version": "3.7.4"
  }
 },
 "nbformat": 4,
 "nbformat_minor": 4
}
