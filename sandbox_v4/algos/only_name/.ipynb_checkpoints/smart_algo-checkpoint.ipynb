{
 "cells": [
  {
   "cell_type": "code",
   "execution_count": 1,
   "metadata": {},
   "outputs": [],
   "source": [
    "import pandas as pd\n",
    "import os"
   ]
  },
  {
   "cell_type": "code",
   "execution_count": 2,
   "metadata": {},
   "outputs": [],
   "source": [
    "import pickle"
   ]
  },
  {
   "cell_type": "code",
   "execution_count": 4,
   "metadata": {
    "scrolled": true
   },
   "outputs": [],
   "source": [
    "smart_df = pd.read_csv('../../clean_data/only_name_smart.csv', index_col=0)"
   ]
  },
  {
   "cell_type": "code",
   "execution_count": 5,
   "metadata": {},
   "outputs": [
    {
     "data": {
      "text/html": [
       "<div>\n",
       "<style scoped>\n",
       "    .dataframe tbody tr th:only-of-type {\n",
       "        vertical-align: middle;\n",
       "    }\n",
       "\n",
       "    .dataframe tbody tr th {\n",
       "        vertical-align: top;\n",
       "    }\n",
       "\n",
       "    .dataframe thead th {\n",
       "        text-align: right;\n",
       "    }\n",
       "</style>\n",
       "<table border=\"1\" class=\"dataframe\">\n",
       "  <thead>\n",
       "    <tr style=\"text-align: right;\">\n",
       "      <th></th>\n",
       "      <th>goal_name</th>\n",
       "      <th>goal_name_key_pos</th>\n",
       "      <th>goal_weight</th>\n",
       "      <th>goal_words</th>\n",
       "      <th>goal_aver_word_len</th>\n",
       "      <th>goal_verbs_counter</th>\n",
       "      <th>goal_nouns_counter</th>\n",
       "      <th>goal_numr_counter</th>\n",
       "      <th>goal_adj_counter</th>\n",
       "      <th>goal_digit_counter</th>\n",
       "      <th>label_specific</th>\n",
       "      <th>label_attainable</th>\n",
       "      <th>label_time_bound</th>\n",
       "      <th>label_unambiguity</th>\n",
       "    </tr>\n",
       "  </thead>\n",
       "  <tbody>\n",
       "    <tr>\n",
       "      <td>25</td>\n",
       "      <td>повысить уровень знаний возможности компьютера</td>\n",
       "      <td>повысить уровень знание возможность компьютер</td>\n",
       "      <td>1.2060</td>\n",
       "      <td>5</td>\n",
       "      <td>8.4</td>\n",
       "      <td>1</td>\n",
       "      <td>4</td>\n",
       "      <td>0</td>\n",
       "      <td>0</td>\n",
       "      <td>0</td>\n",
       "      <td>1</td>\n",
       "      <td>1</td>\n",
       "      <td>0</td>\n",
       "      <td>1</td>\n",
       "    </tr>\n",
       "    <tr>\n",
       "      <td>70</td>\n",
       "      <td>познание инноваций</td>\n",
       "      <td>познание инновация</td>\n",
       "      <td>0.6429</td>\n",
       "      <td>2</td>\n",
       "      <td>8.5</td>\n",
       "      <td>0</td>\n",
       "      <td>2</td>\n",
       "      <td>0</td>\n",
       "      <td>0</td>\n",
       "      <td>0</td>\n",
       "      <td>1</td>\n",
       "      <td>1</td>\n",
       "      <td>0</td>\n",
       "      <td>1</td>\n",
       "    </tr>\n",
       "    <tr>\n",
       "      <td>124</td>\n",
       "      <td>fdd</td>\n",
       "      <td>NaN</td>\n",
       "      <td>0.0000</td>\n",
       "      <td>1</td>\n",
       "      <td>3.0</td>\n",
       "      <td>0</td>\n",
       "      <td>0</td>\n",
       "      <td>0</td>\n",
       "      <td>0</td>\n",
       "      <td>0</td>\n",
       "      <td>0</td>\n",
       "      <td>0</td>\n",
       "      <td>0</td>\n",
       "      <td>1</td>\n",
       "    </tr>\n",
       "    <tr>\n",
       "      <td>136</td>\n",
       "      <td>знания</td>\n",
       "      <td>знание</td>\n",
       "      <td>0.0123</td>\n",
       "      <td>1</td>\n",
       "      <td>6.0</td>\n",
       "      <td>0</td>\n",
       "      <td>1</td>\n",
       "      <td>0</td>\n",
       "      <td>0</td>\n",
       "      <td>0</td>\n",
       "      <td>0</td>\n",
       "      <td>1</td>\n",
       "      <td>0</td>\n",
       "      <td>1</td>\n",
       "    </tr>\n",
       "    <tr>\n",
       "      <td>172</td>\n",
       "      <td>получить больше знаний и умений</td>\n",
       "      <td>получить знание умение</td>\n",
       "      <td>0.0944</td>\n",
       "      <td>5</td>\n",
       "      <td>5.4</td>\n",
       "      <td>1</td>\n",
       "      <td>2</td>\n",
       "      <td>0</td>\n",
       "      <td>0</td>\n",
       "      <td>0</td>\n",
       "      <td>0</td>\n",
       "      <td>0</td>\n",
       "      <td>0</td>\n",
       "      <td>1</td>\n",
       "    </tr>\n",
       "  </tbody>\n",
       "</table>\n",
       "</div>"
      ],
      "text/plain": [
       "                                          goal_name  \\\n",
       "25   повысить уровень знаний возможности компьютера   \n",
       "70                               познание инноваций   \n",
       "124                                             fdd   \n",
       "136                                          знания   \n",
       "172                 получить больше знаний и умений   \n",
       "\n",
       "                                 goal_name_key_pos  goal_weight  goal_words  \\\n",
       "25   повысить уровень знание возможность компьютер       1.2060           5   \n",
       "70                              познание инновация       0.6429           2   \n",
       "124                                            NaN       0.0000           1   \n",
       "136                                         знание       0.0123           1   \n",
       "172                         получить знание умение       0.0944           5   \n",
       "\n",
       "     goal_aver_word_len  goal_verbs_counter  goal_nouns_counter  \\\n",
       "25                  8.4                   1                   4   \n",
       "70                  8.5                   0                   2   \n",
       "124                 3.0                   0                   0   \n",
       "136                 6.0                   0                   1   \n",
       "172                 5.4                   1                   2   \n",
       "\n",
       "     goal_numr_counter  goal_adj_counter  goal_digit_counter  label_specific  \\\n",
       "25                   0                 0                   0               1   \n",
       "70                   0                 0                   0               1   \n",
       "124                  0                 0                   0               0   \n",
       "136                  0                 0                   0               0   \n",
       "172                  0                 0                   0               0   \n",
       "\n",
       "     label_attainable  label_time_bound  label_unambiguity  \n",
       "25                  1                 0                  1  \n",
       "70                  1                 0                  1  \n",
       "124                 0                 0                  1  \n",
       "136                 1                 0                  1  \n",
       "172                 0                 0                  1  "
      ]
     },
     "execution_count": 5,
     "metadata": {},
     "output_type": "execute_result"
    }
   ],
   "source": [
    "smart_df.head()"
   ]
  },
  {
   "cell_type": "code",
   "execution_count": 7,
   "metadata": {},
   "outputs": [],
   "source": [
    "smart = smart_df.copy()"
   ]
  },
  {
   "cell_type": "code",
   "execution_count": 8,
   "metadata": {},
   "outputs": [],
   "source": [
    "smart.drop(columns=['goal_name'], inplace=True)"
   ]
  },
  {
   "cell_type": "code",
   "execution_count": 32,
   "metadata": {},
   "outputs": [],
   "source": [
    "smart_text_vectors = smart[['goal_name_key_pos', 'label_specific', 'label_attainable', 'label_time_bound']]\n",
    "smart_features = smart.drop(columns=['goal_name_key_pos'])"
   ]
  },
  {
   "cell_type": "code",
   "execution_count": 10,
   "metadata": {},
   "outputs": [],
   "source": [
    "from sklearn.model_selection import train_test_split"
   ]
  },
  {
   "cell_type": "markdown",
   "metadata": {},
   "source": [
    "### Label specific"
   ]
  },
  {
   "cell_type": "markdown",
   "metadata": {},
   "source": [
    "#### Features approach"
   ]
  },
  {
   "cell_type": "code",
   "execution_count": 11,
   "metadata": {},
   "outputs": [],
   "source": [
    "specific_features = smart_features.drop(columns=['label_attainable', 'label_time_bound', 'label_unambiguity'])"
   ]
  },
  {
   "cell_type": "code",
   "execution_count": 12,
   "metadata": {},
   "outputs": [],
   "source": [
    "X = specific_features.drop('label_specific', axis=1)\n",
    "y = specific_features['label_specific']"
   ]
  },
  {
   "cell_type": "code",
   "execution_count": 13,
   "metadata": {},
   "outputs": [
    {
     "data": {
      "text/plain": [
       "(899, 8)"
      ]
     },
     "execution_count": 13,
     "metadata": {},
     "output_type": "execute_result"
    }
   ],
   "source": [
    "X.shape"
   ]
  },
  {
   "cell_type": "code",
   "execution_count": 15,
   "metadata": {},
   "outputs": [
    {
     "data": {
      "text/plain": [
       "(899,)"
      ]
     },
     "execution_count": 15,
     "metadata": {},
     "output_type": "execute_result"
    }
   ],
   "source": [
    "y.shape"
   ]
  },
  {
   "cell_type": "code",
   "execution_count": 16,
   "metadata": {},
   "outputs": [],
   "source": [
    "X_train, X_test, y_train, y_test = train_test_split(X, y, test_size=0.2, random_state=42)"
   ]
  },
  {
   "cell_type": "code",
   "execution_count": 17,
   "metadata": {},
   "outputs": [
    {
     "data": {
      "text/html": [
       "<div>\n",
       "<style scoped>\n",
       "    .dataframe tbody tr th:only-of-type {\n",
       "        vertical-align: middle;\n",
       "    }\n",
       "\n",
       "    .dataframe tbody tr th {\n",
       "        vertical-align: top;\n",
       "    }\n",
       "\n",
       "    .dataframe thead th {\n",
       "        text-align: right;\n",
       "    }\n",
       "</style>\n",
       "<table border=\"1\" class=\"dataframe\">\n",
       "  <thead>\n",
       "    <tr style=\"text-align: right;\">\n",
       "      <th></th>\n",
       "      <th>goal_weight</th>\n",
       "      <th>goal_words</th>\n",
       "      <th>goal_aver_word_len</th>\n",
       "      <th>goal_verbs_counter</th>\n",
       "      <th>goal_nouns_counter</th>\n",
       "      <th>goal_numr_counter</th>\n",
       "      <th>goal_adj_counter</th>\n",
       "      <th>goal_digit_counter</th>\n",
       "    </tr>\n",
       "  </thead>\n",
       "  <tbody>\n",
       "    <tr>\n",
       "      <td>16946</td>\n",
       "      <td>2.1651</td>\n",
       "      <td>4</td>\n",
       "      <td>6.50</td>\n",
       "      <td>1</td>\n",
       "      <td>2</td>\n",
       "      <td>0</td>\n",
       "      <td>1</td>\n",
       "      <td>0</td>\n",
       "    </tr>\n",
       "    <tr>\n",
       "      <td>13196</td>\n",
       "      <td>0.3646</td>\n",
       "      <td>6</td>\n",
       "      <td>5.67</td>\n",
       "      <td>2</td>\n",
       "      <td>2</td>\n",
       "      <td>0</td>\n",
       "      <td>1</td>\n",
       "      <td>0</td>\n",
       "    </tr>\n",
       "    <tr>\n",
       "      <td>16543</td>\n",
       "      <td>0.6667</td>\n",
       "      <td>2</td>\n",
       "      <td>7.50</td>\n",
       "      <td>1</td>\n",
       "      <td>1</td>\n",
       "      <td>0</td>\n",
       "      <td>0</td>\n",
       "      <td>0</td>\n",
       "    </tr>\n",
       "    <tr>\n",
       "      <td>11362</td>\n",
       "      <td>0.0661</td>\n",
       "      <td>2</td>\n",
       "      <td>10.00</td>\n",
       "      <td>0</td>\n",
       "      <td>1</td>\n",
       "      <td>0</td>\n",
       "      <td>1</td>\n",
       "      <td>0</td>\n",
       "    </tr>\n",
       "    <tr>\n",
       "      <td>4642</td>\n",
       "      <td>1.0059</td>\n",
       "      <td>11</td>\n",
       "      <td>7.18</td>\n",
       "      <td>0</td>\n",
       "      <td>5</td>\n",
       "      <td>0</td>\n",
       "      <td>3</td>\n",
       "      <td>0</td>\n",
       "    </tr>\n",
       "  </tbody>\n",
       "</table>\n",
       "</div>"
      ],
      "text/plain": [
       "       goal_weight  goal_words  goal_aver_word_len  goal_verbs_counter  \\\n",
       "16946       2.1651           4                6.50                   1   \n",
       "13196       0.3646           6                5.67                   2   \n",
       "16543       0.6667           2                7.50                   1   \n",
       "11362       0.0661           2               10.00                   0   \n",
       "4642        1.0059          11                7.18                   0   \n",
       "\n",
       "       goal_nouns_counter  goal_numr_counter  goal_adj_counter  \\\n",
       "16946                   2                  0                 1   \n",
       "13196                   2                  0                 1   \n",
       "16543                   1                  0                 0   \n",
       "11362                   1                  0                 1   \n",
       "4642                    5                  0                 3   \n",
       "\n",
       "       goal_digit_counter  \n",
       "16946                   0  \n",
       "13196                   0  \n",
       "16543                   0  \n",
       "11362                   0  \n",
       "4642                    0  "
      ]
     },
     "execution_count": 17,
     "metadata": {},
     "output_type": "execute_result"
    }
   ],
   "source": [
    "X_train.head()"
   ]
  },
  {
   "cell_type": "code",
   "execution_count": 18,
   "metadata": {},
   "outputs": [],
   "source": [
    "from sklearn.preprocessing import MinMaxScaler"
   ]
  },
  {
   "cell_type": "code",
   "execution_count": 19,
   "metadata": {},
   "outputs": [],
   "source": [
    "mms = MinMaxScaler()"
   ]
  },
  {
   "cell_type": "code",
   "execution_count": 20,
   "metadata": {},
   "outputs": [],
   "source": [
    "X_train_scaled = mms.fit_transform(X_train)"
   ]
  },
  {
   "cell_type": "code",
   "execution_count": 21,
   "metadata": {},
   "outputs": [],
   "source": [
    "X_test_scaled = mms.fit_transform(X_test)"
   ]
  },
  {
   "cell_type": "code",
   "execution_count": 22,
   "metadata": {},
   "outputs": [],
   "source": [
    "from xgboost import XGBClassifier"
   ]
  },
  {
   "cell_type": "code",
   "execution_count": 23,
   "metadata": {},
   "outputs": [],
   "source": [
    "spec_xgb = XGBClassifier()"
   ]
  },
  {
   "cell_type": "code",
   "execution_count": 24,
   "metadata": {},
   "outputs": [
    {
     "data": {
      "text/plain": [
       "XGBClassifier(base_score=0.5, booster='gbtree', colsample_bylevel=1,\n",
       "              colsample_bynode=1, colsample_bytree=1, gamma=0, gpu_id=-1,\n",
       "              importance_type='gain', interaction_constraints='',\n",
       "              learning_rate=0.300000012, max_delta_step=0, max_depth=6,\n",
       "              min_child_weight=1, missing=nan, monotone_constraints='()',\n",
       "              n_estimators=100, n_jobs=0, num_parallel_tree=1,\n",
       "              objective='binary:logistic', random_state=0, reg_alpha=0,\n",
       "              reg_lambda=1, scale_pos_weight=1, subsample=1,\n",
       "              tree_method='exact', validate_parameters=1, verbosity=None)"
      ]
     },
     "execution_count": 24,
     "metadata": {},
     "output_type": "execute_result"
    }
   ],
   "source": [
    "spec_xgb.fit(X_train_scaled, y_train)"
   ]
  },
  {
   "cell_type": "code",
   "execution_count": 25,
   "metadata": {},
   "outputs": [],
   "source": [
    "y_pred = spec_xgb.predict(X_test_scaled)"
   ]
  },
  {
   "cell_type": "code",
   "execution_count": 29,
   "metadata": {},
   "outputs": [],
   "source": [
    "from sklearn.metrics import classification_report, accuracy_score, f1_score, roc_auc_score"
   ]
  },
  {
   "cell_type": "code",
   "execution_count": 27,
   "metadata": {},
   "outputs": [
    {
     "name": "stdout",
     "output_type": "stream",
     "text": [
      "              precision    recall  f1-score   support\n",
      "\n",
      "           0       0.60      0.69      0.64       106\n",
      "           1       0.44      0.35      0.39        74\n",
      "\n",
      "    accuracy                           0.55       180\n",
      "   macro avg       0.52      0.52      0.52       180\n",
      "weighted avg       0.54      0.55      0.54       180\n",
      "\n"
     ]
    }
   ],
   "source": [
    "print(classification_report(y_test, y_pred))"
   ]
  },
  {
   "cell_type": "code",
   "execution_count": 28,
   "metadata": {},
   "outputs": [
    {
     "data": {
      "text/plain": [
       "0.55"
      ]
     },
     "execution_count": 28,
     "metadata": {},
     "output_type": "execute_result"
    }
   ],
   "source": [
    "accuracy_score(y_test, y_pred)"
   ]
  },
  {
   "cell_type": "code",
   "execution_count": 30,
   "metadata": {},
   "outputs": [
    {
     "data": {
      "text/plain": [
       "0.39097744360902253"
      ]
     },
     "execution_count": 30,
     "metadata": {},
     "output_type": "execute_result"
    }
   ],
   "source": [
    "f1_score(y_test, y_pred)"
   ]
  },
  {
   "cell_type": "code",
   "execution_count": 31,
   "metadata": {},
   "outputs": [
    {
     "data": {
      "text/plain": [
       "0.5200152983171851"
      ]
     },
     "execution_count": 31,
     "metadata": {},
     "output_type": "execute_result"
    }
   ],
   "source": [
    "roc_auc_score(y_test, y_pred)"
   ]
  },
  {
   "cell_type": "code",
   "execution_count": 49,
   "metadata": {},
   "outputs": [],
   "source": [
    "with open('models/specific_feat_xgb.pkl', 'wb') as f:\n",
    "    pickle.dump(spec_xgb, f)"
   ]
  },
  {
   "cell_type": "markdown",
   "metadata": {},
   "source": [
    "#### Vectors approach"
   ]
  },
  {
   "cell_type": "code",
   "execution_count": 33,
   "metadata": {},
   "outputs": [],
   "source": [
    "specific_vectors = smart_text_vectors.drop(columns=['label_attainable', 'label_time_bound'])"
   ]
  },
  {
   "cell_type": "code",
   "execution_count": 34,
   "metadata": {},
   "outputs": [
    {
     "data": {
      "text/plain": [
       "Index(['goal_name_key_pos', 'label_specific'], dtype='object')"
      ]
     },
     "execution_count": 34,
     "metadata": {},
     "output_type": "execute_result"
    }
   ],
   "source": [
    "specific_vectors.columns"
   ]
  },
  {
   "cell_type": "code",
   "execution_count": 35,
   "metadata": {},
   "outputs": [],
   "source": [
    "from sklearn.feature_extraction.text import CountVectorizer, TfidfVectorizer"
   ]
  },
  {
   "cell_type": "code",
   "execution_count": 36,
   "metadata": {},
   "outputs": [],
   "source": [
    "text = specific_vectors['goal_name_key_pos']\n",
    "y = specific_vectors['label_specific']"
   ]
  },
  {
   "cell_type": "code",
   "execution_count": 40,
   "metadata": {},
   "outputs": [],
   "source": [
    "text.fillna('', inplace=True)"
   ]
  },
  {
   "cell_type": "code",
   "execution_count": 41,
   "metadata": {},
   "outputs": [
    {
     "data": {
      "text/plain": [
       "25           повысить уровень знание возможность компьютер\n",
       "70                                      познание инновация\n",
       "124                                                       \n",
       "136                                                 знание\n",
       "172                                 получить знание умение\n",
       "                               ...                        \n",
       "17982                                  отдалиться молодёжь\n",
       "17983                найти интересный работа работать мозг\n",
       "17991                              быть интересный общение\n",
       "18015    получить сертификат эксперт региональный чемпи...\n",
       "18017                                закончить аспирантура\n",
       "Name: goal_name_key_pos, Length: 899, dtype: object"
      ]
     },
     "execution_count": 41,
     "metadata": {},
     "output_type": "execute_result"
    }
   ],
   "source": [
    "text"
   ]
  },
  {
   "cell_type": "code",
   "execution_count": 42,
   "metadata": {},
   "outputs": [],
   "source": [
    "tfidf = TfidfVectorizer()\n",
    "X = tfidf.fit_transform(text)"
   ]
  },
  {
   "cell_type": "code",
   "execution_count": 43,
   "metadata": {},
   "outputs": [
    {
     "data": {
      "text/plain": [
       "(899, 893)"
      ]
     },
     "execution_count": 43,
     "metadata": {},
     "output_type": "execute_result"
    }
   ],
   "source": [
    "X.shape"
   ]
  },
  {
   "cell_type": "code",
   "execution_count": 44,
   "metadata": {},
   "outputs": [],
   "source": [
    "X_train, X_test, y_train, y_test = train_test_split(X, y, test_size=0.2, random_state=0, stratify=y)"
   ]
  },
  {
   "cell_type": "code",
   "execution_count": 45,
   "metadata": {},
   "outputs": [],
   "source": [
    "spec_v_xgb = XGBClassifier()"
   ]
  },
  {
   "cell_type": "code",
   "execution_count": 46,
   "metadata": {},
   "outputs": [
    {
     "data": {
      "text/plain": [
       "XGBClassifier(base_score=0.5, booster='gbtree', colsample_bylevel=1,\n",
       "              colsample_bynode=1, colsample_bytree=1, gamma=0, gpu_id=-1,\n",
       "              importance_type='gain', interaction_constraints='',\n",
       "              learning_rate=0.300000012, max_delta_step=0, max_depth=6,\n",
       "              min_child_weight=1, missing=nan, monotone_constraints='()',\n",
       "              n_estimators=100, n_jobs=0, num_parallel_tree=1,\n",
       "              objective='binary:logistic', random_state=0, reg_alpha=0,\n",
       "              reg_lambda=1, scale_pos_weight=1, subsample=1,\n",
       "              tree_method='exact', validate_parameters=1, verbosity=None)"
      ]
     },
     "execution_count": 46,
     "metadata": {},
     "output_type": "execute_result"
    }
   ],
   "source": [
    "spec_v_xgb.fit(X_train, y_train)"
   ]
  },
  {
   "cell_type": "code",
   "execution_count": 47,
   "metadata": {},
   "outputs": [],
   "source": [
    "y_pred = spec_v_xgb.predict(X_test)"
   ]
  },
  {
   "cell_type": "code",
   "execution_count": 48,
   "metadata": {},
   "outputs": [
    {
     "name": "stdout",
     "output_type": "stream",
     "text": [
      "              precision    recall  f1-score   support\n",
      "\n",
      "           0       0.54      0.69      0.61       101\n",
      "           1       0.38      0.24      0.29        79\n",
      "\n",
      "    accuracy                           0.49       180\n",
      "   macro avg       0.46      0.47      0.45       180\n",
      "weighted avg       0.47      0.49      0.47       180\n",
      "\n"
     ]
    }
   ],
   "source": [
    "print(classification_report(y_test, y_pred))"
   ]
  },
  {
   "cell_type": "code",
   "execution_count": 49,
   "metadata": {},
   "outputs": [
    {
     "data": {
      "text/plain": [
       "0.49444444444444446"
      ]
     },
     "execution_count": 49,
     "metadata": {},
     "output_type": "execute_result"
    }
   ],
   "source": [
    "accuracy_score(y_test, y_pred)"
   ]
  },
  {
   "cell_type": "code",
   "execution_count": 50,
   "metadata": {},
   "outputs": [
    {
     "data": {
      "text/plain": [
       "0.2945736434108527"
      ]
     },
     "execution_count": 50,
     "metadata": {},
     "output_type": "execute_result"
    }
   ],
   "source": [
    "f1_score(y_test, y_pred)"
   ]
  },
  {
   "cell_type": "code",
   "execution_count": 51,
   "metadata": {},
   "outputs": [
    {
     "data": {
      "text/plain": [
       "0.4667878180223085"
      ]
     },
     "execution_count": 51,
     "metadata": {},
     "output_type": "execute_result"
    }
   ],
   "source": [
    "roc_auc_score(y_test, y_pred)"
   ]
  },
  {
   "cell_type": "code",
   "execution_count": 65,
   "metadata": {},
   "outputs": [],
   "source": [
    "with open('models/specific_vect_xgb.pkl', 'wb') as f:\n",
    "    pickle.dump(spec_v_xgb, f)"
   ]
  },
  {
   "cell_type": "markdown",
   "metadata": {},
   "source": [
    "#### Neural net approach"
   ]
  },
  {
   "cell_type": "code",
   "execution_count": 52,
   "metadata": {},
   "outputs": [],
   "source": [
    "from tensorflow.keras.preprocessing.text import Tokenizer\n",
    "from tensorflow.keras.preprocessing.sequence import pad_sequences\n",
    "from tensorflow.keras.models import Sequential\n",
    "from tensorflow.keras.layers import Dense,Flatten,Embedding,Dropout\n",
    "from tensorflow.keras.layers import Conv1D, MaxPooling1D, GlobalMaxPooling1D "
   ]
  },
  {
   "cell_type": "code",
   "execution_count": 53,
   "metadata": {},
   "outputs": [],
   "source": [
    "text = specific_vectors['goal_name_key_pos']\n",
    "y = specific_vectors['label_specific']"
   ]
  },
  {
   "cell_type": "code",
   "execution_count": 54,
   "metadata": {},
   "outputs": [],
   "source": [
    "token = Tokenizer()\n",
    "token.fit_on_texts(text)"
   ]
  },
  {
   "cell_type": "code",
   "execution_count": 55,
   "metadata": {},
   "outputs": [
    {
     "data": {
      "text/plain": [
       "900"
      ]
     },
     "execution_count": 55,
     "metadata": {},
     "output_type": "execute_result"
    }
   ],
   "source": [
    "vocab_size = len(token.word_index) + 1\n",
    "vocab_size"
   ]
  },
  {
   "cell_type": "code",
   "execution_count": 56,
   "metadata": {},
   "outputs": [],
   "source": [
    "encoded_text = token.texts_to_sequences(text)"
   ]
  },
  {
   "cell_type": "code",
   "execution_count": 57,
   "metadata": {},
   "outputs": [
    {
     "data": {
      "text/plain": [
       "21"
      ]
     },
     "execution_count": 57,
     "metadata": {},
     "output_type": "execute_result"
    }
   ],
   "source": [
    "max_len = int()\n",
    "for i in encoded_text:\n",
    "    len_ = len(i)\n",
    "    if len_ > max_len:\n",
    "        max_len = len_\n",
    "        \n",
    "max_len"
   ]
  },
  {
   "cell_type": "code",
   "execution_count": 58,
   "metadata": {},
   "outputs": [],
   "source": [
    "max_length = 21\n",
    "X = pad_sequences(encoded_text, maxlen=max_length, padding='post')"
   ]
  },
  {
   "cell_type": "code",
   "execution_count": 59,
   "metadata": {},
   "outputs": [
    {
     "data": {
      "text/plain": [
       "(899, 21)"
      ]
     },
     "execution_count": 59,
     "metadata": {},
     "output_type": "execute_result"
    }
   ],
   "source": [
    "X.shape"
   ]
  },
  {
   "cell_type": "code",
   "execution_count": 60,
   "metadata": {},
   "outputs": [],
   "source": [
    "X_train, X_test, y_train, y_test = train_test_split(X, y, test_size=0.2, random_state=0, stratify=y)"
   ]
  },
  {
   "cell_type": "code",
   "execution_count": 61,
   "metadata": {},
   "outputs": [],
   "source": [
    "vec_size = 100\n",
    "\n",
    "model = Sequential()\n",
    "model.add(Embedding(vocab_size, vec_size, input_length=max_length))\n",
    "\n",
    "model.add(Conv1D(64, 2, activation='relu'))\n",
    "model.add(MaxPooling1D(2))\n",
    "model.add(Dropout(0.5))\n",
    "\n",
    "model.add(Dense(32, activation='relu'))\n",
    "model.add(Dropout(0.5))\n",
    "\n",
    "model.add(Dense(32, activation='relu'))\n",
    "model.add(Dropout(0.5))\n",
    "\n",
    "model.add(Dense(16, activation='relu'))\n",
    "\n",
    "model.add(GlobalMaxPooling1D())\n",
    "\n",
    "model.add(Dense(1, activation='sigmoid'))"
   ]
  },
  {
   "cell_type": "code",
   "execution_count": 62,
   "metadata": {},
   "outputs": [
    {
     "name": "stdout",
     "output_type": "stream",
     "text": [
      "Wall time: 32.9 ms\n"
     ]
    }
   ],
   "source": [
    "%%time\n",
    "model.compile(optimizer='adam', loss='binary_crossentropy', metrics=['accuracy'])"
   ]
  },
  {
   "cell_type": "code",
   "execution_count": 63,
   "metadata": {},
   "outputs": [],
   "source": [
    "import numpy as np"
   ]
  },
  {
   "cell_type": "code",
   "execution_count": 64,
   "metadata": {},
   "outputs": [],
   "source": [
    "X_train = np.asarray(X_train)\n",
    "y_train = np.asarray(y_train)\n",
    "X_test= np.asarray(X_test)\n",
    "y_test = np.asarray(y_test)"
   ]
  },
  {
   "cell_type": "code",
   "execution_count": 65,
   "metadata": {},
   "outputs": [],
   "source": [
    "from tensorflow.keras.callbacks import EarlyStopping"
   ]
  },
  {
   "cell_type": "code",
   "execution_count": 66,
   "metadata": {},
   "outputs": [],
   "source": [
    "early_stop = EarlyStopping(monitor='val_loss', mode='min', verbose=1, patience=25)"
   ]
  },
  {
   "cell_type": "code",
   "execution_count": 67,
   "metadata": {
    "scrolled": true
   },
   "outputs": [
    {
     "name": "stdout",
     "output_type": "stream",
     "text": [
      "Train on 719 samples, validate on 180 samples\n",
      "Epoch 1/600\n",
      "719/719 [==============================] - 2s 2ms/sample - loss: 0.6896 - accuracy: 0.5577 - val_loss: 0.6883 - val_accuracy: 0.5611\n",
      "Epoch 2/600\n",
      "719/719 [==============================] - 0s 240us/sample - loss: 0.6868 - accuracy: 0.5563 - val_loss: 0.6899 - val_accuracy: 0.5611\n",
      "Epoch 3/600\n",
      "719/719 [==============================] - 0s 246us/sample - loss: 0.6856 - accuracy: 0.5605 - val_loss: 0.6870 - val_accuracy: 0.5611\n",
      "Epoch 4/600\n",
      "719/719 [==============================] - 0s 239us/sample - loss: 0.6826 - accuracy: 0.5577 - val_loss: 0.6870 - val_accuracy: 0.5611\n",
      "Epoch 5/600\n",
      "719/719 [==============================] - 0s 236us/sample - loss: 0.6784 - accuracy: 0.5591 - val_loss: 0.6849 - val_accuracy: 0.5611\n",
      "Epoch 6/600\n",
      "719/719 [==============================] - 0s 248us/sample - loss: 0.6725 - accuracy: 0.5591 - val_loss: 0.6862 - val_accuracy: 0.5611\n",
      "Epoch 7/600\n",
      "719/719 [==============================] - 0s 241us/sample - loss: 0.6569 - accuracy: 0.5577 - val_loss: 0.6908 - val_accuracy: 0.5611\n",
      "Epoch 8/600\n",
      "719/719 [==============================] - 0s 240us/sample - loss: 0.6536 - accuracy: 0.5675 - val_loss: 0.6938 - val_accuracy: 0.5111\n",
      "Epoch 9/600\n",
      "719/719 [==============================] - 0s 240us/sample - loss: 0.6227 - accuracy: 0.6342 - val_loss: 0.7109 - val_accuracy: 0.5278\n",
      "Epoch 10/600\n",
      "719/719 [==============================] - 0s 241us/sample - loss: 0.5873 - accuracy: 0.7107 - val_loss: 0.7446 - val_accuracy: 0.5111\n",
      "Epoch 11/600\n",
      "719/719 [==============================] - 0s 244us/sample - loss: 0.5449 - accuracy: 0.7538 - val_loss: 0.7989 - val_accuracy: 0.4889\n",
      "Epoch 12/600\n",
      "719/719 [==============================] - 0s 264us/sample - loss: 0.5035 - accuracy: 0.7942 - val_loss: 0.8861 - val_accuracy: 0.5000\n",
      "Epoch 13/600\n",
      "719/719 [==============================] - 0s 254us/sample - loss: 0.4530 - accuracy: 0.8122 - val_loss: 0.9626 - val_accuracy: 0.5167\n",
      "Epoch 14/600\n",
      "719/719 [==============================] - 0s 252us/sample - loss: 0.4241 - accuracy: 0.8164 - val_loss: 1.0133 - val_accuracy: 0.5333\n",
      "Epoch 15/600\n",
      "719/719 [==============================] - 0s 248us/sample - loss: 0.4162 - accuracy: 0.8234 - val_loss: 1.1427 - val_accuracy: 0.5222\n",
      "Epoch 16/600\n",
      "719/719 [==============================] - 0s 244us/sample - loss: 0.4196 - accuracy: 0.8150 - val_loss: 1.1033 - val_accuracy: 0.5500\n",
      "Epoch 17/600\n",
      "719/719 [==============================] - 0s 244us/sample - loss: 0.3924 - accuracy: 0.8331 - val_loss: 1.1291 - val_accuracy: 0.5278\n",
      "Epoch 18/600\n",
      "719/719 [==============================] - 0s 250us/sample - loss: 0.3777 - accuracy: 0.8303 - val_loss: 1.2309 - val_accuracy: 0.5278\n",
      "Epoch 19/600\n",
      "719/719 [==============================] - 0s 257us/sample - loss: 0.3656 - accuracy: 0.8414 - val_loss: 1.3235 - val_accuracy: 0.5333\n",
      "Epoch 20/600\n",
      "719/719 [==============================] - 0s 248us/sample - loss: 0.3477 - accuracy: 0.8428 - val_loss: 1.3793 - val_accuracy: 0.5278\n",
      "Epoch 21/600\n",
      "719/719 [==============================] - 0s 254us/sample - loss: 0.3518 - accuracy: 0.8414 - val_loss: 1.3863 - val_accuracy: 0.5444\n",
      "Epoch 22/600\n",
      "719/719 [==============================] - 0s 265us/sample - loss: 0.3328 - accuracy: 0.8498 - val_loss: 1.3508 - val_accuracy: 0.5333\n",
      "Epoch 23/600\n",
      "719/719 [==============================] - 0s 251us/sample - loss: 0.2957 - accuracy: 0.8595 - val_loss: 1.5133 - val_accuracy: 0.5222\n",
      "Epoch 24/600\n",
      "719/719 [==============================] - 0s 246us/sample - loss: 0.2877 - accuracy: 0.8567 - val_loss: 1.6430 - val_accuracy: 0.5389\n",
      "Epoch 25/600\n",
      "719/719 [==============================] - 0s 280us/sample - loss: 0.2858 - accuracy: 0.8651 - val_loss: 1.7363 - val_accuracy: 0.5167\n",
      "Epoch 26/600\n",
      "719/719 [==============================] - 0s 272us/sample - loss: 0.2607 - accuracy: 0.8693 - val_loss: 1.7503 - val_accuracy: 0.5222\n",
      "Epoch 27/600\n",
      "719/719 [==============================] - 0s 257us/sample - loss: 0.2622 - accuracy: 0.8623 - val_loss: 1.8711 - val_accuracy: 0.5222\n",
      "Epoch 28/600\n",
      "719/719 [==============================] - 0s 244us/sample - loss: 0.2444 - accuracy: 0.8707 - val_loss: 2.0740 - val_accuracy: 0.5222\n",
      "Epoch 29/600\n",
      "719/719 [==============================] - 0s 254us/sample - loss: 0.2389 - accuracy: 0.8651 - val_loss: 2.0907 - val_accuracy: 0.5444\n",
      "Epoch 30/600\n",
      "719/719 [==============================] - 0s 257us/sample - loss: 0.2582 - accuracy: 0.8679 - val_loss: 2.1046 - val_accuracy: 0.5278\n",
      "Epoch 00030: early stopping\n"
     ]
    },
    {
     "data": {
      "text/plain": [
       "<tensorflow.python.keras.callbacks.History at 0x14d9731d048>"
      ]
     },
     "execution_count": 67,
     "metadata": {},
     "output_type": "execute_result"
    }
   ],
   "source": [
    "model.fit(X_train, y_train, epochs=600, validation_data=(X_test, y_test), callbacks=[early_stop])"
   ]
  },
  {
   "cell_type": "code",
   "execution_count": 68,
   "metadata": {},
   "outputs": [],
   "source": [
    "losses = pd.DataFrame(model.history.history)"
   ]
  },
  {
   "cell_type": "code",
   "execution_count": 69,
   "metadata": {},
   "outputs": [
    {
     "data": {
      "text/plain": [
       "<matplotlib.axes._subplots.AxesSubplot at 0x14d9b5fbac8>"
      ]
     },
     "execution_count": 69,
     "metadata": {},
     "output_type": "execute_result"
    }
   ],
   "source": [
    "losses[['accuracy','val_accuracy']].plot()"
   ]
  },
  {
   "cell_type": "code",
   "execution_count": 70,
   "metadata": {},
   "outputs": [
    {
     "data": {
      "text/plain": [
       "<matplotlib.axes._subplots.AxesSubplot at 0x14d9b850c48>"
      ]
     },
     "execution_count": 70,
     "metadata": {},
     "output_type": "execute_result"
    },
    {
     "data": {
      "image/png": "[encoded data removed]",
      "text/plain": [
       "<Figure size 432x288 with 1 Axes>"
      ]
     },
     "metadata": {
      "needs_background": "light"
     },
     "output_type": "display_data"
    }
   ],
   "source": [
    "losses[['loss','val_loss']].plot()"
   ]
  },
  {
   "cell_type": "code",
   "execution_count": 71,
   "metadata": {},
   "outputs": [
    {
     "name": "stdout",
     "output_type": "stream",
     "text": [
      "['loss', 'accuracy']\n",
      "[2.1046411673227947, 0.5277778]\n"
     ]
    }
   ],
   "source": [
    "print(model.metrics_names)\n",
    "print(model.evaluate(X_test,y_test,verbose=0))"
   ]
  },
  {
   "cell_type": "code",
   "execution_count": 72,
   "metadata": {},
   "outputs": [],
   "source": [
    "y_pred = model.predict_classes(X_test)"
   ]
  },
  {
   "cell_type": "code",
   "execution_count": 73,
   "metadata": {},
   "outputs": [
    {
     "name": "stdout",
     "output_type": "stream",
     "text": [
      "              precision    recall  f1-score   support\n",
      "\n",
      "           0       0.58      0.56      0.57       101\n",
      "           1       0.46      0.48      0.47        79\n",
      "\n",
      "    accuracy                           0.53       180\n",
      "   macro avg       0.52      0.52      0.52       180\n",
      "weighted avg       0.53      0.53      0.53       180\n",
      "\n"
     ]
    }
   ],
   "source": [
    "print(classification_report(y_test, y_pred))"
   ]
  },
  {
   "cell_type": "code",
   "execution_count": 74,
   "metadata": {},
   "outputs": [
    {
     "data": {
      "text/plain": [
       "0.5277777777777778"
      ]
     },
     "execution_count": 74,
     "metadata": {},
     "output_type": "execute_result"
    }
   ],
   "source": [
    "accuracy_score(y_test, y_pred)"
   ]
  },
  {
   "cell_type": "code",
   "execution_count": 75,
   "metadata": {},
   "outputs": [
    {
     "data": {
      "text/plain": [
       "0.4720496894409938"
      ]
     },
     "execution_count": 75,
     "metadata": {},
     "output_type": "execute_result"
    }
   ],
   "source": [
    "f1_score(y_test, y_pred)"
   ]
  },
  {
   "cell_type": "code",
   "execution_count": 76,
   "metadata": {},
   "outputs": [
    {
     "data": {
      "text/plain": [
       "0.5226845469357062"
      ]
     },
     "execution_count": 76,
     "metadata": {},
     "output_type": "execute_result"
    }
   ],
   "source": [
    "roc_auc_score(y_test, y_pred)"
   ]
  },
  {
   "cell_type": "code",
   "execution_count": 96,
   "metadata": {},
   "outputs": [],
   "source": [
    "model.save(\"models/specific_vect_nn.h5\")"
   ]
  },
  {
   "cell_type": "markdown",
   "metadata": {},
   "source": [
    "### Label attainable"
   ]
  },
  {
   "cell_type": "code",
   "execution_count": 77,
   "metadata": {},
   "outputs": [],
   "source": [
    "attainable_features = smart_features.drop(columns=['label_specific', 'label_time_bound', 'label_unambiguity'])"
   ]
  },
  {
   "cell_type": "code",
   "execution_count": 78,
   "metadata": {},
   "outputs": [],
   "source": [
    "X = attainable_features.drop('label_attainable', axis=1)\n",
    "y = attainable_features['label_attainable']"
   ]
  },
  {
   "cell_type": "code",
   "execution_count": 79,
   "metadata": {},
   "outputs": [],
   "source": [
    "X_train, X_test, y_train, y_test = train_test_split(X, y, test_size=0.25, random_state=42)"
   ]
  },
  {
   "cell_type": "code",
   "execution_count": 85,
   "metadata": {},
   "outputs": [],
   "source": [
    "mms = MinMaxScaler()"
   ]
  },
  {
   "cell_type": "code",
   "execution_count": 86,
   "metadata": {},
   "outputs": [],
   "source": [
    "X_train_scaled = mms.fit_transform(X_train)"
   ]
  },
  {
   "cell_type": "code",
   "execution_count": 87,
   "metadata": {},
   "outputs": [],
   "source": [
    "X_test_scaled = mms.fit_transform(X_test)"
   ]
  },
  {
   "cell_type": "code",
   "execution_count": 88,
   "metadata": {},
   "outputs": [],
   "source": [
    "att_xgb = XGBClassifier()"
   ]
  },
  {
   "cell_type": "code",
   "execution_count": 89,
   "metadata": {},
   "outputs": [
    {
     "data": {
      "text/plain": [
       "XGBClassifier(base_score=0.5, booster='gbtree', colsample_bylevel=1,\n",
       "              colsample_bynode=1, colsample_bytree=1, gamma=0, gpu_id=-1,\n",
       "              importance_type='gain', interaction_constraints='',\n",
       "              learning_rate=0.300000012, max_delta_step=0, max_depth=6,\n",
       "              min_child_weight=1, missing=nan, monotone_constraints='()',\n",
       "              n_estimators=100, n_jobs=0, num_parallel_tree=1,\n",
       "              objective='binary:logistic', random_state=0, reg_alpha=0,\n",
       "              reg_lambda=1, scale_pos_weight=1, subsample=1,\n",
       "              tree_method='exact', validate_parameters=1, verbosity=None)"
      ]
     },
     "execution_count": 89,
     "metadata": {},
     "output_type": "execute_result"
    }
   ],
   "source": [
    "att_xgb.fit(X_train_scaled, y_train)"
   ]
  },
  {
   "cell_type": "code",
   "execution_count": 90,
   "metadata": {},
   "outputs": [],
   "source": [
    "y_pred = att_xgb.predict(X_test_scaled)"
   ]
  },
  {
   "cell_type": "code",
   "execution_count": 91,
   "metadata": {},
   "outputs": [
    {
     "name": "stdout",
     "output_type": "stream",
     "text": [
      "              precision    recall  f1-score   support\n",
      "\n",
      "           0       0.46      0.49      0.47        98\n",
      "           1       0.58      0.55      0.57       127\n",
      "\n",
      "    accuracy                           0.52       225\n",
      "   macro avg       0.52      0.52      0.52       225\n",
      "weighted avg       0.53      0.52      0.53       225\n",
      "\n"
     ]
    }
   ],
   "source": [
    "print(classification_report(y_test, y_pred))"
   ]
  },
  {
   "cell_type": "code",
   "execution_count": 92,
   "metadata": {},
   "outputs": [
    {
     "data": {
      "text/plain": [
       "0.5244444444444445"
      ]
     },
     "execution_count": 92,
     "metadata": {},
     "output_type": "execute_result"
    }
   ],
   "source": [
    "accuracy_score(y_test, y_pred)"
   ]
  },
  {
   "cell_type": "code",
   "execution_count": 93,
   "metadata": {},
   "outputs": [
    {
     "data": {
      "text/plain": [
       "0.5668016194331984"
      ]
     },
     "execution_count": 93,
     "metadata": {},
     "output_type": "execute_result"
    }
   ],
   "source": [
    "f1_score(y_test, y_pred)"
   ]
  },
  {
   "cell_type": "code",
   "execution_count": 94,
   "metadata": {},
   "outputs": [
    {
     "data": {
      "text/plain": [
       "0.5204885103647758"
      ]
     },
     "execution_count": 94,
     "metadata": {},
     "output_type": "execute_result"
    }
   ],
   "source": [
    "roc_auc_score(y_test, y_pred)"
   ]
  },
  {
   "cell_type": "code",
   "execution_count": 118,
   "metadata": {},
   "outputs": [],
   "source": [
    "with open('models/attainable_feat_xgb.pkl', 'wb') as f:\n",
    "    pickle.dump(att_xgb, f)"
   ]
  },
  {
   "cell_type": "markdown",
   "metadata": {},
   "source": [
    "#### Vectors approach"
   ]
  },
  {
   "cell_type": "code",
   "execution_count": 97,
   "metadata": {},
   "outputs": [],
   "source": [
    "attainable_vectors = smart_text_vectors.drop(columns=['label_specific', 'label_time_bound'])"
   ]
  },
  {
   "cell_type": "code",
   "execution_count": 98,
   "metadata": {},
   "outputs": [],
   "source": [
    "attainable_vectors.fillna('', inplace=True)"
   ]
  },
  {
   "cell_type": "code",
   "execution_count": 99,
   "metadata": {},
   "outputs": [
    {
     "data": {
      "text/plain": [
       "Index(['goal_name_key_pos', 'label_attainable'], dtype='object')"
      ]
     },
     "execution_count": 99,
     "metadata": {},
     "output_type": "execute_result"
    }
   ],
   "source": [
    "attainable_vectors.columns"
   ]
  },
  {
   "cell_type": "code",
   "execution_count": 100,
   "metadata": {},
   "outputs": [],
   "source": [
    "text = attainable_vectors['goal_name_key_pos']\n",
    "y = attainable_vectors['label_attainable']"
   ]
  },
  {
   "cell_type": "code",
   "execution_count": 101,
   "metadata": {},
   "outputs": [],
   "source": [
    "tfidf = TfidfVectorizer()\n",
    "X = tfidf.fit_transform(text)"
   ]
  },
  {
   "cell_type": "code",
   "execution_count": 102,
   "metadata": {},
   "outputs": [],
   "source": [
    "X_train, X_test, y_train, y_test = train_test_split(X, y, test_size=0.2, random_state=0, stratify=y)"
   ]
  },
  {
   "cell_type": "code",
   "execution_count": 103,
   "metadata": {},
   "outputs": [],
   "source": [
    "att_v_xgb = XGBClassifier()"
   ]
  },
  {
   "cell_type": "code",
   "execution_count": 104,
   "metadata": {},
   "outputs": [
    {
     "data": {
      "text/plain": [
       "XGBClassifier(base_score=0.5, booster='gbtree', colsample_bylevel=1,\n",
       "              colsample_bynode=1, colsample_bytree=1, gamma=0, gpu_id=-1,\n",
       "              importance_type='gain', interaction_constraints='',\n",
       "              learning_rate=0.300000012, max_delta_step=0, max_depth=6,\n",
       "              min_child_weight=1, missing=nan, monotone_constraints='()',\n",
       "              n_estimators=100, n_jobs=0, num_parallel_tree=1,\n",
       "              objective='binary:logistic', random_state=0, reg_alpha=0,\n",
       "              reg_lambda=1, scale_pos_weight=1, subsample=1,\n",
       "              tree_method='exact', validate_parameters=1, verbosity=None)"
      ]
     },
     "execution_count": 104,
     "metadata": {},
     "output_type": "execute_result"
    }
   ],
   "source": [
    "att_v_xgb.fit(X_train, y_train)"
   ]
  },
  {
   "cell_type": "code",
   "execution_count": 105,
   "metadata": {},
   "outputs": [],
   "source": [
    "y_pred = att_v_xgb.predict(X_test)"
   ]
  },
  {
   "cell_type": "code",
   "execution_count": 106,
   "metadata": {},
   "outputs": [
    {
     "name": "stdout",
     "output_type": "stream",
     "text": [
      "              precision    recall  f1-score   support\n",
      "\n",
      "           0       0.41      0.29      0.34        77\n",
      "           1       0.56      0.69      0.62       103\n",
      "\n",
      "    accuracy                           0.52       180\n",
      "   macro avg       0.49      0.49      0.48       180\n",
      "weighted avg       0.50      0.52      0.50       180\n",
      "\n"
     ]
    }
   ],
   "source": [
    "print(classification_report(y_test, y_pred))"
   ]
  },
  {
   "cell_type": "code",
   "execution_count": 107,
   "metadata": {},
   "outputs": [
    {
     "data": {
      "text/plain": [
       "0.5166666666666667"
      ]
     },
     "execution_count": 107,
     "metadata": {},
     "output_type": "execute_result"
    }
   ],
   "source": [
    "accuracy_score(y_test, y_pred)"
   ]
  },
  {
   "cell_type": "code",
   "execution_count": 108,
   "metadata": {},
   "outputs": [
    {
     "data": {
      "text/plain": [
       "0.6200873362445415"
      ]
     },
     "execution_count": 108,
     "metadata": {},
     "output_type": "execute_result"
    }
   ],
   "source": [
    "f1_score(y_test, y_pred)"
   ]
  },
  {
   "cell_type": "code",
   "execution_count": 109,
   "metadata": {},
   "outputs": [
    {
     "data": {
      "text/plain": [
       "0.48751733703190014"
      ]
     },
     "execution_count": 109,
     "metadata": {},
     "output_type": "execute_result"
    }
   ],
   "source": [
    "roc_auc_score(y_test, y_pred)"
   ]
  },
  {
   "cell_type": "code",
   "execution_count": 130,
   "metadata": {},
   "outputs": [],
   "source": [
    "with open('models/attainable_vect_xgb.pkl', 'wb') as f:\n",
    "    pickle.dump(att_v_xgb, f)"
   ]
  },
  {
   "cell_type": "markdown",
   "metadata": {},
   "source": [
    "#### Neural net (vectors)"
   ]
  },
  {
   "cell_type": "code",
   "execution_count": 110,
   "metadata": {},
   "outputs": [],
   "source": [
    "text = attainable_vectors['goal_name_key_pos']\n",
    "y = attainable_vectors['label_attainable']"
   ]
  },
  {
   "cell_type": "code",
   "execution_count": 111,
   "metadata": {},
   "outputs": [],
   "source": [
    "token = Tokenizer()\n",
    "token.fit_on_texts(text)"
   ]
  },
  {
   "cell_type": "code",
   "execution_count": 112,
   "metadata": {},
   "outputs": [
    {
     "data": {
      "text/plain": [
       "900"
      ]
     },
     "execution_count": 112,
     "metadata": {},
     "output_type": "execute_result"
    }
   ],
   "source": [
    "vocab_size = len(token.word_index) + 1\n",
    "vocab_size"
   ]
  },
  {
   "cell_type": "code",
   "execution_count": 113,
   "metadata": {},
   "outputs": [],
   "source": [
    "encoded_text = token.texts_to_sequences(text)"
   ]
  },
  {
   "cell_type": "code",
   "execution_count": 114,
   "metadata": {},
   "outputs": [
    {
     "data": {
      "text/plain": [
       "21"
      ]
     },
     "execution_count": 114,
     "metadata": {},
     "output_type": "execute_result"
    }
   ],
   "source": [
    "max_len = int()\n",
    "for i in encoded_text:\n",
    "    len_ = len(i)\n",
    "    if len_ > max_len:\n",
    "        max_len = len_\n",
    "        \n",
    "max_len"
   ]
  },
  {
   "cell_type": "code",
   "execution_count": 115,
   "metadata": {},
   "outputs": [],
   "source": [
    "max_length = 21\n",
    "X = pad_sequences(encoded_text, maxlen=max_length, padding='post')"
   ]
  },
  {
   "cell_type": "code",
   "execution_count": 116,
   "metadata": {},
   "outputs": [],
   "source": [
    "X_train, X_test, y_train, y_test = train_test_split(X, y, test_size=0.2, random_state=0, stratify=y)"
   ]
  },
  {
   "cell_type": "code",
   "execution_count": 117,
   "metadata": {},
   "outputs": [],
   "source": [
    "vec_size = 142\n",
    "\n",
    "model = Sequential()\n",
    "model.add(Embedding(vocab_size, vec_size, input_length=max_length))\n",
    "\n",
    "model.add(Conv1D(64, 2, activation='relu'))\n",
    "model.add(MaxPooling1D(2))\n",
    "model.add(Dropout(0.5))\n",
    "\n",
    "model.add(Dense(32, activation='relu'))\n",
    "model.add(Dropout(0.5))\n",
    "\n",
    "model.add(Dense(32, activation='relu'))\n",
    "model.add(Dropout(0.5))\n",
    "\n",
    "model.add(Dense(16, activation='relu'))\n",
    "\n",
    "model.add(GlobalMaxPooling1D())\n",
    "\n",
    "model.add(Dense(1, activation='sigmoid'))"
   ]
  },
  {
   "cell_type": "code",
   "execution_count": 118,
   "metadata": {},
   "outputs": [
    {
     "name": "stdout",
     "output_type": "stream",
     "text": [
      "Wall time: 38.9 ms\n"
     ]
    }
   ],
   "source": [
    "%%time\n",
    "model.compile(optimizer='adam', loss='binary_crossentropy', metrics=['accuracy'])"
   ]
  },
  {
   "cell_type": "code",
   "execution_count": 119,
   "metadata": {},
   "outputs": [],
   "source": [
    "X_train = np.asarray(X_train)\n",
    "y_train = np.asarray(y_train)\n",
    "X_test= np.asarray(X_test)\n",
    "y_test = np.asarray(y_test)"
   ]
  },
  {
   "cell_type": "code",
   "execution_count": 120,
   "metadata": {},
   "outputs": [],
   "source": [
    "early_stop = EarlyStopping(monitor='val_loss', mode='min', verbose=1, patience=25)"
   ]
  },
  {
   "cell_type": "code",
   "execution_count": 121,
   "metadata": {},
   "outputs": [
    {
     "name": "stdout",
     "output_type": "stream",
     "text": [
      "Train on 719 samples, validate on 180 samples\n",
      "Epoch 1/600\n",
      "719/719 [==============================] - 2s 2ms/sample - loss: 0.6952 - accuracy: 0.5049 - val_loss: 0.6898 - val_accuracy: 0.5722\n",
      "Epoch 2/600\n",
      "719/719 [==============================] - 0s 347us/sample - loss: 0.6882 - accuracy: 0.5688 - val_loss: 0.6880 - val_accuracy: 0.5722\n",
      "Epoch 3/600\n",
      "719/719 [==============================] - 0s 348us/sample - loss: 0.6851 - accuracy: 0.5744 - val_loss: 0.6861 - val_accuracy: 0.5722\n",
      "Epoch 4/600\n",
      "719/719 [==============================] - 0s 357us/sample - loss: 0.6820 - accuracy: 0.5841 - val_loss: 0.6850 - val_accuracy: 0.5722\n",
      "Epoch 5/600\n",
      "719/719 [==============================] - 0s 347us/sample - loss: 0.6782 - accuracy: 0.5897 - val_loss: 0.6843 - val_accuracy: 0.5722\n",
      "Epoch 6/600\n",
      "719/719 [==============================] - 0s 336us/sample - loss: 0.6708 - accuracy: 0.6189 - val_loss: 0.6842 - val_accuracy: 0.5722\n",
      "Epoch 7/600\n",
      "719/719 [==============================] - 0s 329us/sample - loss: 0.6538 - accuracy: 0.6620 - val_loss: 0.6856 - val_accuracy: 0.5611\n",
      "Epoch 8/600\n",
      "719/719 [==============================] - 0s 349us/sample - loss: 0.6177 - accuracy: 0.7093 - val_loss: 0.7096 - val_accuracy: 0.5111\n",
      "Epoch 9/600\n",
      "719/719 [==============================] - 0s 345us/sample - loss: 0.5657 - accuracy: 0.7677 - val_loss: 0.7416 - val_accuracy: 0.5556\n",
      "Epoch 10/600\n",
      "719/719 [==============================] - 0s 348us/sample - loss: 0.5158 - accuracy: 0.7858 - val_loss: 0.7956 - val_accuracy: 0.5500\n",
      "Epoch 11/600\n",
      "719/719 [==============================] - 0s 347us/sample - loss: 0.4640 - accuracy: 0.8178 - val_loss: 0.9189 - val_accuracy: 0.5444\n",
      "Epoch 12/600\n",
      "719/719 [==============================] - 0s 350us/sample - loss: 0.4045 - accuracy: 0.8331 - val_loss: 0.9671 - val_accuracy: 0.5722\n",
      "Epoch 13/600\n",
      "719/719 [==============================] - 0s 350us/sample - loss: 0.3921 - accuracy: 0.8345 - val_loss: 1.1020 - val_accuracy: 0.5556\n",
      "Epoch 14/600\n",
      "719/719 [==============================] - 0s 347us/sample - loss: 0.3618 - accuracy: 0.8581 - val_loss: 1.2367 - val_accuracy: 0.5556\n",
      "Epoch 15/600\n",
      "719/719 [==============================] - 0s 356us/sample - loss: 0.3586 - accuracy: 0.8554 - val_loss: 1.1977 - val_accuracy: 0.5333\n",
      "Epoch 16/600\n",
      "719/719 [==============================] - 0s 345us/sample - loss: 0.3577 - accuracy: 0.8581 - val_loss: 1.2478 - val_accuracy: 0.5722\n",
      "Epoch 17/600\n",
      "719/719 [==============================] - 0s 343us/sample - loss: 0.3073 - accuracy: 0.8776 - val_loss: 1.3804 - val_accuracy: 0.5333\n",
      "Epoch 18/600\n",
      "719/719 [==============================] - 0s 354us/sample - loss: 0.3288 - accuracy: 0.8707 - val_loss: 1.3974 - val_accuracy: 0.5556\n",
      "Epoch 19/600\n",
      "719/719 [==============================] - 0s 351us/sample - loss: 0.3037 - accuracy: 0.8804 - val_loss: 1.5712 - val_accuracy: 0.5389\n",
      "Epoch 20/600\n",
      "719/719 [==============================] - 0s 352us/sample - loss: 0.3107 - accuracy: 0.8804 - val_loss: 1.5464 - val_accuracy: 0.5444\n",
      "Epoch 21/600\n",
      "719/719 [==============================] - 0s 352us/sample - loss: 0.2936 - accuracy: 0.8804 - val_loss: 1.5854 - val_accuracy: 0.5611\n",
      "Epoch 22/600\n",
      "719/719 [==============================] - 0s 346us/sample - loss: 0.2900 - accuracy: 0.8790 - val_loss: 1.7147 - val_accuracy: 0.5444\n",
      "Epoch 23/600\n",
      "719/719 [==============================] - 0s 353us/sample - loss: 0.2849 - accuracy: 0.8790 - val_loss: 1.7066 - val_accuracy: 0.5500\n",
      "Epoch 24/600\n",
      "719/719 [==============================] - 0s 359us/sample - loss: 0.2701 - accuracy: 0.8957 - val_loss: 1.7536 - val_accuracy: 0.5611\n",
      "Epoch 25/600\n",
      "719/719 [==============================] - 0s 352us/sample - loss: 0.2530 - accuracy: 0.8929 - val_loss: 1.7801 - val_accuracy: 0.5444\n",
      "Epoch 26/600\n",
      "719/719 [==============================] - 0s 354us/sample - loss: 0.2387 - accuracy: 0.8943 - val_loss: 1.8434 - val_accuracy: 0.5444\n",
      "Epoch 27/600\n",
      "719/719 [==============================] - 0s 356us/sample - loss: 0.2467 - accuracy: 0.8846 - val_loss: 1.8463 - val_accuracy: 0.5444\n",
      "Epoch 28/600\n",
      "719/719 [==============================] - 0s 365us/sample - loss: 0.2342 - accuracy: 0.8943 - val_loss: 1.9944 - val_accuracy: 0.5444\n",
      "Epoch 29/600\n",
      "719/719 [==============================] - 0s 359us/sample - loss: 0.2181 - accuracy: 0.8985 - val_loss: 1.9618 - val_accuracy: 0.5278\n",
      "Epoch 30/600\n",
      "719/719 [==============================] - 0s 358us/sample - loss: 0.2283 - accuracy: 0.8832 - val_loss: 2.1653 - val_accuracy: 0.5500\n",
      "Epoch 31/600\n",
      "719/719 [==============================] - 0s 356us/sample - loss: 0.2042 - accuracy: 0.9096 - val_loss: 2.3286 - val_accuracy: 0.5444\n",
      "Epoch 00031: early stopping\n"
     ]
    },
    {
     "data": {
      "text/plain": [
       "<tensorflow.python.keras.callbacks.History at 0x14d9bd7a1c8>"
      ]
     },
     "execution_count": 121,
     "metadata": {},
     "output_type": "execute_result"
    }
   ],
   "source": [
    "model.fit(X_train, y_train, epochs=600, validation_data=(X_test, y_test), callbacks=[early_stop])"
   ]
  },
  {
   "cell_type": "code",
   "execution_count": 122,
   "metadata": {},
   "outputs": [],
   "source": [
    "losses = pd.DataFrame(model.history.history)"
   ]
  },
  {
   "cell_type": "code",
   "execution_count": 123,
   "metadata": {},
   "outputs": [
    {
     "data": {
      "text/plain": [
       "<matplotlib.axes._subplots.AxesSubplot at 0x14d9b964248>"
      ]
     },
     "execution_count": 123,
     "metadata": {},
     "output_type": "execute_result"
    },
    {
     "data": {
      "image/png": "[encoded data removed]",
      "text/plain": [
       "<Figure size 432x288 with 1 Axes>"
      ]
     },
     "metadata": {
      "needs_background": "light"
     },
     "output_type": "display_data"
    }
   ],
   "source": [
    "losses[['accuracy','val_accuracy']].plot()"
   ]
  },
  {
   "cell_type": "code",
   "execution_count": 124,
   "metadata": {},
   "outputs": [
    {
     "data": {
      "text/plain": [
       "<matplotlib.axes._subplots.AxesSubplot at 0x14d9e5ace48>"
      ]
     },
     "execution_count": 124,
     "metadata": {},
     "output_type": "execute_result"
    },
    {
     "data": {
      "image/png": "[encoded data removed]",
      "text/plain": [
       "<Figure size 432x288 with 1 Axes>"
      ]
     },
     "metadata": {
      "needs_background": "light"
     },
     "output_type": "display_data"
    }
   ],
   "source": [
    "losses[['loss','val_loss']].plot()"
   ]
  },
  {
   "cell_type": "code",
   "execution_count": 125,
   "metadata": {},
   "outputs": [
    {
     "name": "stdout",
     "output_type": "stream",
     "text": [
      "['loss', 'accuracy']\n",
      "[2.3286325454711916, 0.54444444]\n"
     ]
    }
   ],
   "source": [
    "print(model.metrics_names)\n",
    "print(model.evaluate(X_test,y_test,verbose=0))"
   ]
  },
  {
   "cell_type": "code",
   "execution_count": 126,
   "metadata": {},
   "outputs": [],
   "source": [
    "y_pred = model.predict_classes(X_test)"
   ]
  },
  {
   "cell_type": "code",
   "execution_count": 127,
   "metadata": {},
   "outputs": [
    {
     "name": "stdout",
     "output_type": "stream",
     "text": [
      "              precision    recall  f1-score   support\n",
      "\n",
      "           0       0.45      0.32      0.38        77\n",
      "           1       0.58      0.71      0.64       103\n",
      "\n",
      "    accuracy                           0.54       180\n",
      "   macro avg       0.52      0.52      0.51       180\n",
      "weighted avg       0.53      0.54      0.53       180\n",
      "\n"
     ]
    }
   ],
   "source": [
    "print(classification_report(y_test, y_pred))"
   ]
  },
  {
   "cell_type": "code",
   "execution_count": 128,
   "metadata": {},
   "outputs": [
    {
     "data": {
      "text/plain": [
       "0.5444444444444444"
      ]
     },
     "execution_count": 128,
     "metadata": {},
     "output_type": "execute_result"
    }
   ],
   "source": [
    "accuracy_score(y_test, y_pred)"
   ]
  },
  {
   "cell_type": "code",
   "execution_count": 129,
   "metadata": {},
   "outputs": [
    {
     "data": {
      "text/plain": [
       "0.6403508771929824"
      ]
     },
     "execution_count": 129,
     "metadata": {},
     "output_type": "execute_result"
    }
   ],
   "source": [
    "f1_score(y_test, y_pred)"
   ]
  },
  {
   "cell_type": "code",
   "execution_count": 130,
   "metadata": {},
   "outputs": [
    {
     "data": {
      "text/plain": [
       "0.5167065943764974"
      ]
     },
     "execution_count": 130,
     "metadata": {},
     "output_type": "execute_result"
    }
   ],
   "source": [
    "roc_auc_score(y_test, y_pred)"
   ]
  },
  {
   "cell_type": "code",
   "execution_count": 151,
   "metadata": {},
   "outputs": [],
   "source": [
    "model.save(\"models/attainable_vect_nn.h5\")"
   ]
  },
  {
   "cell_type": "markdown",
   "metadata": {},
   "source": [
    "### Label time-bound"
   ]
  },
  {
   "cell_type": "code",
   "execution_count": 131,
   "metadata": {},
   "outputs": [],
   "source": [
    "time_bound_features = smart_features.drop(columns=['label_specific', 'label_attainable', 'label_unambiguity'])"
   ]
  },
  {
   "cell_type": "code",
   "execution_count": 132,
   "metadata": {},
   "outputs": [],
   "source": [
    "X = time_bound_features.drop('label_time_bound', axis=1)\n",
    "y = time_bound_features['label_time_bound']"
   ]
  },
  {
   "cell_type": "code",
   "execution_count": 133,
   "metadata": {},
   "outputs": [],
   "source": [
    "X_train, X_test, y_train, y_test = train_test_split(X, y, test_size=0.2, random_state=42)"
   ]
  },
  {
   "cell_type": "code",
   "execution_count": 134,
   "metadata": {},
   "outputs": [],
   "source": [
    "mms = MinMaxScaler()"
   ]
  },
  {
   "cell_type": "code",
   "execution_count": 135,
   "metadata": {},
   "outputs": [],
   "source": [
    "X_train_scaled = mms.fit_transform(X_train)"
   ]
  },
  {
   "cell_type": "code",
   "execution_count": 136,
   "metadata": {},
   "outputs": [],
   "source": [
    "X_test_scaled = mms.fit_transform(X_test)"
   ]
  },
  {
   "cell_type": "code",
   "execution_count": 137,
   "metadata": {},
   "outputs": [],
   "source": [
    "tb_xgb = XGBClassifier()"
   ]
  },
  {
   "cell_type": "code",
   "execution_count": 138,
   "metadata": {},
   "outputs": [
    {
     "data": {
      "text/plain": [
       "XGBClassifier(base_score=0.5, booster='gbtree', colsample_bylevel=1,\n",
       "              colsample_bynode=1, colsample_bytree=1, gamma=0, gpu_id=-1,\n",
       "              importance_type='gain', interaction_constraints='',\n",
       "              learning_rate=0.300000012, max_delta_step=0, max_depth=6,\n",
       "              min_child_weight=1, missing=nan, monotone_constraints='()',\n",
       "              n_estimators=100, n_jobs=0, num_parallel_tree=1,\n",
       "              objective='binary:logistic', random_state=0, reg_alpha=0,\n",
       "              reg_lambda=1, scale_pos_weight=1, subsample=1,\n",
       "              tree_method='exact', validate_parameters=1, verbosity=None)"
      ]
     },
     "execution_count": 138,
     "metadata": {},
     "output_type": "execute_result"
    }
   ],
   "source": [
    "tb_xgb.fit(X_train_scaled, y_train)"
   ]
  },
  {
   "cell_type": "code",
   "execution_count": 139,
   "metadata": {},
   "outputs": [],
   "source": [
    "y_pred = tb_xgb.predict(X_test_scaled)"
   ]
  },
  {
   "cell_type": "code",
   "execution_count": 140,
   "metadata": {},
   "outputs": [
    {
     "name": "stdout",
     "output_type": "stream",
     "text": [
      "              precision    recall  f1-score   support\n",
      "\n",
      "           0       0.80      0.88      0.84       145\n",
      "           1       0.18      0.11      0.14        35\n",
      "\n",
      "    accuracy                           0.73       180\n",
      "   macro avg       0.49      0.50      0.49       180\n",
      "weighted avg       0.68      0.73      0.70       180\n",
      "\n"
     ]
    }
   ],
   "source": [
    "print(classification_report(y_test, y_pred))"
   ]
  },
  {
   "cell_type": "code",
   "execution_count": 141,
   "metadata": {},
   "outputs": [
    {
     "data": {
      "text/plain": [
       "0.7277777777777777"
      ]
     },
     "execution_count": 141,
     "metadata": {},
     "output_type": "execute_result"
    }
   ],
   "source": [
    "accuracy_score(y_test, y_pred)"
   ]
  },
  {
   "cell_type": "code",
   "execution_count": 142,
   "metadata": {},
   "outputs": [
    {
     "data": {
      "text/plain": [
       "0.14035087719298245"
      ]
     },
     "execution_count": 142,
     "metadata": {},
     "output_type": "execute_result"
    }
   ],
   "source": [
    "f1_score(y_test, y_pred)"
   ]
  },
  {
   "cell_type": "code",
   "execution_count": 143,
   "metadata": {},
   "outputs": [
    {
     "data": {
      "text/plain": [
       "0.49507389162561577"
      ]
     },
     "execution_count": 143,
     "metadata": {},
     "output_type": "execute_result"
    }
   ],
   "source": [
    "roc_auc_score(y_test, y_pred)"
   ]
  },
  {
   "cell_type": "code",
   "execution_count": 163,
   "metadata": {},
   "outputs": [],
   "source": [
    "with open('models/time_bound_feat_xgb.pkl', 'wb') as f:\n",
    "    pickle.dump(tb_xgb, f)"
   ]
  },
  {
   "cell_type": "markdown",
   "metadata": {},
   "source": [
    "#### Vectors approach"
   ]
  },
  {
   "cell_type": "code",
   "execution_count": 144,
   "metadata": {},
   "outputs": [],
   "source": [
    "time_bound_vectors = smart_text_vectors.drop(columns=['label_specific', 'label_attainable'])"
   ]
  },
  {
   "cell_type": "code",
   "execution_count": 145,
   "metadata": {},
   "outputs": [],
   "source": [
    "time_bound_vectors.dropna(inplace=True)"
   ]
  },
  {
   "cell_type": "code",
   "execution_count": 146,
   "metadata": {},
   "outputs": [],
   "source": [
    "text = time_bound_vectors['goal_name_key_pos']\n",
    "y = time_bound_vectors['label_time_bound']"
   ]
  },
  {
   "cell_type": "code",
   "execution_count": 147,
   "metadata": {},
   "outputs": [],
   "source": [
    "tfidf = TfidfVectorizer()\n",
    "X = tfidf.fit_transform(text)"
   ]
  },
  {
   "cell_type": "code",
   "execution_count": 148,
   "metadata": {},
   "outputs": [],
   "source": [
    "X_train, X_test, y_train, y_test = train_test_split(X, y, test_size=0.2, random_state=0, stratify=y)"
   ]
  },
  {
   "cell_type": "code",
   "execution_count": 149,
   "metadata": {},
   "outputs": [],
   "source": [
    "tb_v_xgb = XGBClassifier()"
   ]
  },
  {
   "cell_type": "code",
   "execution_count": 150,
   "metadata": {},
   "outputs": [
    {
     "data": {
      "text/plain": [
       "XGBClassifier(base_score=0.5, booster='gbtree', colsample_bylevel=1,\n",
       "              colsample_bynode=1, colsample_bytree=1, gamma=0, gpu_id=-1,\n",
       "              importance_type='gain', interaction_constraints='',\n",
       "              learning_rate=0.300000012, max_delta_step=0, max_depth=6,\n",
       "              min_child_weight=1, missing=nan, monotone_constraints='()',\n",
       "              n_estimators=100, n_jobs=0, num_parallel_tree=1,\n",
       "              objective='binary:logistic', random_state=0, reg_alpha=0,\n",
       "              reg_lambda=1, scale_pos_weight=1, subsample=1,\n",
       "              tree_method='exact', validate_parameters=1, verbosity=None)"
      ]
     },
     "execution_count": 150,
     "metadata": {},
     "output_type": "execute_result"
    }
   ],
   "source": [
    "tb_v_xgb.fit(X_train, y_train)"
   ]
  },
  {
   "cell_type": "code",
   "execution_count": 151,
   "metadata": {},
   "outputs": [],
   "source": [
    "y_pred = tb_v_xgb.predict(X_test)"
   ]
  },
  {
   "cell_type": "code",
   "execution_count": 152,
   "metadata": {},
   "outputs": [
    {
     "name": "stdout",
     "output_type": "stream",
     "text": [
      "              precision    recall  f1-score   support\n",
      "\n",
      "           0       0.84      0.99      0.91       149\n",
      "           1       0.00      0.00      0.00        27\n",
      "\n",
      "    accuracy                           0.84       176\n",
      "   macro avg       0.42      0.49      0.46       176\n",
      "weighted avg       0.72      0.84      0.77       176\n",
      "\n"
     ]
    }
   ],
   "source": [
    "print(classification_report(y_test, y_pred))"
   ]
  },
  {
   "cell_type": "code",
   "execution_count": 153,
   "metadata": {},
   "outputs": [
    {
     "data": {
      "text/plain": [
       "0.8352272727272727"
      ]
     },
     "execution_count": 153,
     "metadata": {},
     "output_type": "execute_result"
    }
   ],
   "source": [
    "accuracy_score(y_test, y_pred)"
   ]
  },
  {
   "cell_type": "code",
   "execution_count": 154,
   "metadata": {},
   "outputs": [
    {
     "data": {
      "text/plain": [
       "0.0"
      ]
     },
     "execution_count": 154,
     "metadata": {},
     "output_type": "execute_result"
    }
   ],
   "source": [
    "f1_score(y_test, y_pred)"
   ]
  },
  {
   "cell_type": "code",
   "execution_count": 155,
   "metadata": {},
   "outputs": [
    {
     "data": {
      "text/plain": [
       "0.49328859060402686"
      ]
     },
     "execution_count": 155,
     "metadata": {},
     "output_type": "execute_result"
    }
   ],
   "source": [
    "roc_auc_score(y_test, y_pred)"
   ]
  },
  {
   "cell_type": "code",
   "execution_count": 174,
   "metadata": {},
   "outputs": [],
   "source": [
    "with open('models/time_bound_vect_xgb.pkl', 'wb') as f:\n",
    "    pickle.dump(tb_v_xgb, f)"
   ]
  },
  {
   "cell_type": "markdown",
   "metadata": {},
   "source": [
    "#### Neural net approach"
   ]
  },
  {
   "cell_type": "code",
   "execution_count": 156,
   "metadata": {},
   "outputs": [],
   "source": [
    "text = time_bound_vectors['goal_name_key_pos']\n",
    "y = time_bound_vectors['label_time_bound']"
   ]
  },
  {
   "cell_type": "code",
   "execution_count": 157,
   "metadata": {},
   "outputs": [],
   "source": [
    "token = Tokenizer()\n",
    "token.fit_on_texts(text)"
   ]
  },
  {
   "cell_type": "code",
   "execution_count": 158,
   "metadata": {},
   "outputs": [
    {
     "data": {
      "text/plain": [
       "900"
      ]
     },
     "execution_count": 158,
     "metadata": {},
     "output_type": "execute_result"
    }
   ],
   "source": [
    "vocab_size = len(token.word_index) + 1\n",
    "vocab_size"
   ]
  },
  {
   "cell_type": "code",
   "execution_count": 159,
   "metadata": {},
   "outputs": [],
   "source": [
    "encoded_text = token.texts_to_sequences(text)"
   ]
  },
  {
   "cell_type": "code",
   "execution_count": 160,
   "metadata": {},
   "outputs": [
    {
     "data": {
      "text/plain": [
       "21"
      ]
     },
     "execution_count": 160,
     "metadata": {},
     "output_type": "execute_result"
    }
   ],
   "source": [
    "max_len = int()\n",
    "for i in encoded_text:\n",
    "    len_ = len(i)\n",
    "    if len_ > max_len:\n",
    "        max_len = len_\n",
    "        \n",
    "max_len"
   ]
  },
  {
   "cell_type": "code",
   "execution_count": 161,
   "metadata": {},
   "outputs": [],
   "source": [
    "max_length = 21\n",
    "X = pad_sequences(encoded_text, maxlen=max_length, padding='post')"
   ]
  },
  {
   "cell_type": "code",
   "execution_count": 162,
   "metadata": {},
   "outputs": [],
   "source": [
    "X_train, X_test, y_train, y_test = train_test_split(X, y, test_size=0.2, random_state=0, stratify=y)"
   ]
  },
  {
   "cell_type": "code",
   "execution_count": 164,
   "metadata": {},
   "outputs": [],
   "source": [
    "vec_size = 100\n",
    "\n",
    "model = Sequential()\n",
    "model.add(Embedding(vocab_size, vec_size, input_length=max_length))\n",
    "\n",
    "model.add(Conv1D(64, 2, activation='relu'))\n",
    "model.add(MaxPooling1D(2))\n",
    "model.add(Dropout(0.5))\n",
    "\n",
    "model.add(Dense(32, activation='relu'))\n",
    "model.add(Dropout(0.5))\n",
    "\n",
    "model.add(Dense(32, activation='relu'))\n",
    "model.add(Dropout(0.5))\n",
    "\n",
    "model.add(Dense(16, activation='relu'))\n",
    "\n",
    "model.add(GlobalMaxPooling1D())\n",
    "\n",
    "model.add(Dense(1, activation='sigmoid'))"
   ]
  },
  {
   "cell_type": "code",
   "execution_count": 165,
   "metadata": {},
   "outputs": [
    {
     "name": "stdout",
     "output_type": "stream",
     "text": [
      "Wall time: 32.5 ms\n"
     ]
    }
   ],
   "source": [
    "%%time\n",
    "model.compile(optimizer='adam', loss='binary_crossentropy', metrics=['accuracy'])"
   ]
  },
  {
   "cell_type": "code",
   "execution_count": 166,
   "metadata": {},
   "outputs": [],
   "source": [
    "X_train = np.asarray(X_train)\n",
    "y_train = np.asarray(y_train)\n",
    "X_test= np.asarray(X_test)\n",
    "y_test = np.asarray(y_test)"
   ]
  },
  {
   "cell_type": "code",
   "execution_count": 167,
   "metadata": {},
   "outputs": [],
   "source": [
    "early_stop = EarlyStopping(monitor='val_loss', mode='min', verbose=1, patience=25)"
   ]
  },
  {
   "cell_type": "code",
   "execution_count": 168,
   "metadata": {},
   "outputs": [
    {
     "name": "stdout",
     "output_type": "stream",
     "text": [
      "Train on 700 samples, validate on 176 samples\n",
      "Epoch 1/600\n",
      "700/700 [==============================] - 1s 2ms/sample - loss: 0.6669 - accuracy: 0.7100 - val_loss: 0.6504 - val_accuracy: 0.8466\n",
      "Epoch 2/600\n",
      "700/700 [==============================] - 0s 307us/sample - loss: 0.5297 - accuracy: 0.8486 - val_loss: 0.5250 - val_accuracy: 0.8466\n",
      "Epoch 3/600\n",
      "700/700 [==============================] - 0s 313us/sample - loss: 0.4347 - accuracy: 0.8486 - val_loss: 0.5008 - val_accuracy: 0.8466\n",
      "Epoch 4/600\n",
      "700/700 [==============================] - 0s 315us/sample - loss: 0.4328 - accuracy: 0.8486 - val_loss: 0.5177 - val_accuracy: 0.8466\n",
      "Epoch 5/600\n",
      "700/700 [==============================] - 0s 311us/sample - loss: 0.4319 - accuracy: 0.8486 - val_loss: 0.5170 - val_accuracy: 0.8466\n",
      "Epoch 6/600\n",
      "700/700 [==============================] - 0s 309us/sample - loss: 0.4362 - accuracy: 0.8486 - val_loss: 0.5153 - val_accuracy: 0.8466\n",
      "Epoch 7/600\n",
      "700/700 [==============================] - 0s 313us/sample - loss: 0.4305 - accuracy: 0.8486 - val_loss: 0.5188 - val_accuracy: 0.8466\n",
      "Epoch 8/600\n",
      "700/700 [==============================] - 0s 312us/sample - loss: 0.4344 - accuracy: 0.8486 - val_loss: 0.5123 - val_accuracy: 0.8466\n",
      "Epoch 9/600\n",
      "700/700 [==============================] - 0s 308us/sample - loss: 0.4300 - accuracy: 0.8486 - val_loss: 0.5070 - val_accuracy: 0.8466\n",
      "Epoch 10/600\n",
      "700/700 [==============================] - 0s 312us/sample - loss: 0.4336 - accuracy: 0.8486 - val_loss: 0.5104 - val_accuracy: 0.8466\n",
      "Epoch 11/600\n",
      "700/700 [==============================] - 0s 312us/sample - loss: 0.4297 - accuracy: 0.8486 - val_loss: 0.5074 - val_accuracy: 0.8466\n",
      "Epoch 12/600\n",
      "700/700 [==============================] - 0s 315us/sample - loss: 0.4276 - accuracy: 0.8486 - val_loss: 0.5061 - val_accuracy: 0.8466\n",
      "Epoch 13/600\n",
      "700/700 [==============================] - 0s 312us/sample - loss: 0.4332 - accuracy: 0.8486 - val_loss: 0.5015 - val_accuracy: 0.8466\n",
      "Epoch 14/600\n",
      "700/700 [==============================] - 0s 319us/sample - loss: 0.4215 - accuracy: 0.8486 - val_loss: 0.4928 - val_accuracy: 0.8466\n",
      "Epoch 15/600\n",
      "700/700 [==============================] - 0s 319us/sample - loss: 0.4155 - accuracy: 0.8486 - val_loss: 0.4703 - val_accuracy: 0.8466\n",
      "Epoch 16/600\n",
      "700/700 [==============================] - 0s 321us/sample - loss: 0.3945 - accuracy: 0.8486 - val_loss: 0.4644 - val_accuracy: 0.8466\n",
      "Epoch 17/600\n",
      "700/700 [==============================] - 0s 319us/sample - loss: 0.3665 - accuracy: 0.8486 - val_loss: 0.4822 - val_accuracy: 0.8466\n",
      "Epoch 18/600\n",
      "700/700 [==============================] - 0s 322us/sample - loss: 0.3482 - accuracy: 0.8486 - val_loss: 0.5205 - val_accuracy: 0.8466\n",
      "Epoch 19/600\n",
      "700/700 [==============================] - 0s 321us/sample - loss: 0.3163 - accuracy: 0.8486 - val_loss: 0.5673 - val_accuracy: 0.8466\n",
      "Epoch 20/600\n",
      "700/700 [==============================] - 0s 325us/sample - loss: 0.2832 - accuracy: 0.8486 - val_loss: 0.6208 - val_accuracy: 0.8466\n",
      "Epoch 21/600\n",
      "700/700 [==============================] - 0s 322us/sample - loss: 0.2605 - accuracy: 0.8486 - val_loss: 0.6880 - val_accuracy: 0.8466\n",
      "Epoch 22/600\n",
      "700/700 [==============================] - 0s 322us/sample - loss: 0.2517 - accuracy: 0.8486 - val_loss: 0.7649 - val_accuracy: 0.8466\n",
      "Epoch 23/600\n",
      "700/700 [==============================] - 0s 312us/sample - loss: 0.2279 - accuracy: 0.8486 - val_loss: 0.8053 - val_accuracy: 0.8466\n",
      "Epoch 24/600\n",
      "700/700 [==============================] - 0s 316us/sample - loss: 0.2302 - accuracy: 0.8486 - val_loss: 0.8836 - val_accuracy: 0.8466\n",
      "Epoch 25/600\n",
      "700/700 [==============================] - 0s 326us/sample - loss: 0.2178 - accuracy: 0.8486 - val_loss: 0.9493 - val_accuracy: 0.8466\n",
      "Epoch 26/600\n",
      "700/700 [==============================] - 0s 325us/sample - loss: 0.2111 - accuracy: 0.8486 - val_loss: 1.0090 - val_accuracy: 0.8466\n",
      "Epoch 27/600\n",
      "700/700 [==============================] - 0s 326us/sample - loss: 0.2062 - accuracy: 0.8486 - val_loss: 1.0545 - val_accuracy: 0.8466\n",
      "Epoch 28/600\n",
      "700/700 [==============================] - 0s 333us/sample - loss: 0.2040 - accuracy: 0.8829 - val_loss: 1.0855 - val_accuracy: 0.8011\n",
      "Epoch 29/600\n",
      "700/700 [==============================] - 0s 313us/sample - loss: 0.1990 - accuracy: 0.9114 - val_loss: 1.1482 - val_accuracy: 0.7955\n",
      "Epoch 30/600\n",
      "700/700 [==============================] - 0s 326us/sample - loss: 0.1919 - accuracy: 0.8943 - val_loss: 1.2158 - val_accuracy: 0.8011\n",
      "Epoch 31/600\n",
      "700/700 [==============================] - 0s 326us/sample - loss: 0.1895 - accuracy: 0.9143 - val_loss: 1.2734 - val_accuracy: 0.8011\n",
      "Epoch 32/600\n",
      "700/700 [==============================] - 0s 316us/sample - loss: 0.1805 - accuracy: 0.9200 - val_loss: 1.3066 - val_accuracy: 0.8011\n",
      "Epoch 33/600\n",
      "700/700 [==============================] - 0s 331us/sample - loss: 0.1826 - accuracy: 0.9286 - val_loss: 1.3306 - val_accuracy: 0.8068\n",
      "Epoch 34/600\n",
      "700/700 [==============================] - 0s 328us/sample - loss: 0.1745 - accuracy: 0.9214 - val_loss: 1.4101 - val_accuracy: 0.8011\n",
      "Epoch 35/600\n",
      "700/700 [==============================] - 0s 325us/sample - loss: 0.1813 - accuracy: 0.9229 - val_loss: 1.4349 - val_accuracy: 0.8011\n",
      "Epoch 36/600\n",
      "700/700 [==============================] - 0s 322us/sample - loss: 0.1820 - accuracy: 0.9371 - val_loss: 1.4745 - val_accuracy: 0.8068\n",
      "Epoch 37/600\n",
      "700/700 [==============================] - 0s 316us/sample - loss: 0.1789 - accuracy: 0.9371 - val_loss: 1.4841 - val_accuracy: 0.7898\n",
      "Epoch 38/600\n",
      "700/700 [==============================] - 0s 331us/sample - loss: 0.1725 - accuracy: 0.9343 - val_loss: 1.5090 - val_accuracy: 0.7955\n",
      "Epoch 39/600\n",
      "700/700 [==============================] - 0s 329us/sample - loss: 0.1723 - accuracy: 0.9271 - val_loss: 1.5488 - val_accuracy: 0.7955\n",
      "Epoch 40/600\n",
      "700/700 [==============================] - 0s 336us/sample - loss: 0.1773 - accuracy: 0.9343 - val_loss: 1.5535 - val_accuracy: 0.8011\n",
      "Epoch 41/600\n",
      "700/700 [==============================] - 0s 328us/sample - loss: 0.1776 - accuracy: 0.9329 - val_loss: 1.5837 - val_accuracy: 0.8011\n",
      "Epoch 00041: early stopping\n"
     ]
    },
    {
     "data": {
      "text/plain": [
       "<tensorflow.python.keras.callbacks.History at 0x14d9ea4b608>"
      ]
     },
     "execution_count": 168,
     "metadata": {},
     "output_type": "execute_result"
    }
   ],
   "source": [
    "model.fit(X_train, y_train, epochs=600, validation_data=(X_test, y_test), callbacks=[early_stop])"
   ]
  },
  {
   "cell_type": "code",
   "execution_count": 169,
   "metadata": {},
   "outputs": [],
   "source": [
    "losses = pd.DataFrame(model.history.history)"
   ]
  },
  {
   "cell_type": "code",
   "execution_count": 170,
   "metadata": {},
   "outputs": [
    {
     "data": {
      "text/plain": [
       "<matplotlib.axes._subplots.AxesSubplot at 0x14da1b562c8>"
      ]
     },
     "execution_count": 170,
     "metadata": {},
     "output_type": "execute_result"
    },
    {
     "data": {
      "image/png": "[encoded data removed]",
      "text/plain": [
       "<Figure size 432x288 with 1 Axes>"
      ]
     },
     "metadata": {
      "needs_background": "light"
     },
     "output_type": "display_data"
    }
   ],
   "source": [
    "losses[['accuracy','val_accuracy']].plot()"
   ]
  },
  {
   "cell_type": "code",
   "execution_count": 171,
   "metadata": {},
   "outputs": [
    {
     "data": {
      "text/plain": [
       "<matplotlib.axes._subplots.AxesSubplot at 0x14da2b9b0c8>"
      ]
     },
     "execution_count": 171,
     "metadata": {},
     "output_type": "execute_result"
    },
    {
     "data": {
      "image/png": "[encoded data removed]",
      "text/plain": [
       "<Figure size 432x288 with 1 Axes>"
      ]
     },
     "metadata": {
      "needs_background": "light"
     },
     "output_type": "display_data"
    }
   ],
   "source": [
    "losses[['loss','val_loss']].plot()"
   ]
  },
  {
   "cell_type": "code",
   "execution_count": 172,
   "metadata": {},
   "outputs": [
    {
     "name": "stdout",
     "output_type": "stream",
     "text": [
      "['loss', 'accuracy']\n",
      "[1.583661599592729, 0.8011364]\n"
     ]
    }
   ],
   "source": [
    "print(model.metrics_names)\n",
    "print(model.evaluate(X_test,y_test,verbose=0))"
   ]
  },
  {
   "cell_type": "code",
   "execution_count": 173,
   "metadata": {},
   "outputs": [],
   "source": [
    "y_pred = model.predict_classes(X_test)"
   ]
  },
  {
   "cell_type": "code",
   "execution_count": 174,
   "metadata": {},
   "outputs": [
    {
     "name": "stdout",
     "output_type": "stream",
     "text": [
      "              precision    recall  f1-score   support\n",
      "\n",
      "           0       0.86      0.91      0.89       149\n",
      "           1       0.28      0.19      0.22        27\n",
      "\n",
      "    accuracy                           0.80       176\n",
      "   macro avg       0.57      0.55      0.55       176\n",
      "weighted avg       0.77      0.80      0.78       176\n",
      "\n"
     ]
    }
   ],
   "source": [
    "print(classification_report(y_test, y_pred))"
   ]
  },
  {
   "cell_type": "code",
   "execution_count": 175,
   "metadata": {},
   "outputs": [
    {
     "data": {
      "text/plain": [
       "0.8011363636363636"
      ]
     },
     "execution_count": 175,
     "metadata": {},
     "output_type": "execute_result"
    }
   ],
   "source": [
    "accuracy_score(y_test, y_pred)"
   ]
  },
  {
   "cell_type": "code",
   "execution_count": 176,
   "metadata": {},
   "outputs": [
    {
     "data": {
      "text/plain": [
       "0.22222222222222224"
      ]
     },
     "execution_count": 176,
     "metadata": {},
     "output_type": "execute_result"
    }
   ],
   "source": [
    "f1_score(y_test, y_pred)"
   ]
  },
  {
   "cell_type": "code",
   "execution_count": 177,
   "metadata": {},
   "outputs": [
    {
     "data": {
      "text/plain": [
       "0.5489684315187671"
      ]
     },
     "execution_count": 177,
     "metadata": {},
     "output_type": "execute_result"
    }
   ],
   "source": [
    "roc_auc_score(y_test, y_pred)"
   ]
  },
  {
   "cell_type": "code",
   "execution_count": 195,
   "metadata": {},
   "outputs": [],
   "source": [
    "model.save(\"models/time_bound_vect_nn.h5\")"
   ]
  },
  {
   "cell_type": "code",
   "execution_count": null,
   "metadata": {},
   "outputs": [],
   "source": []
  }
 ],
 "metadata": {
  "kernelspec": {
   "display_name": "Python 3",
   "language": "python",
   "name": "python3"
  },
  "language_info": {
   "codemirror_mode": {
    "name": "ipython",
    "version": 3
   },
   "file_extension": ".py",
   "mimetype": "text/x-python",
   "name": "python",
   "nbconvert_exporter": "python",
   "pygments_lexer": "ipython3",
   "version": "3.7.4"
  }
 },
 "nbformat": 4,
 "nbformat_minor": 4
}
