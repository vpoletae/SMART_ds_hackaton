{
 "cells": [
  {
   "cell_type": "code",
   "execution_count": 1,
   "metadata": {},
   "outputs": [],
   "source": [
    "import pandas as pd\n",
    "import os"
   ]
  },
  {
   "cell_type": "code",
   "execution_count": 2,
   "metadata": {},
   "outputs": [],
   "source": [
    "import pickle"
   ]
  },
  {
   "cell_type": "code",
   "execution_count": 4,
   "metadata": {},
   "outputs": [],
   "source": [
    "smart_df = pd.read_csv('../../clean_data/all_smart.csv', index_col=0)"
   ]
  },
  {
   "cell_type": "code",
   "execution_count": 6,
   "metadata": {},
   "outputs": [],
   "source": [
    "smart = smart_df.copy()"
   ]
  },
  {
   "cell_type": "code",
   "execution_count": 7,
   "metadata": {},
   "outputs": [
    {
     "data": {
      "text/plain": [
       "Index(['goal_first_step', 'default_goal_type', 'is_questioned',\n",
       "       'are_first_steps_known', 'is_time_certain', 'is_certainly_imagined',\n",
       "       'are_obstackles_expected', 'goal_domain_key_pos', 'goal_name_key_pos',\n",
       "       'goal_weight', 'goal_words', 'goal_verbs_counter', 'goal_nouns_counter',\n",
       "       'goal_numr_counter', 'goal_adj_counter', 'goal_digit_counter',\n",
       "       'goal_aver_word_len', 'label_specific', 'label_attainable',\n",
       "       'label_time_bound', 'label_unambiguity'],\n",
       "      dtype='object')"
      ]
     },
     "execution_count": 7,
     "metadata": {},
     "output_type": "execute_result"
    }
   ],
   "source": [
    "smart.columns"
   ]
  },
  {
   "cell_type": "code",
   "execution_count": 8,
   "metadata": {},
   "outputs": [],
   "source": [
    "smart_text_vectors = smart[['goal_name_key_pos', 'label_specific', 'label_attainable', 'label_time_bound']]\n",
    "smart_features = smart.drop(columns=['goal_first_step', 'default_goal_type', 'goal_domain_key_pos', 'goal_name_key_pos',\n",
    "                                    'label_unambiguity'])"
   ]
  },
  {
   "cell_type": "code",
   "execution_count": 9,
   "metadata": {},
   "outputs": [],
   "source": [
    "from sklearn.model_selection import train_test_split"
   ]
  },
  {
   "cell_type": "markdown",
   "metadata": {},
   "source": [
    "### Label specific"
   ]
  },
  {
   "cell_type": "markdown",
   "metadata": {},
   "source": [
    "#### Features approach"
   ]
  },
  {
   "cell_type": "code",
   "execution_count": 11,
   "metadata": {},
   "outputs": [],
   "source": [
    "specific_features = smart_features.drop(columns=['label_attainable', 'label_time_bound'])"
   ]
  },
  {
   "cell_type": "code",
   "execution_count": 12,
   "metadata": {},
   "outputs": [],
   "source": [
    "X = specific_features.drop('label_specific', axis=1)\n",
    "y = specific_features['label_specific']"
   ]
  },
  {
   "cell_type": "code",
   "execution_count": 13,
   "metadata": {},
   "outputs": [
    {
     "data": {
      "text/plain": [
       "(17118, 13)"
      ]
     },
     "execution_count": 13,
     "metadata": {},
     "output_type": "execute_result"
    }
   ],
   "source": [
    "X.shape"
   ]
  },
  {
   "cell_type": "code",
   "execution_count": 14,
   "metadata": {},
   "outputs": [
    {
     "data": {
      "text/plain": [
       "(17118,)"
      ]
     },
     "execution_count": 14,
     "metadata": {},
     "output_type": "execute_result"
    }
   ],
   "source": [
    "y.shape"
   ]
  },
  {
   "cell_type": "code",
   "execution_count": 15,
   "metadata": {},
   "outputs": [],
   "source": [
    "X_train, X_test, y_train, y_test = train_test_split(X, y, test_size=0.2, random_state=42)"
   ]
  },
  {
   "cell_type": "code",
   "execution_count": 16,
   "metadata": {},
   "outputs": [
    {
     "data": {
      "text/html": [
       "<div>\n",
       "<style scoped>\n",
       "    .dataframe tbody tr th:only-of-type {\n",
       "        vertical-align: middle;\n",
       "    }\n",
       "\n",
       "    .dataframe tbody tr th {\n",
       "        vertical-align: top;\n",
       "    }\n",
       "\n",
       "    .dataframe thead th {\n",
       "        text-align: right;\n",
       "    }\n",
       "</style>\n",
       "<table border=\"1\" class=\"dataframe\">\n",
       "  <thead>\n",
       "    <tr style=\"text-align: right;\">\n",
       "      <th></th>\n",
       "      <th>is_questioned</th>\n",
       "      <th>are_first_steps_known</th>\n",
       "      <th>is_time_certain</th>\n",
       "      <th>is_certainly_imagined</th>\n",
       "      <th>are_obstackles_expected</th>\n",
       "      <th>goal_weight</th>\n",
       "      <th>goal_words</th>\n",
       "      <th>goal_verbs_counter</th>\n",
       "      <th>goal_nouns_counter</th>\n",
       "      <th>goal_numr_counter</th>\n",
       "      <th>goal_adj_counter</th>\n",
       "      <th>goal_digit_counter</th>\n",
       "      <th>goal_aver_word_len</th>\n",
       "    </tr>\n",
       "  </thead>\n",
       "  <tbody>\n",
       "    <tr>\n",
       "      <td>11336</td>\n",
       "      <td>0</td>\n",
       "      <td>0</td>\n",
       "      <td>0</td>\n",
       "      <td>0</td>\n",
       "      <td>1</td>\n",
       "      <td>1.0034</td>\n",
       "      <td>2</td>\n",
       "      <td>0</td>\n",
       "      <td>2</td>\n",
       "      <td>0</td>\n",
       "      <td>0</td>\n",
       "      <td>0</td>\n",
       "      <td>10.00</td>\n",
       "    </tr>\n",
       "    <tr>\n",
       "      <td>1786</td>\n",
       "      <td>0</td>\n",
       "      <td>1</td>\n",
       "      <td>1</td>\n",
       "      <td>1</td>\n",
       "      <td>0</td>\n",
       "      <td>0.0065</td>\n",
       "      <td>2</td>\n",
       "      <td>0</td>\n",
       "      <td>1</td>\n",
       "      <td>0</td>\n",
       "      <td>1</td>\n",
       "      <td>0</td>\n",
       "      <td>11.00</td>\n",
       "    </tr>\n",
       "    <tr>\n",
       "      <td>2008</td>\n",
       "      <td>0</td>\n",
       "      <td>1</td>\n",
       "      <td>0</td>\n",
       "      <td>1</td>\n",
       "      <td>0</td>\n",
       "      <td>0.0082</td>\n",
       "      <td>1</td>\n",
       "      <td>0</td>\n",
       "      <td>1</td>\n",
       "      <td>0</td>\n",
       "      <td>0</td>\n",
       "      <td>0</td>\n",
       "      <td>14.00</td>\n",
       "    </tr>\n",
       "    <tr>\n",
       "      <td>17498</td>\n",
       "      <td>1</td>\n",
       "      <td>1</td>\n",
       "      <td>0</td>\n",
       "      <td>1</td>\n",
       "      <td>1</td>\n",
       "      <td>0.0055</td>\n",
       "      <td>3</td>\n",
       "      <td>1</td>\n",
       "      <td>1</td>\n",
       "      <td>0</td>\n",
       "      <td>1</td>\n",
       "      <td>0</td>\n",
       "      <td>10.33</td>\n",
       "    </tr>\n",
       "    <tr>\n",
       "      <td>4958</td>\n",
       "      <td>0</td>\n",
       "      <td>1</td>\n",
       "      <td>0</td>\n",
       "      <td>1</td>\n",
       "      <td>1</td>\n",
       "      <td>0.0375</td>\n",
       "      <td>3</td>\n",
       "      <td>0</td>\n",
       "      <td>3</td>\n",
       "      <td>0</td>\n",
       "      <td>0</td>\n",
       "      <td>0</td>\n",
       "      <td>8.33</td>\n",
       "    </tr>\n",
       "  </tbody>\n",
       "</table>\n",
       "</div>"
      ],
      "text/plain": [
       "       is_questioned  are_first_steps_known  is_time_certain  \\\n",
       "11336              0                      0                0   \n",
       "1786               0                      1                1   \n",
       "2008               0                      1                0   \n",
       "17498              1                      1                0   \n",
       "4958               0                      1                0   \n",
       "\n",
       "       is_certainly_imagined  are_obstackles_expected  goal_weight  \\\n",
       "11336                      0                        1       1.0034   \n",
       "1786                       1                        0       0.0065   \n",
       "2008                       1                        0       0.0082   \n",
       "17498                      1                        1       0.0055   \n",
       "4958                       1                        1       0.0375   \n",
       "\n",
       "       goal_words  goal_verbs_counter  goal_nouns_counter  goal_numr_counter  \\\n",
       "11336           2                   0                   2                  0   \n",
       "1786            2                   0                   1                  0   \n",
       "2008            1                   0                   1                  0   \n",
       "17498           3                   1                   1                  0   \n",
       "4958            3                   0                   3                  0   \n",
       "\n",
       "       goal_adj_counter  goal_digit_counter  goal_aver_word_len  \n",
       "11336                 0                   0               10.00  \n",
       "1786                  1                   0               11.00  \n",
       "2008                  0                   0               14.00  \n",
       "17498                 1                   0               10.33  \n",
       "4958                  0                   0                8.33  "
      ]
     },
     "execution_count": 16,
     "metadata": {},
     "output_type": "execute_result"
    }
   ],
   "source": [
    "X_train.head()"
   ]
  },
  {
   "cell_type": "code",
   "execution_count": 17,
   "metadata": {},
   "outputs": [],
   "source": [
    "from sklearn.preprocessing import MinMaxScaler"
   ]
  },
  {
   "cell_type": "code",
   "execution_count": 18,
   "metadata": {},
   "outputs": [],
   "source": [
    "mms = MinMaxScaler()"
   ]
  },
  {
   "cell_type": "code",
   "execution_count": 19,
   "metadata": {},
   "outputs": [],
   "source": [
    "X_train_scaled = mms.fit_transform(X_train)"
   ]
  },
  {
   "cell_type": "code",
   "execution_count": 20,
   "metadata": {},
   "outputs": [],
   "source": [
    "X_test_scaled = mms.fit_transform(X_test)"
   ]
  },
  {
   "cell_type": "code",
   "execution_count": 21,
   "metadata": {},
   "outputs": [],
   "source": [
    "from xgboost import XGBClassifier"
   ]
  },
  {
   "cell_type": "code",
   "execution_count": 22,
   "metadata": {},
   "outputs": [],
   "source": [
    "spec_xgb = XGBClassifier()"
   ]
  },
  {
   "cell_type": "code",
   "execution_count": 23,
   "metadata": {},
   "outputs": [
    {
     "data": {
      "text/plain": [
       "XGBClassifier(base_score=0.5, booster='gbtree', colsample_bylevel=1,\n",
       "              colsample_bynode=1, colsample_bytree=1, gamma=0, gpu_id=-1,\n",
       "              importance_type='gain', interaction_constraints='',\n",
       "              learning_rate=0.300000012, max_delta_step=0, max_depth=6,\n",
       "              min_child_weight=1, missing=nan, monotone_constraints='()',\n",
       "              n_estimators=100, n_jobs=0, num_parallel_tree=1,\n",
       "              objective='binary:logistic', random_state=0, reg_alpha=0,\n",
       "              reg_lambda=1, scale_pos_weight=1, subsample=1,\n",
       "              tree_method='exact', validate_parameters=1, verbosity=None)"
      ]
     },
     "execution_count": 23,
     "metadata": {},
     "output_type": "execute_result"
    }
   ],
   "source": [
    "spec_xgb.fit(X_train_scaled, y_train)"
   ]
  },
  {
   "cell_type": "code",
   "execution_count": 24,
   "metadata": {},
   "outputs": [],
   "source": [
    "y_pred = spec_xgb.predict(X_test_scaled)"
   ]
  },
  {
   "cell_type": "code",
   "execution_count": 30,
   "metadata": {},
   "outputs": [],
   "source": [
    "from sklearn.metrics import classification_report, accuracy_score, f1_score, roc_auc_score"
   ]
  },
  {
   "cell_type": "code",
   "execution_count": 26,
   "metadata": {},
   "outputs": [
    {
     "name": "stdout",
     "output_type": "stream",
     "text": [
      "              precision    recall  f1-score   support\n",
      "\n",
      "           0       0.62      0.70      0.66      2034\n",
      "           1       0.46      0.38      0.42      1390\n",
      "\n",
      "    accuracy                           0.57      3424\n",
      "   macro avg       0.54      0.54      0.54      3424\n",
      "weighted avg       0.56      0.57      0.56      3424\n",
      "\n"
     ]
    }
   ],
   "source": [
    "print(classification_report(y_test, y_pred))"
   ]
  },
  {
   "cell_type": "code",
   "execution_count": 27,
   "metadata": {},
   "outputs": [
    {
     "data": {
      "text/plain": [
       "0.570677570093458"
      ]
     },
     "execution_count": 27,
     "metadata": {},
     "output_type": "execute_result"
    }
   ],
   "source": [
    "accuracy_score(y_test, y_pred)"
   ]
  },
  {
   "cell_type": "code",
   "execution_count": 28,
   "metadata": {},
   "outputs": [
    {
     "data": {
      "text/plain": [
       "0.41759112519809827"
      ]
     },
     "execution_count": 28,
     "metadata": {},
     "output_type": "execute_result"
    }
   ],
   "source": [
    "f1_score(y_test, y_pred)"
   ]
  },
  {
   "cell_type": "code",
   "execution_count": 31,
   "metadata": {},
   "outputs": [
    {
     "data": {
      "text/plain": [
       "0.5403549726590409"
      ]
     },
     "execution_count": 31,
     "metadata": {},
     "output_type": "execute_result"
    }
   ],
   "source": [
    "roc_auc_score(y_test, y_pred)"
   ]
  },
  {
   "cell_type": "code",
   "execution_count": 49,
   "metadata": {},
   "outputs": [],
   "source": [
    "with open('models/specific_feat_xgb.pkl', 'wb') as f:\n",
    "    pickle.dump(spec_xgb, f)"
   ]
  },
  {
   "cell_type": "markdown",
   "metadata": {},
   "source": [
    "#### Vectors approach"
   ]
  },
  {
   "cell_type": "code",
   "execution_count": 32,
   "metadata": {},
   "outputs": [],
   "source": [
    "specific_vectors = smart_text_vectors.drop(columns=['label_attainable', 'label_time_bound'])"
   ]
  },
  {
   "cell_type": "code",
   "execution_count": 33,
   "metadata": {},
   "outputs": [],
   "source": [
    "specific_vectors.dropna(inplace=True)"
   ]
  },
  {
   "cell_type": "code",
   "execution_count": 34,
   "metadata": {},
   "outputs": [
    {
     "data": {
      "text/plain": [
       "Index(['goal_name_key_pos', 'label_specific'], dtype='object')"
      ]
     },
     "execution_count": 34,
     "metadata": {},
     "output_type": "execute_result"
    }
   ],
   "source": [
    "specific_vectors.columns"
   ]
  },
  {
   "cell_type": "code",
   "execution_count": 35,
   "metadata": {},
   "outputs": [],
   "source": [
    "from sklearn.feature_extraction.text import CountVectorizer, TfidfVectorizer"
   ]
  },
  {
   "cell_type": "code",
   "execution_count": 36,
   "metadata": {},
   "outputs": [],
   "source": [
    "text = specific_vectors['goal_name_key_pos']\n",
    "y = specific_vectors['label_specific']"
   ]
  },
  {
   "cell_type": "code",
   "execution_count": 37,
   "metadata": {},
   "outputs": [
    {
     "data": {
      "text/plain": [
       "0                              отстать поезд современность\n",
       "1                                           самореализация\n",
       "2                                              образ жизнь\n",
       "3                         обновление устаревший информация\n",
       "4                          повышение результативность труд\n",
       "                               ...                        \n",
       "18013    приобретение новый знание навык успешный обуче...\n",
       "18014                             быть нужный работодатель\n",
       "18016                                   сохранить здоровье\n",
       "18018                                  зарабатывать деньга\n",
       "18019                                      получение навык\n",
       "Name: goal_name_key_pos, Length: 16953, dtype: object"
      ]
     },
     "execution_count": 37,
     "metadata": {},
     "output_type": "execute_result"
    }
   ],
   "source": [
    "text"
   ]
  },
  {
   "cell_type": "code",
   "execution_count": 38,
   "metadata": {},
   "outputs": [],
   "source": [
    "tfidf = TfidfVectorizer()\n",
    "X = tfidf.fit_transform(text)"
   ]
  },
  {
   "cell_type": "code",
   "execution_count": 39,
   "metadata": {},
   "outputs": [
    {
     "data": {
      "text/plain": [
       "(16953, 4600)"
      ]
     },
     "execution_count": 39,
     "metadata": {},
     "output_type": "execute_result"
    }
   ],
   "source": [
    "X.shape"
   ]
  },
  {
   "cell_type": "code",
   "execution_count": 40,
   "metadata": {},
   "outputs": [],
   "source": [
    "X_train, X_test, y_train, y_test = train_test_split(X, y, test_size=0.2, random_state=42)"
   ]
  },
  {
   "cell_type": "code",
   "execution_count": 42,
   "metadata": {},
   "outputs": [],
   "source": [
    "spec_v_xgb = XGBClassifier()"
   ]
  },
  {
   "cell_type": "code",
   "execution_count": 43,
   "metadata": {},
   "outputs": [
    {
     "data": {
      "text/plain": [
       "XGBClassifier(base_score=0.5, booster='gbtree', colsample_bylevel=1,\n",
       "              colsample_bynode=1, colsample_bytree=1, gamma=0, gpu_id=-1,\n",
       "              importance_type='gain', interaction_constraints='',\n",
       "              learning_rate=0.300000012, max_delta_step=0, max_depth=6,\n",
       "              min_child_weight=1, missing=nan, monotone_constraints='()',\n",
       "              n_estimators=100, n_jobs=0, num_parallel_tree=1,\n",
       "              objective='binary:logistic', random_state=0, reg_alpha=0,\n",
       "              reg_lambda=1, scale_pos_weight=1, subsample=1,\n",
       "              tree_method='exact', validate_parameters=1, verbosity=None)"
      ]
     },
     "execution_count": 43,
     "metadata": {},
     "output_type": "execute_result"
    }
   ],
   "source": [
    "spec_v_xgb.fit(X_train, y_train)"
   ]
  },
  {
   "cell_type": "code",
   "execution_count": 44,
   "metadata": {},
   "outputs": [],
   "source": [
    "y_pred = spec_v_xgb.predict(X_test)"
   ]
  },
  {
   "cell_type": "code",
   "execution_count": 45,
   "metadata": {},
   "outputs": [
    {
     "name": "stdout",
     "output_type": "stream",
     "text": [
      "              precision    recall  f1-score   support\n",
      "\n",
      "           0       0.60      0.91      0.72      2043\n",
      "           1       0.38      0.08      0.14      1348\n",
      "\n",
      "    accuracy                           0.58      3391\n",
      "   macro avg       0.49      0.50      0.43      3391\n",
      "weighted avg       0.51      0.58      0.49      3391\n",
      "\n"
     ]
    }
   ],
   "source": [
    "print(classification_report(y_test, y_pred))"
   ]
  },
  {
   "cell_type": "code",
   "execution_count": 46,
   "metadata": {},
   "outputs": [
    {
     "data": {
      "text/plain": [
       "0.5818342671778236"
      ]
     },
     "execution_count": 46,
     "metadata": {},
     "output_type": "execute_result"
    }
   ],
   "source": [
    "accuracy_score(y_test, y_pred)"
   ]
  },
  {
   "cell_type": "code",
   "execution_count": 47,
   "metadata": {},
   "outputs": [
    {
     "data": {
      "text/plain": [
       "0.13851761846901584"
      ]
     },
     "execution_count": 47,
     "metadata": {},
     "output_type": "execute_result"
    }
   ],
   "source": [
    "f1_score(y_test, y_pred)"
   ]
  },
  {
   "cell_type": "code",
   "execution_count": 48,
   "metadata": {},
   "outputs": [
    {
     "data": {
      "text/plain": [
       "0.4972530505119167"
      ]
     },
     "execution_count": 48,
     "metadata": {},
     "output_type": "execute_result"
    }
   ],
   "source": [
    "roc_auc_score(y_test, y_pred)"
   ]
  },
  {
   "cell_type": "code",
   "execution_count": 65,
   "metadata": {},
   "outputs": [],
   "source": [
    "with open('models/specific_vect_xgb.pkl', 'wb') as f:\n",
    "    pickle.dump(spec_v_xgb, f)"
   ]
  },
  {
   "cell_type": "markdown",
   "metadata": {},
   "source": [
    "#### Neural net approach"
   ]
  },
  {
   "cell_type": "code",
   "execution_count": 51,
   "metadata": {},
   "outputs": [],
   "source": [
    "from tensorflow.keras.preprocessing.text import Tokenizer\n",
    "from tensorflow.keras.preprocessing.sequence import pad_sequences\n",
    "from tensorflow.keras.models import Sequential\n",
    "from tensorflow.keras.layers import Dense,Flatten,Embedding,Dropout\n",
    "from tensorflow.keras.layers import Conv1D, MaxPooling1D, GlobalMaxPooling1D "
   ]
  },
  {
   "cell_type": "code",
   "execution_count": 52,
   "metadata": {},
   "outputs": [],
   "source": [
    "text = specific_vectors['goal_name_key_pos']\n",
    "y = specific_vectors['label_specific']"
   ]
  },
  {
   "cell_type": "code",
   "execution_count": 53,
   "metadata": {},
   "outputs": [],
   "source": [
    "token = Tokenizer()\n",
    "token.fit_on_texts(text)"
   ]
  },
  {
   "cell_type": "code",
   "execution_count": 54,
   "metadata": {},
   "outputs": [
    {
     "data": {
      "text/plain": [
       "4619"
      ]
     },
     "execution_count": 54,
     "metadata": {},
     "output_type": "execute_result"
    }
   ],
   "source": [
    "vocab_size = len(token.word_index) + 1\n",
    "vocab_size"
   ]
  },
  {
   "cell_type": "code",
   "execution_count": 55,
   "metadata": {},
   "outputs": [],
   "source": [
    "encoded_text = token.texts_to_sequences(text)"
   ]
  },
  {
   "cell_type": "code",
   "execution_count": 56,
   "metadata": {},
   "outputs": [
    {
     "data": {
      "text/plain": [
       "127"
      ]
     },
     "execution_count": 56,
     "metadata": {},
     "output_type": "execute_result"
    }
   ],
   "source": [
    "max_len = int()\n",
    "for i in encoded_text:\n",
    "    len_ = len(i)\n",
    "    if len_ > max_len:\n",
    "        max_len = len_\n",
    "        \n",
    "max_len"
   ]
  },
  {
   "cell_type": "code",
   "execution_count": 57,
   "metadata": {},
   "outputs": [],
   "source": [
    "max_length = 127\n",
    "X = pad_sequences(encoded_text, maxlen=max_length, padding='post')"
   ]
  },
  {
   "cell_type": "code",
   "execution_count": 58,
   "metadata": {},
   "outputs": [
    {
     "data": {
      "text/plain": [
       "(16953, 127)"
      ]
     },
     "execution_count": 58,
     "metadata": {},
     "output_type": "execute_result"
    }
   ],
   "source": [
    "X.shape"
   ]
  },
  {
   "cell_type": "code",
   "execution_count": 60,
   "metadata": {},
   "outputs": [],
   "source": [
    "X_train, X_test, y_train, y_test = train_test_split(X, y, test_size=0.2, random_state=0)"
   ]
  },
  {
   "cell_type": "code",
   "execution_count": 61,
   "metadata": {},
   "outputs": [],
   "source": [
    "vec_size = 100\n",
    "\n",
    "model = Sequential()\n",
    "model.add(Embedding(vocab_size, vec_size, input_length=max_length))\n",
    "\n",
    "model.add(Conv1D(64, 2, activation='relu'))\n",
    "model.add(MaxPooling1D(2))\n",
    "model.add(Dropout(0.5))\n",
    "\n",
    "model.add(Dense(32, activation='relu'))\n",
    "model.add(Dropout(0.5))\n",
    "\n",
    "model.add(Dense(32, activation='relu'))\n",
    "model.add(Dropout(0.5))\n",
    "\n",
    "model.add(Dense(16, activation='relu'))\n",
    "\n",
    "model.add(GlobalMaxPooling1D())\n",
    "\n",
    "model.add(Dense(1, activation='sigmoid'))"
   ]
  },
  {
   "cell_type": "code",
   "execution_count": 62,
   "metadata": {},
   "outputs": [
    {
     "name": "stdout",
     "output_type": "stream",
     "text": [
      "Wall time: 36.9 ms\n"
     ]
    }
   ],
   "source": [
    "%%time\n",
    "model.compile(optimizer='adam', loss='binary_crossentropy', metrics=['accuracy'])"
   ]
  },
  {
   "cell_type": "code",
   "execution_count": 63,
   "metadata": {},
   "outputs": [],
   "source": [
    "import numpy as np"
   ]
  },
  {
   "cell_type": "code",
   "execution_count": 64,
   "metadata": {},
   "outputs": [],
   "source": [
    "X_train = np.asarray(X_train)\n",
    "y_train = np.asarray(y_train)\n",
    "X_test= np.asarray(X_test)\n",
    "y_test = np.asarray(y_test)"
   ]
  },
  {
   "cell_type": "code",
   "execution_count": 65,
   "metadata": {},
   "outputs": [],
   "source": [
    "from tensorflow.keras.callbacks import EarlyStopping"
   ]
  },
  {
   "cell_type": "code",
   "execution_count": 66,
   "metadata": {},
   "outputs": [],
   "source": [
    "early_stop = EarlyStopping(monitor='val_loss', mode='min', verbose=1, patience=25)"
   ]
  },
  {
   "cell_type": "code",
   "execution_count": 67,
   "metadata": {
    "scrolled": true
   },
   "outputs": [
    {
     "name": "stdout",
     "output_type": "stream",
     "text": [
      "Train on 13562 samples, validate on 3391 samples\n",
      "Epoch 1/600\n",
      "13562/13562 [==============================] - 11s 816us/sample - loss: 0.6761 - accuracy: 0.5968 - val_loss: 0.6837 - val_accuracy: 0.5939\n",
      "Epoch 2/600\n",
      "13562/13562 [==============================] - 10s 741us/sample - loss: 0.6755 - accuracy: 0.5968 - val_loss: 0.6850 - val_accuracy: 0.5939\n",
      "Epoch 3/600\n",
      "13562/13562 [==============================] - 10s 729us/sample - loss: 0.6754 - accuracy: 0.5968 - val_loss: 0.6826 - val_accuracy: 0.5939\n",
      "Epoch 4/600\n",
      "13562/13562 [==============================] - 10s 724us/sample - loss: 0.6738 - accuracy: 0.5967 - val_loss: 0.6812 - val_accuracy: 0.5939\n",
      "Epoch 5/600\n",
      "13562/13562 [==============================] - 10s 729us/sample - loss: 0.6723 - accuracy: 0.5968 - val_loss: 0.6796 - val_accuracy: 0.5939\n",
      "Epoch 6/600\n",
      "13562/13562 [==============================] - 10s 737us/sample - loss: 0.6672 - accuracy: 0.5968 - val_loss: 0.6787 - val_accuracy: 0.5939\n",
      "Epoch 7/600\n",
      "13562/13562 [==============================] - 10s 730us/sample - loss: 0.6562 - accuracy: 0.5968 - val_loss: 0.6809 - val_accuracy: 0.5939\n",
      "Epoch 8/600\n",
      "13562/13562 [==============================] - 10s 741us/sample - loss: 0.6422 - accuracy: 0.5964 - val_loss: 0.6880 - val_accuracy: 0.5939\n",
      "Epoch 9/600\n",
      "13562/13562 [==============================] - 10s 769us/sample - loss: 0.6304 - accuracy: 0.6041 - val_loss: 0.6968 - val_accuracy: 0.5703\n",
      "Epoch 10/600\n",
      "13562/13562 [==============================] - 11s 830us/sample - loss: 0.6155 - accuracy: 0.6220 - val_loss: 0.7050 - val_accuracy: 0.5217\n",
      "Epoch 11/600\n",
      "13562/13562 [==============================] - 11s 811us/sample - loss: 0.6014 - accuracy: 0.6401 - val_loss: 0.7175 - val_accuracy: 0.4966\n",
      "Epoch 12/600\n",
      "13562/13562 [==============================] - 11s 799us/sample - loss: 0.5878 - accuracy: 0.6540 - val_loss: 0.7450 - val_accuracy: 0.5128\n",
      "Epoch 13/600\n",
      "13562/13562 [==============================] - 11s 792us/sample - loss: 0.5735 - accuracy: 0.6701 - val_loss: 0.7435 - val_accuracy: 0.4978\n",
      "Epoch 14/600\n",
      "13562/13562 [==============================] - 10s 754us/sample - loss: 0.5581 - accuracy: 0.6806 - val_loss: 0.7793 - val_accuracy: 0.5426\n",
      "Epoch 15/600\n",
      "13562/13562 [==============================] - 10s 737us/sample - loss: 0.5437 - accuracy: 0.6920 - val_loss: 0.7906 - val_accuracy: 0.5329\n",
      "Epoch 16/600\n",
      "13562/13562 [==============================] - 10s 743us/sample - loss: 0.5281 - accuracy: 0.7054 - val_loss: 0.8905 - val_accuracy: 0.5532\n",
      "Epoch 17/600\n",
      "13562/13562 [==============================] - 10s 752us/sample - loss: 0.5216 - accuracy: 0.7126 - val_loss: 0.8370 - val_accuracy: 0.5491\n",
      "Epoch 18/600\n",
      "13562/13562 [==============================] - 11s 776us/sample - loss: 0.5103 - accuracy: 0.7199 - val_loss: 0.9070 - val_accuracy: 0.5388\n",
      "Epoch 19/600\n",
      "13562/13562 [==============================] - 10s 752us/sample - loss: 0.4982 - accuracy: 0.7241 - val_loss: 0.9234 - val_accuracy: 0.5453\n",
      "Epoch 20/600\n",
      "13562/13562 [==============================] - 10s 757us/sample - loss: 0.4935 - accuracy: 0.7256 - val_loss: 0.9945 - val_accuracy: 0.5512\n",
      "Epoch 21/600\n",
      "13562/13562 [==============================] - 10s 738us/sample - loss: 0.4804 - accuracy: 0.7343 - val_loss: 1.0405 - val_accuracy: 0.5438\n",
      "Epoch 22/600\n",
      "13562/13562 [==============================] - 10s 742us/sample - loss: 0.4814 - accuracy: 0.7379 - val_loss: 0.9478 - val_accuracy: 0.5638\n",
      "Epoch 23/600\n",
      "13562/13562 [==============================] - 10s 741us/sample - loss: 0.4684 - accuracy: 0.7410 - val_loss: 1.0350 - val_accuracy: 0.5506\n",
      "Epoch 24/600\n",
      "13562/13562 [==============================] - 10s 743us/sample - loss: 0.4661 - accuracy: 0.7419 - val_loss: 0.9855 - val_accuracy: 0.5618\n",
      "Epoch 25/600\n",
      "13562/13562 [==============================] - 10s 740us/sample - loss: 0.4590 - accuracy: 0.7440 - val_loss: 1.0152 - val_accuracy: 0.5397\n",
      "Epoch 26/600\n",
      "13562/13562 [==============================] - 10s 742us/sample - loss: 0.4492 - accuracy: 0.7565 - val_loss: 1.0818 - val_accuracy: 0.5588\n",
      "Epoch 27/600\n",
      "13562/13562 [==============================] - 10s 741us/sample - loss: 0.4418 - accuracy: 0.7534 - val_loss: 1.0134 - val_accuracy: 0.5547\n",
      "Epoch 28/600\n",
      "13562/13562 [==============================] - 10s 762us/sample - loss: 0.4397 - accuracy: 0.7578 - val_loss: 1.0268 - val_accuracy: 0.5379\n",
      "Epoch 29/600\n",
      "13562/13562 [==============================] - 10s 745us/sample - loss: 0.4372 - accuracy: 0.7565 - val_loss: 1.2786 - val_accuracy: 0.5603\n",
      "Epoch 30/600\n",
      "13562/13562 [==============================] - 10s 744us/sample - loss: 0.4366 - accuracy: 0.7555 - val_loss: 1.1388 - val_accuracy: 0.5571\n",
      "Epoch 31/600\n",
      "13562/13562 [==============================] - 10s 736us/sample - loss: 0.4267 - accuracy: 0.7585 - val_loss: 1.1462 - val_accuracy: 0.5568\n",
      "Epoch 00031: early stopping\n"
     ]
    },
    {
     "data": {
      "text/plain": [
       "<tensorflow.python.keras.callbacks.History at 0x1e6677a7848>"
      ]
     },
     "execution_count": 67,
     "metadata": {},
     "output_type": "execute_result"
    }
   ],
   "source": [
    "model.fit(X_train, y_train, epochs=600, validation_data=(X_test, y_test), callbacks=[early_stop])"
   ]
  },
  {
   "cell_type": "code",
   "execution_count": 68,
   "metadata": {},
   "outputs": [],
   "source": [
    "losses = pd.DataFrame(model.history.history)"
   ]
  },
  {
   "cell_type": "code",
   "execution_count": 69,
   "metadata": {},
   "outputs": [
    {
     "data": {
      "text/plain": [
       "<matplotlib.axes._subplots.AxesSubplot at 0x1e66e6f0508>"
      ]
     },
     "execution_count": 69,
     "metadata": {},
     "output_type": "execute_result"
    }
   ],
   "source": [
    "losses[['accuracy','val_accuracy']].plot()"
   ]
  },
  {
   "cell_type": "code",
   "execution_count": 70,
   "metadata": {},
   "outputs": [
    {
     "data": {
      "text/plain": [
       "<matplotlib.axes._subplots.AxesSubplot at 0x1e66e975608>"
      ]
     },
     "execution_count": 70,
     "metadata": {},
     "output_type": "execute_result"
    },
    {
     "data": {
      "image/png": "[encoded data removed]",
      "text/plain": [
       "<Figure size 432x288 with 1 Axes>"
      ]
     },
     "metadata": {
      "needs_background": "light"
     },
     "output_type": "display_data"
    }
   ],
   "source": [
    "losses[['loss','val_loss']].plot()"
   ]
  },
  {
   "cell_type": "code",
   "execution_count": 71,
   "metadata": {},
   "outputs": [
    {
     "name": "stdout",
     "output_type": "stream",
     "text": [
      "['loss', 'accuracy']\n",
      "[1.146246996716179, 0.55676794]\n"
     ]
    }
   ],
   "source": [
    "print(model.metrics_names)\n",
    "print(model.evaluate(X_test,y_test,verbose=0))"
   ]
  },
  {
   "cell_type": "code",
   "execution_count": 72,
   "metadata": {},
   "outputs": [],
   "source": [
    "y_pred = model.predict_classes(X_test)"
   ]
  },
  {
   "cell_type": "code",
   "execution_count": 73,
   "metadata": {},
   "outputs": [
    {
     "name": "stdout",
     "output_type": "stream",
     "text": [
      "              precision    recall  f1-score   support\n",
      "\n",
      "           0       0.60      0.75      0.67      2014\n",
      "           1       0.43      0.28      0.34      1377\n",
      "\n",
      "    accuracy                           0.56      3391\n",
      "   macro avg       0.52      0.51      0.50      3391\n",
      "weighted avg       0.53      0.56      0.53      3391\n",
      "\n"
     ]
    }
   ],
   "source": [
    "print(classification_report(y_test, y_pred))"
   ]
  },
  {
   "cell_type": "code",
   "execution_count": 74,
   "metadata": {},
   "outputs": [
    {
     "data": {
      "text/plain": [
       "0.5567679150693011"
      ]
     },
     "execution_count": 74,
     "metadata": {},
     "output_type": "execute_result"
    }
   ],
   "source": [
    "accuracy_score(y_test, y_pred)"
   ]
  },
  {
   "cell_type": "code",
   "execution_count": 75,
   "metadata": {},
   "outputs": [
    {
     "data": {
      "text/plain": [
       "0.3393406593406593"
      ]
     },
     "execution_count": 75,
     "metadata": {},
     "output_type": "execute_result"
    }
   ],
   "source": [
    "f1_score(y_test, y_pred)"
   ]
  },
  {
   "cell_type": "code",
   "execution_count": 76,
   "metadata": {},
   "outputs": [
    {
     "data": {
      "text/plain": [
       "0.5130495392095563"
      ]
     },
     "execution_count": 76,
     "metadata": {},
     "output_type": "execute_result"
    }
   ],
   "source": [
    "roc_auc_score(y_test, y_pred)"
   ]
  },
  {
   "cell_type": "code",
   "execution_count": 96,
   "metadata": {},
   "outputs": [],
   "source": [
    "model.save(\"models/specific_vect_nn.h5\")"
   ]
  },
  {
   "cell_type": "markdown",
   "metadata": {},
   "source": [
    "### Label attainable"
   ]
  },
  {
   "cell_type": "code",
   "execution_count": 77,
   "metadata": {},
   "outputs": [],
   "source": [
    "attainable_features = smart_features.drop(columns=['label_specific', 'label_time_bound'])"
   ]
  },
  {
   "cell_type": "code",
   "execution_count": 78,
   "metadata": {},
   "outputs": [],
   "source": [
    "X = attainable_features.drop('label_attainable', axis=1)\n",
    "y = attainable_features['label_attainable']"
   ]
  },
  {
   "cell_type": "code",
   "execution_count": 79,
   "metadata": {},
   "outputs": [],
   "source": [
    "X_train, X_test, y_train, y_test = train_test_split(X, y, test_size=0.20, random_state=42)"
   ]
  },
  {
   "cell_type": "code",
   "execution_count": 80,
   "metadata": {},
   "outputs": [],
   "source": [
    "mms = MinMaxScaler()"
   ]
  },
  {
   "cell_type": "code",
   "execution_count": 81,
   "metadata": {},
   "outputs": [],
   "source": [
    "X_train_scaled = mms.fit_transform(X_train)"
   ]
  },
  {
   "cell_type": "code",
   "execution_count": 82,
   "metadata": {},
   "outputs": [],
   "source": [
    "X_test_scaled = mms.fit_transform(X_test)"
   ]
  },
  {
   "cell_type": "code",
   "execution_count": 83,
   "metadata": {},
   "outputs": [],
   "source": [
    "att_xgb = XGBClassifier()"
   ]
  },
  {
   "cell_type": "code",
   "execution_count": 84,
   "metadata": {},
   "outputs": [
    {
     "data": {
      "text/plain": [
       "XGBClassifier(base_score=0.5, booster='gbtree', colsample_bylevel=1,\n",
       "              colsample_bynode=1, colsample_bytree=1, gamma=0, gpu_id=-1,\n",
       "              importance_type='gain', interaction_constraints='',\n",
       "              learning_rate=0.300000012, max_delta_step=0, max_depth=6,\n",
       "              min_child_weight=1, missing=nan, monotone_constraints='()',\n",
       "              n_estimators=100, n_jobs=0, num_parallel_tree=1,\n",
       "              objective='binary:logistic', random_state=0, reg_alpha=0,\n",
       "              reg_lambda=1, scale_pos_weight=1, subsample=1,\n",
       "              tree_method='exact', validate_parameters=1, verbosity=None)"
      ]
     },
     "execution_count": 84,
     "metadata": {},
     "output_type": "execute_result"
    }
   ],
   "source": [
    "att_xgb.fit(X_train_scaled, y_train)"
   ]
  },
  {
   "cell_type": "code",
   "execution_count": 85,
   "metadata": {},
   "outputs": [],
   "source": [
    "y_pred = att_xgb.predict(X_test_scaled)"
   ]
  },
  {
   "cell_type": "code",
   "execution_count": 86,
   "metadata": {},
   "outputs": [
    {
     "name": "stdout",
     "output_type": "stream",
     "text": [
      "              precision    recall  f1-score   support\n",
      "\n",
      "           0       0.53      0.39      0.45      1370\n",
      "           1       0.65      0.77      0.71      2054\n",
      "\n",
      "    accuracy                           0.62      3424\n",
      "   macro avg       0.59      0.58      0.58      3424\n",
      "weighted avg       0.61      0.62      0.61      3424\n",
      "\n"
     ]
    }
   ],
   "source": [
    "print(classification_report(y_test, y_pred))"
   ]
  },
  {
   "cell_type": "code",
   "execution_count": 87,
   "metadata": {},
   "outputs": [
    {
     "data": {
      "text/plain": [
       "0.6185747663551402"
      ]
     },
     "execution_count": 87,
     "metadata": {},
     "output_type": "execute_result"
    }
   ],
   "source": [
    "accuracy_score(y_test, y_pred)"
   ]
  },
  {
   "cell_type": "code",
   "execution_count": 88,
   "metadata": {},
   "outputs": [
    {
     "data": {
      "text/plain": [
       "0.7076991942703671"
      ]
     },
     "execution_count": 88,
     "metadata": {},
     "output_type": "execute_result"
    }
   ],
   "source": [
    "f1_score(y_test, y_pred)"
   ]
  },
  {
   "cell_type": "code",
   "execution_count": 89,
   "metadata": {},
   "outputs": [
    {
     "data": {
      "text/plain": [
       "0.580844213533856"
      ]
     },
     "execution_count": 89,
     "metadata": {},
     "output_type": "execute_result"
    }
   ],
   "source": [
    "roc_auc_score(y_test, y_pred)"
   ]
  },
  {
   "cell_type": "code",
   "execution_count": 118,
   "metadata": {},
   "outputs": [],
   "source": [
    "with open('models/attainable_feat_xgb.pkl', 'wb') as f:\n",
    "    pickle.dump(att_xgb, f)"
   ]
  },
  {
   "cell_type": "markdown",
   "metadata": {},
   "source": [
    "#### Vectors approach"
   ]
  },
  {
   "cell_type": "code",
   "execution_count": 90,
   "metadata": {},
   "outputs": [],
   "source": [
    "attainable_vectors = smart_text_vectors.drop(columns=['label_specific', 'label_time_bound'])"
   ]
  },
  {
   "cell_type": "code",
   "execution_count": 91,
   "metadata": {},
   "outputs": [],
   "source": [
    "attainable_vectors.dropna(inplace=True)"
   ]
  },
  {
   "cell_type": "code",
   "execution_count": 92,
   "metadata": {},
   "outputs": [
    {
     "data": {
      "text/plain": [
       "Index(['goal_name_key_pos', 'label_attainable'], dtype='object')"
      ]
     },
     "execution_count": 92,
     "metadata": {},
     "output_type": "execute_result"
    }
   ],
   "source": [
    "attainable_vectors.columns"
   ]
  },
  {
   "cell_type": "code",
   "execution_count": 93,
   "metadata": {},
   "outputs": [],
   "source": [
    "text = attainable_vectors['goal_name_key_pos']\n",
    "y = attainable_vectors['label_attainable']"
   ]
  },
  {
   "cell_type": "code",
   "execution_count": 94,
   "metadata": {},
   "outputs": [],
   "source": [
    "tfidf = TfidfVectorizer()\n",
    "X = tfidf.fit_transform(text)"
   ]
  },
  {
   "cell_type": "code",
   "execution_count": 95,
   "metadata": {},
   "outputs": [],
   "source": [
    "X_train, X_test, y_train, y_test = train_test_split(X, y, test_size=0.2, random_state=0, stratify=y)"
   ]
  },
  {
   "cell_type": "code",
   "execution_count": 96,
   "metadata": {},
   "outputs": [],
   "source": [
    "att_v_xgb = XGBClassifier()"
   ]
  },
  {
   "cell_type": "code",
   "execution_count": 97,
   "metadata": {},
   "outputs": [
    {
     "data": {
      "text/plain": [
       "XGBClassifier(base_score=0.5, booster='gbtree', colsample_bylevel=1,\n",
       "              colsample_bynode=1, colsample_bytree=1, gamma=0, gpu_id=-1,\n",
       "              importance_type='gain', interaction_constraints='',\n",
       "              learning_rate=0.300000012, max_delta_step=0, max_depth=6,\n",
       "              min_child_weight=1, missing=nan, monotone_constraints='()',\n",
       "              n_estimators=100, n_jobs=0, num_parallel_tree=1,\n",
       "              objective='binary:logistic', random_state=0, reg_alpha=0,\n",
       "              reg_lambda=1, scale_pos_weight=1, subsample=1,\n",
       "              tree_method='exact', validate_parameters=1, verbosity=None)"
      ]
     },
     "execution_count": 97,
     "metadata": {},
     "output_type": "execute_result"
    }
   ],
   "source": [
    "att_v_xgb.fit(X_train, y_train)"
   ]
  },
  {
   "cell_type": "code",
   "execution_count": 98,
   "metadata": {},
   "outputs": [],
   "source": [
    "y_pred = att_v_xgb.predict(X_test)"
   ]
  },
  {
   "cell_type": "code",
   "execution_count": 99,
   "metadata": {},
   "outputs": [
    {
     "name": "stdout",
     "output_type": "stream",
     "text": [
      "              precision    recall  f1-score   support\n",
      "\n",
      "           0       0.39      0.10      0.16      1366\n",
      "           1       0.60      0.89      0.71      2025\n",
      "\n",
      "    accuracy                           0.57      3391\n",
      "   macro avg       0.49      0.50      0.44      3391\n",
      "weighted avg       0.51      0.57      0.49      3391\n",
      "\n"
     ]
    }
   ],
   "source": [
    "print(classification_report(y_test, y_pred))"
   ]
  },
  {
   "cell_type": "code",
   "execution_count": 100,
   "metadata": {},
   "outputs": [
    {
     "data": {
      "text/plain": [
       "0.5726924211147154"
      ]
     },
     "execution_count": 100,
     "metadata": {},
     "output_type": "execute_result"
    }
   ],
   "source": [
    "accuracy_score(y_test, y_pred)"
   ]
  },
  {
   "cell_type": "code",
   "execution_count": 101,
   "metadata": {},
   "outputs": [
    {
     "data": {
      "text/plain": [
       "0.71301247771836"
      ]
     },
     "execution_count": 101,
     "metadata": {},
     "output_type": "execute_result"
    }
   ],
   "source": [
    "f1_score(y_test, y_pred)"
   ]
  },
  {
   "cell_type": "code",
   "execution_count": 102,
   "metadata": {},
   "outputs": [
    {
     "data": {
      "text/plain": [
       "0.49642101838295105"
      ]
     },
     "execution_count": 102,
     "metadata": {},
     "output_type": "execute_result"
    }
   ],
   "source": [
    "roc_auc_score(y_test, y_pred)"
   ]
  },
  {
   "cell_type": "code",
   "execution_count": 130,
   "metadata": {},
   "outputs": [],
   "source": [
    "with open('models/attainable_vect_xgb.pkl', 'wb') as f:\n",
    "    pickle.dump(att_v_xgb, f)"
   ]
  },
  {
   "cell_type": "markdown",
   "metadata": {},
   "source": [
    "#### Neural net (vectors)"
   ]
  },
  {
   "cell_type": "code",
   "execution_count": 103,
   "metadata": {},
   "outputs": [],
   "source": [
    "text = attainable_vectors['goal_name_key_pos']\n",
    "y = attainable_vectors['label_attainable']"
   ]
  },
  {
   "cell_type": "code",
   "execution_count": 104,
   "metadata": {},
   "outputs": [],
   "source": [
    "token = Tokenizer()\n",
    "token.fit_on_texts(text)"
   ]
  },
  {
   "cell_type": "code",
   "execution_count": 105,
   "metadata": {},
   "outputs": [
    {
     "data": {
      "text/plain": [
       "4619"
      ]
     },
     "execution_count": 105,
     "metadata": {},
     "output_type": "execute_result"
    }
   ],
   "source": [
    "vocab_size = len(token.word_index) + 1\n",
    "vocab_size"
   ]
  },
  {
   "cell_type": "code",
   "execution_count": 106,
   "metadata": {},
   "outputs": [],
   "source": [
    "encoded_text = token.texts_to_sequences(text)"
   ]
  },
  {
   "cell_type": "code",
   "execution_count": 107,
   "metadata": {},
   "outputs": [
    {
     "data": {
      "text/plain": [
       "127"
      ]
     },
     "execution_count": 107,
     "metadata": {},
     "output_type": "execute_result"
    }
   ],
   "source": [
    "max_len = int()\n",
    "for i in encoded_text:\n",
    "    len_ = len(i)\n",
    "    if len_ > max_len:\n",
    "        max_len = len_\n",
    "        \n",
    "max_len"
   ]
  },
  {
   "cell_type": "code",
   "execution_count": 108,
   "metadata": {},
   "outputs": [],
   "source": [
    "max_length = 127\n",
    "X = pad_sequences(encoded_text, maxlen=max_length, padding='post')"
   ]
  },
  {
   "cell_type": "code",
   "execution_count": 109,
   "metadata": {},
   "outputs": [],
   "source": [
    "X_train, X_test, y_train, y_test = train_test_split(X, y, test_size=0.2, random_state=0, stratify=y)"
   ]
  },
  {
   "cell_type": "code",
   "execution_count": 110,
   "metadata": {},
   "outputs": [],
   "source": [
    "vec_size = 100\n",
    "\n",
    "model = Sequential()\n",
    "model.add(Embedding(vocab_size, vec_size, input_length=max_length))\n",
    "\n",
    "model.add(Conv1D(64, 2, activation='relu'))\n",
    "model.add(MaxPooling1D(2))\n",
    "model.add(Dropout(0.5))\n",
    "\n",
    "model.add(Dense(32, activation='relu'))\n",
    "model.add(Dropout(0.5))\n",
    "\n",
    "model.add(Dense(32, activation='relu'))\n",
    "model.add(Dropout(0.5))\n",
    "\n",
    "model.add(Dense(16, activation='relu'))\n",
    "\n",
    "model.add(GlobalMaxPooling1D())\n",
    "\n",
    "model.add(Dense(1, activation='sigmoid'))"
   ]
  },
  {
   "cell_type": "code",
   "execution_count": 111,
   "metadata": {},
   "outputs": [
    {
     "name": "stdout",
     "output_type": "stream",
     "text": [
      "Wall time: 34.9 ms\n"
     ]
    }
   ],
   "source": [
    "%%time\n",
    "model.compile(optimizer='adam', loss='binary_crossentropy', metrics=['accuracy'])"
   ]
  },
  {
   "cell_type": "code",
   "execution_count": 112,
   "metadata": {},
   "outputs": [],
   "source": [
    "X_train = np.asarray(X_train)\n",
    "y_train = np.asarray(y_train)\n",
    "X_test= np.asarray(X_test)\n",
    "y_test = np.asarray(y_test)"
   ]
  },
  {
   "cell_type": "code",
   "execution_count": 113,
   "metadata": {},
   "outputs": [],
   "source": [
    "early_stop = EarlyStopping(monitor='val_loss', mode='min', verbose=1, patience=25)"
   ]
  },
  {
   "cell_type": "code",
   "execution_count": 114,
   "metadata": {},
   "outputs": [
    {
     "name": "stdout",
     "output_type": "stream",
     "text": [
      "Train on 13562 samples, validate on 3391 samples\n",
      "Epoch 1/600\n",
      "13562/13562 [==============================] - 14s 1ms/sample - loss: 0.6763 - accuracy: 0.5941 - val_loss: 0.6822 - val_accuracy: 0.5972\n",
      "Epoch 2/600\n",
      "13562/13562 [==============================] - 13s 928us/sample - loss: 0.6753 - accuracy: 0.5973 - val_loss: 0.6798 - val_accuracy: 0.5972\n",
      "Epoch 3/600\n",
      "13562/13562 [==============================] - 13s 928us/sample - loss: 0.6748 - accuracy: 0.5974 - val_loss: 0.6781 - val_accuracy: 0.5972\n",
      "Epoch 4/600\n",
      "13562/13562 [==============================] - 13s 927us/sample - loss: 0.6747 - accuracy: 0.5973 - val_loss: 0.6770 - val_accuracy: 0.5972\n",
      "Epoch 5/600\n",
      "13562/13562 [==============================] - 13s 930us/sample - loss: 0.6749 - accuracy: 0.5973 - val_loss: 0.6776 - val_accuracy: 0.5972\n",
      "Epoch 6/600\n",
      "13562/13562 [==============================] - 13s 932us/sample - loss: 0.6744 - accuracy: 0.5971 - val_loss: 0.6782 - val_accuracy: 0.5972\n",
      "Epoch 7/600\n",
      "13562/13562 [==============================] - 13s 955us/sample - loss: 0.6742 - accuracy: 0.5964 - val_loss: 0.6770 - val_accuracy: 0.5972\n",
      "Epoch 8/600\n",
      "13562/13562 [==============================] - 13s 948us/sample - loss: 0.6722 - accuracy: 0.5988 - val_loss: 0.6754 - val_accuracy: 0.5981\n",
      "Epoch 9/600\n",
      "13562/13562 [==============================] - 13s 938us/sample - loss: 0.6690 - accuracy: 0.6043 - val_loss: 0.6756 - val_accuracy: 0.5933\n",
      "Epoch 10/600\n",
      "13562/13562 [==============================] - 13s 949us/sample - loss: 0.6615 - accuracy: 0.6193 - val_loss: 0.6774 - val_accuracy: 0.5892\n",
      "Epoch 11/600\n",
      "13562/13562 [==============================] - 13s 946us/sample - loss: 0.6510 - accuracy: 0.6315 - val_loss: 0.6794 - val_accuracy: 0.5877ss: 0.6504 - accura\n",
      "Epoch 12/600\n",
      "13562/13562 [==============================] - 13s 964us/sample - loss: 0.6394 - accuracy: 0.6475 - val_loss: 0.6846 - val_accuracy: 0.5830\n",
      "Epoch 13/600\n",
      "13562/13562 [==============================] - 13s 965us/sample - loss: 0.6253 - accuracy: 0.6607 - val_loss: 0.7141 - val_accuracy: 0.5727\n",
      "Epoch 14/600\n",
      "13562/13562 [==============================] - 13s 956us/sample - loss: 0.6087 - accuracy: 0.6735 - val_loss: 0.7000 - val_accuracy: 0.5756\n",
      "Epoch 15/600\n",
      "13562/13562 [==============================] - 13s 958us/sample - loss: 0.5905 - accuracy: 0.6829 - val_loss: 0.7249 - val_accuracy: 0.5798\n",
      "Epoch 16/600\n",
      "13562/13562 [==============================] - 13s 965us/sample - loss: 0.5755 - accuracy: 0.6890 - val_loss: 0.7280 - val_accuracy: 0.5783\n",
      "Epoch 17/600\n",
      "13562/13562 [==============================] - 13s 957us/sample - loss: 0.5609 - accuracy: 0.6970 - val_loss: 0.7645 - val_accuracy: 0.5736\n",
      "Epoch 18/600\n",
      "13562/13562 [==============================] - 13s 983us/sample - loss: 0.5427 - accuracy: 0.7016 - val_loss: 0.7841 - val_accuracy: 0.5777\n",
      "Epoch 19/600\n",
      "13562/13562 [==============================] - 13s 990us/sample - loss: 0.5293 - accuracy: 0.7067 - val_loss: 0.8176 - val_accuracy: 0.5709\n",
      "Epoch 20/600\n",
      "13562/13562 [==============================] - 13s 979us/sample - loss: 0.5143 - accuracy: 0.7204 - val_loss: 0.8777 - val_accuracy: 0.5706\n",
      "Epoch 21/600\n",
      "13562/13562 [==============================] - 13s 978us/sample - loss: 0.5077 - accuracy: 0.7196 - val_loss: 0.9014 - val_accuracy: 0.5697\n",
      "Epoch 22/600\n",
      "13562/13562 [==============================] - 13s 969us/sample - loss: 0.4994 - accuracy: 0.7267 - val_loss: 0.9954 - val_accuracy: 0.5680\n",
      "Epoch 23/600\n",
      "13562/13562 [==============================] - 13s 967us/sample - loss: 0.4910 - accuracy: 0.7309 - val_loss: 0.9787 - val_accuracy: 0.5680\n",
      "Epoch 24/600\n",
      "13562/13562 [==============================] - 13s 985us/sample - loss: 0.4796 - accuracy: 0.7379 - val_loss: 0.9949 - val_accuracy: 0.5697\n",
      "Epoch 25/600\n",
      "13562/13562 [==============================] - 13s 980us/sample - loss: 0.4728 - accuracy: 0.7442 - val_loss: 1.0029 - val_accuracy: 0.5683\n",
      "Epoch 26/600\n",
      "13562/13562 [==============================] - 13s 969us/sample - loss: 0.4678 - accuracy: 0.7469 - val_loss: 1.0398 - val_accuracy: 0.5647\n",
      "Epoch 27/600\n",
      "13562/13562 [==============================] - 13s 968us/sample - loss: 0.4583 - accuracy: 0.7530 - val_loss: 1.0491 - val_accuracy: 0.5668\n",
      "Epoch 28/600\n",
      "13562/13562 [==============================] - 13s 964us/sample - loss: 0.4580 - accuracy: 0.7520 - val_loss: 1.0419 - val_accuracy: 0.5671\n",
      "Epoch 29/600\n",
      "13562/13562 [==============================] - 13s 950us/sample - loss: 0.4468 - accuracy: 0.7576 - val_loss: 1.0714 - val_accuracy: 0.5624\n",
      "Epoch 30/600\n",
      "13562/13562 [==============================] - 13s 955us/sample - loss: 0.4476 - accuracy: 0.7605 - val_loss: 1.0392 - val_accuracy: 0.5662\n",
      "Epoch 31/600\n",
      "13562/13562 [==============================] - 13s 969us/sample - loss: 0.4399 - accuracy: 0.7624 - val_loss: 1.1435 - val_accuracy: 0.5638\n",
      "Epoch 32/600\n",
      "13562/13562 [==============================] - 13s 959us/sample - loss: 0.4373 - accuracy: 0.7646 - val_loss: 1.1594 - val_accuracy: 0.5638\n",
      "Epoch 33/600\n",
      "13562/13562 [==============================] - 13s 993us/sample - loss: 0.4316 - accuracy: 0.7693 - val_loss: 1.1178 - val_accuracy: 0.5692\n",
      "Epoch 00033: early stopping\n"
     ]
    },
    {
     "data": {
      "text/plain": [
       "<tensorflow.python.keras.callbacks.History at 0x1e6658b8dc8>"
      ]
     },
     "execution_count": 114,
     "metadata": {},
     "output_type": "execute_result"
    }
   ],
   "source": [
    "model.fit(X_train, y_train, epochs=600, validation_data=(X_test, y_test), callbacks=[early_stop])"
   ]
  },
  {
   "cell_type": "code",
   "execution_count": 115,
   "metadata": {},
   "outputs": [],
   "source": [
    "losses = pd.DataFrame(model.history.history)"
   ]
  },
  {
   "cell_type": "code",
   "execution_count": 116,
   "metadata": {},
   "outputs": [
    {
     "data": {
      "text/plain": [
       "<matplotlib.axes._subplots.AxesSubplot at 0x1e666df1888>"
      ]
     },
     "execution_count": 116,
     "metadata": {},
     "output_type": "execute_result"
    },
    {
     "data": {
      "image/png": "[encoded data removed]",
      "text/plain": [
       "<Figure size 432x288 with 1 Axes>"
      ]
     },
     "metadata": {
      "needs_background": "light"
     },
     "output_type": "display_data"
    }
   ],
   "source": [
    "losses[['accuracy','val_accuracy']].plot()"
   ]
  },
  {
   "cell_type": "code",
   "execution_count": 117,
   "metadata": {},
   "outputs": [
    {
     "data": {
      "text/plain": [
       "<matplotlib.axes._subplots.AxesSubplot at 0x1e666e61188>"
      ]
     },
     "execution_count": 117,
     "metadata": {},
     "output_type": "execute_result"
    },
    {
     "data": {
      "image/png": "[encoded data removed]",
      "text/plain": [
       "<Figure size 432x288 with 1 Axes>"
      ]
     },
     "metadata": {
      "needs_background": "light"
     },
     "output_type": "display_data"
    }
   ],
   "source": [
    "losses[['loss','val_loss']].plot()"
   ]
  },
  {
   "cell_type": "code",
   "execution_count": 118,
   "metadata": {},
   "outputs": [
    {
     "name": "stdout",
     "output_type": "stream",
     "text": [
      "['loss', 'accuracy']\n",
      "[1.1177539668298337, 0.56915367]\n"
     ]
    }
   ],
   "source": [
    "print(model.metrics_names)\n",
    "print(model.evaluate(X_test,y_test,verbose=0))"
   ]
  },
  {
   "cell_type": "code",
   "execution_count": 119,
   "metadata": {},
   "outputs": [],
   "source": [
    "y_pred = model.predict_classes(X_test)"
   ]
  },
  {
   "cell_type": "code",
   "execution_count": 120,
   "metadata": {},
   "outputs": [
    {
     "name": "stdout",
     "output_type": "stream",
     "text": [
      "              precision    recall  f1-score   support\n",
      "\n",
      "           0       0.40      0.14      0.20      1366\n",
      "           1       0.60      0.86      0.70      2025\n",
      "\n",
      "    accuracy                           0.57      3391\n",
      "   macro avg       0.50      0.50      0.45      3391\n",
      "weighted avg       0.52      0.57      0.50      3391\n",
      "\n"
     ]
    }
   ],
   "source": [
    "print(classification_report(y_test, y_pred))"
   ]
  },
  {
   "cell_type": "code",
   "execution_count": 121,
   "metadata": {},
   "outputs": [
    {
     "data": {
      "text/plain": [
       "0.5691536419935123"
      ]
     },
     "execution_count": 121,
     "metadata": {},
     "output_type": "execute_result"
    }
   ],
   "source": [
    "accuracy_score(y_test, y_pred)"
   ]
  },
  {
   "cell_type": "code",
   "execution_count": 122,
   "metadata": {},
   "outputs": [
    {
     "data": {
      "text/plain": [
       "0.7046694966646453"
      ]
     },
     "execution_count": 122,
     "metadata": {},
     "output_type": "execute_result"
    }
   ],
   "source": [
    "f1_score(y_test, y_pred)"
   ]
  },
  {
   "cell_type": "code",
   "execution_count": 123,
   "metadata": {},
   "outputs": [
    {
     "data": {
      "text/plain": [
       "0.4988183937964318"
      ]
     },
     "execution_count": 123,
     "metadata": {},
     "output_type": "execute_result"
    }
   ],
   "source": [
    "roc_auc_score(y_test, y_pred)"
   ]
  },
  {
   "cell_type": "code",
   "execution_count": 151,
   "metadata": {},
   "outputs": [],
   "source": [
    "model.save(\"models/attainable_vect_nn.h5\")"
   ]
  },
  {
   "cell_type": "markdown",
   "metadata": {},
   "source": [
    "### Label time-bound"
   ]
  },
  {
   "cell_type": "code",
   "execution_count": 124,
   "metadata": {},
   "outputs": [],
   "source": [
    "time_bound_features = smart_features.drop(columns=['label_specific', 'label_attainable'])"
   ]
  },
  {
   "cell_type": "code",
   "execution_count": 125,
   "metadata": {},
   "outputs": [],
   "source": [
    "X = time_bound_features.drop('label_time_bound', axis=1)\n",
    "y = time_bound_features['label_time_bound']"
   ]
  },
  {
   "cell_type": "code",
   "execution_count": 126,
   "metadata": {},
   "outputs": [],
   "source": [
    "X_train, X_test, y_train, y_test = train_test_split(X, y, test_size=0.2, random_state=42)"
   ]
  },
  {
   "cell_type": "code",
   "execution_count": 127,
   "metadata": {},
   "outputs": [],
   "source": [
    "mms = MinMaxScaler()"
   ]
  },
  {
   "cell_type": "code",
   "execution_count": 128,
   "metadata": {},
   "outputs": [],
   "source": [
    "X_train_scaled = mms.fit_transform(X_train)"
   ]
  },
  {
   "cell_type": "code",
   "execution_count": 129,
   "metadata": {},
   "outputs": [],
   "source": [
    "X_test_scaled = mms.fit_transform(X_test)"
   ]
  },
  {
   "cell_type": "code",
   "execution_count": 130,
   "metadata": {},
   "outputs": [],
   "source": [
    "tb_xgb = XGBClassifier()"
   ]
  },
  {
   "cell_type": "code",
   "execution_count": 131,
   "metadata": {},
   "outputs": [
    {
     "data": {
      "text/plain": [
       "XGBClassifier(base_score=0.5, booster='gbtree', colsample_bylevel=1,\n",
       "              colsample_bynode=1, colsample_bytree=1, gamma=0, gpu_id=-1,\n",
       "              importance_type='gain', interaction_constraints='',\n",
       "              learning_rate=0.300000012, max_delta_step=0, max_depth=6,\n",
       "              min_child_weight=1, missing=nan, monotone_constraints='()',\n",
       "              n_estimators=100, n_jobs=0, num_parallel_tree=1,\n",
       "              objective='binary:logistic', random_state=0, reg_alpha=0,\n",
       "              reg_lambda=1, scale_pos_weight=1, subsample=1,\n",
       "              tree_method='exact', validate_parameters=1, verbosity=None)"
      ]
     },
     "execution_count": 131,
     "metadata": {},
     "output_type": "execute_result"
    }
   ],
   "source": [
    "tb_xgb.fit(X_train_scaled, y_train)"
   ]
  },
  {
   "cell_type": "code",
   "execution_count": 132,
   "metadata": {},
   "outputs": [],
   "source": [
    "y_pred = tb_xgb.predict(X_test_scaled)"
   ]
  },
  {
   "cell_type": "code",
   "execution_count": 133,
   "metadata": {},
   "outputs": [
    {
     "name": "stdout",
     "output_type": "stream",
     "text": [
      "              precision    recall  f1-score   support\n",
      "\n",
      "           0       0.84      0.97      0.90      2882\n",
      "           1       0.17      0.04      0.06       542\n",
      "\n",
      "    accuracy                           0.82      3424\n",
      "   macro avg       0.51      0.50      0.48      3424\n",
      "weighted avg       0.74      0.82      0.77      3424\n",
      "\n"
     ]
    }
   ],
   "source": [
    "print(classification_report(y_test, y_pred))"
   ]
  },
  {
   "cell_type": "code",
   "execution_count": 134,
   "metadata": {},
   "outputs": [
    {
     "data": {
      "text/plain": [
       "0.8186331775700935"
      ]
     },
     "execution_count": 134,
     "metadata": {},
     "output_type": "execute_result"
    }
   ],
   "source": [
    "accuracy_score(y_test, y_pred)"
   ]
  },
  {
   "cell_type": "code",
   "execution_count": 135,
   "metadata": {},
   "outputs": [
    {
     "data": {
      "text/plain": [
       "0.06334841628959276"
      ]
     },
     "execution_count": 135,
     "metadata": {},
     "output_type": "execute_result"
    }
   ],
   "source": [
    "f1_score(y_test, y_pred)"
   ]
  },
  {
   "cell_type": "code",
   "execution_count": 136,
   "metadata": {},
   "outputs": [
    {
     "data": {
      "text/plain": [
       "0.5020236305763475"
      ]
     },
     "execution_count": 136,
     "metadata": {},
     "output_type": "execute_result"
    }
   ],
   "source": [
    "roc_auc_score(y_test, y_pred)"
   ]
  },
  {
   "cell_type": "code",
   "execution_count": 163,
   "metadata": {},
   "outputs": [],
   "source": [
    "with open('models/time_bound_feat_xgb.pkl', 'wb') as f:\n",
    "    pickle.dump(tb_xgb, f)"
   ]
  },
  {
   "cell_type": "markdown",
   "metadata": {},
   "source": [
    "#### Vectors approach"
   ]
  },
  {
   "cell_type": "code",
   "execution_count": 137,
   "metadata": {},
   "outputs": [],
   "source": [
    "time_bound_vectors = smart_text_vectors.drop(columns=['label_specific', 'label_attainable'])"
   ]
  },
  {
   "cell_type": "code",
   "execution_count": 138,
   "metadata": {},
   "outputs": [],
   "source": [
    "time_bound_vectors.dropna(inplace=True)"
   ]
  },
  {
   "cell_type": "code",
   "execution_count": 139,
   "metadata": {},
   "outputs": [],
   "source": [
    "text = time_bound_vectors['goal_name_key_pos']\n",
    "y = time_bound_vectors['label_time_bound']"
   ]
  },
  {
   "cell_type": "code",
   "execution_count": 140,
   "metadata": {},
   "outputs": [],
   "source": [
    "tfidf = TfidfVectorizer()\n",
    "X = tfidf.fit_transform(text)"
   ]
  },
  {
   "cell_type": "code",
   "execution_count": 141,
   "metadata": {},
   "outputs": [],
   "source": [
    "X_train, X_test, y_train, y_test = train_test_split(X, y, test_size=0.2, random_state=0, stratify=y)"
   ]
  },
  {
   "cell_type": "code",
   "execution_count": 142,
   "metadata": {},
   "outputs": [],
   "source": [
    "tb_v_xgb = XGBClassifier()"
   ]
  },
  {
   "cell_type": "code",
   "execution_count": 143,
   "metadata": {},
   "outputs": [
    {
     "data": {
      "text/plain": [
       "XGBClassifier(base_score=0.5, booster='gbtree', colsample_bylevel=1,\n",
       "              colsample_bynode=1, colsample_bytree=1, gamma=0, gpu_id=-1,\n",
       "              importance_type='gain', interaction_constraints='',\n",
       "              learning_rate=0.300000012, max_delta_step=0, max_depth=6,\n",
       "              min_child_weight=1, missing=nan, monotone_constraints='()',\n",
       "              n_estimators=100, n_jobs=0, num_parallel_tree=1,\n",
       "              objective='binary:logistic', random_state=0, reg_alpha=0,\n",
       "              reg_lambda=1, scale_pos_weight=1, subsample=1,\n",
       "              tree_method='exact', validate_parameters=1, verbosity=None)"
      ]
     },
     "execution_count": 143,
     "metadata": {},
     "output_type": "execute_result"
    }
   ],
   "source": [
    "tb_v_xgb.fit(X_train, y_train)"
   ]
  },
  {
   "cell_type": "code",
   "execution_count": 144,
   "metadata": {},
   "outputs": [],
   "source": [
    "y_pred = tb_v_xgb.predict(X_test)"
   ]
  },
  {
   "cell_type": "code",
   "execution_count": 145,
   "metadata": {},
   "outputs": [
    {
     "name": "stdout",
     "output_type": "stream",
     "text": [
      "              precision    recall  f1-score   support\n",
      "\n",
      "           0       0.84      1.00      0.91      2865\n",
      "           1       0.00      0.00      0.00       526\n",
      "\n",
      "    accuracy                           0.84      3391\n",
      "   macro avg       0.42      0.50      0.46      3391\n",
      "weighted avg       0.71      0.84      0.77      3391\n",
      "\n"
     ]
    }
   ],
   "source": [
    "print(classification_report(y_test, y_pred))"
   ]
  },
  {
   "cell_type": "code",
   "execution_count": 146,
   "metadata": {},
   "outputs": [
    {
     "data": {
      "text/plain": [
       "0.8428192273665586"
      ]
     },
     "execution_count": 146,
     "metadata": {},
     "output_type": "execute_result"
    }
   ],
   "source": [
    "accuracy_score(y_test, y_pred)"
   ]
  },
  {
   "cell_type": "code",
   "execution_count": 147,
   "metadata": {},
   "outputs": [
    {
     "data": {
      "text/plain": [
       "0.0"
      ]
     },
     "execution_count": 147,
     "metadata": {},
     "output_type": "execute_result"
    }
   ],
   "source": [
    "f1_score(y_test, y_pred)"
   ]
  },
  {
   "cell_type": "code",
   "execution_count": 148,
   "metadata": {},
   "outputs": [
    {
     "data": {
      "text/plain": [
       "0.4987783595113438"
      ]
     },
     "execution_count": 148,
     "metadata": {},
     "output_type": "execute_result"
    }
   ],
   "source": [
    "roc_auc_score(y_test, y_pred)"
   ]
  },
  {
   "cell_type": "code",
   "execution_count": 174,
   "metadata": {},
   "outputs": [],
   "source": [
    "with open('models/time_bound_vect_xgb.pkl', 'wb') as f:\n",
    "    pickle.dump(tb_v_xgb, f)"
   ]
  },
  {
   "cell_type": "markdown",
   "metadata": {},
   "source": [
    "#### Neural net approach"
   ]
  },
  {
   "cell_type": "code",
   "execution_count": 149,
   "metadata": {},
   "outputs": [],
   "source": [
    "text = time_bound_vectors['goal_name_key_pos']\n",
    "y = time_bound_vectors['label_time_bound']"
   ]
  },
  {
   "cell_type": "code",
   "execution_count": 150,
   "metadata": {},
   "outputs": [],
   "source": [
    "token = Tokenizer()\n",
    "token.fit_on_texts(text)"
   ]
  },
  {
   "cell_type": "code",
   "execution_count": 151,
   "metadata": {},
   "outputs": [
    {
     "data": {
      "text/plain": [
       "4619"
      ]
     },
     "execution_count": 151,
     "metadata": {},
     "output_type": "execute_result"
    }
   ],
   "source": [
    "vocab_size = len(token.word_index) + 1\n",
    "vocab_size"
   ]
  },
  {
   "cell_type": "code",
   "execution_count": 152,
   "metadata": {},
   "outputs": [],
   "source": [
    "encoded_text = token.texts_to_sequences(text)"
   ]
  },
  {
   "cell_type": "code",
   "execution_count": 153,
   "metadata": {},
   "outputs": [
    {
     "data": {
      "text/plain": [
       "127"
      ]
     },
     "execution_count": 153,
     "metadata": {},
     "output_type": "execute_result"
    }
   ],
   "source": [
    "max_len = int()\n",
    "for i in encoded_text:\n",
    "    len_ = len(i)\n",
    "    if len_ > max_len:\n",
    "        max_len = len_\n",
    "        \n",
    "max_len"
   ]
  },
  {
   "cell_type": "code",
   "execution_count": 154,
   "metadata": {},
   "outputs": [],
   "source": [
    "max_length = 127\n",
    "X = pad_sequences(encoded_text, maxlen=max_length, padding='post')"
   ]
  },
  {
   "cell_type": "code",
   "execution_count": 155,
   "metadata": {},
   "outputs": [],
   "source": [
    "X_train, X_test, y_train, y_test = train_test_split(X, y, test_size=0.2, random_state=0, stratify=y)"
   ]
  },
  {
   "cell_type": "code",
   "execution_count": 156,
   "metadata": {},
   "outputs": [],
   "source": [
    "vec_size = 100\n",
    "\n",
    "model = Sequential()\n",
    "model.add(Embedding(vocab_size, vec_size, input_length=max_length))\n",
    "\n",
    "model.add(Conv1D(64, 2, activation='relu'))\n",
    "model.add(MaxPooling1D(2))\n",
    "model.add(Dropout(0.5))\n",
    "\n",
    "model.add(Dense(32, activation='relu'))\n",
    "model.add(Dropout(0.5))\n",
    "\n",
    "model.add(Dense(32, activation='relu'))\n",
    "model.add(Dropout(0.5))\n",
    "\n",
    "model.add(Dense(16, activation='relu'))\n",
    "\n",
    "model.add(GlobalMaxPooling1D())\n",
    "\n",
    "model.add(Dense(1, activation='sigmoid'))"
   ]
  },
  {
   "cell_type": "code",
   "execution_count": 157,
   "metadata": {},
   "outputs": [
    {
     "name": "stdout",
     "output_type": "stream",
     "text": [
      "Wall time: 32.9 ms\n"
     ]
    }
   ],
   "source": [
    "%%time\n",
    "model.compile(optimizer='adam', loss='binary_crossentropy', metrics=['accuracy'])"
   ]
  },
  {
   "cell_type": "code",
   "execution_count": 158,
   "metadata": {},
   "outputs": [],
   "source": [
    "X_train = np.asarray(X_train)\n",
    "y_train = np.asarray(y_train)\n",
    "X_test= np.asarray(X_test)\n",
    "y_test = np.asarray(y_test)"
   ]
  },
  {
   "cell_type": "code",
   "execution_count": 159,
   "metadata": {},
   "outputs": [],
   "source": [
    "early_stop = EarlyStopping(monitor='val_loss', mode='min', verbose=1, patience=25)"
   ]
  },
  {
   "cell_type": "code",
   "execution_count": 160,
   "metadata": {},
   "outputs": [
    {
     "name": "stdout",
     "output_type": "stream",
     "text": [
      "Train on 13562 samples, validate on 3391 samples\n",
      "Epoch 1/600\n",
      "13562/13562 [==============================] - 13s 983us/sample - loss: 0.4523 - accuracy: 0.8380 - val_loss: 0.5631 - val_accuracy: 0.8449\n",
      "Epoch 2/600\n",
      "13562/13562 [==============================] - 13s 941us/sample - loss: 0.4340 - accuracy: 0.8449 - val_loss: 0.5609 - val_accuracy: 0.8449\n",
      "Epoch 3/600\n",
      "13562/13562 [==============================] - 13s 938us/sample - loss: 0.4335 - accuracy: 0.8449 - val_loss: 0.5134 - val_accuracy: 0.8449\n",
      "Epoch 4/600\n",
      "13562/13562 [==============================] - 13s 950us/sample - loss: 0.4341 - accuracy: 0.8449 - val_loss: 0.5182 - val_accuracy: 0.8449\n",
      "Epoch 5/600\n",
      "13562/13562 [==============================] - 13s 951us/sample - loss: 0.4331 - accuracy: 0.8449 - val_loss: 0.5259 - val_accuracy: 0.8449\n",
      "Epoch 6/600\n",
      "13562/13562 [==============================] - 13s 966us/sample - loss: 0.4325 - accuracy: 0.8449 - val_loss: 0.5022 - val_accuracy: 0.8449\n",
      "Epoch 7/600\n",
      "13562/13562 [==============================] - 13s 966us/sample - loss: 0.4296 - accuracy: 0.8449 - val_loss: 0.4954 - val_accuracy: 0.8449\n",
      "Epoch 8/600\n",
      "13562/13562 [==============================] - 14s 1ms/sample - loss: 0.4258 - accuracy: 0.8449 - val_loss: 0.4926 - val_accuracy: 0.8449\n",
      "Epoch 9/600\n",
      "13562/13562 [==============================] - 13s 967us/sample - loss: 0.4188 - accuracy: 0.8449 - val_loss: 0.4907 - val_accuracy: 0.8449\n",
      "Epoch 10/600\n",
      "13562/13562 [==============================] - 13s 951us/sample - loss: 0.4117 - accuracy: 0.8449 - val_loss: 0.4945 - val_accuracy: 0.8449\n",
      "Epoch 11/600\n",
      "13562/13562 [==============================] - 13s 954us/sample - loss: 0.4053 - accuracy: 0.8449 - val_loss: 0.4979 - val_accuracy: 0.8449\n",
      "Epoch 12/600\n",
      "13562/13562 [==============================] - 13s 958us/sample - loss: 0.3967 - accuracy: 0.8449 - val_loss: 0.4972 - val_accuracy: 0.8449\n",
      "Epoch 13/600\n",
      "13562/13562 [==============================] - 13s 964us/sample - loss: 0.3884 - accuracy: 0.8449 - val_loss: 0.5030 - val_accuracy: 0.8449\n",
      "Epoch 14/600\n",
      "13562/13562 [==============================] - 13s 962us/sample - loss: 0.3802 - accuracy: 0.8446 - val_loss: 0.5108 - val_accuracy: 0.8449\n",
      "Epoch 15/600\n",
      "13562/13562 [==============================] - 13s 955us/sample - loss: 0.3687 - accuracy: 0.8466 - val_loss: 0.5206 - val_accuracy: 0.8366\n",
      "Epoch 16/600\n",
      "13562/13562 [==============================] - 13s 953us/sample - loss: 0.3599 - accuracy: 0.8522 - val_loss: 0.5278 - val_accuracy: 0.8410\n",
      "Epoch 17/600\n",
      "13562/13562 [==============================] - 13s 952us/sample - loss: 0.3471 - accuracy: 0.8592 - val_loss: 0.5528 - val_accuracy: 0.8251\n",
      "Epoch 18/600\n",
      "13562/13562 [==============================] - 13s 955us/sample - loss: 0.3362 - accuracy: 0.8628 - val_loss: 0.5945 - val_accuracy: 0.8340\n",
      "Epoch 19/600\n",
      "13562/13562 [==============================] - 13s 963us/sample - loss: 0.3228 - accuracy: 0.8700 - val_loss: 0.6239 - val_accuracy: 0.8234ss: 0.3220 - accuracy\n",
      "Epoch 20/600\n",
      "13562/13562 [==============================] - 13s 969us/sample - loss: 0.3180 - accuracy: 0.8712 - val_loss: 0.6399 - val_accuracy: 0.8272\n",
      "Epoch 21/600\n",
      "13562/13562 [==============================] - 13s 969us/sample - loss: 0.3075 - accuracy: 0.8777 - val_loss: 0.6815 - val_accuracy: 0.8272\n",
      "Epoch 22/600\n",
      "13562/13562 [==============================] - 13s 959us/sample - loss: 0.2994 - accuracy: 0.8822 - val_loss: 0.7342 - val_accuracy: 0.8331\n",
      "Epoch 23/600\n",
      "13562/13562 [==============================] - 13s 956us/sample - loss: 0.2976 - accuracy: 0.8828 - val_loss: 0.7563 - val_accuracy: 0.8357\n",
      "Epoch 24/600\n",
      "13562/13562 [==============================] - 13s 948us/sample - loss: 0.2906 - accuracy: 0.8837 - val_loss: 0.7810 - val_accuracy: 0.8251\n",
      "Epoch 25/600\n",
      "13562/13562 [==============================] - 13s 955us/sample - loss: 0.2812 - accuracy: 0.8888 - val_loss: 0.7767 - val_accuracy: 0.8210\n",
      "Epoch 26/600\n",
      "13562/13562 [==============================] - 13s 955us/sample - loss: 0.2771 - accuracy: 0.8909 - val_loss: 0.8740 - val_accuracy: 0.8219\n",
      "Epoch 27/600\n",
      "13562/13562 [==============================] - 13s 956us/sample - loss: 0.2750 - accuracy: 0.8914 - val_loss: 0.9021 - val_accuracy: 0.8251\n",
      "Epoch 28/600\n",
      "13562/13562 [==============================] - 13s 969us/sample - loss: 0.2755 - accuracy: 0.8919 - val_loss: 0.8349 - val_accuracy: 0.8148\n",
      "Epoch 29/600\n",
      "13562/13562 [==============================] - 13s 960us/sample - loss: 0.2739 - accuracy: 0.8921 - val_loss: 0.8626 - val_accuracy: 0.8281\n",
      "Epoch 30/600\n",
      "13562/13562 [==============================] - 13s 947us/sample - loss: 0.2711 - accuracy: 0.8942 - val_loss: 0.8518 - val_accuracy: 0.8242\n",
      "Epoch 31/600\n",
      "13562/13562 [==============================] - 13s 942us/sample - loss: 0.2636 - accuracy: 0.8976 - val_loss: 0.7998 - val_accuracy: 0.8127\n",
      "Epoch 32/600\n",
      "13562/13562 [==============================] - 13s 941us/sample - loss: 0.2597 - accuracy: 0.8971 - val_loss: 0.9582 - val_accuracy: 0.8242\n",
      "Epoch 33/600\n",
      "13562/13562 [==============================] - 13s 935us/sample - loss: 0.2619 - accuracy: 0.8968 - val_loss: 0.8839 - val_accuracy: 0.8104\n",
      "Epoch 34/600\n",
      "13562/13562 [==============================] - 13s 932us/sample - loss: 0.2614 - accuracy: 0.8980 - val_loss: 0.9080 - val_accuracy: 0.8189\n",
      "Epoch 00034: early stopping\n"
     ]
    },
    {
     "data": {
      "text/plain": [
       "<tensorflow.python.keras.callbacks.History at 0x1e657c93dc8>"
      ]
     },
     "execution_count": 160,
     "metadata": {},
     "output_type": "execute_result"
    }
   ],
   "source": [
    "model.fit(X_train, y_train, epochs=600, validation_data=(X_test, y_test), callbacks=[early_stop])"
   ]
  },
  {
   "cell_type": "code",
   "execution_count": 161,
   "metadata": {},
   "outputs": [],
   "source": [
    "losses = pd.DataFrame(model.history.history)"
   ]
  },
  {
   "cell_type": "code",
   "execution_count": 162,
   "metadata": {},
   "outputs": [
    {
     "data": {
      "text/plain": [
       "<matplotlib.axes._subplots.AxesSubplot at 0x1e673f49208>"
      ]
     },
     "execution_count": 162,
     "metadata": {},
     "output_type": "execute_result"
    },
    {
     "data": {
      "image/png": "[encoded data removed]",
      "text/plain": [
       "<Figure size 432x288 with 1 Axes>"
      ]
     },
     "metadata": {
      "needs_background": "light"
     },
     "output_type": "display_data"
    }
   ],
   "source": [
    "losses[['accuracy','val_accuracy']].plot()"
   ]
  },
  {
   "cell_type": "code",
   "execution_count": 163,
   "metadata": {},
   "outputs": [
    {
     "data": {
      "text/plain": [
       "<matplotlib.axes._subplots.AxesSubplot at 0x1e673f9c108>"
      ]
     },
     "execution_count": 163,
     "metadata": {},
     "output_type": "execute_result"
    },
    {
     "data": {
      "image/png": "[encoded data removed]",
      "text/plain": [
       "<Figure size 432x288 with 1 Axes>"
      ]
     },
     "metadata": {
      "needs_background": "light"
     },
     "output_type": "display_data"
    }
   ],
   "source": [
    "losses[['loss','val_loss']].plot()"
   ]
  },
  {
   "cell_type": "code",
   "execution_count": 164,
   "metadata": {},
   "outputs": [
    {
     "name": "stdout",
     "output_type": "stream",
     "text": [
      "['loss', 'accuracy']\n",
      "[0.9079901912999132, 0.8189325]\n"
     ]
    }
   ],
   "source": [
    "print(model.metrics_names)\n",
    "print(model.evaluate(X_test,y_test,verbose=0))"
   ]
  },
  {
   "cell_type": "code",
   "execution_count": 165,
   "metadata": {},
   "outputs": [],
   "source": [
    "y_pred = model.predict_classes(X_test)"
   ]
  },
  {
   "cell_type": "code",
   "execution_count": 166,
   "metadata": {},
   "outputs": [
    {
     "name": "stdout",
     "output_type": "stream",
     "text": [
      "              precision    recall  f1-score   support\n",
      "\n",
      "           0       0.85      0.96      0.90      2865\n",
      "           1       0.17      0.04      0.07       526\n",
      "\n",
      "    accuracy                           0.82      3391\n",
      "   macro avg       0.51      0.50      0.48      3391\n",
      "weighted avg       0.74      0.82      0.77      3391\n",
      "\n"
     ]
    }
   ],
   "source": [
    "print(classification_report(y_test, y_pred))"
   ]
  },
  {
   "cell_type": "code",
   "execution_count": 167,
   "metadata": {},
   "outputs": [
    {
     "data": {
      "text/plain": [
       "0.818932468298437"
      ]
     },
     "execution_count": 167,
     "metadata": {},
     "output_type": "execute_result"
    }
   ],
   "source": [
    "accuracy_score(y_test, y_pred)"
   ]
  },
  {
   "cell_type": "code",
   "execution_count": 168,
   "metadata": {},
   "outputs": [
    {
     "data": {
      "text/plain": [
       "0.0696969696969697"
      ]
     },
     "execution_count": 168,
     "metadata": {},
     "output_type": "execute_result"
    }
   ],
   "source": [
    "f1_score(y_test, y_pred)"
   ]
  },
  {
   "cell_type": "code",
   "execution_count": 169,
   "metadata": {},
   "outputs": [
    {
     "data": {
      "text/plain": [
       "0.5024913901220314"
      ]
     },
     "execution_count": 169,
     "metadata": {},
     "output_type": "execute_result"
    }
   ],
   "source": [
    "roc_auc_score(y_test, y_pred)"
   ]
  },
  {
   "cell_type": "code",
   "execution_count": 195,
   "metadata": {},
   "outputs": [],
   "source": [
    "model.save(\"models/time_bound_vect_nn.h5\")"
   ]
  },
  {
   "cell_type": "code",
   "execution_count": null,
   "metadata": {},
   "outputs": [],
   "source": []
  }
 ],
 "metadata": {
  "kernelspec": {
   "display_name": "Python 3",
   "language": "python",
   "name": "python3"
  },
  "language_info": {
   "codemirror_mode": {
    "name": "ipython",
    "version": 3
   },
   "file_extension": ".py",
   "mimetype": "text/x-python",
   "name": "python",
   "nbconvert_exporter": "python",
   "pygments_lexer": "ipython3",
   "version": "3.7.4"
  }
 },
 "nbformat": 4,
 "nbformat_minor": 4
}
