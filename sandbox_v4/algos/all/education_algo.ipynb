{
 "cells": [
  {
   "cell_type": "code",
   "execution_count": 1,
   "metadata": {},
   "outputs": [],
   "source": [
    "import pandas as pd\n",
    "import os"
   ]
  },
  {
   "cell_type": "code",
   "execution_count": 2,
   "metadata": {},
   "outputs": [],
   "source": [
    "import pickle"
   ]
  },
  {
   "cell_type": "code",
   "execution_count": 3,
   "metadata": {},
   "outputs": [],
   "source": [
    "edu_car_df = pd.read_csv('../../clean_data/all_edu_car.csv', index_col=0)"
   ]
  },
  {
   "cell_type": "code",
   "execution_count": 4,
   "metadata": {},
   "outputs": [
    {
     "data": {
      "text/html": [
       "<div>\n",
       "<style scoped>\n",
       "    .dataframe tbody tr th:only-of-type {\n",
       "        vertical-align: middle;\n",
       "    }\n",
       "\n",
       "    .dataframe tbody tr th {\n",
       "        vertical-align: top;\n",
       "    }\n",
       "\n",
       "    .dataframe thead th {\n",
       "        text-align: right;\n",
       "    }\n",
       "</style>\n",
       "<table border=\"1\" class=\"dataframe\">\n",
       "  <thead>\n",
       "    <tr style=\"text-align: right;\">\n",
       "      <th></th>\n",
       "      <th>goal_first_step</th>\n",
       "      <th>default_goal_type</th>\n",
       "      <th>is_questioned</th>\n",
       "      <th>are_first_steps_known</th>\n",
       "      <th>is_time_certain</th>\n",
       "      <th>is_certainly_imagined</th>\n",
       "      <th>are_obstackles_expected</th>\n",
       "      <th>goal_domain_key_pos</th>\n",
       "      <th>goal_name_key_pos</th>\n",
       "      <th>goal_weight</th>\n",
       "      <th>goal_words</th>\n",
       "      <th>goal_verbs_counter</th>\n",
       "      <th>goal_nouns_counter</th>\n",
       "      <th>goal_numr_counter</th>\n",
       "      <th>goal_adj_counter</th>\n",
       "      <th>goal_digit_counter</th>\n",
       "      <th>goal_aver_word_len</th>\n",
       "      <th>label_education</th>\n",
       "      <th>label_attractor_career</th>\n",
       "    </tr>\n",
       "  </thead>\n",
       "  <tbody>\n",
       "    <tr>\n",
       "      <td>0</td>\n",
       "      <td>Не знаю, с чего начать</td>\n",
       "      <td>Получить знания в новой области, Приобрести но...</td>\n",
       "      <td>0</td>\n",
       "      <td>0</td>\n",
       "      <td>0</td>\n",
       "      <td>1</td>\n",
       "      <td>0</td>\n",
       "      <td>творчество создание новый личный финансы работ...</td>\n",
       "      <td>отстать поезд современность</td>\n",
       "      <td>0.7017</td>\n",
       "      <td>5</td>\n",
       "      <td>1</td>\n",
       "      <td>2</td>\n",
       "      <td>0</td>\n",
       "      <td>0</td>\n",
       "      <td>0</td>\n",
       "      <td>6.00</td>\n",
       "      <td>0</td>\n",
       "      <td>1</td>\n",
       "    </tr>\n",
       "    <tr>\n",
       "      <td>1</td>\n",
       "      <td>Не знаю, с чего начать</td>\n",
       "      <td>Получить знания в новой области, Приобрести но...</td>\n",
       "      <td>1</td>\n",
       "      <td>0</td>\n",
       "      <td>0</td>\n",
       "      <td>1</td>\n",
       "      <td>0</td>\n",
       "      <td>универсальный компетенция гибкий навык личный ...</td>\n",
       "      <td>самореализация</td>\n",
       "      <td>0.0082</td>\n",
       "      <td>1</td>\n",
       "      <td>0</td>\n",
       "      <td>1</td>\n",
       "      <td>0</td>\n",
       "      <td>0</td>\n",
       "      <td>0</td>\n",
       "      <td>14.00</td>\n",
       "      <td>0</td>\n",
       "      <td>1</td>\n",
       "    </tr>\n",
       "    <tr>\n",
       "      <td>2</td>\n",
       "      <td>Сменить работу</td>\n",
       "      <td>Включиться в новый проект/деятельность</td>\n",
       "      <td>0</td>\n",
       "      <td>1</td>\n",
       "      <td>0</td>\n",
       "      <td>1</td>\n",
       "      <td>0</td>\n",
       "      <td>иностранный язык гуманитарный знание навык ино...</td>\n",
       "      <td>образ жизнь</td>\n",
       "      <td>0.0431</td>\n",
       "      <td>3</td>\n",
       "      <td>0</td>\n",
       "      <td>2</td>\n",
       "      <td>0</td>\n",
       "      <td>0</td>\n",
       "      <td>0</td>\n",
       "      <td>6.67</td>\n",
       "      <td>0</td>\n",
       "      <td>0</td>\n",
       "    </tr>\n",
       "    <tr>\n",
       "      <td>3</td>\n",
       "      <td>поиск необходимой информации</td>\n",
       "      <td>Развить имеющиеся знания и навыки</td>\n",
       "      <td>0</td>\n",
       "      <td>1</td>\n",
       "      <td>0</td>\n",
       "      <td>1</td>\n",
       "      <td>0</td>\n",
       "      <td>прикладной знание навык ручной труд прикладной...</td>\n",
       "      <td>обновление устаревший информация</td>\n",
       "      <td>0.6316</td>\n",
       "      <td>3</td>\n",
       "      <td>0</td>\n",
       "      <td>2</td>\n",
       "      <td>0</td>\n",
       "      <td>1</td>\n",
       "      <td>0</td>\n",
       "      <td>10.00</td>\n",
       "      <td>1</td>\n",
       "      <td>1</td>\n",
       "    </tr>\n",
       "    <tr>\n",
       "      <td>4</td>\n",
       "      <td>С анализа</td>\n",
       "      <td>Получить знания в новой области, Приобрести но...</td>\n",
       "      <td>0</td>\n",
       "      <td>1</td>\n",
       "      <td>0</td>\n",
       "      <td>1</td>\n",
       "      <td>0</td>\n",
       "      <td>универсальный компетенция гибкий навык творчес...</td>\n",
       "      <td>повышение результативность труд</td>\n",
       "      <td>0.1768</td>\n",
       "      <td>3</td>\n",
       "      <td>0</td>\n",
       "      <td>3</td>\n",
       "      <td>0</td>\n",
       "      <td>0</td>\n",
       "      <td>0</td>\n",
       "      <td>10.00</td>\n",
       "      <td>1</td>\n",
       "      <td>0</td>\n",
       "    </tr>\n",
       "  </tbody>\n",
       "</table>\n",
       "</div>"
      ],
      "text/plain": [
       "                 goal_first_step  \\\n",
       "0        Не знаю, с чего начать    \n",
       "1        Не знаю, с чего начать    \n",
       "2                Сменить работу    \n",
       "3  поиск необходимой информации    \n",
       "4                     С анализа    \n",
       "\n",
       "                                   default_goal_type  is_questioned  \\\n",
       "0  Получить знания в новой области, Приобрести но...              0   \n",
       "1  Получить знания в новой области, Приобрести но...              1   \n",
       "2             Включиться в новый проект/деятельность              0   \n",
       "3                  Развить имеющиеся знания и навыки              0   \n",
       "4  Получить знания в новой области, Приобрести но...              0   \n",
       "\n",
       "   are_first_steps_known  is_time_certain  is_certainly_imagined  \\\n",
       "0                      0                0                      1   \n",
       "1                      0                0                      1   \n",
       "2                      1                0                      1   \n",
       "3                      1                0                      1   \n",
       "4                      1                0                      1   \n",
       "\n",
       "   are_obstackles_expected                                goal_domain_key_pos  \\\n",
       "0                        0  творчество создание новый личный финансы работ...   \n",
       "1                        0  универсальный компетенция гибкий навык личный ...   \n",
       "2                        0  иностранный язык гуманитарный знание навык ино...   \n",
       "3                        0  прикладной знание навык ручной труд прикладной...   \n",
       "4                        0  универсальный компетенция гибкий навык творчес...   \n",
       "\n",
       "                  goal_name_key_pos  goal_weight  goal_words  \\\n",
       "0       отстать поезд современность       0.7017           5   \n",
       "1                    самореализация       0.0082           1   \n",
       "2                       образ жизнь       0.0431           3   \n",
       "3  обновление устаревший информация       0.6316           3   \n",
       "4   повышение результативность труд       0.1768           3   \n",
       "\n",
       "   goal_verbs_counter  goal_nouns_counter  goal_numr_counter  \\\n",
       "0                   1                   2                  0   \n",
       "1                   0                   1                  0   \n",
       "2                   0                   2                  0   \n",
       "3                   0                   2                  0   \n",
       "4                   0                   3                  0   \n",
       "\n",
       "   goal_adj_counter  goal_digit_counter  goal_aver_word_len  label_education  \\\n",
       "0                 0                   0                6.00                0   \n",
       "1                 0                   0               14.00                0   \n",
       "2                 0                   0                6.67                0   \n",
       "3                 1                   0               10.00                1   \n",
       "4                 0                   0               10.00                1   \n",
       "\n",
       "   label_attractor_career  \n",
       "0                       1  \n",
       "1                       1  \n",
       "2                       0  \n",
       "3                       1  \n",
       "4                       0  "
      ]
     },
     "execution_count": 4,
     "metadata": {},
     "output_type": "execute_result"
    }
   ],
   "source": [
    "edu_car_df.head()"
   ]
  },
  {
   "cell_type": "code",
   "execution_count": 5,
   "metadata": {},
   "outputs": [],
   "source": [
    "edu_car = edu_car_df.copy()"
   ]
  },
  {
   "cell_type": "code",
   "execution_count": 6,
   "metadata": {},
   "outputs": [],
   "source": [
    "edu_car_text_vectors = edu_car[['goal_name_key_pos', 'label_education', 'label_attractor_career']]\n",
    "edu_car_features = edu_car.drop(columns=['goal_first_step', 'default_goal_type', 'goal_domain_key_pos', 'goal_name_key_pos'])"
   ]
  },
  {
   "cell_type": "code",
   "execution_count": 7,
   "metadata": {},
   "outputs": [],
   "source": [
    "from sklearn.model_selection import train_test_split"
   ]
  },
  {
   "cell_type": "markdown",
   "metadata": {},
   "source": [
    "### Education"
   ]
  },
  {
   "cell_type": "markdown",
   "metadata": {},
   "source": [
    "#### Features approach"
   ]
  },
  {
   "cell_type": "code",
   "execution_count": 8,
   "metadata": {},
   "outputs": [],
   "source": [
    "edu_features = edu_car_features.drop(columns=['label_attractor_career'])"
   ]
  },
  {
   "cell_type": "code",
   "execution_count": 9,
   "metadata": {},
   "outputs": [],
   "source": [
    "X = edu_features.drop('label_education', axis=1)\n",
    "y = edu_features['label_education']"
   ]
  },
  {
   "cell_type": "code",
   "execution_count": 10,
   "metadata": {},
   "outputs": [
    {
     "data": {
      "text/plain": [
       "(17118, 13)"
      ]
     },
     "execution_count": 10,
     "metadata": {},
     "output_type": "execute_result"
    }
   ],
   "source": [
    "X.shape"
   ]
  },
  {
   "cell_type": "code",
   "execution_count": 11,
   "metadata": {},
   "outputs": [
    {
     "data": {
      "text/plain": [
       "(17118,)"
      ]
     },
     "execution_count": 11,
     "metadata": {},
     "output_type": "execute_result"
    }
   ],
   "source": [
    "y.shape"
   ]
  },
  {
   "cell_type": "code",
   "execution_count": 12,
   "metadata": {},
   "outputs": [],
   "source": [
    "X_train, X_test, y_train, y_test = train_test_split(X, y, test_size=0.2, random_state=42)"
   ]
  },
  {
   "cell_type": "code",
   "execution_count": 13,
   "metadata": {},
   "outputs": [
    {
     "data": {
      "text/html": [
       "<div>\n",
       "<style scoped>\n",
       "    .dataframe tbody tr th:only-of-type {\n",
       "        vertical-align: middle;\n",
       "    }\n",
       "\n",
       "    .dataframe tbody tr th {\n",
       "        vertical-align: top;\n",
       "    }\n",
       "\n",
       "    .dataframe thead th {\n",
       "        text-align: right;\n",
       "    }\n",
       "</style>\n",
       "<table border=\"1\" class=\"dataframe\">\n",
       "  <thead>\n",
       "    <tr style=\"text-align: right;\">\n",
       "      <th></th>\n",
       "      <th>is_questioned</th>\n",
       "      <th>are_first_steps_known</th>\n",
       "      <th>is_time_certain</th>\n",
       "      <th>is_certainly_imagined</th>\n",
       "      <th>are_obstackles_expected</th>\n",
       "      <th>goal_weight</th>\n",
       "      <th>goal_words</th>\n",
       "      <th>goal_verbs_counter</th>\n",
       "      <th>goal_nouns_counter</th>\n",
       "      <th>goal_numr_counter</th>\n",
       "      <th>goal_adj_counter</th>\n",
       "      <th>goal_digit_counter</th>\n",
       "      <th>goal_aver_word_len</th>\n",
       "    </tr>\n",
       "  </thead>\n",
       "  <tbody>\n",
       "    <tr>\n",
       "      <td>11336</td>\n",
       "      <td>0</td>\n",
       "      <td>0</td>\n",
       "      <td>0</td>\n",
       "      <td>0</td>\n",
       "      <td>1</td>\n",
       "      <td>1.0034</td>\n",
       "      <td>2</td>\n",
       "      <td>0</td>\n",
       "      <td>2</td>\n",
       "      <td>0</td>\n",
       "      <td>0</td>\n",
       "      <td>0</td>\n",
       "      <td>10.00</td>\n",
       "    </tr>\n",
       "    <tr>\n",
       "      <td>1786</td>\n",
       "      <td>0</td>\n",
       "      <td>1</td>\n",
       "      <td>1</td>\n",
       "      <td>1</td>\n",
       "      <td>0</td>\n",
       "      <td>0.0065</td>\n",
       "      <td>2</td>\n",
       "      <td>0</td>\n",
       "      <td>1</td>\n",
       "      <td>0</td>\n",
       "      <td>1</td>\n",
       "      <td>0</td>\n",
       "      <td>11.00</td>\n",
       "    </tr>\n",
       "    <tr>\n",
       "      <td>2008</td>\n",
       "      <td>0</td>\n",
       "      <td>1</td>\n",
       "      <td>0</td>\n",
       "      <td>1</td>\n",
       "      <td>0</td>\n",
       "      <td>0.0082</td>\n",
       "      <td>1</td>\n",
       "      <td>0</td>\n",
       "      <td>1</td>\n",
       "      <td>0</td>\n",
       "      <td>0</td>\n",
       "      <td>0</td>\n",
       "      <td>14.00</td>\n",
       "    </tr>\n",
       "    <tr>\n",
       "      <td>17498</td>\n",
       "      <td>1</td>\n",
       "      <td>1</td>\n",
       "      <td>0</td>\n",
       "      <td>1</td>\n",
       "      <td>1</td>\n",
       "      <td>0.0055</td>\n",
       "      <td>3</td>\n",
       "      <td>1</td>\n",
       "      <td>1</td>\n",
       "      <td>0</td>\n",
       "      <td>1</td>\n",
       "      <td>0</td>\n",
       "      <td>10.33</td>\n",
       "    </tr>\n",
       "    <tr>\n",
       "      <td>4958</td>\n",
       "      <td>0</td>\n",
       "      <td>1</td>\n",
       "      <td>0</td>\n",
       "      <td>1</td>\n",
       "      <td>1</td>\n",
       "      <td>0.0375</td>\n",
       "      <td>3</td>\n",
       "      <td>0</td>\n",
       "      <td>3</td>\n",
       "      <td>0</td>\n",
       "      <td>0</td>\n",
       "      <td>0</td>\n",
       "      <td>8.33</td>\n",
       "    </tr>\n",
       "  </tbody>\n",
       "</table>\n",
       "</div>"
      ],
      "text/plain": [
       "       is_questioned  are_first_steps_known  is_time_certain  \\\n",
       "11336              0                      0                0   \n",
       "1786               0                      1                1   \n",
       "2008               0                      1                0   \n",
       "17498              1                      1                0   \n",
       "4958               0                      1                0   \n",
       "\n",
       "       is_certainly_imagined  are_obstackles_expected  goal_weight  \\\n",
       "11336                      0                        1       1.0034   \n",
       "1786                       1                        0       0.0065   \n",
       "2008                       1                        0       0.0082   \n",
       "17498                      1                        1       0.0055   \n",
       "4958                       1                        1       0.0375   \n",
       "\n",
       "       goal_words  goal_verbs_counter  goal_nouns_counter  goal_numr_counter  \\\n",
       "11336           2                   0                   2                  0   \n",
       "1786            2                   0                   1                  0   \n",
       "2008            1                   0                   1                  0   \n",
       "17498           3                   1                   1                  0   \n",
       "4958            3                   0                   3                  0   \n",
       "\n",
       "       goal_adj_counter  goal_digit_counter  goal_aver_word_len  \n",
       "11336                 0                   0               10.00  \n",
       "1786                  1                   0               11.00  \n",
       "2008                  0                   0               14.00  \n",
       "17498                 1                   0               10.33  \n",
       "4958                  0                   0                8.33  "
      ]
     },
     "execution_count": 13,
     "metadata": {},
     "output_type": "execute_result"
    }
   ],
   "source": [
    "X_train.head()"
   ]
  },
  {
   "cell_type": "code",
   "execution_count": 14,
   "metadata": {},
   "outputs": [],
   "source": [
    "from sklearn.preprocessing import MinMaxScaler"
   ]
  },
  {
   "cell_type": "code",
   "execution_count": 15,
   "metadata": {},
   "outputs": [],
   "source": [
    "mms = MinMaxScaler()"
   ]
  },
  {
   "cell_type": "code",
   "execution_count": 16,
   "metadata": {},
   "outputs": [],
   "source": [
    "X_train_scaled = mms.fit_transform(X_train)"
   ]
  },
  {
   "cell_type": "code",
   "execution_count": 17,
   "metadata": {},
   "outputs": [],
   "source": [
    "X_test_scaled = mms.fit_transform(X_test)"
   ]
  },
  {
   "cell_type": "code",
   "execution_count": 18,
   "metadata": {},
   "outputs": [],
   "source": [
    "from xgboost import XGBClassifier"
   ]
  },
  {
   "cell_type": "code",
   "execution_count": 19,
   "metadata": {},
   "outputs": [],
   "source": [
    "edu_xgb = XGBClassifier()"
   ]
  },
  {
   "cell_type": "code",
   "execution_count": 20,
   "metadata": {},
   "outputs": [
    {
     "data": {
      "text/plain": [
       "XGBClassifier(base_score=0.5, booster='gbtree', colsample_bylevel=1,\n",
       "              colsample_bynode=1, colsample_bytree=1, gamma=0, gpu_id=-1,\n",
       "              importance_type='gain', interaction_constraints='',\n",
       "              learning_rate=0.300000012, max_delta_step=0, max_depth=6,\n",
       "              min_child_weight=1, missing=nan, monotone_constraints='()',\n",
       "              n_estimators=100, n_jobs=0, num_parallel_tree=1,\n",
       "              objective='binary:logistic', random_state=0, reg_alpha=0,\n",
       "              reg_lambda=1, scale_pos_weight=1, subsample=1,\n",
       "              tree_method='exact', validate_parameters=1, verbosity=None)"
      ]
     },
     "execution_count": 20,
     "metadata": {},
     "output_type": "execute_result"
    }
   ],
   "source": [
    "edu_xgb.fit(X_train_scaled, y_train)"
   ]
  },
  {
   "cell_type": "code",
   "execution_count": 21,
   "metadata": {},
   "outputs": [],
   "source": [
    "y_pred = edu_xgb.predict(X_test_scaled)"
   ]
  },
  {
   "cell_type": "code",
   "execution_count": 22,
   "metadata": {},
   "outputs": [],
   "source": [
    "from sklearn.metrics import classification_report, accuracy_score, f1_score, roc_auc_score"
   ]
  },
  {
   "cell_type": "code",
   "execution_count": 23,
   "metadata": {},
   "outputs": [
    {
     "name": "stdout",
     "output_type": "stream",
     "text": [
      "              precision    recall  f1-score   support\n",
      "\n",
      "           0       0.35      0.17      0.23      1058\n",
      "           1       0.70      0.86      0.77      2366\n",
      "\n",
      "    accuracy                           0.65      3424\n",
      "   macro avg       0.53      0.52      0.50      3424\n",
      "weighted avg       0.59      0.65      0.60      3424\n",
      "\n"
     ]
    }
   ],
   "source": [
    "print(classification_report(y_test, y_pred))"
   ]
  },
  {
   "cell_type": "code",
   "execution_count": 24,
   "metadata": {},
   "outputs": [
    {
     "data": {
      "text/plain": [
       "0.6469042056074766"
      ]
     },
     "execution_count": 24,
     "metadata": {},
     "output_type": "execute_result"
    }
   ],
   "source": [
    "accuracy_score(y_test, y_pred)"
   ]
  },
  {
   "cell_type": "code",
   "execution_count": 25,
   "metadata": {},
   "outputs": [
    {
     "data": {
      "text/plain": [
       "0.770892552586697"
      ]
     },
     "execution_count": 25,
     "metadata": {},
     "output_type": "execute_result"
    }
   ],
   "source": [
    "f1_score(y_test, y_pred)"
   ]
  },
  {
   "cell_type": "code",
   "execution_count": 26,
   "metadata": {},
   "outputs": [
    {
     "data": {
      "text/plain": [
       "0.5153781437408018"
      ]
     },
     "execution_count": 26,
     "metadata": {},
     "output_type": "execute_result"
    }
   ],
   "source": [
    "roc_auc_score(y_test, y_pred)"
   ]
  },
  {
   "cell_type": "code",
   "execution_count": 36,
   "metadata": {},
   "outputs": [],
   "source": [
    "with open('models/education_feat_xgb.pkl', 'wb') as f:\n",
    "    pickle.dump(edu_xgb, f)"
   ]
  },
  {
   "cell_type": "markdown",
   "metadata": {},
   "source": [
    "#### Vectors approach"
   ]
  },
  {
   "cell_type": "code",
   "execution_count": 27,
   "metadata": {},
   "outputs": [],
   "source": [
    "edu_vectors = edu_car_text_vectors.drop(columns=['label_attractor_career'])"
   ]
  },
  {
   "cell_type": "code",
   "execution_count": 28,
   "metadata": {},
   "outputs": [],
   "source": [
    "edu_vectors.dropna(inplace=True)"
   ]
  },
  {
   "cell_type": "code",
   "execution_count": 29,
   "metadata": {},
   "outputs": [
    {
     "data": {
      "text/plain": [
       "Index(['goal_name_key_pos', 'label_education'], dtype='object')"
      ]
     },
     "execution_count": 29,
     "metadata": {},
     "output_type": "execute_result"
    }
   ],
   "source": [
    "edu_vectors.columns"
   ]
  },
  {
   "cell_type": "code",
   "execution_count": 30,
   "metadata": {},
   "outputs": [],
   "source": [
    "from sklearn.feature_extraction.text import CountVectorizer, TfidfVectorizer"
   ]
  },
  {
   "cell_type": "code",
   "execution_count": 31,
   "metadata": {},
   "outputs": [],
   "source": [
    "text = edu_vectors['goal_name_key_pos']\n",
    "y = edu_vectors['label_education']"
   ]
  },
  {
   "cell_type": "code",
   "execution_count": 32,
   "metadata": {},
   "outputs": [
    {
     "data": {
      "text/plain": [
       "0                              отстать поезд современность\n",
       "1                                           самореализация\n",
       "2                                              образ жизнь\n",
       "3                         обновление устаревший информация\n",
       "4                          повышение результативность труд\n",
       "                               ...                        \n",
       "18013    приобретение новый знание навык успешный обуче...\n",
       "18014                             быть нужный работодатель\n",
       "18016                                   сохранить здоровье\n",
       "18018                                  зарабатывать деньга\n",
       "18019                                      получение навык\n",
       "Name: goal_name_key_pos, Length: 16953, dtype: object"
      ]
     },
     "execution_count": 32,
     "metadata": {},
     "output_type": "execute_result"
    }
   ],
   "source": [
    "text"
   ]
  },
  {
   "cell_type": "code",
   "execution_count": 33,
   "metadata": {},
   "outputs": [],
   "source": [
    "tfidf = TfidfVectorizer()\n",
    "X = tfidf.fit_transform(text)"
   ]
  },
  {
   "cell_type": "code",
   "execution_count": 34,
   "metadata": {},
   "outputs": [
    {
     "data": {
      "text/plain": [
       "(16953, 4600)"
      ]
     },
     "execution_count": 34,
     "metadata": {},
     "output_type": "execute_result"
    }
   ],
   "source": [
    "X.shape"
   ]
  },
  {
   "cell_type": "code",
   "execution_count": 35,
   "metadata": {},
   "outputs": [],
   "source": [
    "X_train, X_test, y_train, y_test = train_test_split(X, y, test_size=0.2, random_state=0, stratify=y)"
   ]
  },
  {
   "cell_type": "code",
   "execution_count": 36,
   "metadata": {},
   "outputs": [
    {
     "data": {
      "text/plain": [
       "<13562x4600 sparse matrix of type '<class 'numpy.float64'>'\n",
       "\twith 47198 stored elements in Compressed Sparse Row format>"
      ]
     },
     "execution_count": 36,
     "metadata": {},
     "output_type": "execute_result"
    }
   ],
   "source": [
    "X_train"
   ]
  },
  {
   "cell_type": "code",
   "execution_count": 37,
   "metadata": {},
   "outputs": [],
   "source": [
    "edu_v_xgb = XGBClassifier()"
   ]
  },
  {
   "cell_type": "code",
   "execution_count": 38,
   "metadata": {},
   "outputs": [
    {
     "data": {
      "text/plain": [
       "XGBClassifier(base_score=0.5, booster='gbtree', colsample_bylevel=1,\n",
       "              colsample_bynode=1, colsample_bytree=1, gamma=0, gpu_id=-1,\n",
       "              importance_type='gain', interaction_constraints='',\n",
       "              learning_rate=0.300000012, max_delta_step=0, max_depth=6,\n",
       "              min_child_weight=1, missing=nan, monotone_constraints='()',\n",
       "              n_estimators=100, n_jobs=0, num_parallel_tree=1,\n",
       "              objective='binary:logistic', random_state=0, reg_alpha=0,\n",
       "              reg_lambda=1, scale_pos_weight=1, subsample=1,\n",
       "              tree_method='exact', validate_parameters=1, verbosity=None)"
      ]
     },
     "execution_count": 38,
     "metadata": {},
     "output_type": "execute_result"
    }
   ],
   "source": [
    "edu_v_xgb.fit(X_train, y_train)"
   ]
  },
  {
   "cell_type": "code",
   "execution_count": 39,
   "metadata": {},
   "outputs": [],
   "source": [
    "y_pred = edu_v_xgb.predict(X_test)"
   ]
  },
  {
   "cell_type": "code",
   "execution_count": 40,
   "metadata": {},
   "outputs": [
    {
     "name": "stdout",
     "output_type": "stream",
     "text": [
      "              precision    recall  f1-score   support\n",
      "\n",
      "           0       0.21      0.02      0.03      1031\n",
      "           1       0.69      0.97      0.81      2360\n",
      "\n",
      "    accuracy                           0.68      3391\n",
      "   macro avg       0.45      0.49      0.42      3391\n",
      "weighted avg       0.55      0.68      0.57      3391\n",
      "\n"
     ]
    }
   ],
   "source": [
    "print(classification_report(y_test, y_pred))"
   ]
  },
  {
   "cell_type": "code",
   "execution_count": 41,
   "metadata": {},
   "outputs": [
    {
     "data": {
      "text/plain": [
       "0.6826894721321144"
      ]
     },
     "execution_count": 41,
     "metadata": {},
     "output_type": "execute_result"
    }
   ],
   "source": [
    "accuracy_score(y_test, y_pred)"
   ]
  },
  {
   "cell_type": "code",
   "execution_count": 42,
   "metadata": {},
   "outputs": [
    {
     "data": {
      "text/plain": [
       "0.8103630595699681"
      ]
     },
     "execution_count": 42,
     "metadata": {},
     "output_type": "execute_result"
    }
   ],
   "source": [
    "f1_score(y_test, y_pred)"
   ]
  },
  {
   "cell_type": "code",
   "execution_count": 43,
   "metadata": {},
   "outputs": [
    {
     "data": {
      "text/plain": [
       "0.494835728024462"
      ]
     },
     "execution_count": 43,
     "metadata": {},
     "output_type": "execute_result"
    }
   ],
   "source": [
    "roc_auc_score(y_test, y_pred)"
   ]
  },
  {
   "cell_type": "code",
   "execution_count": 52,
   "metadata": {},
   "outputs": [],
   "source": [
    "with open('models/education_vect_xgb.pkl', 'wb') as f:\n",
    "    pickle.dump(edu_v_xgb, f)"
   ]
  },
  {
   "cell_type": "markdown",
   "metadata": {},
   "source": [
    "#### Neural net approach"
   ]
  },
  {
   "cell_type": "code",
   "execution_count": 44,
   "metadata": {},
   "outputs": [],
   "source": [
    "from tensorflow.keras.preprocessing.text import Tokenizer\n",
    "from tensorflow.keras.preprocessing.sequence import pad_sequences\n",
    "from tensorflow.keras.models import Sequential\n",
    "from tensorflow.keras.layers import Dense,Flatten,Embedding,Dropout\n",
    "from tensorflow.keras.layers import Conv1D, MaxPooling1D, GlobalMaxPooling1D "
   ]
  },
  {
   "cell_type": "code",
   "execution_count": 45,
   "metadata": {},
   "outputs": [],
   "source": [
    "text = edu_vectors['goal_name_key_pos']\n",
    "y = edu_vectors['label_education']"
   ]
  },
  {
   "cell_type": "code",
   "execution_count": 46,
   "metadata": {},
   "outputs": [],
   "source": [
    "token = Tokenizer()\n",
    "token.fit_on_texts(text)"
   ]
  },
  {
   "cell_type": "code",
   "execution_count": 47,
   "metadata": {},
   "outputs": [
    {
     "data": {
      "text/plain": [
       "4619"
      ]
     },
     "execution_count": 47,
     "metadata": {},
     "output_type": "execute_result"
    }
   ],
   "source": [
    "vocab_size = len(token.word_index) + 1\n",
    "vocab_size"
   ]
  },
  {
   "cell_type": "code",
   "execution_count": 48,
   "metadata": {},
   "outputs": [],
   "source": [
    "encoded_text = token.texts_to_sequences(text)"
   ]
  },
  {
   "cell_type": "code",
   "execution_count": 49,
   "metadata": {},
   "outputs": [
    {
     "data": {
      "text/plain": [
       "127"
      ]
     },
     "execution_count": 49,
     "metadata": {},
     "output_type": "execute_result"
    }
   ],
   "source": [
    "max_len = int()\n",
    "for i in encoded_text:\n",
    "    len_ = len(i)\n",
    "    if len_ > max_len:\n",
    "        max_len = len_\n",
    "        \n",
    "max_len"
   ]
  },
  {
   "cell_type": "code",
   "execution_count": 50,
   "metadata": {},
   "outputs": [],
   "source": [
    "max_length = 127\n",
    "X = pad_sequences(encoded_text, maxlen=max_length, padding='post')"
   ]
  },
  {
   "cell_type": "code",
   "execution_count": 51,
   "metadata": {},
   "outputs": [
    {
     "data": {
      "text/plain": [
       "(16953, 127)"
      ]
     },
     "execution_count": 51,
     "metadata": {},
     "output_type": "execute_result"
    }
   ],
   "source": [
    "X.shape"
   ]
  },
  {
   "cell_type": "code",
   "execution_count": 52,
   "metadata": {},
   "outputs": [],
   "source": [
    "X_train, X_test, y_train, y_test = train_test_split(X, y, test_size=0.2, random_state=0, stratify=y)"
   ]
  },
  {
   "cell_type": "code",
   "execution_count": 53,
   "metadata": {},
   "outputs": [],
   "source": [
    "vec_size = 100\n",
    "\n",
    "model = Sequential()\n",
    "model.add(Embedding(vocab_size, vec_size, input_length=max_length))\n",
    "\n",
    "model.add(Conv1D(32, 2, activation='relu'))\n",
    "model.add(MaxPooling1D(2))\n",
    "model.add(Dropout(0.5))\n",
    "\n",
    "model.add(Dense(32, activation='relu'))\n",
    "model.add(Dropout(0.5))\n",
    "\n",
    "model.add(Dense(16, activation='relu'))\n",
    "\n",
    "model.add(GlobalMaxPooling1D())\n",
    "\n",
    "model.add(Dense(1, activation='sigmoid'))"
   ]
  },
  {
   "cell_type": "code",
   "execution_count": 54,
   "metadata": {},
   "outputs": [
    {
     "name": "stdout",
     "output_type": "stream",
     "text": [
      "Wall time: 36.9 ms\n"
     ]
    }
   ],
   "source": [
    "%%time\n",
    "model.compile(optimizer='adam', loss='binary_crossentropy', metrics=['accuracy'])"
   ]
  },
  {
   "cell_type": "code",
   "execution_count": 55,
   "metadata": {},
   "outputs": [],
   "source": [
    "import numpy as np"
   ]
  },
  {
   "cell_type": "code",
   "execution_count": 56,
   "metadata": {},
   "outputs": [],
   "source": [
    "X_train = np.asarray(X_train)\n",
    "y_train = np.asarray(y_train)\n",
    "X_test= np.asarray(X_test)\n",
    "y_test = np.asarray(y_test)"
   ]
  },
  {
   "cell_type": "code",
   "execution_count": 57,
   "metadata": {},
   "outputs": [],
   "source": [
    "from tensorflow.keras.callbacks import EarlyStopping"
   ]
  },
  {
   "cell_type": "code",
   "execution_count": 58,
   "metadata": {},
   "outputs": [],
   "source": [
    "early_stop = EarlyStopping(monitor='val_loss', mode='min', verbose=1, patience=25)"
   ]
  },
  {
   "cell_type": "code",
   "execution_count": 59,
   "metadata": {
    "scrolled": true
   },
   "outputs": [
    {
     "name": "stdout",
     "output_type": "stream",
     "text": [
      "Train on 13562 samples, validate on 3391 samples\n",
      "Epoch 1/600\n",
      "13562/13562 [==============================] - 8s 607us/sample - loss: 0.6177 - accuracy: 0.6958 - val_loss: 0.6337 - val_accuracy: 0.6960\n",
      "Epoch 2/600\n",
      "13562/13562 [==============================] - 8s 559us/sample - loss: 0.6163 - accuracy: 0.6961 - val_loss: 0.6278 - val_accuracy: 0.6960\n",
      "Epoch 3/600\n",
      "13562/13562 [==============================] - 7s 550us/sample - loss: 0.6151 - accuracy: 0.6961 - val_loss: 0.6305 - val_accuracy: 0.6960\n",
      "Epoch 4/600\n",
      "13562/13562 [==============================] - 7s 530us/sample - loss: 0.6138 - accuracy: 0.6961 - val_loss: 0.6278 - val_accuracy: 0.6960\n",
      "Epoch 5/600\n",
      "13562/13562 [==============================] - 8s 558us/sample - loss: 0.6120 - accuracy: 0.6961 - val_loss: 0.6278 - val_accuracy: 0.6960 - loss: 0.611\n",
      "Epoch 6/600\n",
      "13562/13562 [==============================] - 8s 582us/sample - loss: 0.6067 - accuracy: 0.6961 - val_loss: 0.6303 - val_accuracy: 0.6960\n",
      "Epoch 7/600\n",
      "13562/13562 [==============================] - 7s 523us/sample - loss: 0.5979 - accuracy: 0.6951 - val_loss: 0.6369 - val_accuracy: 0.6933\n",
      "Epoch 8/600\n",
      "13562/13562 [==============================] - 7s 509us/sample - loss: 0.5822 - accuracy: 0.7004 - val_loss: 0.6509 - val_accuracy: 0.6842\n",
      "Epoch 9/600\n",
      "13562/13562 [==============================] - 8s 571us/sample - loss: 0.5632 - accuracy: 0.7119 - val_loss: 0.6628 - val_accuracy: 0.6679\n",
      "Epoch 10/600\n",
      "13562/13562 [==============================] - 7s 527us/sample - loss: 0.5381 - accuracy: 0.7287 - val_loss: 0.6929 - val_accuracy: 0.6727\n",
      "Epoch 11/600\n",
      "13562/13562 [==============================] - 7s 526us/sample - loss: 0.5185 - accuracy: 0.7430 - val_loss: 0.7221 - val_accuracy: 0.6682\n",
      "Epoch 12/600\n",
      "13562/13562 [==============================] - 8s 556us/sample - loss: 0.5017 - accuracy: 0.7523 - val_loss: 0.7561 - val_accuracy: 0.6618\n",
      "Epoch 13/600\n",
      "13562/13562 [==============================] - 8s 563us/sample - loss: 0.4849 - accuracy: 0.7580 - val_loss: 0.7952 - val_accuracy: 0.6606\n",
      "Epoch 14/600\n",
      "13562/13562 [==============================] - 7s 540us/sample - loss: 0.4708 - accuracy: 0.7682 - val_loss: 0.8227 - val_accuracy: 0.6567\n",
      "Epoch 15/600\n",
      "13562/13562 [==============================] - 8s 553us/sample - loss: 0.4576 - accuracy: 0.7739 - val_loss: 0.8722 - val_accuracy: 0.6556\n",
      "Epoch 16/600\n",
      "13562/13562 [==============================] - 7s 536us/sample - loss: 0.4499 - accuracy: 0.7767 - val_loss: 0.9285 - val_accuracy: 0.6579\n",
      "Epoch 17/600\n",
      "13562/13562 [==============================] - 7s 533us/sample - loss: 0.4395 - accuracy: 0.7844 - val_loss: 0.9780 - val_accuracy: 0.6594\n",
      "Epoch 18/600\n",
      "13562/13562 [==============================] - 7s 535us/sample - loss: 0.4374 - accuracy: 0.7820 - val_loss: 0.9962 - val_accuracy: 0.6576\n",
      "Epoch 19/600\n",
      "13562/13562 [==============================] - 7s 546us/sample - loss: 0.4261 - accuracy: 0.7895 - val_loss: 1.1061 - val_accuracy: 0.6650\n",
      "Epoch 20/600\n",
      "13562/13562 [==============================] - 8s 572us/sample - loss: 0.4205 - accuracy: 0.7909 - val_loss: 1.0957 - val_accuracy: 0.6606\n",
      "Epoch 21/600\n",
      "13562/13562 [==============================] - 8s 559us/sample - loss: 0.4181 - accuracy: 0.7939 - val_loss: 1.0395 - val_accuracy: 0.6553\n",
      "Epoch 22/600\n",
      "13562/13562 [==============================] - 7s 544us/sample - loss: 0.4152 - accuracy: 0.7950 - val_loss: 1.1494 - val_accuracy: 0.6582\n",
      "Epoch 23/600\n",
      "13562/13562 [==============================] - 7s 534us/sample - loss: 0.4082 - accuracy: 0.7985 - val_loss: 1.1838 - val_accuracy: 0.6567\n",
      "Epoch 24/600\n",
      "13562/13562 [==============================] - 7s 535us/sample - loss: 0.4064 - accuracy: 0.7969 - val_loss: 1.2591 - val_accuracy: 0.6603\n",
      "Epoch 25/600\n",
      "13562/13562 [==============================] - 7s 535us/sample - loss: 0.4027 - accuracy: 0.7994 - val_loss: 1.2532 - val_accuracy: 0.6620\n",
      "Epoch 26/600\n",
      "13562/13562 [==============================] - 8s 574us/sample - loss: 0.3998 - accuracy: 0.8027 - val_loss: 1.2358 - val_accuracy: 0.6559oss: 0.3992 - accuracy: 0.\n",
      "Epoch 27/600\n",
      "13562/13562 [==============================] - 8s 584us/sample - loss: 0.4011 - accuracy: 0.8005 - val_loss: 1.2440 - val_accuracy: 0.6615\n",
      "Epoch 28/600\n",
      "13562/13562 [==============================] - 8s 577us/sample - loss: 0.3944 - accuracy: 0.8029 - val_loss: 1.2923 - val_accuracy: 0.6570\n",
      "Epoch 29/600\n",
      "13562/13562 [==============================] - 8s 589us/sample - loss: 0.3937 - accuracy: 0.8039 - val_loss: 1.2630 - val_accuracy: 0.6547\n",
      "Epoch 00029: early stopping\n"
     ]
    },
    {
     "data": {
      "text/plain": [
       "<tensorflow.python.keras.callbacks.History at 0x264fe4ed848>"
      ]
     },
     "execution_count": 59,
     "metadata": {},
     "output_type": "execute_result"
    }
   ],
   "source": [
    "model.fit(X_train, y_train, epochs=600, validation_data=(X_test, y_test), callbacks=[early_stop])"
   ]
  },
  {
   "cell_type": "code",
   "execution_count": 60,
   "metadata": {},
   "outputs": [],
   "source": [
    "losses = pd.DataFrame(model.history.history)"
   ]
  },
  {
   "cell_type": "code",
   "execution_count": 61,
   "metadata": {},
   "outputs": [
    {
     "data": {
      "text/plain": [
       "<matplotlib.axes._subplots.AxesSubplot at 0x26483f61248>"
      ]
     },
     "execution_count": 61,
     "metadata": {},
     "output_type": "execute_result"
    }
   ],
   "source": [
    "losses[['accuracy','val_accuracy']].plot()"
   ]
  },
  {
   "cell_type": "code",
   "execution_count": 62,
   "metadata": {},
   "outputs": [
    {
     "data": {
      "text/plain": [
       "<matplotlib.axes._subplots.AxesSubplot at 0x264841a7588>"
      ]
     },
     "execution_count": 62,
     "metadata": {},
     "output_type": "execute_result"
    },
    {
     "data": {
      "image/png": "[encoded data removed]",
      "text/plain": [
       "<Figure size 432x288 with 1 Axes>"
      ]
     },
     "metadata": {
      "needs_background": "light"
     },
     "output_type": "display_data"
    }
   ],
   "source": [
    "losses[['loss','val_loss']].plot()"
   ]
  },
  {
   "cell_type": "code",
   "execution_count": 63,
   "metadata": {},
   "outputs": [
    {
     "name": "stdout",
     "output_type": "stream",
     "text": [
      "['loss', 'accuracy']\n",
      "[1.2629501830860073, 0.6546741]\n"
     ]
    }
   ],
   "source": [
    "print(model.metrics_names)\n",
    "print(model.evaluate(X_test,y_test,verbose=0))"
   ]
  },
  {
   "cell_type": "code",
   "execution_count": 64,
   "metadata": {},
   "outputs": [],
   "source": [
    "y_pred = model.predict_classes(X_test)"
   ]
  },
  {
   "cell_type": "code",
   "execution_count": 65,
   "metadata": {},
   "outputs": [
    {
     "name": "stdout",
     "output_type": "stream",
     "text": [
      "              precision    recall  f1-score   support\n",
      "\n",
      "           0       0.31      0.12      0.17      1031\n",
      "           1       0.70      0.89      0.78      2360\n",
      "\n",
      "    accuracy                           0.65      3391\n",
      "   macro avg       0.51      0.50      0.48      3391\n",
      "weighted avg       0.58      0.65      0.60      3391\n",
      "\n"
     ]
    }
   ],
   "source": [
    "print(classification_report(y_test, y_pred))"
   ]
  },
  {
   "cell_type": "code",
   "execution_count": 66,
   "metadata": {},
   "outputs": [
    {
     "data": {
      "text/plain": [
       "0.6546741374225892"
      ]
     },
     "execution_count": 66,
     "metadata": {},
     "output_type": "execute_result"
    }
   ],
   "source": [
    "accuracy_score(y_test, y_pred)"
   ]
  },
  {
   "cell_type": "code",
   "execution_count": 67,
   "metadata": {},
   "outputs": [
    {
     "data": {
      "text/plain": [
       "0.7820584403498977"
      ]
     },
     "execution_count": 67,
     "metadata": {},
     "output_type": "execute_result"
    }
   ],
   "source": [
    "f1_score(y_test, y_pred)"
   ]
  },
  {
   "cell_type": "code",
   "execution_count": 68,
   "metadata": {},
   "outputs": [
    {
     "data": {
      "text/plain": [
       "0.5028380788768515"
      ]
     },
     "execution_count": 68,
     "metadata": {},
     "output_type": "execute_result"
    }
   ],
   "source": [
    "roc_auc_score(y_test, y_pred)"
   ]
  },
  {
   "cell_type": "code",
   "execution_count": 79,
   "metadata": {},
   "outputs": [],
   "source": [
    "model.save(\"models/education_vect_nn.h5\")"
   ]
  },
  {
   "cell_type": "code",
   "execution_count": null,
   "metadata": {},
   "outputs": [],
   "source": []
  }
 ],
 "metadata": {
  "kernelspec": {
   "display_name": "Python 3",
   "language": "python",
   "name": "python3"
  },
  "language_info": {
   "codemirror_mode": {
    "name": "ipython",
    "version": 3
   },
   "file_extension": ".py",
   "mimetype": "text/x-python",
   "name": "python",
   "nbconvert_exporter": "python",
   "pygments_lexer": "ipython3",
   "version": "3.7.4"
  }
 },
 "nbformat": 4,
 "nbformat_minor": 4
}
