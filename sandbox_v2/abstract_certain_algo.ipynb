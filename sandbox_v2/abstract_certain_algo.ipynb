{
 "cells": [
  {
   "cell_type": "code",
   "execution_count": 1,
   "metadata": {},
   "outputs": [],
   "source": [
    "import pandas as pd\n",
    "import os"
   ]
  },
  {
   "cell_type": "code",
   "execution_count": 2,
   "metadata": {},
   "outputs": [],
   "source": [
    "import pickle"
   ]
  },
  {
   "cell_type": "code",
   "execution_count": 3,
   "metadata": {},
   "outputs": [],
   "source": [
    "abstract_df = pd.read_csv('joint_clean_data/abstract.csv', index_col=0)"
   ]
  },
  {
   "cell_type": "code",
   "execution_count": 4,
   "metadata": {},
   "outputs": [],
   "source": [
    "def create_certain(row):\n",
    "    if row['abstract'] == 0 and row['subject'] == 0:\n",
    "        return 1\n",
    "    else:\n",
    "        return 0"
   ]
  },
  {
   "cell_type": "code",
   "execution_count": 5,
   "metadata": {},
   "outputs": [],
   "source": [
    "abstract_df['certain'] = abstract_df.apply(lambda row: create_certain(row), axis=1)"
   ]
  },
  {
   "cell_type": "code",
   "execution_count": 6,
   "metadata": {},
   "outputs": [
    {
     "data": {
      "text/html": [
       "<div>\n",
       "<style scoped>\n",
       "    .dataframe tbody tr th:only-of-type {\n",
       "        vertical-align: middle;\n",
       "    }\n",
       "\n",
       "    .dataframe tbody tr th {\n",
       "        vertical-align: top;\n",
       "    }\n",
       "\n",
       "    .dataframe thead th {\n",
       "        text-align: right;\n",
       "    }\n",
       "</style>\n",
       "<table border=\"1\" class=\"dataframe\">\n",
       "  <thead>\n",
       "    <tr style=\"text-align: right;\">\n",
       "      <th></th>\n",
       "      <th>goal_id</th>\n",
       "      <th>goal_domain_original</th>\n",
       "      <th>goal_name_type_original</th>\n",
       "      <th>goal_domain_LoW</th>\n",
       "      <th>goal_name_type_LoW</th>\n",
       "      <th>goal_domain_no_noise</th>\n",
       "      <th>goal_name_type_no_noise</th>\n",
       "      <th>goal_domain_mean_pos</th>\n",
       "      <th>goal_name_type_mean_pos</th>\n",
       "      <th>remove</th>\n",
       "      <th>...</th>\n",
       "      <th>topic_aver_word_len</th>\n",
       "      <th>goal_aver_word_len</th>\n",
       "      <th>goal_verbs_counter</th>\n",
       "      <th>goal_nouns_counter</th>\n",
       "      <th>goal_numr_counter</th>\n",
       "      <th>goal_adj_counter</th>\n",
       "      <th>goal_digit_counter</th>\n",
       "      <th>abstract</th>\n",
       "      <th>subject</th>\n",
       "      <th>certain</th>\n",
       "    </tr>\n",
       "  </thead>\n",
       "  <tbody>\n",
       "    <tr>\n",
       "      <th>0</th>\n",
       "      <td>19</td>\n",
       "      <td>творчество и создание нового изобразительное и...</td>\n",
       "      <td>не отстать от поезда современности получить зн...</td>\n",
       "      <td>['творчество', 'и', 'создание', 'нового', 'изо...</td>\n",
       "      <td>['не', 'отстать', 'от', 'поезда', 'современнос...</td>\n",
       "      <td>творчество создание новое изобразительный иску...</td>\n",
       "      <td>отстать поезд современность получить знание но...</td>\n",
       "      <td>творчество создание новое изобразительный иску...</td>\n",
       "      <td>отстать поезд современность получить знание но...</td>\n",
       "      <td>0</td>\n",
       "      <td>...</td>\n",
       "      <td>6.37</td>\n",
       "      <td>5.62</td>\n",
       "      <td>6</td>\n",
       "      <td>12</td>\n",
       "      <td>0</td>\n",
       "      <td>3</td>\n",
       "      <td>0</td>\n",
       "      <td>0</td>\n",
       "      <td>1</td>\n",
       "      <td>0</td>\n",
       "    </tr>\n",
       "    <tr>\n",
       "      <th>1</th>\n",
       "      <td>20</td>\n",
       "      <td>универсальные компетенции  гибкие навыки soft ...</td>\n",
       "      <td>самореализация получить знания в новой области...</td>\n",
       "      <td>['универсальные', 'компетенции', '', 'гибкие',...</td>\n",
       "      <td>['самореализация', 'получить', 'знания', 'в', ...</td>\n",
       "      <td>универсальный компетенция  гибкий навык soft s...</td>\n",
       "      <td>самореализация получить знание новый область  ...</td>\n",
       "      <td>универсальный компетенция гибкий навык навык о...</td>\n",
       "      <td>самореализация получить знание новый область п...</td>\n",
       "      <td>0</td>\n",
       "      <td>...</td>\n",
       "      <td>5.51</td>\n",
       "      <td>5.92</td>\n",
       "      <td>5</td>\n",
       "      <td>10</td>\n",
       "      <td>0</td>\n",
       "      <td>2</td>\n",
       "      <td>0</td>\n",
       "      <td>0</td>\n",
       "      <td>1</td>\n",
       "      <td>0</td>\n",
       "    </tr>\n",
       "    <tr>\n",
       "      <th>2</th>\n",
       "      <td>21</td>\n",
       "      <td>иностранные языки  гуманитарные знания и навык...</td>\n",
       "      <td>улучшенный образ жизни включиться в новый прое...</td>\n",
       "      <td>['иностранные', 'языки', '', 'гуманитарные', '...</td>\n",
       "      <td>['улучшенный', 'образ', 'жизни', 'включиться',...</td>\n",
       "      <td>иностранный язык  гуманитарный знание навык ин...</td>\n",
       "      <td>улучшить образ жизнь включиться новый проект д...</td>\n",
       "      <td>иностранный язык гуманитарный знание навык ино...</td>\n",
       "      <td>образ жизнь включиться новый проект деятельность</td>\n",
       "      <td>0</td>\n",
       "      <td>...</td>\n",
       "      <td>6.84</td>\n",
       "      <td>6.75</td>\n",
       "      <td>1</td>\n",
       "      <td>4</td>\n",
       "      <td>0</td>\n",
       "      <td>1</td>\n",
       "      <td>0</td>\n",
       "      <td>0</td>\n",
       "      <td>1</td>\n",
       "      <td>0</td>\n",
       "    </tr>\n",
       "    <tr>\n",
       "      <th>3</th>\n",
       "      <td>22</td>\n",
       "      <td>прикладные знания и навыки  ручной труд информ...</td>\n",
       "      <td>обновление устаревшей информации развить имеющ...</td>\n",
       "      <td>['прикладные', 'знания', 'и', 'навыки', '', 'р...</td>\n",
       "      <td>['обновление', 'устаревшей', 'информации', 'ра...</td>\n",
       "      <td>прикладной знание навык  ручной труд информаци...</td>\n",
       "      <td>обновление устаревший информация развить иметь...</td>\n",
       "      <td>прикладной знание навык ручной труд информация...</td>\n",
       "      <td>обновление устаревший информация развить знани...</td>\n",
       "      <td>0</td>\n",
       "      <td>...</td>\n",
       "      <td>5.58</td>\n",
       "      <td>7.38</td>\n",
       "      <td>1</td>\n",
       "      <td>4</td>\n",
       "      <td>0</td>\n",
       "      <td>1</td>\n",
       "      <td>0</td>\n",
       "      <td>0</td>\n",
       "      <td>1</td>\n",
       "      <td>0</td>\n",
       "    </tr>\n",
       "    <tr>\n",
       "      <th>4</th>\n",
       "      <td>23</td>\n",
       "      <td>универсальные компетенции  гибкие навыки soft ...</td>\n",
       "      <td>повышение результативности труда получить знан...</td>\n",
       "      <td>['универсальные', 'компетенции', '', 'гибкие',...</td>\n",
       "      <td>['повышение', 'результативности', 'труда', 'по...</td>\n",
       "      <td>универсальный компетенция  гибкий навык soft s...</td>\n",
       "      <td>повышение результативность труд получить знани...</td>\n",
       "      <td>универсальный компетенция гибкий навык планиро...</td>\n",
       "      <td>повышение результативность труд получить знани...</td>\n",
       "      <td>0</td>\n",
       "      <td>...</td>\n",
       "      <td>6.70</td>\n",
       "      <td>5.69</td>\n",
       "      <td>5</td>\n",
       "      <td>12</td>\n",
       "      <td>0</td>\n",
       "      <td>1</td>\n",
       "      <td>0</td>\n",
       "      <td>0</td>\n",
       "      <td>1</td>\n",
       "      <td>0</td>\n",
       "    </tr>\n",
       "  </tbody>\n",
       "</table>\n",
       "<p>5 rows × 28 columns</p>\n",
       "</div>"
      ],
      "text/plain": [
       "   goal_id                               goal_domain_original  \\\n",
       "0       19  творчество и создание нового изобразительное и...   \n",
       "1       20  универсальные компетенции  гибкие навыки soft ...   \n",
       "2       21  иностранные языки  гуманитарные знания и навык...   \n",
       "3       22  прикладные знания и навыки  ручной труд информ...   \n",
       "4       23  универсальные компетенции  гибкие навыки soft ...   \n",
       "\n",
       "                             goal_name_type_original  \\\n",
       "0  не отстать от поезда современности получить зн...   \n",
       "1  самореализация получить знания в новой области...   \n",
       "2  улучшенный образ жизни включиться в новый прое...   \n",
       "3  обновление устаревшей информации развить имеющ...   \n",
       "4  повышение результативности труда получить знан...   \n",
       "\n",
       "                                     goal_domain_LoW  \\\n",
       "0  ['творчество', 'и', 'создание', 'нового', 'изо...   \n",
       "1  ['универсальные', 'компетенции', '', 'гибкие',...   \n",
       "2  ['иностранные', 'языки', '', 'гуманитарные', '...   \n",
       "3  ['прикладные', 'знания', 'и', 'навыки', '', 'р...   \n",
       "4  ['универсальные', 'компетенции', '', 'гибкие',...   \n",
       "\n",
       "                                  goal_name_type_LoW  \\\n",
       "0  ['не', 'отстать', 'от', 'поезда', 'современнос...   \n",
       "1  ['самореализация', 'получить', 'знания', 'в', ...   \n",
       "2  ['улучшенный', 'образ', 'жизни', 'включиться',...   \n",
       "3  ['обновление', 'устаревшей', 'информации', 'ра...   \n",
       "4  ['повышение', 'результативности', 'труда', 'по...   \n",
       "\n",
       "                                goal_domain_no_noise  \\\n",
       "0  творчество создание новое изобразительный иску...   \n",
       "1  универсальный компетенция  гибкий навык soft s...   \n",
       "2  иностранный язык  гуманитарный знание навык ин...   \n",
       "3  прикладной знание навык  ручной труд информаци...   \n",
       "4  универсальный компетенция  гибкий навык soft s...   \n",
       "\n",
       "                             goal_name_type_no_noise  \\\n",
       "0  отстать поезд современность получить знание но...   \n",
       "1  самореализация получить знание новый область  ...   \n",
       "2  улучшить образ жизнь включиться новый проект д...   \n",
       "3  обновление устаревший информация развить иметь...   \n",
       "4  повышение результативность труд получить знани...   \n",
       "\n",
       "                                goal_domain_mean_pos  \\\n",
       "0  творчество создание новое изобразительный иску...   \n",
       "1  универсальный компетенция гибкий навык навык о...   \n",
       "2  иностранный язык гуманитарный знание навык ино...   \n",
       "3  прикладной знание навык ручной труд информация...   \n",
       "4  универсальный компетенция гибкий навык планиро...   \n",
       "\n",
       "                             goal_name_type_mean_pos  remove  ...  \\\n",
       "0  отстать поезд современность получить знание но...       0  ...   \n",
       "1  самореализация получить знание новый область п...       0  ...   \n",
       "2   образ жизнь включиться новый проект деятельность       0  ...   \n",
       "3  обновление устаревший информация развить знани...       0  ...   \n",
       "4  повышение результативность труд получить знани...       0  ...   \n",
       "\n",
       "   topic_aver_word_len  goal_aver_word_len  goal_verbs_counter  \\\n",
       "0                 6.37                5.62                   6   \n",
       "1                 5.51                5.92                   5   \n",
       "2                 6.84                6.75                   1   \n",
       "3                 5.58                7.38                   1   \n",
       "4                 6.70                5.69                   5   \n",
       "\n",
       "   goal_nouns_counter  goal_numr_counter  goal_adj_counter  \\\n",
       "0                  12                  0                 3   \n",
       "1                  10                  0                 2   \n",
       "2                   4                  0                 1   \n",
       "3                   4                  0                 1   \n",
       "4                  12                  0                 1   \n",
       "\n",
       "   goal_digit_counter  abstract  subject  certain  \n",
       "0                   0         0        1        0  \n",
       "1                   0         0        1        0  \n",
       "2                   0         0        1        0  \n",
       "3                   0         0        1        0  \n",
       "4                   0         0        1        0  \n",
       "\n",
       "[5 rows x 28 columns]"
      ]
     },
     "execution_count": 6,
     "metadata": {},
     "output_type": "execute_result"
    }
   ],
   "source": [
    "abstract_df.head()"
   ]
  },
  {
   "cell_type": "code",
   "execution_count": 7,
   "metadata": {},
   "outputs": [],
   "source": [
    "abstract = abstract_df.copy()"
   ]
  },
  {
   "cell_type": "code",
   "execution_count": 8,
   "metadata": {},
   "outputs": [],
   "source": [
    "abstract.drop(columns=['goal_id', 'goal_domain_original', 'goal_domain_LoW', 'goal_name_type_LoW',\n",
    "                   'goal_domain_no_noise', 'goal_domain_mean_pos'], inplace=True)"
   ]
  },
  {
   "cell_type": "code",
   "execution_count": 9,
   "metadata": {},
   "outputs": [],
   "source": [
    "abstract = abstract[abstract['remove'] == 0]"
   ]
  },
  {
   "cell_type": "code",
   "execution_count": 10,
   "metadata": {},
   "outputs": [],
   "source": [
    "abstract.drop(columns=['remove'], inplace=True)"
   ]
  },
  {
   "cell_type": "code",
   "execution_count": 11,
   "metadata": {},
   "outputs": [
    {
     "data": {
      "text/html": [
       "<div>\n",
       "<style scoped>\n",
       "    .dataframe tbody tr th:only-of-type {\n",
       "        vertical-align: middle;\n",
       "    }\n",
       "\n",
       "    .dataframe tbody tr th {\n",
       "        vertical-align: top;\n",
       "    }\n",
       "\n",
       "    .dataframe thead th {\n",
       "        text-align: right;\n",
       "    }\n",
       "</style>\n",
       "<table border=\"1\" class=\"dataframe\">\n",
       "  <thead>\n",
       "    <tr style=\"text-align: right;\">\n",
       "      <th></th>\n",
       "      <th>goal_name_type_original</th>\n",
       "      <th>goal_name_type_no_noise</th>\n",
       "      <th>goal_name_type_mean_pos</th>\n",
       "      <th>are_first_steps_known</th>\n",
       "      <th>is_time_certain</th>\n",
       "      <th>is_certainly_imagined</th>\n",
       "      <th>are_obstackles_expected</th>\n",
       "      <th>topic_words</th>\n",
       "      <th>goal_words</th>\n",
       "      <th>topic_letters</th>\n",
       "      <th>...</th>\n",
       "      <th>topic_aver_word_len</th>\n",
       "      <th>goal_aver_word_len</th>\n",
       "      <th>goal_verbs_counter</th>\n",
       "      <th>goal_nouns_counter</th>\n",
       "      <th>goal_numr_counter</th>\n",
       "      <th>goal_adj_counter</th>\n",
       "      <th>goal_digit_counter</th>\n",
       "      <th>abstract</th>\n",
       "      <th>subject</th>\n",
       "      <th>certain</th>\n",
       "    </tr>\n",
       "  </thead>\n",
       "  <tbody>\n",
       "    <tr>\n",
       "      <th>0</th>\n",
       "      <td>не отстать от поезда современности получить зн...</td>\n",
       "      <td>отстать поезд современность получить знание но...</td>\n",
       "      <td>отстать поезд современность получить знание но...</td>\n",
       "      <td>0</td>\n",
       "      <td>0</td>\n",
       "      <td>1</td>\n",
       "      <td>0</td>\n",
       "      <td>19</td>\n",
       "      <td>32</td>\n",
       "      <td>121</td>\n",
       "      <td>...</td>\n",
       "      <td>6.37</td>\n",
       "      <td>5.62</td>\n",
       "      <td>6</td>\n",
       "      <td>12</td>\n",
       "      <td>0</td>\n",
       "      <td>3</td>\n",
       "      <td>0</td>\n",
       "      <td>0</td>\n",
       "      <td>1</td>\n",
       "      <td>0</td>\n",
       "    </tr>\n",
       "    <tr>\n",
       "      <th>1</th>\n",
       "      <td>самореализация получить знания в новой области...</td>\n",
       "      <td>самореализация получить знание новый область  ...</td>\n",
       "      <td>самореализация получить знание новый область п...</td>\n",
       "      <td>0</td>\n",
       "      <td>0</td>\n",
       "      <td>1</td>\n",
       "      <td>0</td>\n",
       "      <td>79</td>\n",
       "      <td>24</td>\n",
       "      <td>435</td>\n",
       "      <td>...</td>\n",
       "      <td>5.51</td>\n",
       "      <td>5.92</td>\n",
       "      <td>5</td>\n",
       "      <td>10</td>\n",
       "      <td>0</td>\n",
       "      <td>2</td>\n",
       "      <td>0</td>\n",
       "      <td>0</td>\n",
       "      <td>1</td>\n",
       "      <td>0</td>\n",
       "    </tr>\n",
       "    <tr>\n",
       "      <th>2</th>\n",
       "      <td>улучшенный образ жизни включиться в новый прое...</td>\n",
       "      <td>улучшить образ жизнь включиться новый проект д...</td>\n",
       "      <td>образ жизнь включиться новый проект деятельность</td>\n",
       "      <td>1</td>\n",
       "      <td>0</td>\n",
       "      <td>1</td>\n",
       "      <td>0</td>\n",
       "      <td>25</td>\n",
       "      <td>8</td>\n",
       "      <td>171</td>\n",
       "      <td>...</td>\n",
       "      <td>6.84</td>\n",
       "      <td>6.75</td>\n",
       "      <td>1</td>\n",
       "      <td>4</td>\n",
       "      <td>0</td>\n",
       "      <td>1</td>\n",
       "      <td>0</td>\n",
       "      <td>0</td>\n",
       "      <td>1</td>\n",
       "      <td>0</td>\n",
       "    </tr>\n",
       "    <tr>\n",
       "      <th>3</th>\n",
       "      <td>обновление устаревшей информации развить имеющ...</td>\n",
       "      <td>обновление устаревший информация развить иметь...</td>\n",
       "      <td>обновление устаревший информация развить знани...</td>\n",
       "      <td>1</td>\n",
       "      <td>0</td>\n",
       "      <td>1</td>\n",
       "      <td>0</td>\n",
       "      <td>19</td>\n",
       "      <td>8</td>\n",
       "      <td>106</td>\n",
       "      <td>...</td>\n",
       "      <td>5.58</td>\n",
       "      <td>7.38</td>\n",
       "      <td>1</td>\n",
       "      <td>4</td>\n",
       "      <td>0</td>\n",
       "      <td>1</td>\n",
       "      <td>0</td>\n",
       "      <td>0</td>\n",
       "      <td>1</td>\n",
       "      <td>0</td>\n",
       "    </tr>\n",
       "    <tr>\n",
       "      <th>4</th>\n",
       "      <td>повышение результативности труда получить знан...</td>\n",
       "      <td>повышение результативность труд получить знани...</td>\n",
       "      <td>повышение результативность труд получить знани...</td>\n",
       "      <td>1</td>\n",
       "      <td>0</td>\n",
       "      <td>1</td>\n",
       "      <td>0</td>\n",
       "      <td>20</td>\n",
       "      <td>26</td>\n",
       "      <td>134</td>\n",
       "      <td>...</td>\n",
       "      <td>6.70</td>\n",
       "      <td>5.69</td>\n",
       "      <td>5</td>\n",
       "      <td>12</td>\n",
       "      <td>0</td>\n",
       "      <td>1</td>\n",
       "      <td>0</td>\n",
       "      <td>0</td>\n",
       "      <td>1</td>\n",
       "      <td>0</td>\n",
       "    </tr>\n",
       "  </tbody>\n",
       "</table>\n",
       "<p>5 rows × 21 columns</p>\n",
       "</div>"
      ],
      "text/plain": [
       "                             goal_name_type_original  \\\n",
       "0  не отстать от поезда современности получить зн...   \n",
       "1  самореализация получить знания в новой области...   \n",
       "2  улучшенный образ жизни включиться в новый прое...   \n",
       "3  обновление устаревшей информации развить имеющ...   \n",
       "4  повышение результативности труда получить знан...   \n",
       "\n",
       "                             goal_name_type_no_noise  \\\n",
       "0  отстать поезд современность получить знание но...   \n",
       "1  самореализация получить знание новый область  ...   \n",
       "2  улучшить образ жизнь включиться новый проект д...   \n",
       "3  обновление устаревший информация развить иметь...   \n",
       "4  повышение результативность труд получить знани...   \n",
       "\n",
       "                             goal_name_type_mean_pos  are_first_steps_known  \\\n",
       "0  отстать поезд современность получить знание но...                      0   \n",
       "1  самореализация получить знание новый область п...                      0   \n",
       "2   образ жизнь включиться новый проект деятельность                      1   \n",
       "3  обновление устаревший информация развить знани...                      1   \n",
       "4  повышение результативность труд получить знани...                      1   \n",
       "\n",
       "   is_time_certain  is_certainly_imagined  are_obstackles_expected  \\\n",
       "0                0                      1                        0   \n",
       "1                0                      1                        0   \n",
       "2                0                      1                        0   \n",
       "3                0                      1                        0   \n",
       "4                0                      1                        0   \n",
       "\n",
       "   topic_words  goal_words  topic_letters  ...  topic_aver_word_len  \\\n",
       "0           19          32            121  ...                 6.37   \n",
       "1           79          24            435  ...                 5.51   \n",
       "2           25           8            171  ...                 6.84   \n",
       "3           19           8            106  ...                 5.58   \n",
       "4           20          26            134  ...                 6.70   \n",
       "\n",
       "   goal_aver_word_len  goal_verbs_counter  goal_nouns_counter  \\\n",
       "0                5.62                   6                  12   \n",
       "1                5.92                   5                  10   \n",
       "2                6.75                   1                   4   \n",
       "3                7.38                   1                   4   \n",
       "4                5.69                   5                  12   \n",
       "\n",
       "   goal_numr_counter  goal_adj_counter  goal_digit_counter  abstract  subject  \\\n",
       "0                  0                 3                   0         0        1   \n",
       "1                  0                 2                   0         0        1   \n",
       "2                  0                 1                   0         0        1   \n",
       "3                  0                 1                   0         0        1   \n",
       "4                  0                 1                   0         0        1   \n",
       "\n",
       "   certain  \n",
       "0        0  \n",
       "1        0  \n",
       "2        0  \n",
       "3        0  \n",
       "4        0  \n",
       "\n",
       "[5 rows x 21 columns]"
      ]
     },
     "execution_count": 11,
     "metadata": {},
     "output_type": "execute_result"
    }
   ],
   "source": [
    "abstract.head()"
   ]
  },
  {
   "cell_type": "code",
   "execution_count": 12,
   "metadata": {},
   "outputs": [],
   "source": [
    "abstract_text_vectors = abstract[['goal_name_type_original', 'goal_name_type_no_noise', 'goal_name_type_mean_pos',\n",
    "                           'abstract', 'subject', 'certain']]\n",
    "abstract_features = abstract.drop(columns=['goal_name_type_original', 'goal_name_type_no_noise', 'goal_name_type_mean_pos'])"
   ]
  },
  {
   "cell_type": "code",
   "execution_count": 13,
   "metadata": {},
   "outputs": [
    {
     "data": {
      "text/html": [
       "<div>\n",
       "<style scoped>\n",
       "    .dataframe tbody tr th:only-of-type {\n",
       "        vertical-align: middle;\n",
       "    }\n",
       "\n",
       "    .dataframe tbody tr th {\n",
       "        vertical-align: top;\n",
       "    }\n",
       "\n",
       "    .dataframe thead th {\n",
       "        text-align: right;\n",
       "    }\n",
       "</style>\n",
       "<table border=\"1\" class=\"dataframe\">\n",
       "  <thead>\n",
       "    <tr style=\"text-align: right;\">\n",
       "      <th></th>\n",
       "      <th>are_first_steps_known</th>\n",
       "      <th>is_time_certain</th>\n",
       "      <th>is_certainly_imagined</th>\n",
       "      <th>are_obstackles_expected</th>\n",
       "      <th>topic_words</th>\n",
       "      <th>goal_words</th>\n",
       "      <th>topic_letters</th>\n",
       "      <th>goal_letters</th>\n",
       "      <th>topic_aver_word_len</th>\n",
       "      <th>goal_aver_word_len</th>\n",
       "      <th>goal_verbs_counter</th>\n",
       "      <th>goal_nouns_counter</th>\n",
       "      <th>goal_numr_counter</th>\n",
       "      <th>goal_adj_counter</th>\n",
       "      <th>goal_digit_counter</th>\n",
       "      <th>abstract</th>\n",
       "      <th>subject</th>\n",
       "      <th>certain</th>\n",
       "    </tr>\n",
       "  </thead>\n",
       "  <tbody>\n",
       "    <tr>\n",
       "      <th>0</th>\n",
       "      <td>0</td>\n",
       "      <td>0</td>\n",
       "      <td>1</td>\n",
       "      <td>0</td>\n",
       "      <td>19</td>\n",
       "      <td>32</td>\n",
       "      <td>121</td>\n",
       "      <td>180</td>\n",
       "      <td>6.37</td>\n",
       "      <td>5.62</td>\n",
       "      <td>6</td>\n",
       "      <td>12</td>\n",
       "      <td>0</td>\n",
       "      <td>3</td>\n",
       "      <td>0</td>\n",
       "      <td>0</td>\n",
       "      <td>1</td>\n",
       "      <td>0</td>\n",
       "    </tr>\n",
       "    <tr>\n",
       "      <th>1</th>\n",
       "      <td>0</td>\n",
       "      <td>0</td>\n",
       "      <td>1</td>\n",
       "      <td>0</td>\n",
       "      <td>79</td>\n",
       "      <td>24</td>\n",
       "      <td>435</td>\n",
       "      <td>142</td>\n",
       "      <td>5.51</td>\n",
       "      <td>5.92</td>\n",
       "      <td>5</td>\n",
       "      <td>10</td>\n",
       "      <td>0</td>\n",
       "      <td>2</td>\n",
       "      <td>0</td>\n",
       "      <td>0</td>\n",
       "      <td>1</td>\n",
       "      <td>0</td>\n",
       "    </tr>\n",
       "    <tr>\n",
       "      <th>2</th>\n",
       "      <td>1</td>\n",
       "      <td>0</td>\n",
       "      <td>1</td>\n",
       "      <td>0</td>\n",
       "      <td>25</td>\n",
       "      <td>8</td>\n",
       "      <td>171</td>\n",
       "      <td>54</td>\n",
       "      <td>6.84</td>\n",
       "      <td>6.75</td>\n",
       "      <td>1</td>\n",
       "      <td>4</td>\n",
       "      <td>0</td>\n",
       "      <td>1</td>\n",
       "      <td>0</td>\n",
       "      <td>0</td>\n",
       "      <td>1</td>\n",
       "      <td>0</td>\n",
       "    </tr>\n",
       "    <tr>\n",
       "      <th>3</th>\n",
       "      <td>1</td>\n",
       "      <td>0</td>\n",
       "      <td>1</td>\n",
       "      <td>0</td>\n",
       "      <td>19</td>\n",
       "      <td>8</td>\n",
       "      <td>106</td>\n",
       "      <td>59</td>\n",
       "      <td>5.58</td>\n",
       "      <td>7.38</td>\n",
       "      <td>1</td>\n",
       "      <td>4</td>\n",
       "      <td>0</td>\n",
       "      <td>1</td>\n",
       "      <td>0</td>\n",
       "      <td>0</td>\n",
       "      <td>1</td>\n",
       "      <td>0</td>\n",
       "    </tr>\n",
       "    <tr>\n",
       "      <th>4</th>\n",
       "      <td>1</td>\n",
       "      <td>0</td>\n",
       "      <td>1</td>\n",
       "      <td>0</td>\n",
       "      <td>20</td>\n",
       "      <td>26</td>\n",
       "      <td>134</td>\n",
       "      <td>148</td>\n",
       "      <td>6.70</td>\n",
       "      <td>5.69</td>\n",
       "      <td>5</td>\n",
       "      <td>12</td>\n",
       "      <td>0</td>\n",
       "      <td>1</td>\n",
       "      <td>0</td>\n",
       "      <td>0</td>\n",
       "      <td>1</td>\n",
       "      <td>0</td>\n",
       "    </tr>\n",
       "  </tbody>\n",
       "</table>\n",
       "</div>"
      ],
      "text/plain": [
       "   are_first_steps_known  is_time_certain  is_certainly_imagined  \\\n",
       "0                      0                0                      1   \n",
       "1                      0                0                      1   \n",
       "2                      1                0                      1   \n",
       "3                      1                0                      1   \n",
       "4                      1                0                      1   \n",
       "\n",
       "   are_obstackles_expected  topic_words  goal_words  topic_letters  \\\n",
       "0                        0           19          32            121   \n",
       "1                        0           79          24            435   \n",
       "2                        0           25           8            171   \n",
       "3                        0           19           8            106   \n",
       "4                        0           20          26            134   \n",
       "\n",
       "   goal_letters  topic_aver_word_len  goal_aver_word_len  goal_verbs_counter  \\\n",
       "0           180                 6.37                5.62                   6   \n",
       "1           142                 5.51                5.92                   5   \n",
       "2            54                 6.84                6.75                   1   \n",
       "3            59                 5.58                7.38                   1   \n",
       "4           148                 6.70                5.69                   5   \n",
       "\n",
       "   goal_nouns_counter  goal_numr_counter  goal_adj_counter  \\\n",
       "0                  12                  0                 3   \n",
       "1                  10                  0                 2   \n",
       "2                   4                  0                 1   \n",
       "3                   4                  0                 1   \n",
       "4                  12                  0                 1   \n",
       "\n",
       "   goal_digit_counter  abstract  subject  certain  \n",
       "0                   0         0        1        0  \n",
       "1                   0         0        1        0  \n",
       "2                   0         0        1        0  \n",
       "3                   0         0        1        0  \n",
       "4                   0         0        1        0  "
      ]
     },
     "execution_count": 13,
     "metadata": {},
     "output_type": "execute_result"
    }
   ],
   "source": [
    "abstract_features.head()"
   ]
  },
  {
   "cell_type": "code",
   "execution_count": 14,
   "metadata": {},
   "outputs": [
    {
     "data": {
      "text/html": [
       "<div>\n",
       "<style scoped>\n",
       "    .dataframe tbody tr th:only-of-type {\n",
       "        vertical-align: middle;\n",
       "    }\n",
       "\n",
       "    .dataframe tbody tr th {\n",
       "        vertical-align: top;\n",
       "    }\n",
       "\n",
       "    .dataframe thead th {\n",
       "        text-align: right;\n",
       "    }\n",
       "</style>\n",
       "<table border=\"1\" class=\"dataframe\">\n",
       "  <thead>\n",
       "    <tr style=\"text-align: right;\">\n",
       "      <th></th>\n",
       "      <th>goal_name_type_original</th>\n",
       "      <th>goal_name_type_no_noise</th>\n",
       "      <th>goal_name_type_mean_pos</th>\n",
       "      <th>abstract</th>\n",
       "      <th>subject</th>\n",
       "      <th>certain</th>\n",
       "    </tr>\n",
       "  </thead>\n",
       "  <tbody>\n",
       "    <tr>\n",
       "      <th>0</th>\n",
       "      <td>не отстать от поезда современности получить зн...</td>\n",
       "      <td>отстать поезд современность получить знание но...</td>\n",
       "      <td>отстать поезд современность получить знание но...</td>\n",
       "      <td>0</td>\n",
       "      <td>1</td>\n",
       "      <td>0</td>\n",
       "    </tr>\n",
       "    <tr>\n",
       "      <th>1</th>\n",
       "      <td>самореализация получить знания в новой области...</td>\n",
       "      <td>самореализация получить знание новый область  ...</td>\n",
       "      <td>самореализация получить знание новый область п...</td>\n",
       "      <td>0</td>\n",
       "      <td>1</td>\n",
       "      <td>0</td>\n",
       "    </tr>\n",
       "    <tr>\n",
       "      <th>2</th>\n",
       "      <td>улучшенный образ жизни включиться в новый прое...</td>\n",
       "      <td>улучшить образ жизнь включиться новый проект д...</td>\n",
       "      <td>образ жизнь включиться новый проект деятельность</td>\n",
       "      <td>0</td>\n",
       "      <td>1</td>\n",
       "      <td>0</td>\n",
       "    </tr>\n",
       "    <tr>\n",
       "      <th>3</th>\n",
       "      <td>обновление устаревшей информации развить имеющ...</td>\n",
       "      <td>обновление устаревший информация развить иметь...</td>\n",
       "      <td>обновление устаревший информация развить знани...</td>\n",
       "      <td>0</td>\n",
       "      <td>1</td>\n",
       "      <td>0</td>\n",
       "    </tr>\n",
       "    <tr>\n",
       "      <th>4</th>\n",
       "      <td>повышение результативности труда получить знан...</td>\n",
       "      <td>повышение результативность труд получить знани...</td>\n",
       "      <td>повышение результативность труд получить знани...</td>\n",
       "      <td>0</td>\n",
       "      <td>1</td>\n",
       "      <td>0</td>\n",
       "    </tr>\n",
       "  </tbody>\n",
       "</table>\n",
       "</div>"
      ],
      "text/plain": [
       "                             goal_name_type_original  \\\n",
       "0  не отстать от поезда современности получить зн...   \n",
       "1  самореализация получить знания в новой области...   \n",
       "2  улучшенный образ жизни включиться в новый прое...   \n",
       "3  обновление устаревшей информации развить имеющ...   \n",
       "4  повышение результативности труда получить знан...   \n",
       "\n",
       "                             goal_name_type_no_noise  \\\n",
       "0  отстать поезд современность получить знание но...   \n",
       "1  самореализация получить знание новый область  ...   \n",
       "2  улучшить образ жизнь включиться новый проект д...   \n",
       "3  обновление устаревший информация развить иметь...   \n",
       "4  повышение результативность труд получить знани...   \n",
       "\n",
       "                             goal_name_type_mean_pos  abstract  subject  \\\n",
       "0  отстать поезд современность получить знание но...         0        1   \n",
       "1  самореализация получить знание новый область п...         0        1   \n",
       "2   образ жизнь включиться новый проект деятельность         0        1   \n",
       "3  обновление устаревший информация развить знани...         0        1   \n",
       "4  повышение результативность труд получить знани...         0        1   \n",
       "\n",
       "   certain  \n",
       "0        0  \n",
       "1        0  \n",
       "2        0  \n",
       "3        0  \n",
       "4        0  "
      ]
     },
     "execution_count": 14,
     "metadata": {},
     "output_type": "execute_result"
    }
   ],
   "source": [
    "abstract_text_vectors.head()"
   ]
  },
  {
   "cell_type": "code",
   "execution_count": 15,
   "metadata": {},
   "outputs": [],
   "source": [
    "from sklearn.model_selection import train_test_split"
   ]
  },
  {
   "cell_type": "code",
   "execution_count": 16,
   "metadata": {},
   "outputs": [],
   "source": [
    "### Abstract Abstract\n",
    "### Abstract Subject\n",
    "### Abstract Certain"
   ]
  },
  {
   "cell_type": "markdown",
   "metadata": {},
   "source": [
    "#### Features approach"
   ]
  },
  {
   "cell_type": "code",
   "execution_count": 17,
   "metadata": {},
   "outputs": [],
   "source": [
    "certain_features = abstract_features.drop(columns=['subject', 'abstract'])"
   ]
  },
  {
   "cell_type": "code",
   "execution_count": 18,
   "metadata": {},
   "outputs": [],
   "source": [
    "X = certain_features.drop('certain', axis=1)\n",
    "y = certain_features['certain']"
   ]
  },
  {
   "cell_type": "code",
   "execution_count": 19,
   "metadata": {},
   "outputs": [
    {
     "data": {
      "text/plain": [
       "0    14594\n",
       "1     3424\n",
       "Name: certain, dtype: int64"
      ]
     },
     "execution_count": 19,
     "metadata": {},
     "output_type": "execute_result"
    }
   ],
   "source": [
    "y.value_counts()"
   ]
  },
  {
   "cell_type": "code",
   "execution_count": 20,
   "metadata": {},
   "outputs": [
    {
     "data": {
      "text/plain": [
       "(18018, 15)"
      ]
     },
     "execution_count": 20,
     "metadata": {},
     "output_type": "execute_result"
    }
   ],
   "source": [
    "X.shape"
   ]
  },
  {
   "cell_type": "code",
   "execution_count": 21,
   "metadata": {},
   "outputs": [
    {
     "data": {
      "text/plain": [
       "(18018,)"
      ]
     },
     "execution_count": 21,
     "metadata": {},
     "output_type": "execute_result"
    }
   ],
   "source": [
    "y.shape"
   ]
  },
  {
   "cell_type": "code",
   "execution_count": 22,
   "metadata": {},
   "outputs": [],
   "source": [
    "X_train, X_test, y_train, y_test = train_test_split(X, y, test_size=0.2, random_state=42)"
   ]
  },
  {
   "cell_type": "code",
   "execution_count": 23,
   "metadata": {},
   "outputs": [
    {
     "data": {
      "text/html": [
       "<div>\n",
       "<style scoped>\n",
       "    .dataframe tbody tr th:only-of-type {\n",
       "        vertical-align: middle;\n",
       "    }\n",
       "\n",
       "    .dataframe tbody tr th {\n",
       "        vertical-align: top;\n",
       "    }\n",
       "\n",
       "    .dataframe thead th {\n",
       "        text-align: right;\n",
       "    }\n",
       "</style>\n",
       "<table border=\"1\" class=\"dataframe\">\n",
       "  <thead>\n",
       "    <tr style=\"text-align: right;\">\n",
       "      <th></th>\n",
       "      <th>are_first_steps_known</th>\n",
       "      <th>is_time_certain</th>\n",
       "      <th>is_certainly_imagined</th>\n",
       "      <th>are_obstackles_expected</th>\n",
       "      <th>topic_words</th>\n",
       "      <th>goal_words</th>\n",
       "      <th>topic_letters</th>\n",
       "      <th>goal_letters</th>\n",
       "      <th>topic_aver_word_len</th>\n",
       "      <th>goal_aver_word_len</th>\n",
       "      <th>goal_verbs_counter</th>\n",
       "      <th>goal_nouns_counter</th>\n",
       "      <th>goal_numr_counter</th>\n",
       "      <th>goal_adj_counter</th>\n",
       "      <th>goal_digit_counter</th>\n",
       "    </tr>\n",
       "  </thead>\n",
       "  <tbody>\n",
       "    <tr>\n",
       "      <th>12859</th>\n",
       "      <td>0</td>\n",
       "      <td>0</td>\n",
       "      <td>1</td>\n",
       "      <td>1</td>\n",
       "      <td>22</td>\n",
       "      <td>16</td>\n",
       "      <td>138</td>\n",
       "      <td>88</td>\n",
       "      <td>6.27</td>\n",
       "      <td>5.50</td>\n",
       "      <td>4</td>\n",
       "      <td>5</td>\n",
       "      <td>0</td>\n",
       "      <td>2</td>\n",
       "      <td>0</td>\n",
       "    </tr>\n",
       "    <tr>\n",
       "      <th>15493</th>\n",
       "      <td>1</td>\n",
       "      <td>0</td>\n",
       "      <td>1</td>\n",
       "      <td>1</td>\n",
       "      <td>21</td>\n",
       "      <td>24</td>\n",
       "      <td>120</td>\n",
       "      <td>132</td>\n",
       "      <td>5.71</td>\n",
       "      <td>5.50</td>\n",
       "      <td>5</td>\n",
       "      <td>10</td>\n",
       "      <td>0</td>\n",
       "      <td>1</td>\n",
       "      <td>0</td>\n",
       "    </tr>\n",
       "    <tr>\n",
       "      <th>1957</th>\n",
       "      <td>0</td>\n",
       "      <td>0</td>\n",
       "      <td>0</td>\n",
       "      <td>0</td>\n",
       "      <td>26</td>\n",
       "      <td>12</td>\n",
       "      <td>148</td>\n",
       "      <td>70</td>\n",
       "      <td>5.69</td>\n",
       "      <td>5.83</td>\n",
       "      <td>2</td>\n",
       "      <td>5</td>\n",
       "      <td>0</td>\n",
       "      <td>1</td>\n",
       "      <td>0</td>\n",
       "    </tr>\n",
       "    <tr>\n",
       "      <th>10928</th>\n",
       "      <td>1</td>\n",
       "      <td>0</td>\n",
       "      <td>1</td>\n",
       "      <td>1</td>\n",
       "      <td>15</td>\n",
       "      <td>16</td>\n",
       "      <td>95</td>\n",
       "      <td>99</td>\n",
       "      <td>6.33</td>\n",
       "      <td>6.19</td>\n",
       "      <td>3</td>\n",
       "      <td>7</td>\n",
       "      <td>0</td>\n",
       "      <td>2</td>\n",
       "      <td>0</td>\n",
       "    </tr>\n",
       "    <tr>\n",
       "      <th>17106</th>\n",
       "      <td>1</td>\n",
       "      <td>0</td>\n",
       "      <td>1</td>\n",
       "      <td>1</td>\n",
       "      <td>17</td>\n",
       "      <td>46</td>\n",
       "      <td>109</td>\n",
       "      <td>245</td>\n",
       "      <td>6.41</td>\n",
       "      <td>5.33</td>\n",
       "      <td>8</td>\n",
       "      <td>16</td>\n",
       "      <td>0</td>\n",
       "      <td>4</td>\n",
       "      <td>0</td>\n",
       "    </tr>\n",
       "  </tbody>\n",
       "</table>\n",
       "</div>"
      ],
      "text/plain": [
       "       are_first_steps_known  is_time_certain  is_certainly_imagined  \\\n",
       "12859                      0                0                      1   \n",
       "15493                      1                0                      1   \n",
       "1957                       0                0                      0   \n",
       "10928                      1                0                      1   \n",
       "17106                      1                0                      1   \n",
       "\n",
       "       are_obstackles_expected  topic_words  goal_words  topic_letters  \\\n",
       "12859                        1           22          16            138   \n",
       "15493                        1           21          24            120   \n",
       "1957                         0           26          12            148   \n",
       "10928                        1           15          16             95   \n",
       "17106                        1           17          46            109   \n",
       "\n",
       "       goal_letters  topic_aver_word_len  goal_aver_word_len  \\\n",
       "12859            88                 6.27                5.50   \n",
       "15493           132                 5.71                5.50   \n",
       "1957             70                 5.69                5.83   \n",
       "10928            99                 6.33                6.19   \n",
       "17106           245                 6.41                5.33   \n",
       "\n",
       "       goal_verbs_counter  goal_nouns_counter  goal_numr_counter  \\\n",
       "12859                   4                   5                  0   \n",
       "15493                   5                  10                  0   \n",
       "1957                    2                   5                  0   \n",
       "10928                   3                   7                  0   \n",
       "17106                   8                  16                  0   \n",
       "\n",
       "       goal_adj_counter  goal_digit_counter  \n",
       "12859                 2                   0  \n",
       "15493                 1                   0  \n",
       "1957                  1                   0  \n",
       "10928                 2                   0  \n",
       "17106                 4                   0  "
      ]
     },
     "execution_count": 23,
     "metadata": {},
     "output_type": "execute_result"
    }
   ],
   "source": [
    "X_train.head()"
   ]
  },
  {
   "cell_type": "code",
   "execution_count": 24,
   "metadata": {},
   "outputs": [],
   "source": [
    "from sklearn.preprocessing import MinMaxScaler"
   ]
  },
  {
   "cell_type": "code",
   "execution_count": 25,
   "metadata": {},
   "outputs": [],
   "source": [
    "mms = MinMaxScaler()"
   ]
  },
  {
   "cell_type": "code",
   "execution_count": 26,
   "metadata": {},
   "outputs": [],
   "source": [
    "X_train_scaled = mms.fit_transform(X_train)"
   ]
  },
  {
   "cell_type": "code",
   "execution_count": 27,
   "metadata": {},
   "outputs": [],
   "source": [
    "# X_train_scaled"
   ]
  },
  {
   "cell_type": "code",
   "execution_count": 28,
   "metadata": {},
   "outputs": [],
   "source": [
    "X_test_scaled = mms.fit_transform(X_test)"
   ]
  },
  {
   "cell_type": "code",
   "execution_count": 29,
   "metadata": {},
   "outputs": [],
   "source": [
    "from xgboost import XGBClassifier"
   ]
  },
  {
   "cell_type": "code",
   "execution_count": 30,
   "metadata": {},
   "outputs": [],
   "source": [
    "abstract_cert_xgb = XGBClassifier()"
   ]
  },
  {
   "cell_type": "code",
   "execution_count": 31,
   "metadata": {},
   "outputs": [
    {
     "data": {
      "text/plain": [
       "XGBClassifier(base_score=0.5, booster='gbtree', colsample_bylevel=1,\n",
       "              colsample_bynode=1, colsample_bytree=1, gamma=0, gpu_id=-1,\n",
       "              importance_type='gain', interaction_constraints='',\n",
       "              learning_rate=0.300000012, max_delta_step=0, max_depth=6,\n",
       "              min_child_weight=1, missing=nan, monotone_constraints='()',\n",
       "              n_estimators=100, n_jobs=0, num_parallel_tree=1,\n",
       "              objective='binary:logistic', random_state=0, reg_alpha=0,\n",
       "              reg_lambda=1, scale_pos_weight=1, subsample=1,\n",
       "              tree_method='exact', validate_parameters=1, verbosity=None)"
      ]
     },
     "execution_count": 31,
     "metadata": {},
     "output_type": "execute_result"
    }
   ],
   "source": [
    "abstract_cert_xgb.fit(X_train_scaled, y_train)"
   ]
  },
  {
   "cell_type": "code",
   "execution_count": 32,
   "metadata": {},
   "outputs": [],
   "source": [
    "y_pred = abstract_cert_xgb.predict(X_test_scaled)"
   ]
  },
  {
   "cell_type": "code",
   "execution_count": 33,
   "metadata": {},
   "outputs": [],
   "source": [
    "from sklearn.metrics import classification_report, accuracy_score"
   ]
  },
  {
   "cell_type": "code",
   "execution_count": 34,
   "metadata": {},
   "outputs": [
    {
     "name": "stdout",
     "output_type": "stream",
     "text": [
      "              precision    recall  f1-score   support\n",
      "\n",
      "           0       0.81      0.98      0.89      2924\n",
      "           1       0.21      0.02      0.03       680\n",
      "\n",
      "    accuracy                           0.80      3604\n",
      "   macro avg       0.51      0.50      0.46      3604\n",
      "weighted avg       0.70      0.80      0.73      3604\n",
      "\n"
     ]
    }
   ],
   "source": [
    "print(classification_report(y_test, y_pred))"
   ]
  },
  {
   "cell_type": "code",
   "execution_count": 35,
   "metadata": {},
   "outputs": [
    {
     "data": {
      "text/plain": [
       "0.802441731409545"
      ]
     },
     "execution_count": 35,
     "metadata": {},
     "output_type": "execute_result"
    }
   ],
   "source": [
    "accuracy_score(y_test, y_pred)"
   ]
  },
  {
   "cell_type": "code",
   "execution_count": 36,
   "metadata": {},
   "outputs": [],
   "source": [
    "with open('models/abstract_certain_feat_xgb.pkl', 'wb') as f:\n",
    "    pickle.dump(abstract_cert_xgb, f)"
   ]
  },
  {
   "cell_type": "markdown",
   "metadata": {},
   "source": [
    "#### Vectors approach"
   ]
  },
  {
   "cell_type": "code",
   "execution_count": 35,
   "metadata": {},
   "outputs": [],
   "source": [
    "certain_vectors = abstract_text_vectors.drop(columns=['subject', 'abstract'])"
   ]
  },
  {
   "cell_type": "code",
   "execution_count": 36,
   "metadata": {},
   "outputs": [],
   "source": [
    "certain_vectors.dropna(inplace=True)"
   ]
  },
  {
   "cell_type": "code",
   "execution_count": 37,
   "metadata": {},
   "outputs": [
    {
     "data": {
      "text/plain": [
       "Index(['goal_name_type_original', 'goal_name_type_no_noise',\n",
       "       'goal_name_type_mean_pos', 'certain'],\n",
       "      dtype='object')"
      ]
     },
     "execution_count": 37,
     "metadata": {},
     "output_type": "execute_result"
    }
   ],
   "source": [
    "certain_vectors.columns"
   ]
  },
  {
   "cell_type": "code",
   "execution_count": 38,
   "metadata": {},
   "outputs": [],
   "source": [
    "from sklearn.feature_extraction.text import CountVectorizer, TfidfVectorizer"
   ]
  },
  {
   "cell_type": "code",
   "execution_count": 39,
   "metadata": {},
   "outputs": [],
   "source": [
    "text = certain_vectors['goal_name_type_mean_pos']\n",
    "y = certain_vectors['certain']"
   ]
  },
  {
   "cell_type": "code",
   "execution_count": 40,
   "metadata": {},
   "outputs": [
    {
     "data": {
      "text/plain": [
       "0        отстать поезд современность получить знание но...\n",
       "1        самореализация получить знание новый область п...\n",
       "2         образ жизнь включиться новый проект деятельность\n",
       "3        обновление устаревший информация развить знани...\n",
       "4        повышение результативность труд получить знани...\n",
       "                               ...                        \n",
       "18013    приобретение новый знание навык успешный обуче...\n",
       "18014    быть нужный работодатель приобрести новое навы...\n",
       "18016    сохранить здоровье изменить привычка получить ...\n",
       "18018    зарабатывать деньга получить знание новый обла...\n",
       "18019    получение навык приобрести новое навык развить...\n",
       "Name: goal_name_type_mean_pos, Length: 17106, dtype: object"
      ]
     },
     "execution_count": 40,
     "metadata": {},
     "output_type": "execute_result"
    }
   ],
   "source": [
    "text"
   ]
  },
  {
   "cell_type": "code",
   "execution_count": 41,
   "metadata": {},
   "outputs": [],
   "source": [
    "tfidf = TfidfVectorizer()\n",
    "X = tfidf.fit_transform(text)"
   ]
  },
  {
   "cell_type": "code",
   "execution_count": 42,
   "metadata": {},
   "outputs": [
    {
     "data": {
      "text/plain": [
       "(17106, 4932)"
      ]
     },
     "execution_count": 42,
     "metadata": {},
     "output_type": "execute_result"
    }
   ],
   "source": [
    "X.shape"
   ]
  },
  {
   "cell_type": "code",
   "execution_count": 43,
   "metadata": {},
   "outputs": [],
   "source": [
    "X_train, X_test, y_train, y_test = train_test_split(X, y, test_size=0.2, random_state=0, stratify=y)"
   ]
  },
  {
   "cell_type": "code",
   "execution_count": 44,
   "metadata": {},
   "outputs": [
    {
     "data": {
      "text/plain": [
       "<13684x4932 sparse matrix of type '<class 'numpy.float64'>'\n",
       "\twith 168900 stored elements in Compressed Sparse Row format>"
      ]
     },
     "execution_count": 44,
     "metadata": {},
     "output_type": "execute_result"
    }
   ],
   "source": [
    "X_train"
   ]
  },
  {
   "cell_type": "code",
   "execution_count": 45,
   "metadata": {},
   "outputs": [],
   "source": [
    "abstract_cert_v_xgb = XGBClassifier()"
   ]
  },
  {
   "cell_type": "code",
   "execution_count": 46,
   "metadata": {},
   "outputs": [
    {
     "data": {
      "text/plain": [
       "XGBClassifier(base_score=0.5, booster='gbtree', colsample_bylevel=1,\n",
       "              colsample_bynode=1, colsample_bytree=1, gamma=0, gpu_id=-1,\n",
       "              importance_type='gain', interaction_constraints='',\n",
       "              learning_rate=0.300000012, max_delta_step=0, max_depth=6,\n",
       "              min_child_weight=1, missing=nan, monotone_constraints='()',\n",
       "              n_estimators=100, n_jobs=0, num_parallel_tree=1,\n",
       "              objective='binary:logistic', random_state=0, reg_alpha=0,\n",
       "              reg_lambda=1, scale_pos_weight=1, subsample=1,\n",
       "              tree_method='exact', validate_parameters=1, verbosity=None)"
      ]
     },
     "execution_count": 46,
     "metadata": {},
     "output_type": "execute_result"
    }
   ],
   "source": [
    "abstract_cert_v_xgb.fit(X_train, y_train)"
   ]
  },
  {
   "cell_type": "code",
   "execution_count": 48,
   "metadata": {},
   "outputs": [],
   "source": [
    "y_pred = abstract_cert_v_xgb.predict(X_test)"
   ]
  },
  {
   "cell_type": "code",
   "execution_count": 49,
   "metadata": {},
   "outputs": [
    {
     "name": "stdout",
     "output_type": "stream",
     "text": [
      "              precision    recall  f1-score   support\n",
      "\n",
      "           0       0.81      0.99      0.89      2770\n",
      "           1       0.18      0.00      0.01       652\n",
      "\n",
      "    accuracy                           0.81      3422\n",
      "   macro avg       0.49      0.50      0.45      3422\n",
      "weighted avg       0.69      0.81      0.72      3422\n",
      "\n"
     ]
    }
   ],
   "source": [
    "print(classification_report(y_test, y_pred))"
   ]
  },
  {
   "cell_type": "code",
   "execution_count": 50,
   "metadata": {},
   "outputs": [
    {
     "data": {
      "text/plain": [
       "0.8062536528345996"
      ]
     },
     "execution_count": 50,
     "metadata": {},
     "output_type": "execute_result"
    }
   ],
   "source": [
    "accuracy_score(y_test, y_pred)"
   ]
  },
  {
   "cell_type": "code",
   "execution_count": 80,
   "metadata": {},
   "outputs": [],
   "source": [
    "with open('models/abstract_certain_vect_xgb.pkl', 'wb') as f:\n",
    "    pickle.dump(abstract_cert_v_xgb, f)"
   ]
  },
  {
   "cell_type": "markdown",
   "metadata": {},
   "source": [
    "#### Neural net approach"
   ]
  },
  {
   "cell_type": "code",
   "execution_count": 51,
   "metadata": {},
   "outputs": [],
   "source": [
    "from tensorflow.keras.preprocessing.text import Tokenizer\n",
    "from tensorflow.keras.preprocessing.sequence import pad_sequences\n",
    "from tensorflow.keras.models import Sequential\n",
    "from tensorflow.keras.layers import Dense,Flatten,Embedding,Dropout\n",
    "from tensorflow.keras.layers import Conv1D, MaxPooling1D, GlobalMaxPooling1D "
   ]
  },
  {
   "cell_type": "code",
   "execution_count": 52,
   "metadata": {},
   "outputs": [],
   "source": [
    "text = certain_vectors['goal_name_type_mean_pos']\n",
    "y = certain_vectors['certain']"
   ]
  },
  {
   "cell_type": "code",
   "execution_count": 53,
   "metadata": {},
   "outputs": [],
   "source": [
    "token = Tokenizer()\n",
    "token.fit_on_texts(text)"
   ]
  },
  {
   "cell_type": "code",
   "execution_count": 54,
   "metadata": {},
   "outputs": [
    {
     "data": {
      "text/plain": [
       "4948"
      ]
     },
     "execution_count": 54,
     "metadata": {},
     "output_type": "execute_result"
    }
   ],
   "source": [
    "vocab_size = len(token.word_index) + 1\n",
    "vocab_size"
   ]
  },
  {
   "cell_type": "code",
   "execution_count": 55,
   "metadata": {},
   "outputs": [],
   "source": [
    "# print(token.word_index)"
   ]
  },
  {
   "cell_type": "code",
   "execution_count": 56,
   "metadata": {},
   "outputs": [],
   "source": [
    "encoded_text = token.texts_to_sequences(text)"
   ]
  },
  {
   "cell_type": "code",
   "execution_count": 57,
   "metadata": {},
   "outputs": [],
   "source": [
    "# print(encoded_text)"
   ]
  },
  {
   "cell_type": "code",
   "execution_count": 58,
   "metadata": {},
   "outputs": [
    {
     "data": {
      "text/plain": [
       "142"
      ]
     },
     "execution_count": 58,
     "metadata": {},
     "output_type": "execute_result"
    }
   ],
   "source": [
    "max_len = int()\n",
    "for i in encoded_text:\n",
    "    len_ = len(i)\n",
    "    if len_ > max_len:\n",
    "        max_len = len_\n",
    "        \n",
    "max_len"
   ]
  },
  {
   "cell_type": "code",
   "execution_count": 59,
   "metadata": {},
   "outputs": [],
   "source": [
    "max_length = 142\n",
    "X = pad_sequences(encoded_text, maxlen=max_length, padding='post')"
   ]
  },
  {
   "cell_type": "code",
   "execution_count": 60,
   "metadata": {},
   "outputs": [
    {
     "name": "stdout",
     "output_type": "stream",
     "text": [
      "[[ 533 1860  943 ...    0    0    0]\n",
      " [  94    5    1 ...    0    0    0]\n",
      " [ 326   36    6 ...    0    0    0]\n",
      " ...\n",
      " [ 477  202   18 ...    0    0    0]\n",
      " [ 275  125    5 ...    0    0    0]\n",
      " [  29    2    8 ...    0    0    0]]\n"
     ]
    }
   ],
   "source": [
    "print(X)"
   ]
  },
  {
   "cell_type": "code",
   "execution_count": 61,
   "metadata": {},
   "outputs": [
    {
     "data": {
      "text/plain": [
       "(17106, 142)"
      ]
     },
     "execution_count": 61,
     "metadata": {},
     "output_type": "execute_result"
    }
   ],
   "source": [
    "X.shape"
   ]
  },
  {
   "cell_type": "code",
   "execution_count": 62,
   "metadata": {},
   "outputs": [],
   "source": [
    "X_train, X_test, y_train, y_test = train_test_split(X, y, test_size=0.2, random_state=0, stratify=y)"
   ]
  },
  {
   "cell_type": "code",
   "execution_count": 63,
   "metadata": {},
   "outputs": [],
   "source": [
    "vec_size = 142\n",
    "\n",
    "model = Sequential()\n",
    "model.add(Embedding(vocab_size, vec_size, input_length=max_length))\n",
    "\n",
    "model.add(Conv1D(32, 2, activation='relu'))\n",
    "model.add(MaxPooling1D(2))\n",
    "model.add(Dropout(0.5))\n",
    "\n",
    "model.add(Dense(32, activation='relu'))\n",
    "model.add(Dropout(0.5))\n",
    "\n",
    "model.add(Dense(16, activation='relu'))\n",
    "\n",
    "model.add(GlobalMaxPooling1D())\n",
    "\n",
    "model.add(Dense(1, activation='sigmoid'))"
   ]
  },
  {
   "cell_type": "code",
   "execution_count": 64,
   "metadata": {},
   "outputs": [
    {
     "name": "stdout",
     "output_type": "stream",
     "text": [
      "Model: \"sequential\"\n",
      "_________________________________________________________________\n",
      "Layer (type)                 Output Shape              Param #   \n",
      "=================================================================\n",
      "embedding (Embedding)        (None, 142, 142)          702616    \n",
      "_________________________________________________________________\n",
      "conv1d (Conv1D)              (None, 141, 32)           9120      \n",
      "_________________________________________________________________\n",
      "max_pooling1d (MaxPooling1D) (None, 70, 32)            0         \n",
      "_________________________________________________________________\n",
      "dropout (Dropout)            (None, 70, 32)            0         \n",
      "_________________________________________________________________\n",
      "dense (Dense)                (None, 70, 32)            1056      \n",
      "_________________________________________________________________\n",
      "dropout_1 (Dropout)          (None, 70, 32)            0         \n",
      "_________________________________________________________________\n",
      "dense_1 (Dense)              (None, 70, 16)            528       \n",
      "_________________________________________________________________\n",
      "global_max_pooling1d (Global (None, 16)                0         \n",
      "_________________________________________________________________\n",
      "dense_2 (Dense)              (None, 1)                 17        \n",
      "=================================================================\n",
      "Total params: 713,337\n",
      "Trainable params: 713,337\n",
      "Non-trainable params: 0\n",
      "_________________________________________________________________\n"
     ]
    }
   ],
   "source": [
    "model.summary()"
   ]
  },
  {
   "cell_type": "code",
   "execution_count": 65,
   "metadata": {},
   "outputs": [
    {
     "name": "stdout",
     "output_type": "stream",
     "text": [
      "Wall time: 29.9 ms\n"
     ]
    }
   ],
   "source": [
    "%%time\n",
    "model.compile(optimizer='adam', loss='binary_crossentropy', metrics=['accuracy'])"
   ]
  },
  {
   "cell_type": "code",
   "execution_count": 66,
   "metadata": {},
   "outputs": [],
   "source": [
    "import numpy as np"
   ]
  },
  {
   "cell_type": "code",
   "execution_count": 67,
   "metadata": {},
   "outputs": [],
   "source": [
    "X_train = np.asarray(X_train)\n",
    "y_train = np.asarray(y_train)\n",
    "X_test= np.asarray(X_test)\n",
    "y_test = np.asarray(y_test)"
   ]
  },
  {
   "cell_type": "code",
   "execution_count": 68,
   "metadata": {},
   "outputs": [],
   "source": [
    "from tensorflow.keras.callbacks import EarlyStopping"
   ]
  },
  {
   "cell_type": "code",
   "execution_count": 69,
   "metadata": {},
   "outputs": [],
   "source": [
    "early_stop = EarlyStopping(monitor='val_loss', mode='min', verbose=1, patience=25)"
   ]
  },
  {
   "cell_type": "code",
   "execution_count": 70,
   "metadata": {
    "scrolled": true
   },
   "outputs": [
    {
     "name": "stdout",
     "output_type": "stream",
     "text": [
      "Train on 13684 samples, validate on 3422 samples\n",
      "Epoch 1/600\n",
      "13684/13684 [==============================] - 10s 723us/sample - loss: 0.4933 - accuracy: 0.8092 - val_loss: 0.5649 - val_accuracy: 0.8095\n",
      "Epoch 2/600\n",
      "13684/13684 [==============================] - 9s 643us/sample - loss: 0.4904 - accuracy: 0.8094 - val_loss: 0.5513 - val_accuracy: 0.8095\n",
      "Epoch 3/600\n",
      "13684/13684 [==============================] - 9s 668us/sample - loss: 0.4892 - accuracy: 0.8094 - val_loss: 0.5398 - val_accuracy: 0.8095\n",
      "Epoch 4/600\n",
      "13684/13684 [==============================] - 9s 656us/sample - loss: 0.4887 - accuracy: 0.8094 - val_loss: 0.5494 - val_accuracy: 0.8095\n",
      "Epoch 5/600\n",
      "13684/13684 [==============================] - 9s 666us/sample - loss: 0.4895 - accuracy: 0.8094 - val_loss: 0.5317 - val_accuracy: 0.8095\n",
      "Epoch 6/600\n",
      "13684/13684 [==============================] - 9s 667us/sample - loss: 0.4880 - accuracy: 0.8094 - val_loss: 0.5413 - val_accuracy: 0.8095\n",
      "Epoch 7/600\n",
      "13684/13684 [==============================] - 10s 696us/sample - loss: 0.4875 - accuracy: 0.8094 - val_loss: 0.5323 - val_accuracy: 0.8095\n",
      "Epoch 8/600\n",
      "13684/13684 [==============================] - 9s 672us/sample - loss: 0.4873 - accuracy: 0.8094 - val_loss: 0.5302 - val_accuracy: 0.8095\n",
      "Epoch 9/600\n",
      "13684/13684 [==============================] - 10s 734us/sample - loss: 0.4853 - accuracy: 0.8094 - val_loss: 0.5294 - val_accuracy: 0.8095\n",
      "Epoch 10/600\n",
      "13684/13684 [==============================] - 9s 686us/sample - loss: 0.4801 - accuracy: 0.8094 - val_loss: 0.5282 - val_accuracy: 0.8095\n",
      "Epoch 11/600\n",
      "13684/13684 [==============================] - 10s 717us/sample - loss: 0.4735 - accuracy: 0.8094 - val_loss: 0.5181 - val_accuracy: 0.8095\n",
      "Epoch 12/600\n",
      "13684/13684 [==============================] - 9s 692us/sample - loss: 0.4656 - accuracy: 0.8094 - val_loss: 0.5233 - val_accuracy: 0.8095\n",
      "Epoch 13/600\n",
      "13684/13684 [==============================] - 9s 678us/sample - loss: 0.4572 - accuracy: 0.8093 - val_loss: 0.5193 - val_accuracy: 0.8095\n",
      "Epoch 14/600\n",
      "13684/13684 [==============================] - 8s 574us/sample - loss: 0.4451 - accuracy: 0.8099 - val_loss: 0.5281 - val_accuracy: 0.8089\n",
      "Epoch 15/600\n",
      "13684/13684 [==============================] - 9s 655us/sample - loss: 0.4276 - accuracy: 0.8143 - val_loss: 0.5464 - val_accuracy: 0.8004\n",
      "Epoch 16/600\n",
      "13684/13684 [==============================] - 10s 725us/sample - loss: 0.4100 - accuracy: 0.8215 - val_loss: 0.5824 - val_accuracy: 0.7949\n",
      "Epoch 17/600\n",
      "13684/13684 [==============================] - 10s 715us/sample - loss: 0.3951 - accuracy: 0.8309 - val_loss: 0.5785 - val_accuracy: 0.7957\n",
      "Epoch 18/600\n",
      "13684/13684 [==============================] - 10s 710us/sample - loss: 0.3800 - accuracy: 0.8389 - val_loss: 0.5996 - val_accuracy: 0.7887\n",
      "Epoch 19/600\n",
      "13684/13684 [==============================] - 9s 683us/sample - loss: 0.3672 - accuracy: 0.8446 - val_loss: 0.6266 - val_accuracy: 0.7899\n",
      "Epoch 20/600\n",
      "13684/13684 [==============================] - 10s 720us/sample - loss: 0.3541 - accuracy: 0.8501 - val_loss: 0.6480 - val_accuracy: 0.7887\n",
      "Epoch 21/600\n",
      "13684/13684 [==============================] - 10s 707us/sample - loss: 0.3439 - accuracy: 0.8549 - val_loss: 0.6734 - val_accuracy: 0.7876\n",
      "Epoch 22/600\n",
      "13684/13684 [==============================] - 10s 699us/sample - loss: 0.3386 - accuracy: 0.8571 - val_loss: 0.6882 - val_accuracy: 0.7843\n",
      "Epoch 23/600\n",
      "13684/13684 [==============================] - 10s 713us/sample - loss: 0.3299 - accuracy: 0.8604 - val_loss: 0.7588 - val_accuracy: 0.7870\n",
      "Epoch 24/600\n",
      "13684/13684 [==============================] - 10s 709us/sample - loss: 0.3236 - accuracy: 0.8631 - val_loss: 0.7876 - val_accuracy: 0.7832\n",
      "Epoch 25/600\n",
      "13684/13684 [==============================] - 10s 709us/sample - loss: 0.3199 - accuracy: 0.8649 - val_loss: 0.8011 - val_accuracy: 0.7829\n",
      "Epoch 26/600\n",
      "13684/13684 [==============================] - 10s 698us/sample - loss: 0.3142 - accuracy: 0.8662 - val_loss: 0.7370 - val_accuracy: 0.7797\n",
      "Epoch 27/600\n",
      "13684/13684 [==============================] - 10s 701us/sample - loss: 0.3102 - accuracy: 0.8697 - val_loss: 0.8121 - val_accuracy: 0.7785\n",
      "Epoch 28/600\n",
      "13684/13684 [==============================] - 10s 712us/sample - loss: 0.3040 - accuracy: 0.8715 - val_loss: 0.8644 - val_accuracy: 0.7762\n",
      "Epoch 29/600\n",
      "13684/13684 [==============================] - 9s 694us/sample - loss: 0.3029 - accuracy: 0.8741 - val_loss: 0.8495 - val_accuracy: 0.7826\n",
      "Epoch 30/600\n",
      "13684/13684 [==============================] - 10s 705us/sample - loss: 0.2959 - accuracy: 0.8737 - val_loss: 0.8485 - val_accuracy: 0.7802\n",
      "Epoch 31/600\n",
      "13684/13684 [==============================] - 10s 759us/sample - loss: 0.2951 - accuracy: 0.8757 - val_loss: 0.9110 - val_accuracy: 0.7849\n",
      "Epoch 32/600\n",
      "13684/13684 [==============================] - 10s 732us/sample - loss: 0.2923 - accuracy: 0.8777 - val_loss: 0.9331 - val_accuracy: 0.7800\n",
      "Epoch 33/600\n",
      "13684/13684 [==============================] - 10s 724us/sample - loss: 0.2905 - accuracy: 0.8792 - val_loss: 0.9030 - val_accuracy: 0.7802\n",
      "Epoch 34/600\n",
      "13684/13684 [==============================] - 10s 730us/sample - loss: 0.2880 - accuracy: 0.8788 - val_loss: 0.9474 - val_accuracy: 0.7788\n",
      "Epoch 35/600\n",
      "13684/13684 [==============================] - 10s 697us/sample - loss: 0.2851 - accuracy: 0.8807 - val_loss: 0.9061 - val_accuracy: 0.7805\n",
      "Epoch 36/600\n",
      "13684/13684 [==============================] - 9s 691us/sample - loss: 0.2812 - accuracy: 0.8822 - val_loss: 1.0238 - val_accuracy: 0.7876\n",
      "Epoch 00036: early stopping\n"
     ]
    },
    {
     "data": {
      "text/plain": [
       "<tensorflow.python.keras.callbacks.History at 0x28fcd8e9bc8>"
      ]
     },
     "execution_count": 70,
     "metadata": {},
     "output_type": "execute_result"
    }
   ],
   "source": [
    "model.fit(X_train, y_train, epochs=600, validation_data=(X_test, y_test), callbacks=[early_stop])"
   ]
  },
  {
   "cell_type": "code",
   "execution_count": 71,
   "metadata": {},
   "outputs": [],
   "source": [
    "losses = pd.DataFrame(model.history.history)"
   ]
  },
  {
   "cell_type": "code",
   "execution_count": 72,
   "metadata": {},
   "outputs": [
    {
     "data": {
      "text/plain": [
       "<matplotlib.axes._subplots.AxesSubplot at 0x28fce76ac48>"
      ]
     },
     "execution_count": 72,
     "metadata": {},
     "output_type": "execute_result"
    },
    {
     "data": {
      "image/png": "[encoded data removed]",
      "text/plain": [
       "<Figure size 432x288 with 1 Axes>"
      ]
     },
     "metadata": {
      "needs_background": "light"
     },
     "output_type": "display_data"
    }
   ],
   "source": [
    "losses[['accuracy','val_accuracy']].plot()"
   ]
  },
  {
   "cell_type": "code",
   "execution_count": 73,
   "metadata": {},
   "outputs": [
    {
     "data": {
      "text/plain": [
       "<matplotlib.axes._subplots.AxesSubplot at 0x28fce268d88>"
      ]
     },
     "execution_count": 73,
     "metadata": {},
     "output_type": "execute_result"
    },
    {
     "data": {
      "image/png": "[encoded data removed]",
      "text/plain": [
       "<Figure size 432x288 with 1 Axes>"
      ]
     },
     "metadata": {
      "needs_background": "light"
     },
     "output_type": "display_data"
    }
   ],
   "source": [
    "losses[['loss','val_loss']].plot()"
   ]
  },
  {
   "cell_type": "code",
   "execution_count": 74,
   "metadata": {},
   "outputs": [
    {
     "name": "stdout",
     "output_type": "stream",
     "text": [
      "['loss', 'accuracy']\n",
      "[1.0238070351418385, 0.78755116]\n"
     ]
    }
   ],
   "source": [
    "print(model.metrics_names)\n",
    "print(model.evaluate(X_test,y_test,verbose=0))"
   ]
  },
  {
   "cell_type": "code",
   "execution_count": 75,
   "metadata": {},
   "outputs": [],
   "source": [
    "y_pred = model.predict_classes(X_test)"
   ]
  },
  {
   "cell_type": "code",
   "execution_count": 76,
   "metadata": {},
   "outputs": [
    {
     "name": "stdout",
     "output_type": "stream",
     "text": [
      "              precision    recall  f1-score   support\n",
      "\n",
      "           0       0.81      0.96      0.88      2770\n",
      "           1       0.21      0.04      0.07       652\n",
      "\n",
      "    accuracy                           0.79      3422\n",
      "   macro avg       0.51      0.50      0.47      3422\n",
      "weighted avg       0.70      0.79      0.73      3422\n",
      "\n"
     ]
    }
   ],
   "source": [
    "print(classification_report(y_test, y_pred))"
   ]
  },
  {
   "cell_type": "code",
   "execution_count": 77,
   "metadata": {},
   "outputs": [
    {
     "data": {
      "text/plain": [
       "0.787551139684395"
      ]
     },
     "execution_count": 77,
     "metadata": {},
     "output_type": "execute_result"
    }
   ],
   "source": [
    "accuracy_score(y_test, y_pred)"
   ]
  },
  {
   "cell_type": "code",
   "execution_count": 81,
   "metadata": {},
   "outputs": [],
   "source": [
    "model.save(\"models/abstract_certain_vect_nn.h5\")"
   ]
  },
  {
   "cell_type": "code",
   "execution_count": null,
   "metadata": {},
   "outputs": [],
   "source": []
  }
 ],
 "metadata": {
  "kernelspec": {
   "display_name": "Python 3",
   "language": "python",
   "name": "python3"
  },
  "language_info": {
   "codemirror_mode": {
    "name": "ipython",
    "version": 3
   },
   "file_extension": ".py",
   "mimetype": "text/x-python",
   "name": "python",
   "nbconvert_exporter": "python",
   "pygments_lexer": "ipython3",
   "version": "3.7.9"
  }
 },
 "nbformat": 4,
 "nbformat_minor": 4
}
